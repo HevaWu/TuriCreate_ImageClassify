{
 "cells": [
  {
   "cell_type": "markdown",
   "metadata": {},
   "source": [
    "# Image Classification\n",
    "[How it works](https://apple.github.io/turicreate/docs/userguide/image_classifier/how-it-works.html)\n",
    "## Loading Data"
   ]
  },
  {
   "cell_type": "code",
   "execution_count": 2,
   "metadata": {
    "collapsed": true
   },
   "outputs": [],
   "source": [
    "import turicreate as tc"
   ]
  },
  {
   "cell_type": "code",
   "execution_count": 2,
   "metadata": {},
   "outputs": [
    {
     "data": {
      "text/html": [
       "<pre>Unexpected JPEG decode failure\t file: /Users/st21235/Project/Jupyter/kagglecatsanddogs_3367a/PetImages/Cat/10073.jpg</pre>"
      ],
      "text/plain": [
       "Unexpected JPEG decode failure\t file: /Users/st21235/Project/Jupyter/kagglecatsanddogs_3367a/PetImages/Cat/10073.jpg"
      ]
     },
     "metadata": {},
     "output_type": "display_data"
    },
    {
     "data": {
      "text/html": [
       "<pre>Unexpected JPEG decode failure\t file: /Users/st21235/Project/Jupyter/kagglecatsanddogs_3367a/PetImages/Cat/10125.jpg</pre>"
      ],
      "text/plain": [
       "Unexpected JPEG decode failure\t file: /Users/st21235/Project/Jupyter/kagglecatsanddogs_3367a/PetImages/Cat/10125.jpg"
      ]
     },
     "metadata": {},
     "output_type": "display_data"
    },
    {
     "data": {
      "text/html": [
       "<pre>Unexpected JPEG decode failure\t file: /Users/st21235/Project/Jupyter/kagglecatsanddogs_3367a/PetImages/Cat/10404.jpg</pre>"
      ],
      "text/plain": [
       "Unexpected JPEG decode failure\t file: /Users/st21235/Project/Jupyter/kagglecatsanddogs_3367a/PetImages/Cat/10404.jpg"
      ]
     },
     "metadata": {},
     "output_type": "display_data"
    },
    {
     "data": {
      "text/html": [
       "<pre>Unexpected JPEG decode failure\t file: /Users/st21235/Project/Jupyter/kagglecatsanddogs_3367a/PetImages/Cat/10501.jpg</pre>"
      ],
      "text/plain": [
       "Unexpected JPEG decode failure\t file: /Users/st21235/Project/Jupyter/kagglecatsanddogs_3367a/PetImages/Cat/10501.jpg"
      ]
     },
     "metadata": {},
     "output_type": "display_data"
    },
    {
     "data": {
      "text/html": [
       "<pre>Unexpected JPEG decode failure\t file: /Users/st21235/Project/Jupyter/kagglecatsanddogs_3367a/PetImages/Cat/10820.jpg</pre>"
      ],
      "text/plain": [
       "Unexpected JPEG decode failure\t file: /Users/st21235/Project/Jupyter/kagglecatsanddogs_3367a/PetImages/Cat/10820.jpg"
      ]
     },
     "metadata": {},
     "output_type": "display_data"
    },
    {
     "data": {
      "text/html": [
       "<pre>Unexpected JPEG decode failure\t file: /Users/st21235/Project/Jupyter/kagglecatsanddogs_3367a/PetImages/Cat/10874.jpg</pre>"
      ],
      "text/plain": [
       "Unexpected JPEG decode failure\t file: /Users/st21235/Project/Jupyter/kagglecatsanddogs_3367a/PetImages/Cat/10874.jpg"
      ]
     },
     "metadata": {},
     "output_type": "display_data"
    },
    {
     "data": {
      "text/html": [
       "<pre>Unexpected JPEG decode failure\t file: /Users/st21235/Project/Jupyter/kagglecatsanddogs_3367a/PetImages/Cat/11083.jpg</pre>"
      ],
      "text/plain": [
       "Unexpected JPEG decode failure\t file: /Users/st21235/Project/Jupyter/kagglecatsanddogs_3367a/PetImages/Cat/11083.jpg"
      ]
     },
     "metadata": {},
     "output_type": "display_data"
    },
    {
     "data": {
      "text/html": [
       "<pre>Unexpected JPEG decode failure\t file: /Users/st21235/Project/Jupyter/kagglecatsanddogs_3367a/PetImages/Cat/11086.jpg</pre>"
      ],
      "text/plain": [
       "Unexpected JPEG decode failure\t file: /Users/st21235/Project/Jupyter/kagglecatsanddogs_3367a/PetImages/Cat/11086.jpg"
      ]
     },
     "metadata": {},
     "output_type": "display_data"
    },
    {
     "data": {
      "text/html": [
       "<pre>Unexpected JPEG decode failure\t file: /Users/st21235/Project/Jupyter/kagglecatsanddogs_3367a/PetImages/Cat/11095.jpg</pre>"
      ],
      "text/plain": [
       "Unexpected JPEG decode failure\t file: /Users/st21235/Project/Jupyter/kagglecatsanddogs_3367a/PetImages/Cat/11095.jpg"
      ]
     },
     "metadata": {},
     "output_type": "display_data"
    },
    {
     "data": {
      "text/html": [
       "<pre>Unexpected JPEG decode failure\t file: /Users/st21235/Project/Jupyter/kagglecatsanddogs_3367a/PetImages/Cat/11210.jpg</pre>"
      ],
      "text/plain": [
       "Unexpected JPEG decode failure\t file: /Users/st21235/Project/Jupyter/kagglecatsanddogs_3367a/PetImages/Cat/11210.jpg"
      ]
     },
     "metadata": {},
     "output_type": "display_data"
    },
    {
     "data": {
      "text/html": [
       "<pre>Unexpected JPEG decode failure\t file: /Users/st21235/Project/Jupyter/kagglecatsanddogs_3367a/PetImages/Cat/11397.jpg</pre>"
      ],
      "text/plain": [
       "Unexpected JPEG decode failure\t file: /Users/st21235/Project/Jupyter/kagglecatsanddogs_3367a/PetImages/Cat/11397.jpg"
      ]
     },
     "metadata": {},
     "output_type": "display_data"
    },
    {
     "data": {
      "text/html": [
       "<pre>Unexpected JPEG decode failure\t file: /Users/st21235/Project/Jupyter/kagglecatsanddogs_3367a/PetImages/Cat/1151.jpg</pre>"
      ],
      "text/plain": [
       "Unexpected JPEG decode failure\t file: /Users/st21235/Project/Jupyter/kagglecatsanddogs_3367a/PetImages/Cat/1151.jpg"
      ]
     },
     "metadata": {},
     "output_type": "display_data"
    },
    {
     "data": {
      "text/html": [
       "<pre>Unexpected JPEG decode failure\t file: /Users/st21235/Project/Jupyter/kagglecatsanddogs_3367a/PetImages/Cat/11565.jpg</pre>"
      ],
      "text/plain": [
       "Unexpected JPEG decode failure\t file: /Users/st21235/Project/Jupyter/kagglecatsanddogs_3367a/PetImages/Cat/11565.jpg"
      ]
     },
     "metadata": {},
     "output_type": "display_data"
    },
    {
     "data": {
      "text/html": [
       "<pre>Unexpected JPEG decode failure\t file: /Users/st21235/Project/Jupyter/kagglecatsanddogs_3367a/PetImages/Cat/11729.jpg</pre>"
      ],
      "text/plain": [
       "Unexpected JPEG decode failure\t file: /Users/st21235/Project/Jupyter/kagglecatsanddogs_3367a/PetImages/Cat/11729.jpg"
      ]
     },
     "metadata": {},
     "output_type": "display_data"
    },
    {
     "data": {
      "text/html": [
       "<pre>Unexpected JPEG decode failure\t file: /Users/st21235/Project/Jupyter/kagglecatsanddogs_3367a/PetImages/Cat/11864.jpg</pre>"
      ],
      "text/plain": [
       "Unexpected JPEG decode failure\t file: /Users/st21235/Project/Jupyter/kagglecatsanddogs_3367a/PetImages/Cat/11864.jpg"
      ]
     },
     "metadata": {},
     "output_type": "display_data"
    },
    {
     "data": {
      "text/html": [
       "<pre>Unexpected JPEG decode failure\t file: /Users/st21235/Project/Jupyter/kagglecatsanddogs_3367a/PetImages/Cat/11874.jpg</pre>"
      ],
      "text/plain": [
       "Unexpected JPEG decode failure\t file: /Users/st21235/Project/Jupyter/kagglecatsanddogs_3367a/PetImages/Cat/11874.jpg"
      ]
     },
     "metadata": {},
     "output_type": "display_data"
    },
    {
     "data": {
      "text/html": [
       "<pre>Unexpected JPEG decode failure\t file: /Users/st21235/Project/Jupyter/kagglecatsanddogs_3367a/PetImages/Cat/11935.jpg</pre>"
      ],
      "text/plain": [
       "Unexpected JPEG decode failure\t file: /Users/st21235/Project/Jupyter/kagglecatsanddogs_3367a/PetImages/Cat/11935.jpg"
      ]
     },
     "metadata": {},
     "output_type": "display_data"
    },
    {
     "data": {
      "text/html": [
       "<pre>Unexpected JPEG decode failure\t file: /Users/st21235/Project/Jupyter/kagglecatsanddogs_3367a/PetImages/Cat/12080.jpg</pre>"
      ],
      "text/plain": [
       "Unexpected JPEG decode failure\t file: /Users/st21235/Project/Jupyter/kagglecatsanddogs_3367a/PetImages/Cat/12080.jpg"
      ]
     },
     "metadata": {},
     "output_type": "display_data"
    },
    {
     "data": {
      "text/html": [
       "<pre>Unexpected JPEG decode failure\t file: /Users/st21235/Project/Jupyter/kagglecatsanddogs_3367a/PetImages/Cat/12235.jpg</pre>"
      ],
      "text/plain": [
       "Unexpected JPEG decode failure\t file: /Users/st21235/Project/Jupyter/kagglecatsanddogs_3367a/PetImages/Cat/12235.jpg"
      ]
     },
     "metadata": {},
     "output_type": "display_data"
    },
    {
     "data": {
      "text/html": [
       "<pre>Unexpected JPEG decode failure\t file: /Users/st21235/Project/Jupyter/kagglecatsanddogs_3367a/PetImages/Cat/12269.jpg</pre>"
      ],
      "text/plain": [
       "Unexpected JPEG decode failure\t file: /Users/st21235/Project/Jupyter/kagglecatsanddogs_3367a/PetImages/Cat/12269.jpg"
      ]
     },
     "metadata": {},
     "output_type": "display_data"
    },
    {
     "data": {
      "text/html": [
       "<pre>Unexpected JPEG decode failure\t file: /Users/st21235/Project/Jupyter/kagglecatsanddogs_3367a/PetImages/Cat/1267.jpg</pre>"
      ],
      "text/plain": [
       "Unexpected JPEG decode failure\t file: /Users/st21235/Project/Jupyter/kagglecatsanddogs_3367a/PetImages/Cat/1267.jpg"
      ]
     },
     "metadata": {},
     "output_type": "display_data"
    },
    {
     "data": {
      "text/html": [
       "<pre>Unexpected JPEG decode failure\t file: /Users/st21235/Project/Jupyter/kagglecatsanddogs_3367a/PetImages/Cat/1386.jpg</pre>"
      ],
      "text/plain": [
       "Unexpected JPEG decode failure\t file: /Users/st21235/Project/Jupyter/kagglecatsanddogs_3367a/PetImages/Cat/1386.jpg"
      ]
     },
     "metadata": {},
     "output_type": "display_data"
    },
    {
     "data": {
      "text/html": [
       "<pre>Unexpected JPEG decode failure\t file: /Users/st21235/Project/Jupyter/kagglecatsanddogs_3367a/PetImages/Cat/140.jpg</pre>"
      ],
      "text/plain": [
       "Unexpected JPEG decode failure\t file: /Users/st21235/Project/Jupyter/kagglecatsanddogs_3367a/PetImages/Cat/140.jpg"
      ]
     },
     "metadata": {},
     "output_type": "display_data"
    },
    {
     "data": {
      "text/html": [
       "<pre>Unexpected JPEG decode failure\t file: /Users/st21235/Project/Jupyter/kagglecatsanddogs_3367a/PetImages/Cat/1757.jpg</pre>"
      ],
      "text/plain": [
       "Unexpected JPEG decode failure\t file: /Users/st21235/Project/Jupyter/kagglecatsanddogs_3367a/PetImages/Cat/1757.jpg"
      ]
     },
     "metadata": {},
     "output_type": "display_data"
    },
    {
     "data": {
      "text/html": [
       "<pre>Unexpected JPEG decode failure\t file: /Users/st21235/Project/Jupyter/kagglecatsanddogs_3367a/PetImages/Cat/1914.jpg</pre>"
      ],
      "text/plain": [
       "Unexpected JPEG decode failure\t file: /Users/st21235/Project/Jupyter/kagglecatsanddogs_3367a/PetImages/Cat/1914.jpg"
      ]
     },
     "metadata": {},
     "output_type": "display_data"
    },
    {
     "data": {
      "text/html": [
       "<pre>Unexpected JPEG decode failure\t file: /Users/st21235/Project/Jupyter/kagglecatsanddogs_3367a/PetImages/Cat/1936.jpg</pre>"
      ],
      "text/plain": [
       "Unexpected JPEG decode failure\t file: /Users/st21235/Project/Jupyter/kagglecatsanddogs_3367a/PetImages/Cat/1936.jpg"
      ]
     },
     "metadata": {},
     "output_type": "display_data"
    },
    {
     "data": {
      "text/html": [
       "<pre>Unexpected JPEG decode failure\t file: /Users/st21235/Project/Jupyter/kagglecatsanddogs_3367a/PetImages/Cat/1937.jpg</pre>"
      ],
      "text/plain": [
       "Unexpected JPEG decode failure\t file: /Users/st21235/Project/Jupyter/kagglecatsanddogs_3367a/PetImages/Cat/1937.jpg"
      ]
     },
     "metadata": {},
     "output_type": "display_data"
    },
    {
     "data": {
      "text/html": [
       "<pre>Unexpected JPEG decode failure\t file: /Users/st21235/Project/Jupyter/kagglecatsanddogs_3367a/PetImages/Cat/2021.jpg</pre>"
      ],
      "text/plain": [
       "Unexpected JPEG decode failure\t file: /Users/st21235/Project/Jupyter/kagglecatsanddogs_3367a/PetImages/Cat/2021.jpg"
      ]
     },
     "metadata": {},
     "output_type": "display_data"
    },
    {
     "data": {
      "text/html": [
       "<pre>Unexpected JPEG decode failure\t file: /Users/st21235/Project/Jupyter/kagglecatsanddogs_3367a/PetImages/Cat/2189.jpg</pre>"
      ],
      "text/plain": [
       "Unexpected JPEG decode failure\t file: /Users/st21235/Project/Jupyter/kagglecatsanddogs_3367a/PetImages/Cat/2189.jpg"
      ]
     },
     "metadata": {},
     "output_type": "display_data"
    },
    {
     "data": {
      "text/html": [
       "<pre>Unexpected JPEG decode failure\t file: /Users/st21235/Project/Jupyter/kagglecatsanddogs_3367a/PetImages/Cat/23.jpg</pre>"
      ],
      "text/plain": [
       "Unexpected JPEG decode failure\t file: /Users/st21235/Project/Jupyter/kagglecatsanddogs_3367a/PetImages/Cat/23.jpg"
      ]
     },
     "metadata": {},
     "output_type": "display_data"
    },
    {
     "data": {
      "text/html": [
       "<pre>Unexpected JPEG decode failure\t file: /Users/st21235/Project/Jupyter/kagglecatsanddogs_3367a/PetImages/Cat/2569.jpg</pre>"
      ],
      "text/plain": [
       "Unexpected JPEG decode failure\t file: /Users/st21235/Project/Jupyter/kagglecatsanddogs_3367a/PetImages/Cat/2569.jpg"
      ]
     },
     "metadata": {},
     "output_type": "display_data"
    },
    {
     "data": {
      "text/html": [
       "<pre>Unexpected JPEG decode failure\t file: /Users/st21235/Project/Jupyter/kagglecatsanddogs_3367a/PetImages/Cat/2663.jpg</pre>"
      ],
      "text/plain": [
       "Unexpected JPEG decode failure\t file: /Users/st21235/Project/Jupyter/kagglecatsanddogs_3367a/PetImages/Cat/2663.jpg"
      ]
     },
     "metadata": {},
     "output_type": "display_data"
    },
    {
     "data": {
      "text/html": [
       "<pre>Unexpected JPEG decode failure\t file: /Users/st21235/Project/Jupyter/kagglecatsanddogs_3367a/PetImages/Cat/2742.jpg</pre>"
      ],
      "text/plain": [
       "Unexpected JPEG decode failure\t file: /Users/st21235/Project/Jupyter/kagglecatsanddogs_3367a/PetImages/Cat/2742.jpg"
      ]
     },
     "metadata": {},
     "output_type": "display_data"
    },
    {
     "data": {
      "text/html": [
       "<pre>Unexpected JPEG decode failure\t file: /Users/st21235/Project/Jupyter/kagglecatsanddogs_3367a/PetImages/Cat/3153.jpg</pre>"
      ],
      "text/plain": [
       "Unexpected JPEG decode failure\t file: /Users/st21235/Project/Jupyter/kagglecatsanddogs_3367a/PetImages/Cat/3153.jpg"
      ]
     },
     "metadata": {},
     "output_type": "display_data"
    },
    {
     "data": {
      "text/html": [
       "<pre>Unexpected JPEG decode failure\t file: /Users/st21235/Project/Jupyter/kagglecatsanddogs_3367a/PetImages/Cat/3161.jpg</pre>"
      ],
      "text/plain": [
       "Unexpected JPEG decode failure\t file: /Users/st21235/Project/Jupyter/kagglecatsanddogs_3367a/PetImages/Cat/3161.jpg"
      ]
     },
     "metadata": {},
     "output_type": "display_data"
    },
    {
     "data": {
      "text/html": [
       "<pre>Unexpected JPEG decode failure\t file: /Users/st21235/Project/Jupyter/kagglecatsanddogs_3367a/PetImages/Cat/3197.jpg</pre>"
      ],
      "text/plain": [
       "Unexpected JPEG decode failure\t file: /Users/st21235/Project/Jupyter/kagglecatsanddogs_3367a/PetImages/Cat/3197.jpg"
      ]
     },
     "metadata": {},
     "output_type": "display_data"
    },
    {
     "data": {
      "text/html": [
       "<pre>Unexpected JPEG decode failure\t file: /Users/st21235/Project/Jupyter/kagglecatsanddogs_3367a/PetImages/Cat/3300.jpg</pre>"
      ],
      "text/plain": [
       "Unexpected JPEG decode failure\t file: /Users/st21235/Project/Jupyter/kagglecatsanddogs_3367a/PetImages/Cat/3300.jpg"
      ]
     },
     "metadata": {},
     "output_type": "display_data"
    },
    {
     "data": {
      "text/html": [
       "<pre>Unexpected JPEG decode failure\t file: /Users/st21235/Project/Jupyter/kagglecatsanddogs_3367a/PetImages/Cat/3491.jpg</pre>"
      ],
      "text/plain": [
       "Unexpected JPEG decode failure\t file: /Users/st21235/Project/Jupyter/kagglecatsanddogs_3367a/PetImages/Cat/3491.jpg"
      ]
     },
     "metadata": {},
     "output_type": "display_data"
    },
    {
     "data": {
      "text/html": [
       "<pre>Unexpected JPEG decode failure\t file: /Users/st21235/Project/Jupyter/kagglecatsanddogs_3367a/PetImages/Cat/3649.jpg</pre>"
      ],
      "text/plain": [
       "Unexpected JPEG decode failure\t file: /Users/st21235/Project/Jupyter/kagglecatsanddogs_3367a/PetImages/Cat/3649.jpg"
      ]
     },
     "metadata": {},
     "output_type": "display_data"
    },
    {
     "data": {
      "text/html": [
       "<pre>Unexpected JPEG decode failure\t file: /Users/st21235/Project/Jupyter/kagglecatsanddogs_3367a/PetImages/Cat/3710.jpg</pre>"
      ],
      "text/plain": [
       "Unexpected JPEG decode failure\t file: /Users/st21235/Project/Jupyter/kagglecatsanddogs_3367a/PetImages/Cat/3710.jpg"
      ]
     },
     "metadata": {},
     "output_type": "display_data"
    },
    {
     "data": {
      "text/html": [
       "<pre>Unexpected JPEG decode failure\t file: /Users/st21235/Project/Jupyter/kagglecatsanddogs_3367a/PetImages/Cat/391.jpg</pre>"
      ],
      "text/plain": [
       "Unexpected JPEG decode failure\t file: /Users/st21235/Project/Jupyter/kagglecatsanddogs_3367a/PetImages/Cat/391.jpg"
      ]
     },
     "metadata": {},
     "output_type": "display_data"
    },
    {
     "data": {
      "text/html": [
       "<pre>Unexpected JPEG decode failure\t file: /Users/st21235/Project/Jupyter/kagglecatsanddogs_3367a/PetImages/Cat/3967.jpg</pre>"
      ],
      "text/plain": [
       "Unexpected JPEG decode failure\t file: /Users/st21235/Project/Jupyter/kagglecatsanddogs_3367a/PetImages/Cat/3967.jpg"
      ]
     },
     "metadata": {},
     "output_type": "display_data"
    },
    {
     "data": {
      "text/html": [
       "<pre>Unexpected JPEG decode failure\t file: /Users/st21235/Project/Jupyter/kagglecatsanddogs_3367a/PetImages/Cat/4000.jpg</pre>"
      ],
      "text/plain": [
       "Unexpected JPEG decode failure\t file: /Users/st21235/Project/Jupyter/kagglecatsanddogs_3367a/PetImages/Cat/4000.jpg"
      ]
     },
     "metadata": {},
     "output_type": "display_data"
    },
    {
     "data": {
      "text/html": [
       "<pre>Unexpected JPEG decode failure\t file: /Users/st21235/Project/Jupyter/kagglecatsanddogs_3367a/PetImages/Cat/4293.jpg</pre>"
      ],
      "text/plain": [
       "Unexpected JPEG decode failure\t file: /Users/st21235/Project/Jupyter/kagglecatsanddogs_3367a/PetImages/Cat/4293.jpg"
      ]
     },
     "metadata": {},
     "output_type": "display_data"
    },
    {
     "data": {
      "text/html": [
       "<pre>Read 6128 images in 5.00354 secs\tspeed: 1224.73 file/sec</pre>"
      ],
      "text/plain": [
       "Read 6128 images in 5.00354 secs\tspeed: 1224.73 file/sec"
      ]
     },
     "metadata": {},
     "output_type": "display_data"
    },
    {
     "data": {
      "text/html": [
       "<pre>Unexpected JPEG decode failure\t file: /Users/st21235/Project/Jupyter/kagglecatsanddogs_3367a/PetImages/Cat/4322.jpg</pre>"
      ],
      "text/plain": [
       "Unexpected JPEG decode failure\t file: /Users/st21235/Project/Jupyter/kagglecatsanddogs_3367a/PetImages/Cat/4322.jpg"
      ]
     },
     "metadata": {},
     "output_type": "display_data"
    },
    {
     "data": {
      "text/html": [
       "<pre>Unexpected JPEG decode failure\t file: /Users/st21235/Project/Jupyter/kagglecatsanddogs_3367a/PetImages/Cat/4334.jpg</pre>"
      ],
      "text/plain": [
       "Unexpected JPEG decode failure\t file: /Users/st21235/Project/Jupyter/kagglecatsanddogs_3367a/PetImages/Cat/4334.jpg"
      ]
     },
     "metadata": {},
     "output_type": "display_data"
    },
    {
     "data": {
      "text/html": [
       "<pre>Unexpected JPEG decode failure\t file: /Users/st21235/Project/Jupyter/kagglecatsanddogs_3367a/PetImages/Cat/4351.jpg</pre>"
      ],
      "text/plain": [
       "Unexpected JPEG decode failure\t file: /Users/st21235/Project/Jupyter/kagglecatsanddogs_3367a/PetImages/Cat/4351.jpg"
      ]
     },
     "metadata": {},
     "output_type": "display_data"
    },
    {
     "data": {
      "text/html": [
       "<pre>Unexpected JPEG decode failure\t file: /Users/st21235/Project/Jupyter/kagglecatsanddogs_3367a/PetImages/Cat/445.jpg</pre>"
      ],
      "text/plain": [
       "Unexpected JPEG decode failure\t file: /Users/st21235/Project/Jupyter/kagglecatsanddogs_3367a/PetImages/Cat/445.jpg"
      ]
     },
     "metadata": {},
     "output_type": "display_data"
    },
    {
     "data": {
      "text/html": [
       "<pre>Unexpected JPEG decode failure\t file: /Users/st21235/Project/Jupyter/kagglecatsanddogs_3367a/PetImages/Cat/4629.jpg</pre>"
      ],
      "text/plain": [
       "Unexpected JPEG decode failure\t file: /Users/st21235/Project/Jupyter/kagglecatsanddogs_3367a/PetImages/Cat/4629.jpg"
      ]
     },
     "metadata": {},
     "output_type": "display_data"
    },
    {
     "data": {
      "text/html": [
       "<pre>Unexpected JPEG decode failure\t file: /Users/st21235/Project/Jupyter/kagglecatsanddogs_3367a/PetImages/Cat/4750.jpg</pre>"
      ],
      "text/plain": [
       "Unexpected JPEG decode failure\t file: /Users/st21235/Project/Jupyter/kagglecatsanddogs_3367a/PetImages/Cat/4750.jpg"
      ]
     },
     "metadata": {},
     "output_type": "display_data"
    },
    {
     "data": {
      "text/html": [
       "<pre>Unexpected JPEG decode failure\t file: /Users/st21235/Project/Jupyter/kagglecatsanddogs_3367a/PetImages/Cat/4821.jpg</pre>"
      ],
      "text/plain": [
       "Unexpected JPEG decode failure\t file: /Users/st21235/Project/Jupyter/kagglecatsanddogs_3367a/PetImages/Cat/4821.jpg"
      ]
     },
     "metadata": {},
     "output_type": "display_data"
    },
    {
     "data": {
      "text/html": [
       "<pre>Unexpected JPEG decode failure\t file: /Users/st21235/Project/Jupyter/kagglecatsanddogs_3367a/PetImages/Cat/4833.jpg</pre>"
      ],
      "text/plain": [
       "Unexpected JPEG decode failure\t file: /Users/st21235/Project/Jupyter/kagglecatsanddogs_3367a/PetImages/Cat/4833.jpg"
      ]
     },
     "metadata": {},
     "output_type": "display_data"
    },
    {
     "data": {
      "text/html": [
       "<pre>Unexpected JPEG decode failure\t file: /Users/st21235/Project/Jupyter/kagglecatsanddogs_3367a/PetImages/Cat/4874.jpg</pre>"
      ],
      "text/plain": [
       "Unexpected JPEG decode failure\t file: /Users/st21235/Project/Jupyter/kagglecatsanddogs_3367a/PetImages/Cat/4874.jpg"
      ]
     },
     "metadata": {},
     "output_type": "display_data"
    },
    {
     "data": {
      "text/html": [
       "<pre>Unexpected JPEG decode failure\t file: /Users/st21235/Project/Jupyter/kagglecatsanddogs_3367a/PetImages/Cat/4929.jpg</pre>"
      ],
      "text/plain": [
       "Unexpected JPEG decode failure\t file: /Users/st21235/Project/Jupyter/kagglecatsanddogs_3367a/PetImages/Cat/4929.jpg"
      ]
     },
     "metadata": {},
     "output_type": "display_data"
    },
    {
     "data": {
      "text/html": [
       "<pre>Unexpected JPEG decode failure\t file: /Users/st21235/Project/Jupyter/kagglecatsanddogs_3367a/PetImages/Cat/5077.jpg</pre>"
      ],
      "text/plain": [
       "Unexpected JPEG decode failure\t file: /Users/st21235/Project/Jupyter/kagglecatsanddogs_3367a/PetImages/Cat/5077.jpg"
      ]
     },
     "metadata": {},
     "output_type": "display_data"
    },
    {
     "data": {
      "text/html": [
       "<pre>Unexpected JPEG decode failure\t file: /Users/st21235/Project/Jupyter/kagglecatsanddogs_3367a/PetImages/Cat/5370.jpg</pre>"
      ],
      "text/plain": [
       "Unexpected JPEG decode failure\t file: /Users/st21235/Project/Jupyter/kagglecatsanddogs_3367a/PetImages/Cat/5370.jpg"
      ]
     },
     "metadata": {},
     "output_type": "display_data"
    },
    {
     "data": {
      "text/html": [
       "<pre>Unexpected JPEG decode failure\t file: /Users/st21235/Project/Jupyter/kagglecatsanddogs_3367a/PetImages/Cat/5553.jpg</pre>"
      ],
      "text/plain": [
       "Unexpected JPEG decode failure\t file: /Users/st21235/Project/Jupyter/kagglecatsanddogs_3367a/PetImages/Cat/5553.jpg"
      ]
     },
     "metadata": {},
     "output_type": "display_data"
    },
    {
     "data": {
      "text/html": [
       "<pre>Unexpected JPEG decode failure\t file: /Users/st21235/Project/Jupyter/kagglecatsanddogs_3367a/PetImages/Cat/5614.jpg</pre>"
      ],
      "text/plain": [
       "Unexpected JPEG decode failure\t file: /Users/st21235/Project/Jupyter/kagglecatsanddogs_3367a/PetImages/Cat/5614.jpg"
      ]
     },
     "metadata": {},
     "output_type": "display_data"
    },
    {
     "data": {
      "text/html": [
       "<pre>Unexpected JPEG decode failure\t file: /Users/st21235/Project/Jupyter/kagglecatsanddogs_3367a/PetImages/Cat/5819.jpg</pre>"
      ],
      "text/plain": [
       "Unexpected JPEG decode failure\t file: /Users/st21235/Project/Jupyter/kagglecatsanddogs_3367a/PetImages/Cat/5819.jpg"
      ]
     },
     "metadata": {},
     "output_type": "display_data"
    },
    {
     "data": {
      "text/html": [
       "<pre>Unexpected JPEG decode failure\t file: /Users/st21235/Project/Jupyter/kagglecatsanddogs_3367a/PetImages/Cat/6029.jpg</pre>"
      ],
      "text/plain": [
       "Unexpected JPEG decode failure\t file: /Users/st21235/Project/Jupyter/kagglecatsanddogs_3367a/PetImages/Cat/6029.jpg"
      ]
     },
     "metadata": {},
     "output_type": "display_data"
    },
    {
     "data": {
      "text/html": [
       "<pre>Unexpected JPEG decode failure\t file: /Users/st21235/Project/Jupyter/kagglecatsanddogs_3367a/PetImages/Cat/6376.jpg</pre>"
      ],
      "text/plain": [
       "Unexpected JPEG decode failure\t file: /Users/st21235/Project/Jupyter/kagglecatsanddogs_3367a/PetImages/Cat/6376.jpg"
      ]
     },
     "metadata": {},
     "output_type": "display_data"
    },
    {
     "data": {
      "text/html": [
       "<pre>Unexpected JPEG decode failure\t file: /Users/st21235/Project/Jupyter/kagglecatsanddogs_3367a/PetImages/Cat/6435.jpg</pre>"
      ],
      "text/plain": [
       "Unexpected JPEG decode failure\t file: /Users/st21235/Project/Jupyter/kagglecatsanddogs_3367a/PetImages/Cat/6435.jpg"
      ]
     },
     "metadata": {},
     "output_type": "display_data"
    },
    {
     "data": {
      "text/html": [
       "<pre>Unexpected JPEG decode failure\t file: /Users/st21235/Project/Jupyter/kagglecatsanddogs_3367a/PetImages/Cat/6486.jpg</pre>"
      ],
      "text/plain": [
       "Unexpected JPEG decode failure\t file: /Users/st21235/Project/Jupyter/kagglecatsanddogs_3367a/PetImages/Cat/6486.jpg"
      ]
     },
     "metadata": {},
     "output_type": "display_data"
    },
    {
     "data": {
      "text/html": [
       "<pre>Unexpected JPEG decode failure\t file: /Users/st21235/Project/Jupyter/kagglecatsanddogs_3367a/PetImages/Cat/6491.jpg</pre>"
      ],
      "text/plain": [
       "Unexpected JPEG decode failure\t file: /Users/st21235/Project/Jupyter/kagglecatsanddogs_3367a/PetImages/Cat/6491.jpg"
      ]
     },
     "metadata": {},
     "output_type": "display_data"
    },
    {
     "data": {
      "text/html": [
       "<pre>Unexpected JPEG decode failure\t file: /Users/st21235/Project/Jupyter/kagglecatsanddogs_3367a/PetImages/Cat/660.jpg</pre>"
      ],
      "text/plain": [
       "Unexpected JPEG decode failure\t file: /Users/st21235/Project/Jupyter/kagglecatsanddogs_3367a/PetImages/Cat/660.jpg"
      ]
     },
     "metadata": {},
     "output_type": "display_data"
    },
    {
     "data": {
      "text/html": [
       "<pre>Unexpected JPEG decode failure\t file: /Users/st21235/Project/Jupyter/kagglecatsanddogs_3367a/PetImages/Cat/666.jpg</pre>"
      ],
      "text/plain": [
       "Unexpected JPEG decode failure\t file: /Users/st21235/Project/Jupyter/kagglecatsanddogs_3367a/PetImages/Cat/666.jpg"
      ]
     },
     "metadata": {},
     "output_type": "display_data"
    },
    {
     "data": {
      "text/html": [
       "<pre>Unexpected JPEG decode failure\t file: /Users/st21235/Project/Jupyter/kagglecatsanddogs_3367a/PetImages/Cat/6768.jpg</pre>"
      ],
      "text/plain": [
       "Unexpected JPEG decode failure\t file: /Users/st21235/Project/Jupyter/kagglecatsanddogs_3367a/PetImages/Cat/6768.jpg"
      ]
     },
     "metadata": {},
     "output_type": "display_data"
    },
    {
     "data": {
      "text/html": [
       "<pre>Unexpected JPEG decode failure\t file: /Users/st21235/Project/Jupyter/kagglecatsanddogs_3367a/PetImages/Cat/6900.jpg</pre>"
      ],
      "text/plain": [
       "Unexpected JPEG decode failure\t file: /Users/st21235/Project/Jupyter/kagglecatsanddogs_3367a/PetImages/Cat/6900.jpg"
      ]
     },
     "metadata": {},
     "output_type": "display_data"
    },
    {
     "data": {
      "text/html": [
       "<pre>Unexpected JPEG decode failure\t file: /Users/st21235/Project/Jupyter/kagglecatsanddogs_3367a/PetImages/Cat/6906.jpg</pre>"
      ],
      "text/plain": [
       "Unexpected JPEG decode failure\t file: /Users/st21235/Project/Jupyter/kagglecatsanddogs_3367a/PetImages/Cat/6906.jpg"
      ]
     },
     "metadata": {},
     "output_type": "display_data"
    },
    {
     "data": {
      "text/html": [
       "<pre>Unexpected JPEG decode failure\t file: /Users/st21235/Project/Jupyter/kagglecatsanddogs_3367a/PetImages/Cat/6980.jpg</pre>"
      ],
      "text/plain": [
       "Unexpected JPEG decode failure\t file: /Users/st21235/Project/Jupyter/kagglecatsanddogs_3367a/PetImages/Cat/6980.jpg"
      ]
     },
     "metadata": {},
     "output_type": "display_data"
    },
    {
     "data": {
      "text/html": [
       "<pre>Unexpected JPEG decode failure\t file: /Users/st21235/Project/Jupyter/kagglecatsanddogs_3367a/PetImages/Cat/7003.jpg</pre>"
      ],
      "text/plain": [
       "Unexpected JPEG decode failure\t file: /Users/st21235/Project/Jupyter/kagglecatsanddogs_3367a/PetImages/Cat/7003.jpg"
      ]
     },
     "metadata": {},
     "output_type": "display_data"
    },
    {
     "data": {
      "text/html": [
       "<pre>Unexpected JPEG decode failure\t file: /Users/st21235/Project/Jupyter/kagglecatsanddogs_3367a/PetImages/Cat/7502.jpg</pre>"
      ],
      "text/plain": [
       "Unexpected JPEG decode failure\t file: /Users/st21235/Project/Jupyter/kagglecatsanddogs_3367a/PetImages/Cat/7502.jpg"
      ]
     },
     "metadata": {},
     "output_type": "display_data"
    },
    {
     "data": {
      "text/html": [
       "<pre>Unexpected JPEG decode failure\t file: /Users/st21235/Project/Jupyter/kagglecatsanddogs_3367a/PetImages/Cat/7642.jpg</pre>"
      ],
      "text/plain": [
       "Unexpected JPEG decode failure\t file: /Users/st21235/Project/Jupyter/kagglecatsanddogs_3367a/PetImages/Cat/7642.jpg"
      ]
     },
     "metadata": {},
     "output_type": "display_data"
    },
    {
     "data": {
      "text/html": [
       "<pre>Unexpected JPEG decode failure\t file: /Users/st21235/Project/Jupyter/kagglecatsanddogs_3367a/PetImages/Cat/7647.jpg</pre>"
      ],
      "text/plain": [
       "Unexpected JPEG decode failure\t file: /Users/st21235/Project/Jupyter/kagglecatsanddogs_3367a/PetImages/Cat/7647.jpg"
      ]
     },
     "metadata": {},
     "output_type": "display_data"
    },
    {
     "data": {
      "text/html": [
       "<pre>Unexpected JPEG decode failure\t file: /Users/st21235/Project/Jupyter/kagglecatsanddogs_3367a/PetImages/Cat/7845.jpg</pre>"
      ],
      "text/plain": [
       "Unexpected JPEG decode failure\t file: /Users/st21235/Project/Jupyter/kagglecatsanddogs_3367a/PetImages/Cat/7845.jpg"
      ]
     },
     "metadata": {},
     "output_type": "display_data"
    },
    {
     "data": {
      "text/html": [
       "<pre>Unexpected JPEG decode failure\t file: /Users/st21235/Project/Jupyter/kagglecatsanddogs_3367a/PetImages/Cat/7968.jpg</pre>"
      ],
      "text/plain": [
       "Unexpected JPEG decode failure\t file: /Users/st21235/Project/Jupyter/kagglecatsanddogs_3367a/PetImages/Cat/7968.jpg"
      ]
     },
     "metadata": {},
     "output_type": "display_data"
    },
    {
     "data": {
      "text/html": [
       "<pre>Unexpected JPEG decode failure\t file: /Users/st21235/Project/Jupyter/kagglecatsanddogs_3367a/PetImages/Cat/7978.jpg</pre>"
      ],
      "text/plain": [
       "Unexpected JPEG decode failure\t file: /Users/st21235/Project/Jupyter/kagglecatsanddogs_3367a/PetImages/Cat/7978.jpg"
      ]
     },
     "metadata": {},
     "output_type": "display_data"
    },
    {
     "data": {
      "text/html": [
       "<pre>Unexpected JPEG decode failure\t file: /Users/st21235/Project/Jupyter/kagglecatsanddogs_3367a/PetImages/Cat/8183.jpg</pre>"
      ],
      "text/plain": [
       "Unexpected JPEG decode failure\t file: /Users/st21235/Project/Jupyter/kagglecatsanddogs_3367a/PetImages/Cat/8183.jpg"
      ]
     },
     "metadata": {},
     "output_type": "display_data"
    },
    {
     "data": {
      "text/html": [
       "<pre>Unexpected JPEG decode failure\t file: /Users/st21235/Project/Jupyter/kagglecatsanddogs_3367a/PetImages/Cat/8295.jpg</pre>"
      ],
      "text/plain": [
       "Unexpected JPEG decode failure\t file: /Users/st21235/Project/Jupyter/kagglecatsanddogs_3367a/PetImages/Cat/8295.jpg"
      ]
     },
     "metadata": {},
     "output_type": "display_data"
    },
    {
     "data": {
      "text/html": [
       "<pre>Unexpected JPEG decode failure\t file: /Users/st21235/Project/Jupyter/kagglecatsanddogs_3367a/PetImages/Cat/8415.jpg</pre>"
      ],
      "text/plain": [
       "Unexpected JPEG decode failure\t file: /Users/st21235/Project/Jupyter/kagglecatsanddogs_3367a/PetImages/Cat/8415.jpg"
      ]
     },
     "metadata": {},
     "output_type": "display_data"
    },
    {
     "data": {
      "text/html": [
       "<pre>Unexpected JPEG decode failure\t file: /Users/st21235/Project/Jupyter/kagglecatsanddogs_3367a/PetImages/Cat/8470.jpg</pre>"
      ],
      "text/plain": [
       "Unexpected JPEG decode failure\t file: /Users/st21235/Project/Jupyter/kagglecatsanddogs_3367a/PetImages/Cat/8470.jpg"
      ]
     },
     "metadata": {},
     "output_type": "display_data"
    },
    {
     "data": {
      "text/html": [
       "<pre>Unexpected JPEG decode failure\t file: /Users/st21235/Project/Jupyter/kagglecatsanddogs_3367a/PetImages/Cat/850.jpg</pre>"
      ],
      "text/plain": [
       "Unexpected JPEG decode failure\t file: /Users/st21235/Project/Jupyter/kagglecatsanddogs_3367a/PetImages/Cat/850.jpg"
      ]
     },
     "metadata": {},
     "output_type": "display_data"
    },
    {
     "data": {
      "text/html": [
       "<pre>Unexpected JPEG decode failure\t file: /Users/st21235/Project/Jupyter/kagglecatsanddogs_3367a/PetImages/Cat/8553.jpg</pre>"
      ],
      "text/plain": [
       "Unexpected JPEG decode failure\t file: /Users/st21235/Project/Jupyter/kagglecatsanddogs_3367a/PetImages/Cat/8553.jpg"
      ]
     },
     "metadata": {},
     "output_type": "display_data"
    },
    {
     "data": {
      "text/html": [
       "<pre>Unexpected JPEG decode failure\t file: /Users/st21235/Project/Jupyter/kagglecatsanddogs_3367a/PetImages/Cat/8832.jpg</pre>"
      ],
      "text/plain": [
       "Unexpected JPEG decode failure\t file: /Users/st21235/Project/Jupyter/kagglecatsanddogs_3367a/PetImages/Cat/8832.jpg"
      ]
     },
     "metadata": {},
     "output_type": "display_data"
    },
    {
     "data": {
      "text/html": [
       "<pre>Unexpected JPEG decode failure\t file: /Users/st21235/Project/Jupyter/kagglecatsanddogs_3367a/PetImages/Cat/8958.jpg</pre>"
      ],
      "text/plain": [
       "Unexpected JPEG decode failure\t file: /Users/st21235/Project/Jupyter/kagglecatsanddogs_3367a/PetImages/Cat/8958.jpg"
      ]
     },
     "metadata": {},
     "output_type": "display_data"
    },
    {
     "data": {
      "text/html": [
       "<pre>Unexpected JPEG decode failure\t file: /Users/st21235/Project/Jupyter/kagglecatsanddogs_3367a/PetImages/Cat/910.jpg</pre>"
      ],
      "text/plain": [
       "Unexpected JPEG decode failure\t file: /Users/st21235/Project/Jupyter/kagglecatsanddogs_3367a/PetImages/Cat/910.jpg"
      ]
     },
     "metadata": {},
     "output_type": "display_data"
    },
    {
     "data": {
      "text/html": [
       "<pre>Unexpected JPEG decode failure\t file: /Users/st21235/Project/Jupyter/kagglecatsanddogs_3367a/PetImages/Cat/9100.jpg</pre>"
      ],
      "text/plain": [
       "Unexpected JPEG decode failure\t file: /Users/st21235/Project/Jupyter/kagglecatsanddogs_3367a/PetImages/Cat/9100.jpg"
      ]
     },
     "metadata": {},
     "output_type": "display_data"
    },
    {
     "data": {
      "text/html": [
       "<pre>Read 11488 images in 10.0047 secs\tspeed: 1071.75 file/sec</pre>"
      ],
      "text/plain": [
       "Read 11488 images in 10.0047 secs\tspeed: 1071.75 file/sec"
      ]
     },
     "metadata": {},
     "output_type": "display_data"
    },
    {
     "data": {
      "text/html": [
       "<pre>Unexpected JPEG decode failure\t file: /Users/st21235/Project/Jupyter/kagglecatsanddogs_3367a/PetImages/Cat/9171.jpg</pre>"
      ],
      "text/plain": [
       "Unexpected JPEG decode failure\t file: /Users/st21235/Project/Jupyter/kagglecatsanddogs_3367a/PetImages/Cat/9171.jpg"
      ]
     },
     "metadata": {},
     "output_type": "display_data"
    },
    {
     "data": {
      "text/html": [
       "<pre>Unexpected JPEG decode failure\t file: /Users/st21235/Project/Jupyter/kagglecatsanddogs_3367a/PetImages/Cat/9208.jpg</pre>"
      ],
      "text/plain": [
       "Unexpected JPEG decode failure\t file: /Users/st21235/Project/Jupyter/kagglecatsanddogs_3367a/PetImages/Cat/9208.jpg"
      ]
     },
     "metadata": {},
     "output_type": "display_data"
    },
    {
     "data": {
      "text/html": [
       "<pre>Unexpected JPEG decode failure\t file: /Users/st21235/Project/Jupyter/kagglecatsanddogs_3367a/PetImages/Cat/9328.jpg</pre>"
      ],
      "text/plain": [
       "Unexpected JPEG decode failure\t file: /Users/st21235/Project/Jupyter/kagglecatsanddogs_3367a/PetImages/Cat/9328.jpg"
      ]
     },
     "metadata": {},
     "output_type": "display_data"
    },
    {
     "data": {
      "text/html": [
       "<pre>Unexpected JPEG decode failure\t file: /Users/st21235/Project/Jupyter/kagglecatsanddogs_3367a/PetImages/Cat/936.jpg</pre>"
      ],
      "text/plain": [
       "Unexpected JPEG decode failure\t file: /Users/st21235/Project/Jupyter/kagglecatsanddogs_3367a/PetImages/Cat/936.jpg"
      ]
     },
     "metadata": {},
     "output_type": "display_data"
    },
    {
     "data": {
      "text/html": [
       "<pre>Unexpected JPEG decode failure\t file: /Users/st21235/Project/Jupyter/kagglecatsanddogs_3367a/PetImages/Cat/9361.jpg</pre>"
      ],
      "text/plain": [
       "Unexpected JPEG decode failure\t file: /Users/st21235/Project/Jupyter/kagglecatsanddogs_3367a/PetImages/Cat/9361.jpg"
      ]
     },
     "metadata": {},
     "output_type": "display_data"
    },
    {
     "data": {
      "text/html": [
       "<pre>Unexpected JPEG decode failure\t file: /Users/st21235/Project/Jupyter/kagglecatsanddogs_3367a/PetImages/Cat/9565.jpg</pre>"
      ],
      "text/plain": [
       "Unexpected JPEG decode failure\t file: /Users/st21235/Project/Jupyter/kagglecatsanddogs_3367a/PetImages/Cat/9565.jpg"
      ]
     },
     "metadata": {},
     "output_type": "display_data"
    },
    {
     "data": {
      "text/html": [
       "<pre>Unexpected JPEG decode failure\t file: /Users/st21235/Project/Jupyter/kagglecatsanddogs_3367a/PetImages/Cat/9619.jpg</pre>"
      ],
      "text/plain": [
       "Unexpected JPEG decode failure\t file: /Users/st21235/Project/Jupyter/kagglecatsanddogs_3367a/PetImages/Cat/9619.jpg"
      ]
     },
     "metadata": {},
     "output_type": "display_data"
    },
    {
     "data": {
      "text/html": [
       "<pre>Unexpected JPEG decode failure\t file: /Users/st21235/Project/Jupyter/kagglecatsanddogs_3367a/PetImages/Cat/9778.jpg</pre>"
      ],
      "text/plain": [
       "Unexpected JPEG decode failure\t file: /Users/st21235/Project/Jupyter/kagglecatsanddogs_3367a/PetImages/Cat/9778.jpg"
      ]
     },
     "metadata": {},
     "output_type": "display_data"
    },
    {
     "data": {
      "text/html": [
       "<pre>Unsupported image format. Supported formats are JPEG and PNG\t file: /Users/st21235/Project/Jupyter/kagglecatsanddogs_3367a/PetImages/Cat/Thumbs.db</pre>"
      ],
      "text/plain": [
       "Unsupported image format. Supported formats are JPEG and PNG\t file: /Users/st21235/Project/Jupyter/kagglecatsanddogs_3367a/PetImages/Cat/Thumbs.db"
      ]
     },
     "metadata": {},
     "output_type": "display_data"
    },
    {
     "data": {
      "text/html": [
       "<pre>Unexpected JPEG decode failure\t file: /Users/st21235/Project/Jupyter/kagglecatsanddogs_3367a/PetImages/Dog/10158.jpg</pre>"
      ],
      "text/plain": [
       "Unexpected JPEG decode failure\t file: /Users/st21235/Project/Jupyter/kagglecatsanddogs_3367a/PetImages/Dog/10158.jpg"
      ]
     },
     "metadata": {},
     "output_type": "display_data"
    },
    {
     "data": {
      "text/html": [
       "<pre>Unexpected JPEG decode failure\t file: /Users/st21235/Project/Jupyter/kagglecatsanddogs_3367a/PetImages/Dog/1017.jpg</pre>"
      ],
      "text/plain": [
       "Unexpected JPEG decode failure\t file: /Users/st21235/Project/Jupyter/kagglecatsanddogs_3367a/PetImages/Dog/1017.jpg"
      ]
     },
     "metadata": {},
     "output_type": "display_data"
    },
    {
     "data": {
      "text/html": [
       "<pre>Unexpected JPEG decode failure\t file: /Users/st21235/Project/Jupyter/kagglecatsanddogs_3367a/PetImages/Dog/10173.jpg</pre>"
      ],
      "text/plain": [
       "Unexpected JPEG decode failure\t file: /Users/st21235/Project/Jupyter/kagglecatsanddogs_3367a/PetImages/Dog/10173.jpg"
      ]
     },
     "metadata": {},
     "output_type": "display_data"
    },
    {
     "data": {
      "text/html": [
       "<pre>Unexpected JPEG decode failure\t file: /Users/st21235/Project/Jupyter/kagglecatsanddogs_3367a/PetImages/Dog/10351.jpg</pre>"
      ],
      "text/plain": [
       "Unexpected JPEG decode failure\t file: /Users/st21235/Project/Jupyter/kagglecatsanddogs_3367a/PetImages/Dog/10351.jpg"
      ]
     },
     "metadata": {},
     "output_type": "display_data"
    },
    {
     "data": {
      "text/html": [
       "<pre>Unexpected JPEG decode failure\t file: /Users/st21235/Project/Jupyter/kagglecatsanddogs_3367a/PetImages/Dog/10353.jpg</pre>"
      ],
      "text/plain": [
       "Unexpected JPEG decode failure\t file: /Users/st21235/Project/Jupyter/kagglecatsanddogs_3367a/PetImages/Dog/10353.jpg"
      ]
     },
     "metadata": {},
     "output_type": "display_data"
    },
    {
     "data": {
      "text/html": [
       "<pre>Unexpected JPEG decode failure\t file: /Users/st21235/Project/Jupyter/kagglecatsanddogs_3367a/PetImages/Dog/10383.jpg</pre>"
      ],
      "text/plain": [
       "Unexpected JPEG decode failure\t file: /Users/st21235/Project/Jupyter/kagglecatsanddogs_3367a/PetImages/Dog/10383.jpg"
      ]
     },
     "metadata": {},
     "output_type": "display_data"
    },
    {
     "data": {
      "text/html": [
       "<pre>Unexpected JPEG decode failure\t file: /Users/st21235/Project/Jupyter/kagglecatsanddogs_3367a/PetImages/Dog/10401.jpg</pre>"
      ],
      "text/plain": [
       "Unexpected JPEG decode failure\t file: /Users/st21235/Project/Jupyter/kagglecatsanddogs_3367a/PetImages/Dog/10401.jpg"
      ]
     },
     "metadata": {},
     "output_type": "display_data"
    },
    {
     "data": {
      "text/html": [
       "<pre>Unexpected JPEG decode failure\t file: /Users/st21235/Project/Jupyter/kagglecatsanddogs_3367a/PetImages/Dog/10637.jpg</pre>"
      ],
      "text/plain": [
       "Unexpected JPEG decode failure\t file: /Users/st21235/Project/Jupyter/kagglecatsanddogs_3367a/PetImages/Dog/10637.jpg"
      ]
     },
     "metadata": {},
     "output_type": "display_data"
    },
    {
     "data": {
      "text/html": [
       "<pre>Unexpected JPEG decode failure\t file: /Users/st21235/Project/Jupyter/kagglecatsanddogs_3367a/PetImages/Dog/10678.jpg</pre>"
      ],
      "text/plain": [
       "Unexpected JPEG decode failure\t file: /Users/st21235/Project/Jupyter/kagglecatsanddogs_3367a/PetImages/Dog/10678.jpg"
      ]
     },
     "metadata": {},
     "output_type": "display_data"
    },
    {
     "data": {
      "text/html": [
       "<pre>Unexpected JPEG decode failure\t file: /Users/st21235/Project/Jupyter/kagglecatsanddogs_3367a/PetImages/Dog/10705.jpg</pre>"
      ],
      "text/plain": [
       "Unexpected JPEG decode failure\t file: /Users/st21235/Project/Jupyter/kagglecatsanddogs_3367a/PetImages/Dog/10705.jpg"
      ]
     },
     "metadata": {},
     "output_type": "display_data"
    },
    {
     "data": {
      "text/html": [
       "<pre>Unexpected JPEG decode failure\t file: /Users/st21235/Project/Jupyter/kagglecatsanddogs_3367a/PetImages/Dog/10726.jpg</pre>"
      ],
      "text/plain": [
       "Unexpected JPEG decode failure\t file: /Users/st21235/Project/Jupyter/kagglecatsanddogs_3367a/PetImages/Dog/10726.jpg"
      ]
     },
     "metadata": {},
     "output_type": "display_data"
    },
    {
     "data": {
      "text/html": [
       "<pre>Unexpected JPEG decode failure\t file: /Users/st21235/Project/Jupyter/kagglecatsanddogs_3367a/PetImages/Dog/10733.jpg</pre>"
      ],
      "text/plain": [
       "Unexpected JPEG decode failure\t file: /Users/st21235/Project/Jupyter/kagglecatsanddogs_3367a/PetImages/Dog/10733.jpg"
      ]
     },
     "metadata": {},
     "output_type": "display_data"
    },
    {
     "data": {
      "text/html": [
       "<pre>Unexpected JPEG decode failure\t file: /Users/st21235/Project/Jupyter/kagglecatsanddogs_3367a/PetImages/Dog/10747.jpg</pre>"
      ],
      "text/plain": [
       "Unexpected JPEG decode failure\t file: /Users/st21235/Project/Jupyter/kagglecatsanddogs_3367a/PetImages/Dog/10747.jpg"
      ]
     },
     "metadata": {},
     "output_type": "display_data"
    },
    {
     "data": {
      "text/html": [
       "<pre>Unexpected JPEG decode failure\t file: /Users/st21235/Project/Jupyter/kagglecatsanddogs_3367a/PetImages/Dog/10797.jpg</pre>"
      ],
      "text/plain": [
       "Unexpected JPEG decode failure\t file: /Users/st21235/Project/Jupyter/kagglecatsanddogs_3367a/PetImages/Dog/10797.jpg"
      ]
     },
     "metadata": {},
     "output_type": "display_data"
    },
    {
     "data": {
      "text/html": [
       "<pre>Unexpected JPEG decode failure\t file: /Users/st21235/Project/Jupyter/kagglecatsanddogs_3367a/PetImages/Dog/10863.jpg</pre>"
      ],
      "text/plain": [
       "Unexpected JPEG decode failure\t file: /Users/st21235/Project/Jupyter/kagglecatsanddogs_3367a/PetImages/Dog/10863.jpg"
      ]
     },
     "metadata": {},
     "output_type": "display_data"
    },
    {
     "data": {
      "text/html": [
       "<pre>Unexpected JPEG decode failure\t file: /Users/st21235/Project/Jupyter/kagglecatsanddogs_3367a/PetImages/Dog/10907.jpg</pre>"
      ],
      "text/plain": [
       "Unexpected JPEG decode failure\t file: /Users/st21235/Project/Jupyter/kagglecatsanddogs_3367a/PetImages/Dog/10907.jpg"
      ]
     },
     "metadata": {},
     "output_type": "display_data"
    },
    {
     "data": {
      "text/html": [
       "<pre>Unexpected JPEG decode failure\t file: /Users/st21235/Project/Jupyter/kagglecatsanddogs_3367a/PetImages/Dog/10969.jpg</pre>"
      ],
      "text/plain": [
       "Unexpected JPEG decode failure\t file: /Users/st21235/Project/Jupyter/kagglecatsanddogs_3367a/PetImages/Dog/10969.jpg"
      ]
     },
     "metadata": {},
     "output_type": "display_data"
    },
    {
     "data": {
      "text/html": [
       "<pre>Unexpected JPEG decode failure\t file: /Users/st21235/Project/Jupyter/kagglecatsanddogs_3367a/PetImages/Dog/10972.jpg</pre>"
      ],
      "text/plain": [
       "Unexpected JPEG decode failure\t file: /Users/st21235/Project/Jupyter/kagglecatsanddogs_3367a/PetImages/Dog/10972.jpg"
      ]
     },
     "metadata": {},
     "output_type": "display_data"
    },
    {
     "data": {
      "text/html": [
       "<pre>Unexpected JPEG decode failure\t file: /Users/st21235/Project/Jupyter/kagglecatsanddogs_3367a/PetImages/Dog/11166.jpg</pre>"
      ],
      "text/plain": [
       "Unexpected JPEG decode failure\t file: /Users/st21235/Project/Jupyter/kagglecatsanddogs_3367a/PetImages/Dog/11166.jpg"
      ]
     },
     "metadata": {},
     "output_type": "display_data"
    },
    {
     "data": {
      "text/html": [
       "<pre>Unexpected JPEG decode failure\t file: /Users/st21235/Project/Jupyter/kagglecatsanddogs_3367a/PetImages/Dog/11233.jpg</pre>"
      ],
      "text/plain": [
       "Unexpected JPEG decode failure\t file: /Users/st21235/Project/Jupyter/kagglecatsanddogs_3367a/PetImages/Dog/11233.jpg"
      ]
     },
     "metadata": {},
     "output_type": "display_data"
    },
    {
     "data": {
      "text/html": [
       "<pre>Unexpected JPEG decode failure\t file: /Users/st21235/Project/Jupyter/kagglecatsanddogs_3367a/PetImages/Dog/11253.jpg</pre>"
      ],
      "text/plain": [
       "Unexpected JPEG decode failure\t file: /Users/st21235/Project/Jupyter/kagglecatsanddogs_3367a/PetImages/Dog/11253.jpg"
      ]
     },
     "metadata": {},
     "output_type": "display_data"
    },
    {
     "data": {
      "text/html": [
       "<pre>Unexpected JPEG decode failure\t file: /Users/st21235/Project/Jupyter/kagglecatsanddogs_3367a/PetImages/Dog/11285.jpg</pre>"
      ],
      "text/plain": [
       "Unexpected JPEG decode failure\t file: /Users/st21235/Project/Jupyter/kagglecatsanddogs_3367a/PetImages/Dog/11285.jpg"
      ]
     },
     "metadata": {},
     "output_type": "display_data"
    },
    {
     "data": {
      "text/html": [
       "<pre>Unexpected JPEG decode failure\t file: /Users/st21235/Project/Jupyter/kagglecatsanddogs_3367a/PetImages/Dog/11410.jpg</pre>"
      ],
      "text/plain": [
       "Unexpected JPEG decode failure\t file: /Users/st21235/Project/Jupyter/kagglecatsanddogs_3367a/PetImages/Dog/11410.jpg"
      ]
     },
     "metadata": {},
     "output_type": "display_data"
    },
    {
     "data": {
      "text/html": [
       "<pre>Unexpected JPEG decode failure\t file: /Users/st21235/Project/Jupyter/kagglecatsanddogs_3367a/PetImages/Dog/11560.jpg</pre>"
      ],
      "text/plain": [
       "Unexpected JPEG decode failure\t file: /Users/st21235/Project/Jupyter/kagglecatsanddogs_3367a/PetImages/Dog/11560.jpg"
      ]
     },
     "metadata": {},
     "output_type": "display_data"
    },
    {
     "data": {
      "text/html": [
       "<pre>Unexpected JPEG decode failure\t file: /Users/st21235/Project/Jupyter/kagglecatsanddogs_3367a/PetImages/Dog/11590.jpg</pre>"
      ],
      "text/plain": [
       "Unexpected JPEG decode failure\t file: /Users/st21235/Project/Jupyter/kagglecatsanddogs_3367a/PetImages/Dog/11590.jpg"
      ]
     },
     "metadata": {},
     "output_type": "display_data"
    },
    {
     "data": {
      "text/html": [
       "<pre>Unexpected JPEG decode failure\t file: /Users/st21235/Project/Jupyter/kagglecatsanddogs_3367a/PetImages/Dog/11675.jpg</pre>"
      ],
      "text/plain": [
       "Unexpected JPEG decode failure\t file: /Users/st21235/Project/Jupyter/kagglecatsanddogs_3367a/PetImages/Dog/11675.jpg"
      ]
     },
     "metadata": {},
     "output_type": "display_data"
    },
    {
     "data": {
      "text/html": [
       "<pre>Unexpected JPEG decode failure\t file: /Users/st21235/Project/Jupyter/kagglecatsanddogs_3367a/PetImages/Dog/1168.jpg</pre>"
      ],
      "text/plain": [
       "Unexpected JPEG decode failure\t file: /Users/st21235/Project/Jupyter/kagglecatsanddogs_3367a/PetImages/Dog/1168.jpg"
      ]
     },
     "metadata": {},
     "output_type": "display_data"
    },
    {
     "data": {
      "text/html": [
       "<pre>Unexpected JPEG decode failure\t file: /Users/st21235/Project/Jupyter/kagglecatsanddogs_3367a/PetImages/Dog/11692.jpg</pre>"
      ],
      "text/plain": [
       "Unexpected JPEG decode failure\t file: /Users/st21235/Project/Jupyter/kagglecatsanddogs_3367a/PetImages/Dog/11692.jpg"
      ]
     },
     "metadata": {},
     "output_type": "display_data"
    },
    {
     "data": {
      "text/html": [
       "<pre>Unexpected JPEG decode failure\t file: /Users/st21235/Project/Jupyter/kagglecatsanddogs_3367a/PetImages/Dog/11702.jpg</pre>"
      ],
      "text/plain": [
       "Unexpected JPEG decode failure\t file: /Users/st21235/Project/Jupyter/kagglecatsanddogs_3367a/PetImages/Dog/11702.jpg"
      ]
     },
     "metadata": {},
     "output_type": "display_data"
    },
    {
     "data": {
      "text/html": [
       "<pre>Unexpected JPEG decode failure\t file: /Users/st21235/Project/Jupyter/kagglecatsanddogs_3367a/PetImages/Dog/11849.jpg</pre>"
      ],
      "text/plain": [
       "Unexpected JPEG decode failure\t file: /Users/st21235/Project/Jupyter/kagglecatsanddogs_3367a/PetImages/Dog/11849.jpg"
      ]
     },
     "metadata": {},
     "output_type": "display_data"
    },
    {
     "data": {
      "text/html": [
       "<pre>Unexpected JPEG decode failure\t file: /Users/st21235/Project/Jupyter/kagglecatsanddogs_3367a/PetImages/Dog/11853.jpg</pre>"
      ],
      "text/plain": [
       "Unexpected JPEG decode failure\t file: /Users/st21235/Project/Jupyter/kagglecatsanddogs_3367a/PetImages/Dog/11853.jpg"
      ]
     },
     "metadata": {},
     "output_type": "display_data"
    },
    {
     "data": {
      "text/html": [
       "<pre>Unexpected JPEG decode failure\t file: /Users/st21235/Project/Jupyter/kagglecatsanddogs_3367a/PetImages/Dog/11912.jpg</pre>"
      ],
      "text/plain": [
       "Unexpected JPEG decode failure\t file: /Users/st21235/Project/Jupyter/kagglecatsanddogs_3367a/PetImages/Dog/11912.jpg"
      ]
     },
     "metadata": {},
     "output_type": "display_data"
    },
    {
     "data": {
      "text/html": [
       "<pre>Unexpected JPEG decode failure\t file: /Users/st21235/Project/Jupyter/kagglecatsanddogs_3367a/PetImages/Dog/12102.jpg</pre>"
      ],
      "text/plain": [
       "Unexpected JPEG decode failure\t file: /Users/st21235/Project/Jupyter/kagglecatsanddogs_3367a/PetImages/Dog/12102.jpg"
      ]
     },
     "metadata": {},
     "output_type": "display_data"
    },
    {
     "data": {
      "text/html": [
       "<pre>Unexpected JPEG decode failure\t file: /Users/st21235/Project/Jupyter/kagglecatsanddogs_3367a/PetImages/Dog/12114.jpg</pre>"
      ],
      "text/plain": [
       "Unexpected JPEG decode failure\t file: /Users/st21235/Project/Jupyter/kagglecatsanddogs_3367a/PetImages/Dog/12114.jpg"
      ]
     },
     "metadata": {},
     "output_type": "display_data"
    },
    {
     "data": {
      "text/html": [
       "<pre>Unexpected JPEG decode failure\t file: /Users/st21235/Project/Jupyter/kagglecatsanddogs_3367a/PetImages/Dog/12289.jpg</pre>"
      ],
      "text/plain": [
       "Unexpected JPEG decode failure\t file: /Users/st21235/Project/Jupyter/kagglecatsanddogs_3367a/PetImages/Dog/12289.jpg"
      ]
     },
     "metadata": {},
     "output_type": "display_data"
    },
    {
     "data": {
      "text/html": [
       "<pre>Unexpected JPEG decode failure\t file: /Users/st21235/Project/Jupyter/kagglecatsanddogs_3367a/PetImages/Dog/1259.jpg</pre>"
      ],
      "text/plain": [
       "Unexpected JPEG decode failure\t file: /Users/st21235/Project/Jupyter/kagglecatsanddogs_3367a/PetImages/Dog/1259.jpg"
      ]
     },
     "metadata": {},
     "output_type": "display_data"
    },
    {
     "data": {
      "text/html": [
       "<pre>Unexpected JPEG decode failure\t file: /Users/st21235/Project/Jupyter/kagglecatsanddogs_3367a/PetImages/Dog/1308.jpg</pre>"
      ],
      "text/plain": [
       "Unexpected JPEG decode failure\t file: /Users/st21235/Project/Jupyter/kagglecatsanddogs_3367a/PetImages/Dog/1308.jpg"
      ]
     },
     "metadata": {},
     "output_type": "display_data"
    },
    {
     "data": {
      "text/html": [
       "<pre>Unexpected JPEG decode failure\t file: /Users/st21235/Project/Jupyter/kagglecatsanddogs_3367a/PetImages/Dog/1356.jpg</pre>"
      ],
      "text/plain": [
       "Unexpected JPEG decode failure\t file: /Users/st21235/Project/Jupyter/kagglecatsanddogs_3367a/PetImages/Dog/1356.jpg"
      ]
     },
     "metadata": {},
     "output_type": "display_data"
    },
    {
     "data": {
      "text/html": [
       "<pre>Unexpected JPEG decode failure\t file: /Users/st21235/Project/Jupyter/kagglecatsanddogs_3367a/PetImages/Dog/1866.jpg</pre>"
      ],
      "text/plain": [
       "Unexpected JPEG decode failure\t file: /Users/st21235/Project/Jupyter/kagglecatsanddogs_3367a/PetImages/Dog/1866.jpg"
      ]
     },
     "metadata": {},
     "output_type": "display_data"
    },
    {
     "data": {
      "text/html": [
       "<pre>Unexpected JPEG decode failure\t file: /Users/st21235/Project/Jupyter/kagglecatsanddogs_3367a/PetImages/Dog/1884.jpg</pre>"
      ],
      "text/plain": [
       "Unexpected JPEG decode failure\t file: /Users/st21235/Project/Jupyter/kagglecatsanddogs_3367a/PetImages/Dog/1884.jpg"
      ]
     },
     "metadata": {},
     "output_type": "display_data"
    },
    {
     "data": {
      "text/html": [
       "<pre>Unexpected JPEG decode failure\t file: /Users/st21235/Project/Jupyter/kagglecatsanddogs_3367a/PetImages/Dog/1900.jpg</pre>"
      ],
      "text/plain": [
       "Unexpected JPEG decode failure\t file: /Users/st21235/Project/Jupyter/kagglecatsanddogs_3367a/PetImages/Dog/1900.jpg"
      ]
     },
     "metadata": {},
     "output_type": "display_data"
    },
    {
     "data": {
      "text/html": [
       "<pre>Unexpected JPEG decode failure\t file: /Users/st21235/Project/Jupyter/kagglecatsanddogs_3367a/PetImages/Dog/2317.jpg</pre>"
      ],
      "text/plain": [
       "Unexpected JPEG decode failure\t file: /Users/st21235/Project/Jupyter/kagglecatsanddogs_3367a/PetImages/Dog/2317.jpg"
      ]
     },
     "metadata": {},
     "output_type": "display_data"
    },
    {
     "data": {
      "text/html": [
       "<pre>Unexpected JPEG decode failure\t file: /Users/st21235/Project/Jupyter/kagglecatsanddogs_3367a/PetImages/Dog/2353.jpg</pre>"
      ],
      "text/plain": [
       "Unexpected JPEG decode failure\t file: /Users/st21235/Project/Jupyter/kagglecatsanddogs_3367a/PetImages/Dog/2353.jpg"
      ]
     },
     "metadata": {},
     "output_type": "display_data"
    },
    {
     "data": {
      "text/html": [
       "<pre>Unexpected JPEG decode failure\t file: /Users/st21235/Project/Jupyter/kagglecatsanddogs_3367a/PetImages/Dog/2384.jpg</pre>"
      ],
      "text/plain": [
       "Unexpected JPEG decode failure\t file: /Users/st21235/Project/Jupyter/kagglecatsanddogs_3367a/PetImages/Dog/2384.jpg"
      ]
     },
     "metadata": {},
     "output_type": "display_data"
    },
    {
     "data": {
      "text/html": [
       "<pre>Read 16416 images in 15.0067 secs\tspeed: 985.212 file/sec</pre>"
      ],
      "text/plain": [
       "Read 16416 images in 15.0067 secs\tspeed: 985.212 file/sec"
      ]
     },
     "metadata": {},
     "output_type": "display_data"
    },
    {
     "data": {
      "text/html": [
       "<pre>Unexpected JPEG decode failure\t file: /Users/st21235/Project/Jupyter/kagglecatsanddogs_3367a/PetImages/Dog/2479.jpg</pre>"
      ],
      "text/plain": [
       "Unexpected JPEG decode failure\t file: /Users/st21235/Project/Jupyter/kagglecatsanddogs_3367a/PetImages/Dog/2479.jpg"
      ]
     },
     "metadata": {},
     "output_type": "display_data"
    },
    {
     "data": {
      "text/html": [
       "<pre>Unexpected JPEG decode failure\t file: /Users/st21235/Project/Jupyter/kagglecatsanddogs_3367a/PetImages/Dog/2494.jpg</pre>"
      ],
      "text/plain": [
       "Unexpected JPEG decode failure\t file: /Users/st21235/Project/Jupyter/kagglecatsanddogs_3367a/PetImages/Dog/2494.jpg"
      ]
     },
     "metadata": {},
     "output_type": "display_data"
    },
    {
     "data": {
      "text/html": [
       "<pre>Unexpected JPEG decode failure\t file: /Users/st21235/Project/Jupyter/kagglecatsanddogs_3367a/PetImages/Dog/2688.jpg</pre>"
      ],
      "text/plain": [
       "Unexpected JPEG decode failure\t file: /Users/st21235/Project/Jupyter/kagglecatsanddogs_3367a/PetImages/Dog/2688.jpg"
      ]
     },
     "metadata": {},
     "output_type": "display_data"
    },
    {
     "data": {
      "text/html": [
       "<pre>Unexpected JPEG decode failure\t file: /Users/st21235/Project/Jupyter/kagglecatsanddogs_3367a/PetImages/Dog/2877.jpg</pre>"
      ],
      "text/plain": [
       "Unexpected JPEG decode failure\t file: /Users/st21235/Project/Jupyter/kagglecatsanddogs_3367a/PetImages/Dog/2877.jpg"
      ]
     },
     "metadata": {},
     "output_type": "display_data"
    },
    {
     "data": {
      "text/html": [
       "<pre>Unexpected JPEG decode failure\t file: /Users/st21235/Project/Jupyter/kagglecatsanddogs_3367a/PetImages/Dog/2905.jpg</pre>"
      ],
      "text/plain": [
       "Unexpected JPEG decode failure\t file: /Users/st21235/Project/Jupyter/kagglecatsanddogs_3367a/PetImages/Dog/2905.jpg"
      ]
     },
     "metadata": {},
     "output_type": "display_data"
    },
    {
     "data": {
      "text/html": [
       "<pre>Unexpected JPEG decode failure\t file: /Users/st21235/Project/Jupyter/kagglecatsanddogs_3367a/PetImages/Dog/2915.jpg</pre>"
      ],
      "text/plain": [
       "Unexpected JPEG decode failure\t file: /Users/st21235/Project/Jupyter/kagglecatsanddogs_3367a/PetImages/Dog/2915.jpg"
      ]
     },
     "metadata": {},
     "output_type": "display_data"
    },
    {
     "data": {
      "text/html": [
       "<pre>Unexpected JPEG decode failure\t file: /Users/st21235/Project/Jupyter/kagglecatsanddogs_3367a/PetImages/Dog/296.jpg</pre>"
      ],
      "text/plain": [
       "Unexpected JPEG decode failure\t file: /Users/st21235/Project/Jupyter/kagglecatsanddogs_3367a/PetImages/Dog/296.jpg"
      ]
     },
     "metadata": {},
     "output_type": "display_data"
    },
    {
     "data": {
      "text/html": [
       "<pre>Unexpected JPEG decode failure\t file: /Users/st21235/Project/Jupyter/kagglecatsanddogs_3367a/PetImages/Dog/3038.jpg</pre>"
      ],
      "text/plain": [
       "Unexpected JPEG decode failure\t file: /Users/st21235/Project/Jupyter/kagglecatsanddogs_3367a/PetImages/Dog/3038.jpg"
      ]
     },
     "metadata": {},
     "output_type": "display_data"
    },
    {
     "data": {
      "text/html": [
       "<pre>Unexpected JPEG decode failure\t file: /Users/st21235/Project/Jupyter/kagglecatsanddogs_3367a/PetImages/Dog/3136.jpg</pre>"
      ],
      "text/plain": [
       "Unexpected JPEG decode failure\t file: /Users/st21235/Project/Jupyter/kagglecatsanddogs_3367a/PetImages/Dog/3136.jpg"
      ]
     },
     "metadata": {},
     "output_type": "display_data"
    },
    {
     "data": {
      "text/html": [
       "<pre>Unexpected JPEG decode failure\t file: /Users/st21235/Project/Jupyter/kagglecatsanddogs_3367a/PetImages/Dog/3155.jpg</pre>"
      ],
      "text/plain": [
       "Unexpected JPEG decode failure\t file: /Users/st21235/Project/Jupyter/kagglecatsanddogs_3367a/PetImages/Dog/3155.jpg"
      ]
     },
     "metadata": {},
     "output_type": "display_data"
    },
    {
     "data": {
      "text/html": [
       "<pre>Unexpected JPEG decode failure\t file: /Users/st21235/Project/Jupyter/kagglecatsanddogs_3367a/PetImages/Dog/3288.jpg</pre>"
      ],
      "text/plain": [
       "Unexpected JPEG decode failure\t file: /Users/st21235/Project/Jupyter/kagglecatsanddogs_3367a/PetImages/Dog/3288.jpg"
      ]
     },
     "metadata": {},
     "output_type": "display_data"
    },
    {
     "data": {
      "text/html": [
       "<pre>Unexpected JPEG decode failure\t file: /Users/st21235/Project/Jupyter/kagglecatsanddogs_3367a/PetImages/Dog/3320.jpg</pre>"
      ],
      "text/plain": [
       "Unexpected JPEG decode failure\t file: /Users/st21235/Project/Jupyter/kagglecatsanddogs_3367a/PetImages/Dog/3320.jpg"
      ]
     },
     "metadata": {},
     "output_type": "display_data"
    },
    {
     "data": {
      "text/html": [
       "<pre>Unexpected JPEG decode failure\t file: /Users/st21235/Project/Jupyter/kagglecatsanddogs_3367a/PetImages/Dog/3546.jpg</pre>"
      ],
      "text/plain": [
       "Unexpected JPEG decode failure\t file: /Users/st21235/Project/Jupyter/kagglecatsanddogs_3367a/PetImages/Dog/3546.jpg"
      ]
     },
     "metadata": {},
     "output_type": "display_data"
    },
    {
     "data": {
      "text/html": [
       "<pre>Unexpected JPEG decode failure\t file: /Users/st21235/Project/Jupyter/kagglecatsanddogs_3367a/PetImages/Dog/3588.jpg</pre>"
      ],
      "text/plain": [
       "Unexpected JPEG decode failure\t file: /Users/st21235/Project/Jupyter/kagglecatsanddogs_3367a/PetImages/Dog/3588.jpg"
      ]
     },
     "metadata": {},
     "output_type": "display_data"
    },
    {
     "data": {
      "text/html": [
       "<pre>Unexpected JPEG decode failure\t file: /Users/st21235/Project/Jupyter/kagglecatsanddogs_3367a/PetImages/Dog/3885.jpg</pre>"
      ],
      "text/plain": [
       "Unexpected JPEG decode failure\t file: /Users/st21235/Project/Jupyter/kagglecatsanddogs_3367a/PetImages/Dog/3885.jpg"
      ]
     },
     "metadata": {},
     "output_type": "display_data"
    },
    {
     "data": {
      "text/html": [
       "<pre>Unexpected JPEG decode failure\t file: /Users/st21235/Project/Jupyter/kagglecatsanddogs_3367a/PetImages/Dog/3927.jpg</pre>"
      ],
      "text/plain": [
       "Unexpected JPEG decode failure\t file: /Users/st21235/Project/Jupyter/kagglecatsanddogs_3367a/PetImages/Dog/3927.jpg"
      ]
     },
     "metadata": {},
     "output_type": "display_data"
    },
    {
     "data": {
      "text/html": [
       "<pre>Unexpected JPEG decode failure\t file: /Users/st21235/Project/Jupyter/kagglecatsanddogs_3367a/PetImages/Dog/4086.jpg</pre>"
      ],
      "text/plain": [
       "Unexpected JPEG decode failure\t file: /Users/st21235/Project/Jupyter/kagglecatsanddogs_3367a/PetImages/Dog/4086.jpg"
      ]
     },
     "metadata": {},
     "output_type": "display_data"
    },
    {
     "data": {
      "text/html": [
       "<pre>Unexpected JPEG decode failure\t file: /Users/st21235/Project/Jupyter/kagglecatsanddogs_3367a/PetImages/Dog/4134.jpg</pre>"
      ],
      "text/plain": [
       "Unexpected JPEG decode failure\t file: /Users/st21235/Project/Jupyter/kagglecatsanddogs_3367a/PetImages/Dog/4134.jpg"
      ]
     },
     "metadata": {},
     "output_type": "display_data"
    },
    {
     "data": {
      "text/html": [
       "<pre>Unexpected JPEG decode failure\t file: /Users/st21235/Project/Jupyter/kagglecatsanddogs_3367a/PetImages/Dog/414.jpg</pre>"
      ],
      "text/plain": [
       "Unexpected JPEG decode failure\t file: /Users/st21235/Project/Jupyter/kagglecatsanddogs_3367a/PetImages/Dog/414.jpg"
      ]
     },
     "metadata": {},
     "output_type": "display_data"
    },
    {
     "data": {
      "text/html": [
       "<pre>Unexpected JPEG decode failure\t file: /Users/st21235/Project/Jupyter/kagglecatsanddogs_3367a/PetImages/Dog/4203.jpg</pre>"
      ],
      "text/plain": [
       "Unexpected JPEG decode failure\t file: /Users/st21235/Project/Jupyter/kagglecatsanddogs_3367a/PetImages/Dog/4203.jpg"
      ]
     },
     "metadata": {},
     "output_type": "display_data"
    },
    {
     "data": {
      "text/html": [
       "<pre>Unexpected JPEG decode failure\t file: /Users/st21235/Project/Jupyter/kagglecatsanddogs_3367a/PetImages/Dog/4257.jpg</pre>"
      ],
      "text/plain": [
       "Unexpected JPEG decode failure\t file: /Users/st21235/Project/Jupyter/kagglecatsanddogs_3367a/PetImages/Dog/4257.jpg"
      ]
     },
     "metadata": {},
     "output_type": "display_data"
    },
    {
     "data": {
      "text/html": [
       "<pre>Unexpected JPEG decode failure\t file: /Users/st21235/Project/Jupyter/kagglecatsanddogs_3367a/PetImages/Dog/4301.jpg</pre>"
      ],
      "text/plain": [
       "Unexpected JPEG decode failure\t file: /Users/st21235/Project/Jupyter/kagglecatsanddogs_3367a/PetImages/Dog/4301.jpg"
      ]
     },
     "metadata": {},
     "output_type": "display_data"
    },
    {
     "data": {
      "text/html": [
       "<pre>Unexpected JPEG decode failure\t file: /Users/st21235/Project/Jupyter/kagglecatsanddogs_3367a/PetImages/Dog/4367.jpg</pre>"
      ],
      "text/plain": [
       "Unexpected JPEG decode failure\t file: /Users/st21235/Project/Jupyter/kagglecatsanddogs_3367a/PetImages/Dog/4367.jpg"
      ]
     },
     "metadata": {},
     "output_type": "display_data"
    },
    {
     "data": {
      "text/html": [
       "<pre>Unexpected JPEG decode failure\t file: /Users/st21235/Project/Jupyter/kagglecatsanddogs_3367a/PetImages/Dog/4640.jpg</pre>"
      ],
      "text/plain": [
       "Unexpected JPEG decode failure\t file: /Users/st21235/Project/Jupyter/kagglecatsanddogs_3367a/PetImages/Dog/4640.jpg"
      ]
     },
     "metadata": {},
     "output_type": "display_data"
    },
    {
     "data": {
      "text/html": [
       "<pre>Unexpected JPEG decode failure\t file: /Users/st21235/Project/Jupyter/kagglecatsanddogs_3367a/PetImages/Dog/4654.jpg</pre>"
      ],
      "text/plain": [
       "Unexpected JPEG decode failure\t file: /Users/st21235/Project/Jupyter/kagglecatsanddogs_3367a/PetImages/Dog/4654.jpg"
      ]
     },
     "metadata": {},
     "output_type": "display_data"
    },
    {
     "data": {
      "text/html": [
       "<pre>Unexpected JPEG decode failure\t file: /Users/st21235/Project/Jupyter/kagglecatsanddogs_3367a/PetImages/Dog/4924.jpg</pre>"
      ],
      "text/plain": [
       "Unexpected JPEG decode failure\t file: /Users/st21235/Project/Jupyter/kagglecatsanddogs_3367a/PetImages/Dog/4924.jpg"
      ]
     },
     "metadata": {},
     "output_type": "display_data"
    },
    {
     "data": {
      "text/html": [
       "<pre>Unexpected JPEG decode failure\t file: /Users/st21235/Project/Jupyter/kagglecatsanddogs_3367a/PetImages/Dog/50.jpg</pre>"
      ],
      "text/plain": [
       "Unexpected JPEG decode failure\t file: /Users/st21235/Project/Jupyter/kagglecatsanddogs_3367a/PetImages/Dog/50.jpg"
      ]
     },
     "metadata": {},
     "output_type": "display_data"
    },
    {
     "data": {
      "text/html": [
       "<pre>Unexpected JPEG decode failure\t file: /Users/st21235/Project/Jupyter/kagglecatsanddogs_3367a/PetImages/Dog/5104.jpg</pre>"
      ],
      "text/plain": [
       "Unexpected JPEG decode failure\t file: /Users/st21235/Project/Jupyter/kagglecatsanddogs_3367a/PetImages/Dog/5104.jpg"
      ]
     },
     "metadata": {},
     "output_type": "display_data"
    },
    {
     "data": {
      "text/html": [
       "<pre>Unexpected JPEG decode failure\t file: /Users/st21235/Project/Jupyter/kagglecatsanddogs_3367a/PetImages/Dog/522.jpg</pre>"
      ],
      "text/plain": [
       "Unexpected JPEG decode failure\t file: /Users/st21235/Project/Jupyter/kagglecatsanddogs_3367a/PetImages/Dog/522.jpg"
      ]
     },
     "metadata": {},
     "output_type": "display_data"
    },
    {
     "data": {
      "text/html": [
       "<pre>Unexpected JPEG decode failure\t file: /Users/st21235/Project/Jupyter/kagglecatsanddogs_3367a/PetImages/Dog/5243.jpg</pre>"
      ],
      "text/plain": [
       "Unexpected JPEG decode failure\t file: /Users/st21235/Project/Jupyter/kagglecatsanddogs_3367a/PetImages/Dog/5243.jpg"
      ]
     },
     "metadata": {},
     "output_type": "display_data"
    },
    {
     "data": {
      "text/html": [
       "<pre>Unexpected JPEG decode failure\t file: /Users/st21235/Project/Jupyter/kagglecatsanddogs_3367a/PetImages/Dog/5263.jpg</pre>"
      ],
      "text/plain": [
       "Unexpected JPEG decode failure\t file: /Users/st21235/Project/Jupyter/kagglecatsanddogs_3367a/PetImages/Dog/5263.jpg"
      ]
     },
     "metadata": {},
     "output_type": "display_data"
    },
    {
     "data": {
      "text/html": [
       "<pre>Unexpected JPEG decode failure\t file: /Users/st21235/Project/Jupyter/kagglecatsanddogs_3367a/PetImages/Dog/543.jpg</pre>"
      ],
      "text/plain": [
       "Unexpected JPEG decode failure\t file: /Users/st21235/Project/Jupyter/kagglecatsanddogs_3367a/PetImages/Dog/543.jpg"
      ]
     },
     "metadata": {},
     "output_type": "display_data"
    },
    {
     "data": {
      "text/html": [
       "<pre>Unexpected JPEG decode failure\t file: /Users/st21235/Project/Jupyter/kagglecatsanddogs_3367a/PetImages/Dog/5547.jpg</pre>"
      ],
      "text/plain": [
       "Unexpected JPEG decode failure\t file: /Users/st21235/Project/Jupyter/kagglecatsanddogs_3367a/PetImages/Dog/5547.jpg"
      ]
     },
     "metadata": {},
     "output_type": "display_data"
    },
    {
     "data": {
      "text/html": [
       "<pre>Unexpected JPEG decode failure\t file: /Users/st21235/Project/Jupyter/kagglecatsanddogs_3367a/PetImages/Dog/5604.jpg</pre>"
      ],
      "text/plain": [
       "Unexpected JPEG decode failure\t file: /Users/st21235/Project/Jupyter/kagglecatsanddogs_3367a/PetImages/Dog/5604.jpg"
      ]
     },
     "metadata": {},
     "output_type": "display_data"
    },
    {
     "data": {
      "text/html": [
       "<pre>Unexpected JPEG decode failure\t file: /Users/st21235/Project/Jupyter/kagglecatsanddogs_3367a/PetImages/Dog/561.jpg</pre>"
      ],
      "text/plain": [
       "Unexpected JPEG decode failure\t file: /Users/st21235/Project/Jupyter/kagglecatsanddogs_3367a/PetImages/Dog/561.jpg"
      ]
     },
     "metadata": {},
     "output_type": "display_data"
    },
    {
     "data": {
      "text/html": [
       "<pre>Unexpected JPEG decode failure\t file: /Users/st21235/Project/Jupyter/kagglecatsanddogs_3367a/PetImages/Dog/5618.jpg</pre>"
      ],
      "text/plain": [
       "Unexpected JPEG decode failure\t file: /Users/st21235/Project/Jupyter/kagglecatsanddogs_3367a/PetImages/Dog/5618.jpg"
      ]
     },
     "metadata": {},
     "output_type": "display_data"
    },
    {
     "data": {
      "text/html": [
       "<pre>Unexpected JPEG decode failure\t file: /Users/st21235/Project/Jupyter/kagglecatsanddogs_3367a/PetImages/Dog/565.jpg</pre>"
      ],
      "text/plain": [
       "Unexpected JPEG decode failure\t file: /Users/st21235/Project/Jupyter/kagglecatsanddogs_3367a/PetImages/Dog/565.jpg"
      ]
     },
     "metadata": {},
     "output_type": "display_data"
    },
    {
     "data": {
      "text/html": [
       "<pre>Unexpected JPEG decode failure\t file: /Users/st21235/Project/Jupyter/kagglecatsanddogs_3367a/PetImages/Dog/573.jpg</pre>"
      ],
      "text/plain": [
       "Unexpected JPEG decode failure\t file: /Users/st21235/Project/Jupyter/kagglecatsanddogs_3367a/PetImages/Dog/573.jpg"
      ]
     },
     "metadata": {},
     "output_type": "display_data"
    },
    {
     "data": {
      "text/html": [
       "<pre>Unexpected JPEG decode failure\t file: /Users/st21235/Project/Jupyter/kagglecatsanddogs_3367a/PetImages/Dog/5730.jpg</pre>"
      ],
      "text/plain": [
       "Unexpected JPEG decode failure\t file: /Users/st21235/Project/Jupyter/kagglecatsanddogs_3367a/PetImages/Dog/5730.jpg"
      ]
     },
     "metadata": {},
     "output_type": "display_data"
    },
    {
     "data": {
      "text/html": [
       "<pre>Unexpected JPEG decode failure\t file: /Users/st21235/Project/Jupyter/kagglecatsanddogs_3367a/PetImages/Dog/5736.jpg</pre>"
      ],
      "text/plain": [
       "Unexpected JPEG decode failure\t file: /Users/st21235/Project/Jupyter/kagglecatsanddogs_3367a/PetImages/Dog/5736.jpg"
      ]
     },
     "metadata": {},
     "output_type": "display_data"
    },
    {
     "data": {
      "text/html": [
       "<pre>Unexpected JPEG decode failure\t file: /Users/st21235/Project/Jupyter/kagglecatsanddogs_3367a/PetImages/Dog/5790.jpg</pre>"
      ],
      "text/plain": [
       "Unexpected JPEG decode failure\t file: /Users/st21235/Project/Jupyter/kagglecatsanddogs_3367a/PetImages/Dog/5790.jpg"
      ]
     },
     "metadata": {},
     "output_type": "display_data"
    },
    {
     "data": {
      "text/html": [
       "<pre>Unexpected JPEG decode failure\t file: /Users/st21235/Project/Jupyter/kagglecatsanddogs_3367a/PetImages/Dog/5955.jpg</pre>"
      ],
      "text/plain": [
       "Unexpected JPEG decode failure\t file: /Users/st21235/Project/Jupyter/kagglecatsanddogs_3367a/PetImages/Dog/5955.jpg"
      ]
     },
     "metadata": {},
     "output_type": "display_data"
    },
    {
     "data": {
      "text/html": [
       "<pre>Unexpected JPEG decode failure\t file: /Users/st21235/Project/Jupyter/kagglecatsanddogs_3367a/PetImages/Dog/6032.jpg</pre>"
      ],
      "text/plain": [
       "Unexpected JPEG decode failure\t file: /Users/st21235/Project/Jupyter/kagglecatsanddogs_3367a/PetImages/Dog/6032.jpg"
      ]
     },
     "metadata": {},
     "output_type": "display_data"
    },
    {
     "data": {
      "text/html": [
       "<pre>Unexpected JPEG decode failure\t file: /Users/st21235/Project/Jupyter/kagglecatsanddogs_3367a/PetImages/Dog/6059.jpg</pre>"
      ],
      "text/plain": [
       "Unexpected JPEG decode failure\t file: /Users/st21235/Project/Jupyter/kagglecatsanddogs_3367a/PetImages/Dog/6059.jpg"
      ]
     },
     "metadata": {},
     "output_type": "display_data"
    },
    {
     "data": {
      "text/html": [
       "<pre>Unexpected JPEG decode failure\t file: /Users/st21235/Project/Jupyter/kagglecatsanddogs_3367a/PetImages/Dog/6213.jpg</pre>"
      ],
      "text/plain": [
       "Unexpected JPEG decode failure\t file: /Users/st21235/Project/Jupyter/kagglecatsanddogs_3367a/PetImages/Dog/6213.jpg"
      ]
     },
     "metadata": {},
     "output_type": "display_data"
    },
    {
     "data": {
      "text/html": [
       "<pre>Unexpected JPEG decode failure\t file: /Users/st21235/Project/Jupyter/kagglecatsanddogs_3367a/PetImages/Dog/6238.jpg</pre>"
      ],
      "text/plain": [
       "Unexpected JPEG decode failure\t file: /Users/st21235/Project/Jupyter/kagglecatsanddogs_3367a/PetImages/Dog/6238.jpg"
      ]
     },
     "metadata": {},
     "output_type": "display_data"
    },
    {
     "data": {
      "text/html": [
       "<pre>Unexpected JPEG decode failure\t file: /Users/st21235/Project/Jupyter/kagglecatsanddogs_3367a/PetImages/Dog/6305.jpg</pre>"
      ],
      "text/plain": [
       "Unexpected JPEG decode failure\t file: /Users/st21235/Project/Jupyter/kagglecatsanddogs_3367a/PetImages/Dog/6305.jpg"
      ]
     },
     "metadata": {},
     "output_type": "display_data"
    },
    {
     "data": {
      "text/html": [
       "<pre>Unexpected JPEG decode failure\t file: /Users/st21235/Project/Jupyter/kagglecatsanddogs_3367a/PetImages/Dog/6318.jpg</pre>"
      ],
      "text/plain": [
       "Unexpected JPEG decode failure\t file: /Users/st21235/Project/Jupyter/kagglecatsanddogs_3367a/PetImages/Dog/6318.jpg"
      ]
     },
     "metadata": {},
     "output_type": "display_data"
    },
    {
     "data": {
      "text/html": [
       "<pre>Read 20776 images in 20.0067 secs\tspeed: 871.999 file/sec</pre>"
      ],
      "text/plain": [
       "Read 20776 images in 20.0067 secs\tspeed: 871.999 file/sec"
      ]
     },
     "metadata": {},
     "output_type": "display_data"
    },
    {
     "data": {
      "text/html": [
       "<pre>Unexpected JPEG decode failure\t file: /Users/st21235/Project/Jupyter/kagglecatsanddogs_3367a/PetImages/Dog/6430.jpg</pre>"
      ],
      "text/plain": [
       "Unexpected JPEG decode failure\t file: /Users/st21235/Project/Jupyter/kagglecatsanddogs_3367a/PetImages/Dog/6430.jpg"
      ]
     },
     "metadata": {},
     "output_type": "display_data"
    },
    {
     "data": {
      "text/html": [
       "<pre>Unexpected JPEG decode failure\t file: /Users/st21235/Project/Jupyter/kagglecatsanddogs_3367a/PetImages/Dog/6500.jpg</pre>"
      ],
      "text/plain": [
       "Unexpected JPEG decode failure\t file: /Users/st21235/Project/Jupyter/kagglecatsanddogs_3367a/PetImages/Dog/6500.jpg"
      ]
     },
     "metadata": {},
     "output_type": "display_data"
    },
    {
     "data": {
      "text/html": [
       "<pre>Unexpected JPEG decode failure\t file: /Users/st21235/Project/Jupyter/kagglecatsanddogs_3367a/PetImages/Dog/6503.jpg</pre>"
      ],
      "text/plain": [
       "Unexpected JPEG decode failure\t file: /Users/st21235/Project/Jupyter/kagglecatsanddogs_3367a/PetImages/Dog/6503.jpg"
      ]
     },
     "metadata": {},
     "output_type": "display_data"
    },
    {
     "data": {
      "text/html": [
       "<pre>Unexpected JPEG decode failure\t file: /Users/st21235/Project/Jupyter/kagglecatsanddogs_3367a/PetImages/Dog/6555.jpg</pre>"
      ],
      "text/plain": [
       "Unexpected JPEG decode failure\t file: /Users/st21235/Project/Jupyter/kagglecatsanddogs_3367a/PetImages/Dog/6555.jpg"
      ]
     },
     "metadata": {},
     "output_type": "display_data"
    },
    {
     "data": {
      "text/html": [
       "<pre>Unexpected JPEG decode failure\t file: /Users/st21235/Project/Jupyter/kagglecatsanddogs_3367a/PetImages/Dog/663.jpg</pre>"
      ],
      "text/plain": [
       "Unexpected JPEG decode failure\t file: /Users/st21235/Project/Jupyter/kagglecatsanddogs_3367a/PetImages/Dog/663.jpg"
      ]
     },
     "metadata": {},
     "output_type": "display_data"
    },
    {
     "data": {
      "text/html": [
       "<pre>Unexpected JPEG decode failure\t file: /Users/st21235/Project/Jupyter/kagglecatsanddogs_3367a/PetImages/Dog/6718.jpg</pre>"
      ],
      "text/plain": [
       "Unexpected JPEG decode failure\t file: /Users/st21235/Project/Jupyter/kagglecatsanddogs_3367a/PetImages/Dog/6718.jpg"
      ]
     },
     "metadata": {},
     "output_type": "display_data"
    },
    {
     "data": {
      "text/html": [
       "<pre>Unexpected JPEG decode failure\t file: /Users/st21235/Project/Jupyter/kagglecatsanddogs_3367a/PetImages/Dog/6855.jpg</pre>"
      ],
      "text/plain": [
       "Unexpected JPEG decode failure\t file: /Users/st21235/Project/Jupyter/kagglecatsanddogs_3367a/PetImages/Dog/6855.jpg"
      ]
     },
     "metadata": {},
     "output_type": "display_data"
    },
    {
     "data": {
      "text/html": [
       "<pre>Unexpected JPEG decode failure\t file: /Users/st21235/Project/Jupyter/kagglecatsanddogs_3367a/PetImages/Dog/7112.jpg</pre>"
      ],
      "text/plain": [
       "Unexpected JPEG decode failure\t file: /Users/st21235/Project/Jupyter/kagglecatsanddogs_3367a/PetImages/Dog/7112.jpg"
      ]
     },
     "metadata": {},
     "output_type": "display_data"
    },
    {
     "data": {
      "text/html": [
       "<pre>Unexpected JPEG decode failure\t file: /Users/st21235/Project/Jupyter/kagglecatsanddogs_3367a/PetImages/Dog/7128.jpg</pre>"
      ],
      "text/plain": [
       "Unexpected JPEG decode failure\t file: /Users/st21235/Project/Jupyter/kagglecatsanddogs_3367a/PetImages/Dog/7128.jpg"
      ]
     },
     "metadata": {},
     "output_type": "display_data"
    },
    {
     "data": {
      "text/html": [
       "<pre>Unexpected JPEG decode failure\t file: /Users/st21235/Project/Jupyter/kagglecatsanddogs_3367a/PetImages/Dog/7133.jpg</pre>"
      ],
      "text/plain": [
       "Unexpected JPEG decode failure\t file: /Users/st21235/Project/Jupyter/kagglecatsanddogs_3367a/PetImages/Dog/7133.jpg"
      ]
     },
     "metadata": {},
     "output_type": "display_data"
    },
    {
     "data": {
      "text/html": [
       "<pre>Unexpected JPEG decode failure\t file: /Users/st21235/Project/Jupyter/kagglecatsanddogs_3367a/PetImages/Dog/719.jpg</pre>"
      ],
      "text/plain": [
       "Unexpected JPEG decode failure\t file: /Users/st21235/Project/Jupyter/kagglecatsanddogs_3367a/PetImages/Dog/719.jpg"
      ]
     },
     "metadata": {},
     "output_type": "display_data"
    },
    {
     "data": {
      "text/html": [
       "<pre>Unexpected JPEG decode failure\t file: /Users/st21235/Project/Jupyter/kagglecatsanddogs_3367a/PetImages/Dog/7311.jpg</pre>"
      ],
      "text/plain": [
       "Unexpected JPEG decode failure\t file: /Users/st21235/Project/Jupyter/kagglecatsanddogs_3367a/PetImages/Dog/7311.jpg"
      ]
     },
     "metadata": {},
     "output_type": "display_data"
    },
    {
     "data": {
      "text/html": [
       "<pre>Unexpected JPEG decode failure\t file: /Users/st21235/Project/Jupyter/kagglecatsanddogs_3367a/PetImages/Dog/7369.jpg</pre>"
      ],
      "text/plain": [
       "Unexpected JPEG decode failure\t file: /Users/st21235/Project/Jupyter/kagglecatsanddogs_3367a/PetImages/Dog/7369.jpg"
      ]
     },
     "metadata": {},
     "output_type": "display_data"
    },
    {
     "data": {
      "text/html": [
       "<pre>Unexpected JPEG decode failure\t file: /Users/st21235/Project/Jupyter/kagglecatsanddogs_3367a/PetImages/Dog/7459.jpg</pre>"
      ],
      "text/plain": [
       "Unexpected JPEG decode failure\t file: /Users/st21235/Project/Jupyter/kagglecatsanddogs_3367a/PetImages/Dog/7459.jpg"
      ]
     },
     "metadata": {},
     "output_type": "display_data"
    },
    {
     "data": {
      "text/html": [
       "<pre>Unexpected JPEG decode failure\t file: /Users/st21235/Project/Jupyter/kagglecatsanddogs_3367a/PetImages/Dog/7514.jpg</pre>"
      ],
      "text/plain": [
       "Unexpected JPEG decode failure\t file: /Users/st21235/Project/Jupyter/kagglecatsanddogs_3367a/PetImages/Dog/7514.jpg"
      ]
     },
     "metadata": {},
     "output_type": "display_data"
    },
    {
     "data": {
      "text/html": [
       "<pre>Unexpected JPEG decode failure\t file: /Users/st21235/Project/Jupyter/kagglecatsanddogs_3367a/PetImages/Dog/7652.jpg</pre>"
      ],
      "text/plain": [
       "Unexpected JPEG decode failure\t file: /Users/st21235/Project/Jupyter/kagglecatsanddogs_3367a/PetImages/Dog/7652.jpg"
      ]
     },
     "metadata": {},
     "output_type": "display_data"
    },
    {
     "data": {
      "text/html": [
       "<pre>Unexpected JPEG decode failure\t file: /Users/st21235/Project/Jupyter/kagglecatsanddogs_3367a/PetImages/Dog/7718.jpg</pre>"
      ],
      "text/plain": [
       "Unexpected JPEG decode failure\t file: /Users/st21235/Project/Jupyter/kagglecatsanddogs_3367a/PetImages/Dog/7718.jpg"
      ]
     },
     "metadata": {},
     "output_type": "display_data"
    },
    {
     "data": {
      "text/html": [
       "<pre>Unexpected JPEG decode failure\t file: /Users/st21235/Project/Jupyter/kagglecatsanddogs_3367a/PetImages/Dog/7739.jpg</pre>"
      ],
      "text/plain": [
       "Unexpected JPEG decode failure\t file: /Users/st21235/Project/Jupyter/kagglecatsanddogs_3367a/PetImages/Dog/7739.jpg"
      ]
     },
     "metadata": {},
     "output_type": "display_data"
    },
    {
     "data": {
      "text/html": [
       "<pre>Unexpected JPEG decode failure\t file: /Users/st21235/Project/Jupyter/kagglecatsanddogs_3367a/PetImages/Dog/7743.jpg</pre>"
      ],
      "text/plain": [
       "Unexpected JPEG decode failure\t file: /Users/st21235/Project/Jupyter/kagglecatsanddogs_3367a/PetImages/Dog/7743.jpg"
      ]
     },
     "metadata": {},
     "output_type": "display_data"
    },
    {
     "data": {
      "text/html": [
       "<pre>Unexpected JPEG decode failure\t file: /Users/st21235/Project/Jupyter/kagglecatsanddogs_3367a/PetImages/Dog/7969.jpg</pre>"
      ],
      "text/plain": [
       "Unexpected JPEG decode failure\t file: /Users/st21235/Project/Jupyter/kagglecatsanddogs_3367a/PetImages/Dog/7969.jpg"
      ]
     },
     "metadata": {},
     "output_type": "display_data"
    },
    {
     "data": {
      "text/html": [
       "<pre>Unexpected JPEG decode failure\t file: /Users/st21235/Project/Jupyter/kagglecatsanddogs_3367a/PetImages/Dog/8126.jpg</pre>"
      ],
      "text/plain": [
       "Unexpected JPEG decode failure\t file: /Users/st21235/Project/Jupyter/kagglecatsanddogs_3367a/PetImages/Dog/8126.jpg"
      ]
     },
     "metadata": {},
     "output_type": "display_data"
    },
    {
     "data": {
      "text/html": [
       "<pre>Unexpected JPEG decode failure\t file: /Users/st21235/Project/Jupyter/kagglecatsanddogs_3367a/PetImages/Dog/8194.jpg</pre>"
      ],
      "text/plain": [
       "Unexpected JPEG decode failure\t file: /Users/st21235/Project/Jupyter/kagglecatsanddogs_3367a/PetImages/Dog/8194.jpg"
      ]
     },
     "metadata": {},
     "output_type": "display_data"
    },
    {
     "data": {
      "text/html": [
       "<pre>Unexpected JPEG decode failure\t file: /Users/st21235/Project/Jupyter/kagglecatsanddogs_3367a/PetImages/Dog/8364.jpg</pre>"
      ],
      "text/plain": [
       "Unexpected JPEG decode failure\t file: /Users/st21235/Project/Jupyter/kagglecatsanddogs_3367a/PetImages/Dog/8364.jpg"
      ]
     },
     "metadata": {},
     "output_type": "display_data"
    },
    {
     "data": {
      "text/html": [
       "<pre>Unexpected JPEG decode failure\t file: /Users/st21235/Project/Jupyter/kagglecatsanddogs_3367a/PetImages/Dog/8521.jpg</pre>"
      ],
      "text/plain": [
       "Unexpected JPEG decode failure\t file: /Users/st21235/Project/Jupyter/kagglecatsanddogs_3367a/PetImages/Dog/8521.jpg"
      ]
     },
     "metadata": {},
     "output_type": "display_data"
    },
    {
     "data": {
      "text/html": [
       "<pre>Unexpected JPEG decode failure\t file: /Users/st21235/Project/Jupyter/kagglecatsanddogs_3367a/PetImages/Dog/8557.jpg</pre>"
      ],
      "text/plain": [
       "Unexpected JPEG decode failure\t file: /Users/st21235/Project/Jupyter/kagglecatsanddogs_3367a/PetImages/Dog/8557.jpg"
      ]
     },
     "metadata": {},
     "output_type": "display_data"
    },
    {
     "data": {
      "text/html": [
       "<pre>Unexpected JPEG decode failure\t file: /Users/st21235/Project/Jupyter/kagglecatsanddogs_3367a/PetImages/Dog/8563.jpg</pre>"
      ],
      "text/plain": [
       "Unexpected JPEG decode failure\t file: /Users/st21235/Project/Jupyter/kagglecatsanddogs_3367a/PetImages/Dog/8563.jpg"
      ]
     },
     "metadata": {},
     "output_type": "display_data"
    },
    {
     "data": {
      "text/html": [
       "<pre>Unexpected JPEG decode failure\t file: /Users/st21235/Project/Jupyter/kagglecatsanddogs_3367a/PetImages/Dog/8641.jpg</pre>"
      ],
      "text/plain": [
       "Unexpected JPEG decode failure\t file: /Users/st21235/Project/Jupyter/kagglecatsanddogs_3367a/PetImages/Dog/8641.jpg"
      ]
     },
     "metadata": {},
     "output_type": "display_data"
    },
    {
     "data": {
      "text/html": [
       "<pre>Unexpected JPEG decode failure\t file: /Users/st21235/Project/Jupyter/kagglecatsanddogs_3367a/PetImages/Dog/8693.jpg</pre>"
      ],
      "text/plain": [
       "Unexpected JPEG decode failure\t file: /Users/st21235/Project/Jupyter/kagglecatsanddogs_3367a/PetImages/Dog/8693.jpg"
      ]
     },
     "metadata": {},
     "output_type": "display_data"
    },
    {
     "data": {
      "text/html": [
       "<pre>Unexpected JPEG decode failure\t file: /Users/st21235/Project/Jupyter/kagglecatsanddogs_3367a/PetImages/Dog/8715.jpg</pre>"
      ],
      "text/plain": [
       "Unexpected JPEG decode failure\t file: /Users/st21235/Project/Jupyter/kagglecatsanddogs_3367a/PetImages/Dog/8715.jpg"
      ]
     },
     "metadata": {},
     "output_type": "display_data"
    },
    {
     "data": {
      "text/html": [
       "<pre>Unexpected JPEG decode failure\t file: /Users/st21235/Project/Jupyter/kagglecatsanddogs_3367a/PetImages/Dog/8730.jpg</pre>"
      ],
      "text/plain": [
       "Unexpected JPEG decode failure\t file: /Users/st21235/Project/Jupyter/kagglecatsanddogs_3367a/PetImages/Dog/8730.jpg"
      ]
     },
     "metadata": {},
     "output_type": "display_data"
    },
    {
     "data": {
      "text/html": [
       "<pre>Unexpected JPEG decode failure\t file: /Users/st21235/Project/Jupyter/kagglecatsanddogs_3367a/PetImages/Dog/8889.jpg</pre>"
      ],
      "text/plain": [
       "Unexpected JPEG decode failure\t file: /Users/st21235/Project/Jupyter/kagglecatsanddogs_3367a/PetImages/Dog/8889.jpg"
      ]
     },
     "metadata": {},
     "output_type": "display_data"
    },
    {
     "data": {
      "text/html": [
       "<pre>Unexpected JPEG decode failure\t file: /Users/st21235/Project/Jupyter/kagglecatsanddogs_3367a/PetImages/Dog/9026.jpg</pre>"
      ],
      "text/plain": [
       "Unexpected JPEG decode failure\t file: /Users/st21235/Project/Jupyter/kagglecatsanddogs_3367a/PetImages/Dog/9026.jpg"
      ]
     },
     "metadata": {},
     "output_type": "display_data"
    },
    {
     "data": {
      "text/html": [
       "<pre>Unexpected JPEG decode failure\t file: /Users/st21235/Project/Jupyter/kagglecatsanddogs_3367a/PetImages/Dog/9043.jpg</pre>"
      ],
      "text/plain": [
       "Unexpected JPEG decode failure\t file: /Users/st21235/Project/Jupyter/kagglecatsanddogs_3367a/PetImages/Dog/9043.jpg"
      ]
     },
     "metadata": {},
     "output_type": "display_data"
    },
    {
     "data": {
      "text/html": [
       "<pre>Unexpected JPEG decode failure\t file: /Users/st21235/Project/Jupyter/kagglecatsanddogs_3367a/PetImages/Dog/9145.jpg</pre>"
      ],
      "text/plain": [
       "Unexpected JPEG decode failure\t file: /Users/st21235/Project/Jupyter/kagglecatsanddogs_3367a/PetImages/Dog/9145.jpg"
      ]
     },
     "metadata": {},
     "output_type": "display_data"
    },
    {
     "data": {
      "text/html": [
       "<pre>Unexpected JPEG decode failure\t file: /Users/st21235/Project/Jupyter/kagglecatsanddogs_3367a/PetImages/Dog/9188.jpg</pre>"
      ],
      "text/plain": [
       "Unexpected JPEG decode failure\t file: /Users/st21235/Project/Jupyter/kagglecatsanddogs_3367a/PetImages/Dog/9188.jpg"
      ]
     },
     "metadata": {},
     "output_type": "display_data"
    },
    {
     "data": {
      "text/html": [
       "<pre>Unexpected JPEG decode failure\t file: /Users/st21235/Project/Jupyter/kagglecatsanddogs_3367a/PetImages/Dog/9367.jpg</pre>"
      ],
      "text/plain": [
       "Unexpected JPEG decode failure\t file: /Users/st21235/Project/Jupyter/kagglecatsanddogs_3367a/PetImages/Dog/9367.jpg"
      ]
     },
     "metadata": {},
     "output_type": "display_data"
    },
    {
     "data": {
      "text/html": [
       "<pre>Unexpected JPEG decode failure\t file: /Users/st21235/Project/Jupyter/kagglecatsanddogs_3367a/PetImages/Dog/9414.jpg</pre>"
      ],
      "text/plain": [
       "Unexpected JPEG decode failure\t file: /Users/st21235/Project/Jupyter/kagglecatsanddogs_3367a/PetImages/Dog/9414.jpg"
      ]
     },
     "metadata": {},
     "output_type": "display_data"
    },
    {
     "data": {
      "text/html": [
       "<pre>Unexpected JPEG decode failure\t file: /Users/st21235/Project/Jupyter/kagglecatsanddogs_3367a/PetImages/Dog/9500.jpg</pre>"
      ],
      "text/plain": [
       "Unexpected JPEG decode failure\t file: /Users/st21235/Project/Jupyter/kagglecatsanddogs_3367a/PetImages/Dog/9500.jpg"
      ]
     },
     "metadata": {},
     "output_type": "display_data"
    },
    {
     "data": {
      "text/html": [
       "<pre>Unexpected JPEG decode failure\t file: /Users/st21235/Project/Jupyter/kagglecatsanddogs_3367a/PetImages/Dog/9556.jpg</pre>"
      ],
      "text/plain": [
       "Unexpected JPEG decode failure\t file: /Users/st21235/Project/Jupyter/kagglecatsanddogs_3367a/PetImages/Dog/9556.jpg"
      ]
     },
     "metadata": {},
     "output_type": "display_data"
    },
    {
     "data": {
      "text/html": [
       "<pre>Unexpected JPEG decode failure\t file: /Users/st21235/Project/Jupyter/kagglecatsanddogs_3367a/PetImages/Dog/9640.jpg</pre>"
      ],
      "text/plain": [
       "Unexpected JPEG decode failure\t file: /Users/st21235/Project/Jupyter/kagglecatsanddogs_3367a/PetImages/Dog/9640.jpg"
      ]
     },
     "metadata": {},
     "output_type": "display_data"
    },
    {
     "data": {
      "text/html": [
       "<pre>Unexpected JPEG decode failure\t file: /Users/st21235/Project/Jupyter/kagglecatsanddogs_3367a/PetImages/Dog/9643.jpg</pre>"
      ],
      "text/plain": [
       "Unexpected JPEG decode failure\t file: /Users/st21235/Project/Jupyter/kagglecatsanddogs_3367a/PetImages/Dog/9643.jpg"
      ]
     },
     "metadata": {},
     "output_type": "display_data"
    },
    {
     "data": {
      "text/html": [
       "<pre>Unexpected JPEG decode failure\t file: /Users/st21235/Project/Jupyter/kagglecatsanddogs_3367a/PetImages/Dog/9851.jpg</pre>"
      ],
      "text/plain": [
       "Unexpected JPEG decode failure\t file: /Users/st21235/Project/Jupyter/kagglecatsanddogs_3367a/PetImages/Dog/9851.jpg"
      ]
     },
     "metadata": {},
     "output_type": "display_data"
    },
    {
     "data": {
      "text/html": [
       "<pre>Unexpected JPEG decode failure\t file: /Users/st21235/Project/Jupyter/kagglecatsanddogs_3367a/PetImages/Dog/9961.jpg</pre>"
      ],
      "text/plain": [
       "Unexpected JPEG decode failure\t file: /Users/st21235/Project/Jupyter/kagglecatsanddogs_3367a/PetImages/Dog/9961.jpg"
      ]
     },
     "metadata": {},
     "output_type": "display_data"
    },
    {
     "data": {
      "text/html": [
       "<pre>Unexpected JPEG decode failure\t file: /Users/st21235/Project/Jupyter/kagglecatsanddogs_3367a/PetImages/Dog/9967.jpg</pre>"
      ],
      "text/plain": [
       "Unexpected JPEG decode failure\t file: /Users/st21235/Project/Jupyter/kagglecatsanddogs_3367a/PetImages/Dog/9967.jpg"
      ]
     },
     "metadata": {},
     "output_type": "display_data"
    },
    {
     "data": {
      "text/html": [
       "<pre>Unsupported image format. Supported formats are JPEG and PNG\t file: /Users/st21235/Project/Jupyter/kagglecatsanddogs_3367a/PetImages/Dog/Thumbs.db</pre>"
      ],
      "text/plain": [
       "Unsupported image format. Supported formats are JPEG and PNG\t file: /Users/st21235/Project/Jupyter/kagglecatsanddogs_3367a/PetImages/Dog/Thumbs.db"
      ]
     },
     "metadata": {},
     "output_type": "display_data"
    }
   ],
   "source": [
    "data = tc.image_analysis.load_images('kagglecatsanddogs_3367a/PetImages', with_path=True)"
   ]
  },
  {
   "cell_type": "code",
   "execution_count": 4,
   "metadata": {},
   "outputs": [
    {
     "data": {
      "text/html": [
       "<div style=\"max-height:1000px;max-width:1500px;overflow:auto;\"><table frame=\"box\" rules=\"cols\">\n",
       "    <tr>\n",
       "        <th style=\"padding-left: 1em; padding-right: 1em; text-align: center\">path</th>\n",
       "        <th style=\"padding-left: 1em; padding-right: 1em; text-align: center\">image</th>\n",
       "    </tr>\n",
       "    <tr>\n",
       "        <td style=\"padding-left: 1em; padding-right: 1em; text-align: center; vertical-align: top\">/Users/st21235/Project/Ju<br>pyter/kagglecatsanddo ...</td>\n",
       "        <td style=\"padding-left: 1em; padding-right: 1em; text-align: center; vertical-align: top\">Height: 375 Width: 500</td>\n",
       "    </tr>\n",
       "    <tr>\n",
       "        <td style=\"padding-left: 1em; padding-right: 1em; text-align: center; vertical-align: top\">/Users/st21235/Project/Ju<br>pyter/kagglecatsanddo ...</td>\n",
       "        <td style=\"padding-left: 1em; padding-right: 1em; text-align: center; vertical-align: top\">Height: 281 Width: 300</td>\n",
       "    </tr>\n",
       "    <tr>\n",
       "        <td style=\"padding-left: 1em; padding-right: 1em; text-align: center; vertical-align: top\">/Users/st21235/Project/Ju<br>pyter/kagglecatsanddo ...</td>\n",
       "        <td style=\"padding-left: 1em; padding-right: 1em; text-align: center; vertical-align: top\">Height: 500 Width: 489</td>\n",
       "    </tr>\n",
       "    <tr>\n",
       "        <td style=\"padding-left: 1em; padding-right: 1em; text-align: center; vertical-align: top\">/Users/st21235/Project/Ju<br>pyter/kagglecatsanddo ...</td>\n",
       "        <td style=\"padding-left: 1em; padding-right: 1em; text-align: center; vertical-align: top\">Height: 500 Width: 403</td>\n",
       "    </tr>\n",
       "    <tr>\n",
       "        <td style=\"padding-left: 1em; padding-right: 1em; text-align: center; vertical-align: top\">/Users/st21235/Project/Ju<br>pyter/kagglecatsanddo ...</td>\n",
       "        <td style=\"padding-left: 1em; padding-right: 1em; text-align: center; vertical-align: top\">Height: 150 Width: 150</td>\n",
       "    </tr>\n",
       "    <tr>\n",
       "        <td style=\"padding-left: 1em; padding-right: 1em; text-align: center; vertical-align: top\">/Users/st21235/Project/Ju<br>pyter/kagglecatsanddo ...</td>\n",
       "        <td style=\"padding-left: 1em; padding-right: 1em; text-align: center; vertical-align: top\">Height: 360 Width: 431</td>\n",
       "    </tr>\n",
       "    <tr>\n",
       "        <td style=\"padding-left: 1em; padding-right: 1em; text-align: center; vertical-align: top\">/Users/st21235/Project/Ju<br>pyter/kagglecatsanddo ...</td>\n",
       "        <td style=\"padding-left: 1em; padding-right: 1em; text-align: center; vertical-align: top\">Height: 375 Width: 500</td>\n",
       "    </tr>\n",
       "    <tr>\n",
       "        <td style=\"padding-left: 1em; padding-right: 1em; text-align: center; vertical-align: top\">/Users/st21235/Project/Ju<br>pyter/kagglecatsanddo ...</td>\n",
       "        <td style=\"padding-left: 1em; padding-right: 1em; text-align: center; vertical-align: top\">Height: 471 Width: 500</td>\n",
       "    </tr>\n",
       "    <tr>\n",
       "        <td style=\"padding-left: 1em; padding-right: 1em; text-align: center; vertical-align: top\">/Users/st21235/Project/Ju<br>pyter/kagglecatsanddo ...</td>\n",
       "        <td style=\"padding-left: 1em; padding-right: 1em; text-align: center; vertical-align: top\">Height: 375 Width: 500</td>\n",
       "    </tr>\n",
       "    <tr>\n",
       "        <td style=\"padding-left: 1em; padding-right: 1em; text-align: center; vertical-align: top\">/Users/st21235/Project/Ju<br>pyter/kagglecatsanddo ...</td>\n",
       "        <td style=\"padding-left: 1em; padding-right: 1em; text-align: center; vertical-align: top\">Height: 240 Width: 320</td>\n",
       "    </tr>\n",
       "</table>\n",
       "[24769 rows x 2 columns]<br/>Note: Only the head of the SFrame is printed.<br/>You can use print_rows(num_rows=m, num_columns=n) to print more rows and columns.\n",
       "</div>"
      ],
      "text/plain": [
       "Columns:\n",
       "\tpath\tstr\n",
       "\timage\tImage\n",
       "\n",
       "Rows: 24769\n",
       "\n",
       "Data:\n",
       "+-------------------------------+------------------------+\n",
       "|              path             |         image          |\n",
       "+-------------------------------+------------------------+\n",
       "| /Users/st21235/Project/Jup... | Height: 375 Width: 500 |\n",
       "| /Users/st21235/Project/Jup... | Height: 281 Width: 300 |\n",
       "| /Users/st21235/Project/Jup... | Height: 500 Width: 489 |\n",
       "| /Users/st21235/Project/Jup... | Height: 500 Width: 403 |\n",
       "| /Users/st21235/Project/Jup... | Height: 150 Width: 150 |\n",
       "| /Users/st21235/Project/Jup... | Height: 360 Width: 431 |\n",
       "| /Users/st21235/Project/Jup... | Height: 375 Width: 500 |\n",
       "| /Users/st21235/Project/Jup... | Height: 471 Width: 500 |\n",
       "| /Users/st21235/Project/Jup... | Height: 375 Width: 500 |\n",
       "| /Users/st21235/Project/Jup... | Height: 240 Width: 320 |\n",
       "+-------------------------------+------------------------+\n",
       "[24769 rows x 2 columns]\n",
       "Note: Only the head of the SFrame is printed.\n",
       "You can use print_rows(num_rows=m, num_columns=n) to print more rows and columns."
      ]
     },
     "execution_count": 4,
     "metadata": {},
     "output_type": "execute_result"
    }
   ],
   "source": [
    "data"
   ]
  },
  {
   "cell_type": "code",
   "execution_count": 3,
   "metadata": {
    "collapsed": true
   },
   "outputs": [],
   "source": [
    "data['label'] = data['path'].apply(lambda path: 'dog' if '/Dog' in path else 'cat')"
   ]
  },
  {
   "cell_type": "code",
   "execution_count": 17,
   "metadata": {},
   "outputs": [
    {
     "data": {
      "text/plain": [
       "dtype: str\n",
       "Rows: 24769\n",
       "['cat', 'cat', 'cat', 'cat', 'cat', 'cat', 'cat', 'cat', 'cat', 'cat', 'cat', 'cat', 'cat', 'cat', 'cat', 'cat', 'cat', 'cat', 'cat', 'cat', 'cat', 'cat', 'cat', 'cat', 'cat', 'cat', 'cat', 'cat', 'cat', 'cat', 'cat', 'cat', 'cat', 'cat', 'cat', 'cat', 'cat', 'cat', 'cat', 'cat', 'cat', 'cat', 'cat', 'cat', 'cat', 'cat', 'cat', 'cat', 'cat', 'cat', 'cat', 'cat', 'cat', 'cat', 'cat', 'cat', 'cat', 'cat', 'cat', 'cat', 'cat', 'cat', 'cat', 'cat', 'cat', 'cat', 'cat', 'cat', 'cat', 'cat', 'cat', 'cat', 'cat', 'cat', 'cat', 'cat', 'cat', 'cat', 'cat', 'cat', 'cat', 'cat', 'cat', 'cat', 'cat', 'cat', 'cat', 'cat', 'cat', 'cat', 'cat', 'cat', 'cat', 'cat', 'cat', 'cat', 'cat', 'cat', 'cat', 'cat', ... ]"
      ]
     },
     "execution_count": 17,
     "metadata": {},
     "output_type": "execute_result"
    }
   ],
   "source": [
    "data['label']"
   ]
  },
  {
   "cell_type": "markdown",
   "metadata": {},
   "source": [
    "**Save the data for future use**"
   ]
  },
  {
   "cell_type": "code",
   "execution_count": 4,
   "metadata": {
    "collapsed": true
   },
   "outputs": [],
   "source": [
    "data.save('cats-dogs.sframe')"
   ]
  },
  {
   "cell_type": "markdown",
   "metadata": {},
   "source": [
    "**Explore interactively**"
   ]
  },
  {
   "cell_type": "code",
   "execution_count": 5,
   "metadata": {},
   "outputs": [
    {
     "data": {
      "text/html": [
       "<pre>Materializing SFrame...</pre>"
      ],
      "text/plain": [
       "Materializing SFrame..."
      ]
     },
     "metadata": {},
     "output_type": "display_data"
    },
    {
     "data": {
      "text/html": [
       "<pre>Done.</pre>"
      ],
      "text/plain": [
       "Done."
      ]
     },
     "metadata": {},
     "output_type": "display_data"
    }
   ],
   "source": [
    "data.explore()"
   ]
  },
  {
   "cell_type": "markdown",
   "metadata": {},
   "source": [
    "# Predict the picture"
   ]
  },
  {
   "cell_type": "markdown",
   "metadata": {},
   "source": [
    "**Load the data from SFrame**"
   ]
  },
  {
   "cell_type": "code",
   "execution_count": 3,
   "metadata": {
    "collapsed": true
   },
   "outputs": [],
   "source": [
    "data = tc.SFrame('cats-dogs.sframe')"
   ]
  },
  {
   "cell_type": "code",
   "execution_count": 4,
   "metadata": {
    "collapsed": true
   },
   "outputs": [],
   "source": [
    "train_data, test_data = data.random_split(0.8)"
   ]
  },
  {
   "cell_type": "markdown",
   "metadata": {},
   "source": [
    "**Create a model**"
   ]
  },
  {
   "cell_type": "code",
   "execution_count": null,
   "metadata": {},
   "outputs": [
    {
     "name": "stdout",
     "output_type": "stream",
     "text": [
      "Resizing images...\n",
      "Performing feature extraction on resized images...\n",
      "Completed   512/19921\n"
     ]
    }
   ],
   "source": [
    "model = tc.image_classifier.create(train_data, target='label')"
   ]
  },
  {
   "cell_type": "code",
   "execution_count": 8,
   "metadata": {},
   "outputs": [
    {
     "data": {
      "text/plain": [
       "Class                                    : ImageClassifier\n",
       "\n",
       "Schema\n",
       "------\n",
       "Number of classes                        : 2\n",
       "Number of feature columns                : 1\n",
       "Input image shape                        : (3, 224, 224)\n",
       "\n",
       "Training summary\n",
       "----------------\n",
       "Number of examples                       : 18890\n",
       "Training loss                            : 1148.9883\n",
       "Training time (sec)                      : 59851.7705"
      ]
     },
     "execution_count": 8,
     "metadata": {},
     "output_type": "execute_result"
    }
   ],
   "source": [
    "model"
   ]
  },
  {
   "cell_type": "code",
   "execution_count": 9,
   "metadata": {
    "collapsed": true
   },
   "outputs": [],
   "source": [
    "predictions = model.predict(test_data)"
   ]
  },
  {
   "cell_type": "code",
   "execution_count": 10,
   "metadata": {},
   "outputs": [
    {
     "data": {
      "text/plain": [
       "dtype: str\n",
       "Rows: 4929\n",
       "['cat', 'cat', 'cat', 'cat', 'cat', 'cat', 'cat', 'cat', 'cat', 'cat', 'cat', 'cat', 'cat', 'cat', 'cat', 'cat', 'cat', 'cat', 'cat', 'cat', 'cat', 'cat', 'cat', 'cat', 'cat', 'cat', 'cat', 'cat', 'cat', 'cat', 'cat', 'cat', 'cat', 'cat', 'cat', 'cat', 'cat', 'cat', 'cat', 'cat', 'cat', 'cat', 'cat', 'cat', 'cat', 'cat', 'cat', 'cat', 'cat', 'cat', 'cat', 'cat', 'cat', 'cat', 'cat', 'cat', 'cat', 'cat', 'cat', 'cat', 'cat', 'cat', 'cat', 'cat', 'cat', 'cat', 'cat', 'cat', 'cat', 'cat', 'cat', 'cat', 'cat', 'cat', 'cat', 'cat', 'cat', 'cat', 'cat', 'cat', 'cat', 'cat', 'cat', 'cat', 'cat', 'cat', 'cat', 'cat', 'cat', 'cat', 'cat', 'cat', 'cat', 'cat', 'cat', 'cat', 'cat', 'cat', 'cat', 'cat', ... ]"
      ]
     },
     "execution_count": 10,
     "metadata": {},
     "output_type": "execute_result"
    }
   ],
   "source": [
    "predictions"
   ]
  },
  {
   "cell_type": "markdown",
   "metadata": {},
   "source": [
    "**Evaluate the model and save the results**"
   ]
  },
  {
   "cell_type": "code",
   "execution_count": 11,
   "metadata": {},
   "outputs": [
    {
     "name": "stdout",
     "output_type": "stream",
     "text": [
      "Resizing images...\n",
      "Performing feature extraction on resized images...\n",
      "Completed  512/4929\n",
      "Completed 1024/4929\n",
      "Completed 1536/4929\n",
      "Completed 2048/4929\n",
      "Completed 2560/4929\n",
      "Completed 3072/4929\n",
      "Completed 3584/4929\n",
      "Completed 4096/4929\n",
      "Completed 4608/4929\n",
      "Completed 4929/4929\n"
     ]
    }
   ],
   "source": [
    "metrics = model.evaluate(test_data)"
   ]
  },
  {
   "cell_type": "code",
   "execution_count": 12,
   "metadata": {},
   "outputs": [
    {
     "data": {
      "text/plain": [
       "{'accuracy': 0.9896530736457699,\n",
       " 'auc': 0.9981976679092198,\n",
       " 'confusion_matrix': Columns:\n",
       " \ttarget_label\tstr\n",
       " \tpredicted_label\tstr\n",
       " \tcount\tint\n",
       " \n",
       " Rows: 4\n",
       " \n",
       " Data:\n",
       " +--------------+-----------------+-------+\n",
       " | target_label | predicted_label | count |\n",
       " +--------------+-----------------+-------+\n",
       " |     cat      |       dog       |   23  |\n",
       " |     cat      |       cat       |  2457 |\n",
       " |     dog      |       cat       |   28  |\n",
       " |     dog      |       dog       |  2421 |\n",
       " +--------------+-----------------+-------+\n",
       " [4 rows x 3 columns],\n",
       " 'f1_score': 0.9895769466584917,\n",
       " 'log_loss': 0.06729223600143007,\n",
       " 'precision': 0.9905891980360065,\n",
       " 'recall': 0.9885667619436505,\n",
       " 'roc_curve': Columns:\n",
       " \tthreshold\tfloat\n",
       " \tfpr\tfloat\n",
       " \ttpr\tfloat\n",
       " \tp\tint\n",
       " \tn\tint\n",
       " \n",
       " Rows: 100001\n",
       " \n",
       " Data:\n",
       " +-----------+----------------------+--------------------+------+------+\n",
       " | threshold |         fpr          |        tpr         |  p   |  n   |\n",
       " +-----------+----------------------+--------------------+------+------+\n",
       " |    0.0    |         1.0          |        1.0         | 2449 | 2480 |\n",
       " |   1e-05   | 0.03790322580645161  | 0.9987750102082482 | 2449 | 2480 |\n",
       " |   2e-05   | 0.036290322580645164 | 0.9983666802776644 | 2449 | 2480 |\n",
       " |   3e-05   | 0.03508064516129032  | 0.9983666802776644 | 2449 | 2480 |\n",
       " |   4e-05   | 0.03306451612903226  | 0.9983666802776644 | 2449 | 2480 |\n",
       " |   5e-05   | 0.031451612903225803 | 0.9979583503470805 | 2449 | 2480 |\n",
       " |   6e-05   | 0.031048387096774193 | 0.9979583503470805 | 2449 | 2480 |\n",
       " |   7e-05   | 0.02903225806451613  | 0.9979583503470805 | 2449 | 2480 |\n",
       " |   8e-05   | 0.02903225806451613  | 0.9979583503470805 | 2449 | 2480 |\n",
       " |   9e-05   | 0.02903225806451613  | 0.9979583503470805 | 2449 | 2480 |\n",
       " +-----------+----------------------+--------------------+------+------+\n",
       " [100001 rows x 5 columns]\n",
       " Note: Only the head of the SFrame is printed.\n",
       " You can use print_rows(num_rows=m, num_columns=n) to print more rows and columns.}"
      ]
     },
     "execution_count": 12,
     "metadata": {},
     "output_type": "execute_result"
    }
   ],
   "source": [
    "metrics"
   ]
  },
  {
   "cell_type": "code",
   "execution_count": 13,
   "metadata": {},
   "outputs": [
    {
     "name": "stdout",
     "output_type": "stream",
     "text": [
      "0.9896530736457699\n"
     ]
    }
   ],
   "source": [
    "print(metrics['accuracy'])"
   ]
  },
  {
   "cell_type": "code",
   "execution_count": 14,
   "metadata": {
    "collapsed": true
   },
   "outputs": [],
   "source": [
    "model.save('mymodel.model')"
   ]
  },
  {
   "cell_type": "markdown",
   "metadata": {},
   "source": [
    "**Export for use in Core ML**"
   ]
  },
  {
   "cell_type": "code",
   "execution_count": 15,
   "metadata": {
    "collapsed": true
   },
   "outputs": [],
   "source": [
    "model.export_coreml('MyCustomImageClassifier.mlmodel')"
   ]
  },
  {
   "cell_type": "markdown",
   "metadata": {},
   "source": [
    "**Predictions for some raw data**"
   ]
  },
  {
   "cell_type": "code",
   "execution_count": 17,
   "metadata": {
    "collapsed": true
   },
   "outputs": [],
   "source": [
    "new_cats_dogs = tc.image_analysis.load_images('newcatsdogs')"
   ]
  },
  {
   "cell_type": "code",
   "execution_count": 18,
   "metadata": {},
   "outputs": [
    {
     "data": {
      "text/html": [
       "<div style=\"max-height:1000px;max-width:1500px;overflow:auto;\"><table frame=\"box\" rules=\"cols\">\n",
       "    <tr>\n",
       "        <th style=\"padding-left: 1em; padding-right: 1em; text-align: center\">path</th>\n",
       "        <th style=\"padding-left: 1em; padding-right: 1em; text-align: center\">image</th>\n",
       "    </tr>\n",
       "    <tr>\n",
       "        <td style=\"padding-left: 1em; padding-right: 1em; text-align: center; vertical-align: top\">/Users/st21235/Project/Ju<br>pyter/newcatsdogs/dow ...</td>\n",
       "        <td style=\"padding-left: 1em; padding-right: 1em; text-align: center; vertical-align: top\">Height: 119 Width: 190</td>\n",
       "    </tr>\n",
       "    <tr>\n",
       "        <td style=\"padding-left: 1em; padding-right: 1em; text-align: center; vertical-align: top\">/Users/st21235/Project/Ju<br>pyter/newcatsdogs/dow ...</td>\n",
       "        <td style=\"padding-left: 1em; padding-right: 1em; text-align: center; vertical-align: top\">Height: 121 Width: 119</td>\n",
       "    </tr>\n",
       "    <tr>\n",
       "        <td style=\"padding-left: 1em; padding-right: 1em; text-align: center; vertical-align: top\">/Users/st21235/Project/Ju<br>pyter/newcatsdogs/dow ...</td>\n",
       "        <td style=\"padding-left: 1em; padding-right: 1em; text-align: center; vertical-align: top\">Height: 119 Width: 159</td>\n",
       "    </tr>\n",
       "    <tr>\n",
       "        <td style=\"padding-left: 1em; padding-right: 1em; text-align: center; vertical-align: top\">/Users/st21235/Project/Ju<br>pyter/newcatsdogs/dow ...</td>\n",
       "        <td style=\"padding-left: 1em; padding-right: 1em; text-align: center; vertical-align: top\">Height: 125 Width: 160</td>\n",
       "    </tr>\n",
       "    <tr>\n",
       "        <td style=\"padding-left: 1em; padding-right: 1em; text-align: center; vertical-align: top\">/Users/st21235/Project/Ju<br>pyter/newcatsdogs/dow ...</td>\n",
       "        <td style=\"padding-left: 1em; padding-right: 1em; text-align: center; vertical-align: top\">Height: 125 Width: 167</td>\n",
       "    </tr>\n",
       "    <tr>\n",
       "        <td style=\"padding-left: 1em; padding-right: 1em; text-align: center; vertical-align: top\">/Users/st21235/Project/Ju<br>pyter/newcatsdogs/dow ...</td>\n",
       "        <td style=\"padding-left: 1em; padding-right: 1em; text-align: center; vertical-align: top\">Height: 118 Width: 206</td>\n",
       "    </tr>\n",
       "    <tr>\n",
       "        <td style=\"padding-left: 1em; padding-right: 1em; text-align: center; vertical-align: top\">/Users/st21235/Project/Ju<br>pyter/newcatsdogs/dow ...</td>\n",
       "        <td style=\"padding-left: 1em; padding-right: 1em; text-align: center; vertical-align: top\">Height: 119 Width: 159</td>\n",
       "    </tr>\n",
       "    <tr>\n",
       "        <td style=\"padding-left: 1em; padding-right: 1em; text-align: center; vertical-align: top\">/Users/st21235/Project/Ju<br>pyter/newcatsdogs/dow ...</td>\n",
       "        <td style=\"padding-left: 1em; padding-right: 1em; text-align: center; vertical-align: top\">Height: 121 Width: 182</td>\n",
       "    </tr>\n",
       "</table>\n",
       "[8 rows x 2 columns]<br/>\n",
       "</div>"
      ],
      "text/plain": [
       "Columns:\n",
       "\tpath\tstr\n",
       "\timage\tImage\n",
       "\n",
       "Rows: 8\n",
       "\n",
       "Data:\n",
       "+-------------------------------+------------------------+\n",
       "|              path             |         image          |\n",
       "+-------------------------------+------------------------+\n",
       "| /Users/st21235/Project/Jup... | Height: 119 Width: 190 |\n",
       "| /Users/st21235/Project/Jup... | Height: 121 Width: 119 |\n",
       "| /Users/st21235/Project/Jup... | Height: 119 Width: 159 |\n",
       "| /Users/st21235/Project/Jup... | Height: 125 Width: 160 |\n",
       "| /Users/st21235/Project/Jup... | Height: 125 Width: 167 |\n",
       "| /Users/st21235/Project/Jup... | Height: 118 Width: 206 |\n",
       "| /Users/st21235/Project/Jup... | Height: 119 Width: 159 |\n",
       "| /Users/st21235/Project/Jup... | Height: 121 Width: 182 |\n",
       "+-------------------------------+------------------------+\n",
       "[8 rows x 2 columns]"
      ]
     },
     "execution_count": 18,
     "metadata": {},
     "output_type": "execute_result"
    }
   ],
   "source": [
    "new_cats_dogs"
   ]
  },
  {
   "cell_type": "code",
   "execution_count": 19,
   "metadata": {
    "collapsed": true
   },
   "outputs": [],
   "source": [
    "new_cats_dogs['predictions'] = model.predict(new_cats_dogs)"
   ]
  },
  {
   "cell_type": "code",
   "execution_count": 20,
   "metadata": {},
   "outputs": [
    {
     "data": {
      "text/plain": [
       "dtype: str\n",
       "Rows: 8\n",
       "['cat', 'cat', 'cat', 'dog', 'dog', 'dog', 'dog', 'cat']"
      ]
     },
     "execution_count": 20,
     "metadata": {},
     "output_type": "execute_result"
    }
   ],
   "source": [
    "new_cats_dogs['predictions'] "
   ]
  },
  {
   "cell_type": "code",
   "execution_count": 21,
   "metadata": {},
   "outputs": [
    {
     "data": {
      "text/html": [
       "<pre>Materializing SFrame...</pre>"
      ],
      "text/plain": [
       "Materializing SFrame..."
      ]
     },
     "metadata": {},
     "output_type": "display_data"
    },
    {
     "data": {
      "text/html": [
       "<pre>Done.</pre>"
      ],
      "text/plain": [
       "Done."
      ]
     },
     "metadata": {},
     "output_type": "display_data"
    }
   ],
   "source": [
    "new_cats_dogs.explore()"
   ]
  },
  {
   "cell_type": "markdown",
   "metadata": {},
   "source": [
    "# Advanced Usage"
   ]
  },
  {
   "cell_type": "markdown",
   "metadata": {},
   "source": [
    "## Pre-trained models"
   ]
  },
  {
   "cell_type": "markdown",
   "metadata": {},
   "source": [
    "The image classifier toolkit is based on a technique known as transfer learning. \n",
    "The advanced options let you select from a set of pre-trained models which can result in a model having various size, performance, and accuracy characteristics."
   ]
  },
  {
   "cell_type": "markdown",
   "metadata": {},
   "source": [
    "Like following option, you can change to use [squeezenet](https://apple.github.io/turicreate/docs/api/generated/turicreate.image_classifier.create.html) which can trade off some accuracy for a smaller model with a lower memory and disk foot-print."
   ]
  },
  {
   "cell_type": "code",
   "execution_count": 1,
   "metadata": {},
   "outputs": [
    {
     "ename": "NameError",
     "evalue": "name 'tc' is not defined",
     "output_type": "error",
     "traceback": [
      "\u001b[0;31m---------------------------------------------------------------------------\u001b[0m",
      "\u001b[0;31mNameError\u001b[0m                                 Traceback (most recent call last)",
      "\u001b[0;32m<ipython-input-1-e8a9af318679>\u001b[0m in \u001b[0;36m<module>\u001b[0;34m()\u001b[0m\n\u001b[0;32m----> 1\u001b[0;31m \u001b[0mmodel\u001b[0m \u001b[0;34m=\u001b[0m \u001b[0mtc\u001b[0m\u001b[0;34m.\u001b[0m\u001b[0mimage_classifier\u001b[0m\u001b[0;34m.\u001b[0m\u001b[0mcreate\u001b[0m\u001b[0;34m(\u001b[0m\u001b[0mtrain_data\u001b[0m\u001b[0;34m,\u001b[0m \u001b[0mtarget\u001b[0m \u001b[0;34m=\u001b[0m \u001b[0;34m'label'\u001b[0m\u001b[0;34m,\u001b[0m \u001b[0mmodel\u001b[0m \u001b[0;34m=\u001b[0m \u001b[0;34m'squeezenet_v1.1'\u001b[0m\u001b[0;34m,\u001b[0m \u001b[0mmax_iterations\u001b[0m\u001b[0;34m=\u001b[0m\u001b[0;36m500\u001b[0m\u001b[0;34m)\u001b[0m\u001b[0;34m\u001b[0m\u001b[0m\n\u001b[0m",
      "\u001b[0;31mNameError\u001b[0m: name 'tc' is not defined"
     ]
    }
   ],
   "source": [
    "model = tc.image_classifier.create(train_data, target = 'label', model = 'squeezenet_v1.1', max_iterations=500)"
   ]
  },
  {
   "cell_type": "code",
   "execution_count": 24,
   "metadata": {
    "collapsed": true
   },
   "outputs": [],
   "source": [
    " predictions = model.predict(test_data)"
   ]
  },
  {
   "cell_type": "code",
   "execution_count": 25,
   "metadata": {},
   "outputs": [
    {
     "data": {
      "text/plain": [
       "{'accuracy': 0.9896530736457699,\n",
       " 'auc': 0.9981976679092198,\n",
       " 'confusion_matrix': Columns:\n",
       " \ttarget_label\tstr\n",
       " \tpredicted_label\tstr\n",
       " \tcount\tint\n",
       " \n",
       " Rows: 4\n",
       " \n",
       " Data:\n",
       " +--------------+-----------------+-------+\n",
       " | target_label | predicted_label | count |\n",
       " +--------------+-----------------+-------+\n",
       " |     cat      |       dog       |   23  |\n",
       " |     cat      |       cat       |  2457 |\n",
       " |     dog      |       cat       |   28  |\n",
       " |     dog      |       dog       |  2421 |\n",
       " +--------------+-----------------+-------+\n",
       " [4 rows x 3 columns],\n",
       " 'f1_score': 0.9895769466584917,\n",
       " 'log_loss': 0.06729223600143007,\n",
       " 'precision': 0.9905891980360065,\n",
       " 'recall': 0.9885667619436505,\n",
       " 'roc_curve': Columns:\n",
       " \tthreshold\tfloat\n",
       " \tfpr\tfloat\n",
       " \ttpr\tfloat\n",
       " \tp\tint\n",
       " \tn\tint\n",
       " \n",
       " Rows: 100001\n",
       " \n",
       " Data:\n",
       " +-----------+----------------------+--------------------+------+------+\n",
       " | threshold |         fpr          |        tpr         |  p   |  n   |\n",
       " +-----------+----------------------+--------------------+------+------+\n",
       " |    0.0    |         1.0          |        1.0         | 2449 | 2480 |\n",
       " |   1e-05   | 0.03790322580645161  | 0.9987750102082482 | 2449 | 2480 |\n",
       " |   2e-05   | 0.036290322580645164 | 0.9983666802776644 | 2449 | 2480 |\n",
       " |   3e-05   | 0.03508064516129032  | 0.9983666802776644 | 2449 | 2480 |\n",
       " |   4e-05   | 0.03306451612903226  | 0.9983666802776644 | 2449 | 2480 |\n",
       " |   5e-05   | 0.031451612903225803 | 0.9979583503470805 | 2449 | 2480 |\n",
       " |   6e-05   | 0.031048387096774193 | 0.9979583503470805 | 2449 | 2480 |\n",
       " |   7e-05   | 0.02903225806451613  | 0.9979583503470805 | 2449 | 2480 |\n",
       " |   8e-05   | 0.02903225806451613  | 0.9979583503470805 | 2449 | 2480 |\n",
       " |   9e-05   | 0.02903225806451613  | 0.9979583503470805 | 2449 | 2480 |\n",
       " +-----------+----------------------+--------------------+------+------+\n",
       " [100001 rows x 5 columns]\n",
       " Note: Only the head of the SFrame is printed.\n",
       " You can use print_rows(num_rows=m, num_columns=n) to print more rows and columns.}"
      ]
     },
     "execution_count": 25,
     "metadata": {},
     "output_type": "execute_result"
    }
   ],
   "source": [
    "metrics"
   ]
  },
  {
   "cell_type": "code",
   "execution_count": 26,
   "metadata": {
    "collapsed": true
   },
   "outputs": [],
   "source": [
    "model.save('mymodel_squeezenet.model')"
   ]
  },
  {
   "cell_type": "code",
   "execution_count": 27,
   "metadata": {
    "collapsed": true
   },
   "outputs": [],
   "source": [
    "new_cats_dogs['predictions'] = model.predict(new_cats_dogs)"
   ]
  },
  {
   "cell_type": "code",
   "execution_count": 28,
   "metadata": {},
   "outputs": [
    {
     "data": {
      "text/html": [
       "<pre>Materializing SFrame...</pre>"
      ],
      "text/plain": [
       "Materializing SFrame..."
      ]
     },
     "metadata": {},
     "output_type": "display_data"
    },
    {
     "data": {
      "text/html": [
       "<pre>Done.</pre>"
      ],
      "text/plain": [
       "Done."
      ]
     },
     "metadata": {},
     "output_type": "display_data"
    }
   ],
   "source": [
    "new_cats_dogs.explore()"
   ]
  },
  {
   "cell_type": "markdown",
   "metadata": {},
   "source": [
    "## Using GPUs"
   ]
  },
  {
   "cell_type": "markdown",
   "metadata": {},
   "source": [
    "GPUs can make creating an image classifier model much faster. If you have macOS 10.13 or higher, Turi Create will automatically use the GPU. If your Linux machine has an NVIDIA GPU, you can setup Turi Create to use the GPU, [see instructions](https://github.com/apple/turicreate/blob/master/LinuxGPU.md).\n",
    "\n",
    "The turicreate.config.set_num_gpus function allows you to control if GPUs are used:\n",
    "\n",
    "```\n",
    "# Use all GPUs (default)\n",
    "turicreate.config.set_num_gpus(-1)\n",
    "\n",
    "# Use only 1 GPU\n",
    "turicreate.config.set_num_gpus(1)\n",
    "\n",
    "# Use CPU\n",
    "turicreate.config.set_num_gpus(0)\n",
    "\n",
    "```"
   ]
  }
 ],
 "metadata": {
  "kernelspec": {
   "display_name": "Python 3",
   "language": "python",
   "name": "python3"
  },
  "language_info": {
   "codemirror_mode": {
    "name": "ipython",
    "version": 3
   },
   "file_extension": ".py",
   "mimetype": "text/x-python",
   "name": "python",
   "nbconvert_exporter": "python",
   "pygments_lexer": "ipython3",
   "version": "3.6.3"
  }
 },
 "nbformat": 4,
 "nbformat_minor": 2
}
