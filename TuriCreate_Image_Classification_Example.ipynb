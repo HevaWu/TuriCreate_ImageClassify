{
 "cells": [
  {
   "cell_type": "markdown",
   "metadata": {},
   "source": [
    "# Image Classification\n",
    "[How it works](https://apple.github.io/turicreate/docs/userguide/image_classifier/how-it-works.html)\n",
    "## Loading Data"
   ]
  },
  {
   "cell_type": "code",
   "execution_count": 1,
   "metadata": {},
   "outputs": [],
   "source": [
    "import turicreate as tc"
   ]
  },
  {
   "cell_type": "code",
   "execution_count": 2,
   "metadata": {},
   "outputs": [],
   "source": [
    "data = tc.image_analysis.load_images('kagglecatsanddogs_3367a/PetImages', with_path=True)"
   ]
  },
  {
   "cell_type": "code",
   "execution_count": 4,
   "metadata": {},
   "outputs": [
    {
     "data": {
      "text/html": [
       "<div style=\"max-height:1000px;max-width:1500px;overflow:auto;\"><table frame=\"box\" rules=\"cols\">\n",
       "    <tr>\n",
       "        <th style=\"padding-left: 1em; padding-right: 1em; text-align: center\">path</th>\n",
       "        <th style=\"padding-left: 1em; padding-right: 1em; text-align: center\">image</th>\n",
       "    </tr>\n",
       "    <tr>\n",
       "        <td style=\"padding-left: 1em; padding-right: 1em; text-align: center; vertical-align: top\">/Users/st21235/Project/Ju<br>pyter/kagglecatsanddo ...</td>\n",
       "        <td style=\"padding-left: 1em; padding-right: 1em; text-align: center; vertical-align: top\">Height: 375 Width: 500</td>\n",
       "    </tr>\n",
       "    <tr>\n",
       "        <td style=\"padding-left: 1em; padding-right: 1em; text-align: center; vertical-align: top\">/Users/st21235/Project/Ju<br>pyter/kagglecatsanddo ...</td>\n",
       "        <td style=\"padding-left: 1em; padding-right: 1em; text-align: center; vertical-align: top\">Height: 281 Width: 300</td>\n",
       "    </tr>\n",
       "    <tr>\n",
       "        <td style=\"padding-left: 1em; padding-right: 1em; text-align: center; vertical-align: top\">/Users/st21235/Project/Ju<br>pyter/kagglecatsanddo ...</td>\n",
       "        <td style=\"padding-left: 1em; padding-right: 1em; text-align: center; vertical-align: top\">Height: 500 Width: 489</td>\n",
       "    </tr>\n",
       "    <tr>\n",
       "        <td style=\"padding-left: 1em; padding-right: 1em; text-align: center; vertical-align: top\">/Users/st21235/Project/Ju<br>pyter/kagglecatsanddo ...</td>\n",
       "        <td style=\"padding-left: 1em; padding-right: 1em; text-align: center; vertical-align: top\">Height: 500 Width: 403</td>\n",
       "    </tr>\n",
       "    <tr>\n",
       "        <td style=\"padding-left: 1em; padding-right: 1em; text-align: center; vertical-align: top\">/Users/st21235/Project/Ju<br>pyter/kagglecatsanddo ...</td>\n",
       "        <td style=\"padding-left: 1em; padding-right: 1em; text-align: center; vertical-align: top\">Height: 150 Width: 150</td>\n",
       "    </tr>\n",
       "    <tr>\n",
       "        <td style=\"padding-left: 1em; padding-right: 1em; text-align: center; vertical-align: top\">/Users/st21235/Project/Ju<br>pyter/kagglecatsanddo ...</td>\n",
       "        <td style=\"padding-left: 1em; padding-right: 1em; text-align: center; vertical-align: top\">Height: 360 Width: 431</td>\n",
       "    </tr>\n",
       "    <tr>\n",
       "        <td style=\"padding-left: 1em; padding-right: 1em; text-align: center; vertical-align: top\">/Users/st21235/Project/Ju<br>pyter/kagglecatsanddo ...</td>\n",
       "        <td style=\"padding-left: 1em; padding-right: 1em; text-align: center; vertical-align: top\">Height: 375 Width: 500</td>\n",
       "    </tr>\n",
       "    <tr>\n",
       "        <td style=\"padding-left: 1em; padding-right: 1em; text-align: center; vertical-align: top\">/Users/st21235/Project/Ju<br>pyter/kagglecatsanddo ...</td>\n",
       "        <td style=\"padding-left: 1em; padding-right: 1em; text-align: center; vertical-align: top\">Height: 471 Width: 500</td>\n",
       "    </tr>\n",
       "    <tr>\n",
       "        <td style=\"padding-left: 1em; padding-right: 1em; text-align: center; vertical-align: top\">/Users/st21235/Project/Ju<br>pyter/kagglecatsanddo ...</td>\n",
       "        <td style=\"padding-left: 1em; padding-right: 1em; text-align: center; vertical-align: top\">Height: 375 Width: 500</td>\n",
       "    </tr>\n",
       "    <tr>\n",
       "        <td style=\"padding-left: 1em; padding-right: 1em; text-align: center; vertical-align: top\">/Users/st21235/Project/Ju<br>pyter/kagglecatsanddo ...</td>\n",
       "        <td style=\"padding-left: 1em; padding-right: 1em; text-align: center; vertical-align: top\">Height: 240 Width: 320</td>\n",
       "    </tr>\n",
       "</table>\n",
       "[24769 rows x 2 columns]<br/>Note: Only the head of the SFrame is printed.<br/>You can use print_rows(num_rows=m, num_columns=n) to print more rows and columns.\n",
       "</div>"
      ],
      "text/plain": [
       "Columns:\n",
       "\tpath\tstr\n",
       "\timage\tImage\n",
       "\n",
       "Rows: 24769\n",
       "\n",
       "Data:\n",
       "+-------------------------------+------------------------+\n",
       "|              path             |         image          |\n",
       "+-------------------------------+------------------------+\n",
       "| /Users/st21235/Project/Jup... | Height: 375 Width: 500 |\n",
       "| /Users/st21235/Project/Jup... | Height: 281 Width: 300 |\n",
       "| /Users/st21235/Project/Jup... | Height: 500 Width: 489 |\n",
       "| /Users/st21235/Project/Jup... | Height: 500 Width: 403 |\n",
       "| /Users/st21235/Project/Jup... | Height: 150 Width: 150 |\n",
       "| /Users/st21235/Project/Jup... | Height: 360 Width: 431 |\n",
       "| /Users/st21235/Project/Jup... | Height: 375 Width: 500 |\n",
       "| /Users/st21235/Project/Jup... | Height: 471 Width: 500 |\n",
       "| /Users/st21235/Project/Jup... | Height: 375 Width: 500 |\n",
       "| /Users/st21235/Project/Jup... | Height: 240 Width: 320 |\n",
       "+-------------------------------+------------------------+\n",
       "[24769 rows x 2 columns]\n",
       "Note: Only the head of the SFrame is printed.\n",
       "You can use print_rows(num_rows=m, num_columns=n) to print more rows and columns."
      ]
     },
     "execution_count": 4,
     "metadata": {},
     "output_type": "execute_result"
    }
   ],
   "source": [
    "data"
   ]
  },
  {
   "cell_type": "code",
   "execution_count": 3,
   "metadata": {
    "collapsed": true
   },
   "outputs": [],
   "source": [
    "data['label'] = data['path'].apply(lambda path: 'dog' if '/Dog' in path else 'cat')"
   ]
  },
  {
   "cell_type": "code",
   "execution_count": 17,
   "metadata": {},
   "outputs": [
    {
     "data": {
      "text/plain": [
       "dtype: str\n",
       "Rows: 24769\n",
       "['cat', 'cat', 'cat', 'cat', 'cat', 'cat', 'cat', 'cat', 'cat', 'cat', 'cat', 'cat', 'cat', 'cat', 'cat', 'cat', 'cat', 'cat', 'cat', 'cat', 'cat', 'cat', 'cat', 'cat', 'cat', 'cat', 'cat', 'cat', 'cat', 'cat', 'cat', 'cat', 'cat', 'cat', 'cat', 'cat', 'cat', 'cat', 'cat', 'cat', 'cat', 'cat', 'cat', 'cat', 'cat', 'cat', 'cat', 'cat', 'cat', 'cat', 'cat', 'cat', 'cat', 'cat', 'cat', 'cat', 'cat', 'cat', 'cat', 'cat', 'cat', 'cat', 'cat', 'cat', 'cat', 'cat', 'cat', 'cat', 'cat', 'cat', 'cat', 'cat', 'cat', 'cat', 'cat', 'cat', 'cat', 'cat', 'cat', 'cat', 'cat', 'cat', 'cat', 'cat', 'cat', 'cat', 'cat', 'cat', 'cat', 'cat', 'cat', 'cat', 'cat', 'cat', 'cat', 'cat', 'cat', 'cat', 'cat', 'cat', ... ]"
      ]
     },
     "execution_count": 17,
     "metadata": {},
     "output_type": "execute_result"
    }
   ],
   "source": [
    "data['label']"
   ]
  },
  {
   "cell_type": "markdown",
   "metadata": {},
   "source": [
    "**Save the data for future use**"
   ]
  },
  {
   "cell_type": "code",
   "execution_count": 4,
   "metadata": {
    "collapsed": true
   },
   "outputs": [],
   "source": [
    "data.save('cats-dogs.sframe')"
   ]
  },
  {
   "cell_type": "markdown",
   "metadata": {},
   "source": [
    "**Explore interactively**"
   ]
  },
  {
   "cell_type": "code",
   "execution_count": 4,
   "metadata": {},
   "outputs": [
    {
     "data": {
      "text/html": [
       "<pre>Materializing SFrame...</pre>"
      ],
      "text/plain": [
       "Materializing SFrame..."
      ]
     },
     "metadata": {},
     "output_type": "display_data"
    },
    {
     "data": {
      "text/html": [
       "<pre>Done.</pre>"
      ],
      "text/plain": [
       "Done."
      ]
     },
     "metadata": {},
     "output_type": "display_data"
    }
   ],
   "source": [
    "data.explore()"
   ]
  },
  {
   "cell_type": "markdown",
   "metadata": {},
   "source": [
    "# Predict the picture"
   ]
  },
  {
   "cell_type": "markdown",
   "metadata": {},
   "source": [
    "**Load the data from SFrame**"
   ]
  },
  {
   "cell_type": "code",
   "execution_count": 3,
   "metadata": {},
   "outputs": [],
   "source": [
    "data = tc.SFrame('cats-dogs.sframe')"
   ]
  },
  {
   "cell_type": "code",
   "execution_count": 4,
   "metadata": {},
   "outputs": [],
   "source": [
    "train_data, test_data = data.random_split(0.8)"
   ]
  },
  {
   "cell_type": "markdown",
   "metadata": {},
   "source": [
    "**Create a model**"
   ]
  },
  {
   "cell_type": "code",
   "execution_count": 5,
   "metadata": {},
   "outputs": [
    {
     "name": "stdout",
     "output_type": "stream",
     "text": [
      "Downloading https://docs-assets.developer.apple.com/turicreate/models/resnet-50-symbol.json\n",
      "Download completed: /var/folders/m4/8rlv2k612l9g_hd_gmmlbg5m0000gp/T/model_cache/resnet-50-symbol.json\n",
      "Downloading https://docs-assets.developer.apple.com/turicreate/models/resnet-50-0000.params\n",
      "Download completed: /var/folders/m4/8rlv2k612l9g_hd_gmmlbg5m0000gp/T/model_cache/resnet-50-0000.params\n"
     ]
    },
    {
     "data": {
      "text/html": [
       "<pre>Analyzing and extracting image features.</pre>"
      ],
      "text/plain": [
       "Analyzing and extracting image features."
      ]
     },
     "metadata": {},
     "output_type": "display_data"
    },
    {
     "data": {
      "text/html": [
       "<pre>+------------------+--------------+------------------+</pre>"
      ],
      "text/plain": [
       "+------------------+--------------+------------------+"
      ]
     },
     "metadata": {},
     "output_type": "display_data"
    },
    {
     "data": {
      "text/html": [
       "<pre>| Images Processed | Elapsed Time | Percent Complete |</pre>"
      ],
      "text/plain": [
       "| Images Processed | Elapsed Time | Percent Complete |"
      ]
     },
     "metadata": {},
     "output_type": "display_data"
    },
    {
     "data": {
      "text/html": [
       "<pre>+------------------+--------------+------------------+</pre>"
      ],
      "text/plain": [
       "+------------------+--------------+------------------+"
      ]
     },
     "metadata": {},
     "output_type": "display_data"
    },
    {
     "data": {
      "text/html": [
       "<pre>| 0                | 1.33s        | 0%               |</pre>"
      ],
      "text/plain": [
       "| 0                | 1.33s        | 0%               |"
      ]
     },
     "metadata": {},
     "output_type": "display_data"
    },
    {
     "data": {
      "text/html": [
       "<pre>| 64               | 6.36s        | 0.25%            |</pre>"
      ],
      "text/plain": [
       "| 64               | 6.36s        | 0.25%            |"
      ]
     },
     "metadata": {},
     "output_type": "display_data"
    },
    {
     "data": {
      "text/html": [
       "<pre>| 128              | 7.60s        | 0.5%             |</pre>"
      ],
      "text/plain": [
       "| 128              | 7.60s        | 0.5%             |"
      ]
     },
     "metadata": {},
     "output_type": "display_data"
    },
    {
     "data": {
      "text/html": [
       "<pre>| 192              | 8.85s        | 0.75%            |</pre>"
      ],
      "text/plain": [
       "| 192              | 8.85s        | 0.75%            |"
      ]
     },
     "metadata": {},
     "output_type": "display_data"
    },
    {
     "data": {
      "text/html": [
       "<pre>| 256              | 10.09s       | 1.25%            |</pre>"
      ],
      "text/plain": [
       "| 256              | 10.09s       | 1.25%            |"
      ]
     },
     "metadata": {},
     "output_type": "display_data"
    },
    {
     "data": {
      "text/html": [
       "<pre>| 320              | 11.34s       | 1.5%             |</pre>"
      ],
      "text/plain": [
       "| 320              | 11.34s       | 1.5%             |"
      ]
     },
     "metadata": {},
     "output_type": "display_data"
    },
    {
     "data": {
      "text/html": [
       "<pre>| 384              | 12.59s       | 1.75%            |</pre>"
      ],
      "text/plain": [
       "| 384              | 12.59s       | 1.75%            |"
      ]
     },
     "metadata": {},
     "output_type": "display_data"
    },
    {
     "data": {
      "text/html": [
       "<pre>| 448              | 13.83s       | 2.25%            |</pre>"
      ],
      "text/plain": [
       "| 448              | 13.83s       | 2.25%            |"
      ]
     },
     "metadata": {},
     "output_type": "display_data"
    },
    {
     "data": {
      "text/html": [
       "<pre>| 512              | 15.08s       | 2.5%             |</pre>"
      ],
      "text/plain": [
       "| 512              | 15.08s       | 2.5%             |"
      ]
     },
     "metadata": {},
     "output_type": "display_data"
    },
    {
     "data": {
      "text/html": [
       "<pre>| 576              | 16.36s       | 2.75%            |</pre>"
      ],
      "text/plain": [
       "| 576              | 16.36s       | 2.75%            |"
      ]
     },
     "metadata": {},
     "output_type": "display_data"
    },
    {
     "data": {
      "text/html": [
       "<pre>| 640              | 17.63s       | 3%               |</pre>"
      ],
      "text/plain": [
       "| 640              | 17.63s       | 3%               |"
      ]
     },
     "metadata": {},
     "output_type": "display_data"
    },
    {
     "data": {
      "text/html": [
       "<pre>| 704              | 18.90s       | 3.5%             |</pre>"
      ],
      "text/plain": [
       "| 704              | 18.90s       | 3.5%             |"
      ]
     },
     "metadata": {},
     "output_type": "display_data"
    },
    {
     "data": {
      "text/html": [
       "<pre>| 768              | 20.17s       | 3.75%            |</pre>"
      ],
      "text/plain": [
       "| 768              | 20.17s       | 3.75%            |"
      ]
     },
     "metadata": {},
     "output_type": "display_data"
    },
    {
     "data": {
      "text/html": [
       "<pre>| 832              | 21.47s       | 4%               |</pre>"
      ],
      "text/plain": [
       "| 832              | 21.47s       | 4%               |"
      ]
     },
     "metadata": {},
     "output_type": "display_data"
    },
    {
     "data": {
      "text/html": [
       "<pre>| 896              | 22.72s       | 4.5%             |</pre>"
      ],
      "text/plain": [
       "| 896              | 22.72s       | 4.5%             |"
      ]
     },
     "metadata": {},
     "output_type": "display_data"
    },
    {
     "data": {
      "text/html": [
       "<pre>| 960              | 23.97s       | 4.75%            |</pre>"
      ],
      "text/plain": [
       "| 960              | 23.97s       | 4.75%            |"
      ]
     },
     "metadata": {},
     "output_type": "display_data"
    },
    {
     "data": {
      "text/html": [
       "<pre>| 1024             | 25.21s       | 5%               |</pre>"
      ],
      "text/plain": [
       "| 1024             | 25.21s       | 5%               |"
      ]
     },
     "metadata": {},
     "output_type": "display_data"
    },
    {
     "data": {
      "text/html": [
       "<pre>| 1088             | 26.49s       | 5.5%             |</pre>"
      ],
      "text/plain": [
       "| 1088             | 26.49s       | 5.5%             |"
      ]
     },
     "metadata": {},
     "output_type": "display_data"
    },
    {
     "data": {
      "text/html": [
       "<pre>| 1152             | 27.84s       | 5.75%            |</pre>"
      ],
      "text/plain": [
       "| 1152             | 27.84s       | 5.75%            |"
      ]
     },
     "metadata": {},
     "output_type": "display_data"
    },
    {
     "data": {
      "text/html": [
       "<pre>| 1216             | 29.14s       | 6%               |</pre>"
      ],
      "text/plain": [
       "| 1216             | 29.14s       | 6%               |"
      ]
     },
     "metadata": {},
     "output_type": "display_data"
    },
    {
     "data": {
      "text/html": [
       "<pre>| 1280             | 30.42s       | 6.25%            |</pre>"
      ],
      "text/plain": [
       "| 1280             | 30.42s       | 6.25%            |"
      ]
     },
     "metadata": {},
     "output_type": "display_data"
    },
    {
     "data": {
      "text/html": [
       "<pre>| 1344             | 31.71s       | 6.75%            |</pre>"
      ],
      "text/plain": [
       "| 1344             | 31.71s       | 6.75%            |"
      ]
     },
     "metadata": {},
     "output_type": "display_data"
    },
    {
     "data": {
      "text/html": [
       "<pre>| 1408             | 32.95s       | 7%               |</pre>"
      ],
      "text/plain": [
       "| 1408             | 32.95s       | 7%               |"
      ]
     },
     "metadata": {},
     "output_type": "display_data"
    },
    {
     "data": {
      "text/html": [
       "<pre>| 1472             | 34.27s       | 7.25%            |</pre>"
      ],
      "text/plain": [
       "| 1472             | 34.27s       | 7.25%            |"
      ]
     },
     "metadata": {},
     "output_type": "display_data"
    },
    {
     "data": {
      "text/html": [
       "<pre>| 1536             | 35.58s       | 7.75%            |</pre>"
      ],
      "text/plain": [
       "| 1536             | 35.58s       | 7.75%            |"
      ]
     },
     "metadata": {},
     "output_type": "display_data"
    },
    {
     "data": {
      "text/html": [
       "<pre>| 1600             | 36.84s       | 8%               |</pre>"
      ],
      "text/plain": [
       "| 1600             | 36.84s       | 8%               |"
      ]
     },
     "metadata": {},
     "output_type": "display_data"
    },
    {
     "data": {
      "text/html": [
       "<pre>| 1664             | 38.08s       | 8.25%            |</pre>"
      ],
      "text/plain": [
       "| 1664             | 38.08s       | 8.25%            |"
      ]
     },
     "metadata": {},
     "output_type": "display_data"
    },
    {
     "data": {
      "text/html": [
       "<pre>| 1728             | 39.33s       | 8.5%             |</pre>"
      ],
      "text/plain": [
       "| 1728             | 39.33s       | 8.5%             |"
      ]
     },
     "metadata": {},
     "output_type": "display_data"
    },
    {
     "data": {
      "text/html": [
       "<pre>| 1792             | 40.58s       | 9%               |</pre>"
      ],
      "text/plain": [
       "| 1792             | 40.58s       | 9%               |"
      ]
     },
     "metadata": {},
     "output_type": "display_data"
    },
    {
     "data": {
      "text/html": [
       "<pre>| 1856             | 41.84s       | 9.25%            |</pre>"
      ],
      "text/plain": [
       "| 1856             | 41.84s       | 9.25%            |"
      ]
     },
     "metadata": {},
     "output_type": "display_data"
    },
    {
     "data": {
      "text/html": [
       "<pre>| 1920             | 43.15s       | 9.5%             |</pre>"
      ],
      "text/plain": [
       "| 1920             | 43.15s       | 9.5%             |"
      ]
     },
     "metadata": {},
     "output_type": "display_data"
    },
    {
     "data": {
      "text/html": [
       "<pre>| 1984             | 44.42s       | 10%              |</pre>"
      ],
      "text/plain": [
       "| 1984             | 44.42s       | 10%              |"
      ]
     },
     "metadata": {},
     "output_type": "display_data"
    },
    {
     "data": {
      "text/html": [
       "<pre>| 2048             | 45.68s       | 10.25%           |</pre>"
      ],
      "text/plain": [
       "| 2048             | 45.68s       | 10.25%           |"
      ]
     },
     "metadata": {},
     "output_type": "display_data"
    },
    {
     "data": {
      "text/html": [
       "<pre>| 2112             | 46.92s       | 10.5%            |</pre>"
      ],
      "text/plain": [
       "| 2112             | 46.92s       | 10.5%            |"
      ]
     },
     "metadata": {},
     "output_type": "display_data"
    },
    {
     "data": {
      "text/html": [
       "<pre>| 2176             | 48.16s       | 11%              |</pre>"
      ],
      "text/plain": [
       "| 2176             | 48.16s       | 11%              |"
      ]
     },
     "metadata": {},
     "output_type": "display_data"
    },
    {
     "data": {
      "text/html": [
       "<pre>| 2240             | 49.44s       | 11.25%           |</pre>"
      ],
      "text/plain": [
       "| 2240             | 49.44s       | 11.25%           |"
      ]
     },
     "metadata": {},
     "output_type": "display_data"
    },
    {
     "data": {
      "text/html": [
       "<pre>| 2304             | 50.77s       | 11.5%            |</pre>"
      ],
      "text/plain": [
       "| 2304             | 50.77s       | 11.5%            |"
      ]
     },
     "metadata": {},
     "output_type": "display_data"
    },
    {
     "data": {
      "text/html": [
       "<pre>| 2368             | 52.04s       | 11.75%           |</pre>"
      ],
      "text/plain": [
       "| 2368             | 52.04s       | 11.75%           |"
      ]
     },
     "metadata": {},
     "output_type": "display_data"
    },
    {
     "data": {
      "text/html": [
       "<pre>| 2432             | 53.32s       | 12.25%           |</pre>"
      ],
      "text/plain": [
       "| 2432             | 53.32s       | 12.25%           |"
      ]
     },
     "metadata": {},
     "output_type": "display_data"
    },
    {
     "data": {
      "text/html": [
       "<pre>| 2496             | 54.59s       | 12.5%            |</pre>"
      ],
      "text/plain": [
       "| 2496             | 54.59s       | 12.5%            |"
      ]
     },
     "metadata": {},
     "output_type": "display_data"
    },
    {
     "data": {
      "text/html": [
       "<pre>| 2624             | 57.11s       | 13.25%           |</pre>"
      ],
      "text/plain": [
       "| 2624             | 57.11s       | 13.25%           |"
      ]
     },
     "metadata": {},
     "output_type": "display_data"
    },
    {
     "data": {
      "text/html": [
       "<pre>| 2688             | 58.42s       | 13.5%            |</pre>"
      ],
      "text/plain": [
       "| 2688             | 58.42s       | 13.5%            |"
      ]
     },
     "metadata": {},
     "output_type": "display_data"
    },
    {
     "data": {
      "text/html": [
       "<pre>| 2752             | 59.79s       | 13.75%           |</pre>"
      ],
      "text/plain": [
       "| 2752             | 59.79s       | 13.75%           |"
      ]
     },
     "metadata": {},
     "output_type": "display_data"
    },
    {
     "data": {
      "text/html": [
       "<pre>| 2816             | 1m 1s        | 14%              |</pre>"
      ],
      "text/plain": [
       "| 2816             | 1m 1s        | 14%              |"
      ]
     },
     "metadata": {},
     "output_type": "display_data"
    },
    {
     "data": {
      "text/html": [
       "<pre>| 2880             | 1m 2s        | 14.5%            |</pre>"
      ],
      "text/plain": [
       "| 2880             | 1m 2s        | 14.5%            |"
      ]
     },
     "metadata": {},
     "output_type": "display_data"
    },
    {
     "data": {
      "text/html": [
       "<pre>| 2944             | 1m 3s        | 14.75%           |</pre>"
      ],
      "text/plain": [
       "| 2944             | 1m 3s        | 14.75%           |"
      ]
     },
     "metadata": {},
     "output_type": "display_data"
    },
    {
     "data": {
      "text/html": [
       "<pre>| 3008             | 1m 4s        | 15%              |</pre>"
      ],
      "text/plain": [
       "| 3008             | 1m 4s        | 15%              |"
      ]
     },
     "metadata": {},
     "output_type": "display_data"
    },
    {
     "data": {
      "text/html": [
       "<pre>| 3072             | 1m 6s        | 15.5%            |</pre>"
      ],
      "text/plain": [
       "| 3072             | 1m 6s        | 15.5%            |"
      ]
     },
     "metadata": {},
     "output_type": "display_data"
    },
    {
     "data": {
      "text/html": [
       "<pre>| 3136             | 1m 7s        | 15.75%           |</pre>"
      ],
      "text/plain": [
       "| 3136             | 1m 7s        | 15.75%           |"
      ]
     },
     "metadata": {},
     "output_type": "display_data"
    },
    {
     "data": {
      "text/html": [
       "<pre>| 3200             | 1m 8s        | 16%              |</pre>"
      ],
      "text/plain": [
       "| 3200             | 1m 8s        | 16%              |"
      ]
     },
     "metadata": {},
     "output_type": "display_data"
    },
    {
     "data": {
      "text/html": [
       "<pre>| 3264             | 1m 9s        | 16.5%            |</pre>"
      ],
      "text/plain": [
       "| 3264             | 1m 9s        | 16.5%            |"
      ]
     },
     "metadata": {},
     "output_type": "display_data"
    },
    {
     "data": {
      "text/html": [
       "<pre>| 3328             | 1m 11s       | 16.75%           |</pre>"
      ],
      "text/plain": [
       "| 3328             | 1m 11s       | 16.75%           |"
      ]
     },
     "metadata": {},
     "output_type": "display_data"
    },
    {
     "data": {
      "text/html": [
       "<pre>| 3392             | 1m 12s       | 17%              |</pre>"
      ],
      "text/plain": [
       "| 3392             | 1m 12s       | 17%              |"
      ]
     },
     "metadata": {},
     "output_type": "display_data"
    },
    {
     "data": {
      "text/html": [
       "<pre>| 3456             | 1m 13s       | 17.25%           |</pre>"
      ],
      "text/plain": [
       "| 3456             | 1m 13s       | 17.25%           |"
      ]
     },
     "metadata": {},
     "output_type": "display_data"
    },
    {
     "data": {
      "text/html": [
       "<pre>| 3520             | 1m 14s       | 17.75%           |</pre>"
      ],
      "text/plain": [
       "| 3520             | 1m 14s       | 17.75%           |"
      ]
     },
     "metadata": {},
     "output_type": "display_data"
    },
    {
     "data": {
      "text/html": [
       "<pre>| 3584             | 1m 15s       | 18%              |</pre>"
      ],
      "text/plain": [
       "| 3584             | 1m 15s       | 18%              |"
      ]
     },
     "metadata": {},
     "output_type": "display_data"
    },
    {
     "data": {
      "text/html": [
       "<pre>| 3648             | 1m 17s       | 18.25%           |</pre>"
      ],
      "text/plain": [
       "| 3648             | 1m 17s       | 18.25%           |"
      ]
     },
     "metadata": {},
     "output_type": "display_data"
    },
    {
     "data": {
      "text/html": [
       "<pre>| 3712             | 1m 18s       | 18.75%           |</pre>"
      ],
      "text/plain": [
       "| 3712             | 1m 18s       | 18.75%           |"
      ]
     },
     "metadata": {},
     "output_type": "display_data"
    },
    {
     "data": {
      "text/html": [
       "<pre>| 3776             | 1m 19s       | 19%              |</pre>"
      ],
      "text/plain": [
       "| 3776             | 1m 19s       | 19%              |"
      ]
     },
     "metadata": {},
     "output_type": "display_data"
    },
    {
     "data": {
      "text/html": [
       "<pre>| 3840             | 1m 20s       | 19.25%           |</pre>"
      ],
      "text/plain": [
       "| 3840             | 1m 20s       | 19.25%           |"
      ]
     },
     "metadata": {},
     "output_type": "display_data"
    },
    {
     "data": {
      "text/html": [
       "<pre>| 3904             | 1m 22s       | 19.5%            |</pre>"
      ],
      "text/plain": [
       "| 3904             | 1m 22s       | 19.5%            |"
      ]
     },
     "metadata": {},
     "output_type": "display_data"
    },
    {
     "data": {
      "text/html": [
       "<pre>| 3968             | 1m 23s       | 20%              |</pre>"
      ],
      "text/plain": [
       "| 3968             | 1m 23s       | 20%              |"
      ]
     },
     "metadata": {},
     "output_type": "display_data"
    },
    {
     "data": {
      "text/html": [
       "<pre>| 4032             | 1m 24s       | 20.25%           |</pre>"
      ],
      "text/plain": [
       "| 4032             | 1m 24s       | 20.25%           |"
      ]
     },
     "metadata": {},
     "output_type": "display_data"
    },
    {
     "data": {
      "text/html": [
       "<pre>| 4096             | 1m 25s       | 20.5%            |</pre>"
      ],
      "text/plain": [
       "| 4096             | 1m 25s       | 20.5%            |"
      ]
     },
     "metadata": {},
     "output_type": "display_data"
    },
    {
     "data": {
      "text/html": [
       "<pre>| 4160             | 1m 27s       | 21%              |</pre>"
      ],
      "text/plain": [
       "| 4160             | 1m 27s       | 21%              |"
      ]
     },
     "metadata": {},
     "output_type": "display_data"
    },
    {
     "data": {
      "text/html": [
       "<pre>| 4224             | 1m 28s       | 21.25%           |</pre>"
      ],
      "text/plain": [
       "| 4224             | 1m 28s       | 21.25%           |"
      ]
     },
     "metadata": {},
     "output_type": "display_data"
    },
    {
     "data": {
      "text/html": [
       "<pre>| 4288             | 1m 29s       | 21.5%            |</pre>"
      ],
      "text/plain": [
       "| 4288             | 1m 29s       | 21.5%            |"
      ]
     },
     "metadata": {},
     "output_type": "display_data"
    },
    {
     "data": {
      "text/html": [
       "<pre>| 4352             | 1m 30s       | 22%              |</pre>"
      ],
      "text/plain": [
       "| 4352             | 1m 30s       | 22%              |"
      ]
     },
     "metadata": {},
     "output_type": "display_data"
    },
    {
     "data": {
      "text/html": [
       "<pre>| 4416             | 1m 32s       | 22.25%           |</pre>"
      ],
      "text/plain": [
       "| 4416             | 1m 32s       | 22.25%           |"
      ]
     },
     "metadata": {},
     "output_type": "display_data"
    },
    {
     "data": {
      "text/html": [
       "<pre>| 4480             | 1m 33s       | 22.5%            |</pre>"
      ],
      "text/plain": [
       "| 4480             | 1m 33s       | 22.5%            |"
      ]
     },
     "metadata": {},
     "output_type": "display_data"
    },
    {
     "data": {
      "text/html": [
       "<pre>| 4544             | 1m 34s       | 22.75%           |</pre>"
      ],
      "text/plain": [
       "| 4544             | 1m 34s       | 22.75%           |"
      ]
     },
     "metadata": {},
     "output_type": "display_data"
    },
    {
     "data": {
      "text/html": [
       "<pre>| 4608             | 1m 35s       | 23.25%           |</pre>"
      ],
      "text/plain": [
       "| 4608             | 1m 35s       | 23.25%           |"
      ]
     },
     "metadata": {},
     "output_type": "display_data"
    },
    {
     "data": {
      "text/html": [
       "<pre>| 4672             | 1m 37s       | 23.5%            |</pre>"
      ],
      "text/plain": [
       "| 4672             | 1m 37s       | 23.5%            |"
      ]
     },
     "metadata": {},
     "output_type": "display_data"
    },
    {
     "data": {
      "text/html": [
       "<pre>| 4736             | 1m 38s       | 23.75%           |</pre>"
      ],
      "text/plain": [
       "| 4736             | 1m 38s       | 23.75%           |"
      ]
     },
     "metadata": {},
     "output_type": "display_data"
    },
    {
     "data": {
      "text/html": [
       "<pre>| 4800             | 1m 39s       | 24.25%           |</pre>"
      ],
      "text/plain": [
       "| 4800             | 1m 39s       | 24.25%           |"
      ]
     },
     "metadata": {},
     "output_type": "display_data"
    },
    {
     "data": {
      "text/html": [
       "<pre>| 4864             | 1m 40s       | 24.5%            |</pre>"
      ],
      "text/plain": [
       "| 4864             | 1m 40s       | 24.5%            |"
      ]
     },
     "metadata": {},
     "output_type": "display_data"
    },
    {
     "data": {
      "text/html": [
       "<pre>| 4928             | 1m 41s       | 24.75%           |</pre>"
      ],
      "text/plain": [
       "| 4928             | 1m 41s       | 24.75%           |"
      ]
     },
     "metadata": {},
     "output_type": "display_data"
    },
    {
     "data": {
      "text/html": [
       "<pre>| 4992             | 1m 43s       | 25%              |</pre>"
      ],
      "text/plain": [
       "| 4992             | 1m 43s       | 25%              |"
      ]
     },
     "metadata": {},
     "output_type": "display_data"
    },
    {
     "data": {
      "text/html": [
       "<pre>| 5056             | 1m 44s       | 25.5%            |</pre>"
      ],
      "text/plain": [
       "| 5056             | 1m 44s       | 25.5%            |"
      ]
     },
     "metadata": {},
     "output_type": "display_data"
    },
    {
     "data": {
      "text/html": [
       "<pre>| 5120             | 1m 45s       | 25.75%           |</pre>"
      ],
      "text/plain": [
       "| 5120             | 1m 45s       | 25.75%           |"
      ]
     },
     "metadata": {},
     "output_type": "display_data"
    },
    {
     "data": {
      "text/html": [
       "<pre>| 5184             | 1m 46s       | 26%              |</pre>"
      ],
      "text/plain": [
       "| 5184             | 1m 46s       | 26%              |"
      ]
     },
     "metadata": {},
     "output_type": "display_data"
    },
    {
     "data": {
      "text/html": [
       "<pre>| 5248             | 1m 48s       | 26.5%            |</pre>"
      ],
      "text/plain": [
       "| 5248             | 1m 48s       | 26.5%            |"
      ]
     },
     "metadata": {},
     "output_type": "display_data"
    },
    {
     "data": {
      "text/html": [
       "<pre>| 5312             | 1m 49s       | 26.75%           |</pre>"
      ],
      "text/plain": [
       "| 5312             | 1m 49s       | 26.75%           |"
      ]
     },
     "metadata": {},
     "output_type": "display_data"
    },
    {
     "data": {
      "text/html": [
       "<pre>| 5376             | 1m 50s       | 27%              |</pre>"
      ],
      "text/plain": [
       "| 5376             | 1m 50s       | 27%              |"
      ]
     },
     "metadata": {},
     "output_type": "display_data"
    },
    {
     "data": {
      "text/html": [
       "<pre>| 5440             | 1m 51s       | 27.5%            |</pre>"
      ],
      "text/plain": [
       "| 5440             | 1m 51s       | 27.5%            |"
      ]
     },
     "metadata": {},
     "output_type": "display_data"
    },
    {
     "data": {
      "text/html": [
       "<pre>| 5504             | 1m 53s       | 27.75%           |</pre>"
      ],
      "text/plain": [
       "| 5504             | 1m 53s       | 27.75%           |"
      ]
     },
     "metadata": {},
     "output_type": "display_data"
    },
    {
     "data": {
      "text/html": [
       "<pre>| 5568             | 1m 54s       | 28%              |</pre>"
      ],
      "text/plain": [
       "| 5568             | 1m 54s       | 28%              |"
      ]
     },
     "metadata": {},
     "output_type": "display_data"
    },
    {
     "data": {
      "text/html": [
       "<pre>| 5632             | 1m 55s       | 28.25%           |</pre>"
      ],
      "text/plain": [
       "| 5632             | 1m 55s       | 28.25%           |"
      ]
     },
     "metadata": {},
     "output_type": "display_data"
    },
    {
     "data": {
      "text/html": [
       "<pre>| 5696             | 1m 56s       | 28.75%           |</pre>"
      ],
      "text/plain": [
       "| 5696             | 1m 56s       | 28.75%           |"
      ]
     },
     "metadata": {},
     "output_type": "display_data"
    },
    {
     "data": {
      "text/html": [
       "<pre>| 5760             | 1m 58s       | 29%              |</pre>"
      ],
      "text/plain": [
       "| 5760             | 1m 58s       | 29%              |"
      ]
     },
     "metadata": {},
     "output_type": "display_data"
    },
    {
     "data": {
      "text/html": [
       "<pre>| 5824             | 1m 59s       | 29.25%           |</pre>"
      ],
      "text/plain": [
       "| 5824             | 1m 59s       | 29.25%           |"
      ]
     },
     "metadata": {},
     "output_type": "display_data"
    },
    {
     "data": {
      "text/html": [
       "<pre>| 5888             | 2m 0s        | 29.75%           |</pre>"
      ],
      "text/plain": [
       "| 5888             | 2m 0s        | 29.75%           |"
      ]
     },
     "metadata": {},
     "output_type": "display_data"
    },
    {
     "data": {
      "text/html": [
       "<pre>| 5952             | 2m 1s        | 30%              |</pre>"
      ],
      "text/plain": [
       "| 5952             | 2m 1s        | 30%              |"
      ]
     },
     "metadata": {},
     "output_type": "display_data"
    },
    {
     "data": {
      "text/html": [
       "<pre>| 6016             | 2m 3s        | 30.25%           |</pre>"
      ],
      "text/plain": [
       "| 6016             | 2m 3s        | 30.25%           |"
      ]
     },
     "metadata": {},
     "output_type": "display_data"
    },
    {
     "data": {
      "text/html": [
       "<pre>| 6080             | 2m 4s        | 30.5%            |</pre>"
      ],
      "text/plain": [
       "| 6080             | 2m 4s        | 30.5%            |"
      ]
     },
     "metadata": {},
     "output_type": "display_data"
    },
    {
     "data": {
      "text/html": [
       "<pre>| 6144             | 2m 5s        | 31%              |</pre>"
      ],
      "text/plain": [
       "| 6144             | 2m 5s        | 31%              |"
      ]
     },
     "metadata": {},
     "output_type": "display_data"
    },
    {
     "data": {
      "text/html": [
       "<pre>| 6208             | 2m 6s        | 31.25%           |</pre>"
      ],
      "text/plain": [
       "| 6208             | 2m 6s        | 31.25%           |"
      ]
     },
     "metadata": {},
     "output_type": "display_data"
    },
    {
     "data": {
      "text/html": [
       "<pre>| 6272             | 2m 8s        | 31.5%            |</pre>"
      ],
      "text/plain": [
       "| 6272             | 2m 8s        | 31.5%            |"
      ]
     },
     "metadata": {},
     "output_type": "display_data"
    },
    {
     "data": {
      "text/html": [
       "<pre>| 6336             | 2m 9s        | 32%              |</pre>"
      ],
      "text/plain": [
       "| 6336             | 2m 9s        | 32%              |"
      ]
     },
     "metadata": {},
     "output_type": "display_data"
    },
    {
     "data": {
      "text/html": [
       "<pre>| 6400             | 2m 10s       | 32.25%           |</pre>"
      ],
      "text/plain": [
       "| 6400             | 2m 10s       | 32.25%           |"
      ]
     },
     "metadata": {},
     "output_type": "display_data"
    },
    {
     "data": {
      "text/html": [
       "<pre>| 6464             | 2m 11s       | 32.5%            |</pre>"
      ],
      "text/plain": [
       "| 6464             | 2m 11s       | 32.5%            |"
      ]
     },
     "metadata": {},
     "output_type": "display_data"
    },
    {
     "data": {
      "text/html": [
       "<pre>| 6528             | 2m 13s       | 33%              |</pre>"
      ],
      "text/plain": [
       "| 6528             | 2m 13s       | 33%              |"
      ]
     },
     "metadata": {},
     "output_type": "display_data"
    },
    {
     "data": {
      "text/html": [
       "<pre>| 6592             | 2m 14s       | 33.25%           |</pre>"
      ],
      "text/plain": [
       "| 6592             | 2m 14s       | 33.25%           |"
      ]
     },
     "metadata": {},
     "output_type": "display_data"
    },
    {
     "data": {
      "text/html": [
       "<pre>| 6656             | 2m 15s       | 33.5%            |</pre>"
      ],
      "text/plain": [
       "| 6656             | 2m 15s       | 33.5%            |"
      ]
     },
     "metadata": {},
     "output_type": "display_data"
    },
    {
     "data": {
      "text/html": [
       "<pre>| 6720             | 2m 16s       | 33.75%           |</pre>"
      ],
      "text/plain": [
       "| 6720             | 2m 16s       | 33.75%           |"
      ]
     },
     "metadata": {},
     "output_type": "display_data"
    },
    {
     "data": {
      "text/html": [
       "<pre>| 6784             | 2m 17s       | 34.25%           |</pre>"
      ],
      "text/plain": [
       "| 6784             | 2m 17s       | 34.25%           |"
      ]
     },
     "metadata": {},
     "output_type": "display_data"
    },
    {
     "data": {
      "text/html": [
       "<pre>| 6848             | 2m 19s       | 34.5%            |</pre>"
      ],
      "text/plain": [
       "| 6848             | 2m 19s       | 34.5%            |"
      ]
     },
     "metadata": {},
     "output_type": "display_data"
    },
    {
     "data": {
      "text/html": [
       "<pre>| 6912             | 2m 20s       | 34.75%           |</pre>"
      ],
      "text/plain": [
       "| 6912             | 2m 20s       | 34.75%           |"
      ]
     },
     "metadata": {},
     "output_type": "display_data"
    },
    {
     "data": {
      "text/html": [
       "<pre>| 6976             | 2m 21s       | 35.25%           |</pre>"
      ],
      "text/plain": [
       "| 6976             | 2m 21s       | 35.25%           |"
      ]
     },
     "metadata": {},
     "output_type": "display_data"
    },
    {
     "data": {
      "text/html": [
       "<pre>| 7040             | 2m 22s       | 35.5%            |</pre>"
      ],
      "text/plain": [
       "| 7040             | 2m 22s       | 35.5%            |"
      ]
     },
     "metadata": {},
     "output_type": "display_data"
    },
    {
     "data": {
      "text/html": [
       "<pre>| 7104             | 2m 24s       | 35.75%           |</pre>"
      ],
      "text/plain": [
       "| 7104             | 2m 24s       | 35.75%           |"
      ]
     },
     "metadata": {},
     "output_type": "display_data"
    },
    {
     "data": {
      "text/html": [
       "<pre>| 7168             | 2m 25s       | 36%              |</pre>"
      ],
      "text/plain": [
       "| 7168             | 2m 25s       | 36%              |"
      ]
     },
     "metadata": {},
     "output_type": "display_data"
    },
    {
     "data": {
      "text/html": [
       "<pre>| 7232             | 2m 26s       | 36.5%            |</pre>"
      ],
      "text/plain": [
       "| 7232             | 2m 26s       | 36.5%            |"
      ]
     },
     "metadata": {},
     "output_type": "display_data"
    },
    {
     "data": {
      "text/html": [
       "<pre>| 7296             | 2m 28s       | 36.75%           |</pre>"
      ],
      "text/plain": [
       "| 7296             | 2m 28s       | 36.75%           |"
      ]
     },
     "metadata": {},
     "output_type": "display_data"
    },
    {
     "data": {
      "text/html": [
       "<pre>| 7360             | 2m 29s       | 37%              |</pre>"
      ],
      "text/plain": [
       "| 7360             | 2m 29s       | 37%              |"
      ]
     },
     "metadata": {},
     "output_type": "display_data"
    },
    {
     "data": {
      "text/html": [
       "<pre>| 7424             | 2m 30s       | 37.5%            |</pre>"
      ],
      "text/plain": [
       "| 7424             | 2m 30s       | 37.5%            |"
      ]
     },
     "metadata": {},
     "output_type": "display_data"
    },
    {
     "data": {
      "text/html": [
       "<pre>| 7488             | 2m 31s       | 37.75%           |</pre>"
      ],
      "text/plain": [
       "| 7488             | 2m 31s       | 37.75%           |"
      ]
     },
     "metadata": {},
     "output_type": "display_data"
    },
    {
     "data": {
      "text/html": [
       "<pre>| 7552             | 2m 33s       | 38%              |</pre>"
      ],
      "text/plain": [
       "| 7552             | 2m 33s       | 38%              |"
      ]
     },
     "metadata": {},
     "output_type": "display_data"
    },
    {
     "data": {
      "text/html": [
       "<pre>| 7616             | 2m 34s       | 38.5%            |</pre>"
      ],
      "text/plain": [
       "| 7616             | 2m 34s       | 38.5%            |"
      ]
     },
     "metadata": {},
     "output_type": "display_data"
    },
    {
     "data": {
      "text/html": [
       "<pre>| 7680             | 2m 35s       | 38.75%           |</pre>"
      ],
      "text/plain": [
       "| 7680             | 2m 35s       | 38.75%           |"
      ]
     },
     "metadata": {},
     "output_type": "display_data"
    },
    {
     "data": {
      "text/html": [
       "<pre>| 7744             | 2m 36s       | 39%              |</pre>"
      ],
      "text/plain": [
       "| 7744             | 2m 36s       | 39%              |"
      ]
     },
     "metadata": {},
     "output_type": "display_data"
    },
    {
     "data": {
      "text/html": [
       "<pre>| 7808             | 2m 38s       | 39.25%           |</pre>"
      ],
      "text/plain": [
       "| 7808             | 2m 38s       | 39.25%           |"
      ]
     },
     "metadata": {},
     "output_type": "display_data"
    },
    {
     "data": {
      "text/html": [
       "<pre>| 7872             | 2m 39s       | 39.75%           |</pre>"
      ],
      "text/plain": [
       "| 7872             | 2m 39s       | 39.75%           |"
      ]
     },
     "metadata": {},
     "output_type": "display_data"
    },
    {
     "data": {
      "text/html": [
       "<pre>| 7936             | 2m 40s       | 40%              |</pre>"
      ],
      "text/plain": [
       "| 7936             | 2m 40s       | 40%              |"
      ]
     },
     "metadata": {},
     "output_type": "display_data"
    },
    {
     "data": {
      "text/html": [
       "<pre>| 8000             | 2m 41s       | 40.25%           |</pre>"
      ],
      "text/plain": [
       "| 8000             | 2m 41s       | 40.25%           |"
      ]
     },
     "metadata": {},
     "output_type": "display_data"
    },
    {
     "data": {
      "text/html": [
       "<pre>| 8064             | 2m 42s       | 40.75%           |</pre>"
      ],
      "text/plain": [
       "| 8064             | 2m 42s       | 40.75%           |"
      ]
     },
     "metadata": {},
     "output_type": "display_data"
    },
    {
     "data": {
      "text/html": [
       "<pre>| 8128             | 2m 44s       | 41%              |</pre>"
      ],
      "text/plain": [
       "| 8128             | 2m 44s       | 41%              |"
      ]
     },
     "metadata": {},
     "output_type": "display_data"
    },
    {
     "data": {
      "text/html": [
       "<pre>| 8192             | 2m 45s       | 41.25%           |</pre>"
      ],
      "text/plain": [
       "| 8192             | 2m 45s       | 41.25%           |"
      ]
     },
     "metadata": {},
     "output_type": "display_data"
    },
    {
     "data": {
      "text/html": [
       "<pre>| 8256             | 2m 46s       | 41.5%            |</pre>"
      ],
      "text/plain": [
       "| 8256             | 2m 46s       | 41.5%            |"
      ]
     },
     "metadata": {},
     "output_type": "display_data"
    },
    {
     "data": {
      "text/html": [
       "<pre>| 8320             | 2m 47s       | 42%              |</pre>"
      ],
      "text/plain": [
       "| 8320             | 2m 47s       | 42%              |"
      ]
     },
     "metadata": {},
     "output_type": "display_data"
    },
    {
     "data": {
      "text/html": [
       "<pre>| 8384             | 2m 49s       | 42.25%           |</pre>"
      ],
      "text/plain": [
       "| 8384             | 2m 49s       | 42.25%           |"
      ]
     },
     "metadata": {},
     "output_type": "display_data"
    },
    {
     "data": {
      "text/html": [
       "<pre>| 8448             | 2m 50s       | 42.5%            |</pre>"
      ],
      "text/plain": [
       "| 8448             | 2m 50s       | 42.5%            |"
      ]
     },
     "metadata": {},
     "output_type": "display_data"
    },
    {
     "data": {
      "text/html": [
       "<pre>| 8512             | 2m 51s       | 43%              |</pre>"
      ],
      "text/plain": [
       "| 8512             | 2m 51s       | 43%              |"
      ]
     },
     "metadata": {},
     "output_type": "display_data"
    },
    {
     "data": {
      "text/html": [
       "<pre>| 8576             | 2m 53s       | 43.25%           |</pre>"
      ],
      "text/plain": [
       "| 8576             | 2m 53s       | 43.25%           |"
      ]
     },
     "metadata": {},
     "output_type": "display_data"
    },
    {
     "data": {
      "text/html": [
       "<pre>| 8640             | 2m 54s       | 43.5%            |</pre>"
      ],
      "text/plain": [
       "| 8640             | 2m 54s       | 43.5%            |"
      ]
     },
     "metadata": {},
     "output_type": "display_data"
    },
    {
     "data": {
      "text/html": [
       "<pre>| 8704             | 2m 55s       | 44%              |</pre>"
      ],
      "text/plain": [
       "| 8704             | 2m 55s       | 44%              |"
      ]
     },
     "metadata": {},
     "output_type": "display_data"
    },
    {
     "data": {
      "text/html": [
       "<pre>| 8768             | 2m 57s       | 44.25%           |</pre>"
      ],
      "text/plain": [
       "| 8768             | 2m 57s       | 44.25%           |"
      ]
     },
     "metadata": {},
     "output_type": "display_data"
    },
    {
     "data": {
      "text/html": [
       "<pre>| 8832             | 2m 58s       | 44.5%            |</pre>"
      ],
      "text/plain": [
       "| 8832             | 2m 58s       | 44.5%            |"
      ]
     },
     "metadata": {},
     "output_type": "display_data"
    },
    {
     "data": {
      "text/html": [
       "<pre>| 8896             | 2m 59s       | 44.75%           |</pre>"
      ],
      "text/plain": [
       "| 8896             | 2m 59s       | 44.75%           |"
      ]
     },
     "metadata": {},
     "output_type": "display_data"
    },
    {
     "data": {
      "text/html": [
       "<pre>| 8960             | 3m 1s        | 45.25%           |</pre>"
      ],
      "text/plain": [
       "| 8960             | 3m 1s        | 45.25%           |"
      ]
     },
     "metadata": {},
     "output_type": "display_data"
    },
    {
     "data": {
      "text/html": [
       "<pre>| 9024             | 3m 2s        | 45.5%            |</pre>"
      ],
      "text/plain": [
       "| 9024             | 3m 2s        | 45.5%            |"
      ]
     },
     "metadata": {},
     "output_type": "display_data"
    },
    {
     "data": {
      "text/html": [
       "<pre>| 9088             | 3m 4s        | 45.75%           |</pre>"
      ],
      "text/plain": [
       "| 9088             | 3m 4s        | 45.75%           |"
      ]
     },
     "metadata": {},
     "output_type": "display_data"
    },
    {
     "data": {
      "text/html": [
       "<pre>| 9152             | 3m 5s        | 46.25%           |</pre>"
      ],
      "text/plain": [
       "| 9152             | 3m 5s        | 46.25%           |"
      ]
     },
     "metadata": {},
     "output_type": "display_data"
    },
    {
     "data": {
      "text/html": [
       "<pre>| 9216             | 3m 6s        | 46.5%            |</pre>"
      ],
      "text/plain": [
       "| 9216             | 3m 6s        | 46.5%            |"
      ]
     },
     "metadata": {},
     "output_type": "display_data"
    },
    {
     "data": {
      "text/html": [
       "<pre>| 9280             | 3m 8s        | 46.75%           |</pre>"
      ],
      "text/plain": [
       "| 9280             | 3m 8s        | 46.75%           |"
      ]
     },
     "metadata": {},
     "output_type": "display_data"
    },
    {
     "data": {
      "text/html": [
       "<pre>| 9344             | 3m 9s        | 47%              |</pre>"
      ],
      "text/plain": [
       "| 9344             | 3m 9s        | 47%              |"
      ]
     },
     "metadata": {},
     "output_type": "display_data"
    },
    {
     "data": {
      "text/html": [
       "<pre>| 9408             | 3m 10s       | 47.5%            |</pre>"
      ],
      "text/plain": [
       "| 9408             | 3m 10s       | 47.5%            |"
      ]
     },
     "metadata": {},
     "output_type": "display_data"
    },
    {
     "data": {
      "text/html": [
       "<pre>| 9472             | 3m 11s       | 47.75%           |</pre>"
      ],
      "text/plain": [
       "| 9472             | 3m 11s       | 47.75%           |"
      ]
     },
     "metadata": {},
     "output_type": "display_data"
    },
    {
     "data": {
      "text/html": [
       "<pre>| 9536             | 3m 13s       | 48%              |</pre>"
      ],
      "text/plain": [
       "| 9536             | 3m 13s       | 48%              |"
      ]
     },
     "metadata": {},
     "output_type": "display_data"
    },
    {
     "data": {
      "text/html": [
       "<pre>| 9600             | 3m 14s       | 48.5%            |</pre>"
      ],
      "text/plain": [
       "| 9600             | 3m 14s       | 48.5%            |"
      ]
     },
     "metadata": {},
     "output_type": "display_data"
    },
    {
     "data": {
      "text/html": [
       "<pre>| 9664             | 3m 15s       | 48.75%           |</pre>"
      ],
      "text/plain": [
       "| 9664             | 3m 15s       | 48.75%           |"
      ]
     },
     "metadata": {},
     "output_type": "display_data"
    },
    {
     "data": {
      "text/html": [
       "<pre>| 9728             | 3m 17s       | 49%              |</pre>"
      ],
      "text/plain": [
       "| 9728             | 3m 17s       | 49%              |"
      ]
     },
     "metadata": {},
     "output_type": "display_data"
    },
    {
     "data": {
      "text/html": [
       "<pre>| 9792             | 3m 18s       | 49.5%            |</pre>"
      ],
      "text/plain": [
       "| 9792             | 3m 18s       | 49.5%            |"
      ]
     },
     "metadata": {},
     "output_type": "display_data"
    },
    {
     "data": {
      "text/html": [
       "<pre>| 9856             | 3m 19s       | 49.75%           |</pre>"
      ],
      "text/plain": [
       "| 9856             | 3m 19s       | 49.75%           |"
      ]
     },
     "metadata": {},
     "output_type": "display_data"
    },
    {
     "data": {
      "text/html": [
       "<pre>| 9920             | 3m 21s       | 50%              |</pre>"
      ],
      "text/plain": [
       "| 9920             | 3m 21s       | 50%              |"
      ]
     },
     "metadata": {},
     "output_type": "display_data"
    },
    {
     "data": {
      "text/html": [
       "<pre>| 9984             | 3m 22s       | 50.25%           |</pre>"
      ],
      "text/plain": [
       "| 9984             | 3m 22s       | 50.25%           |"
      ]
     },
     "metadata": {},
     "output_type": "display_data"
    },
    {
     "data": {
      "text/html": [
       "<pre>| 10048            | 3m 23s       | 50.75%           |</pre>"
      ],
      "text/plain": [
       "| 10048            | 3m 23s       | 50.75%           |"
      ]
     },
     "metadata": {},
     "output_type": "display_data"
    },
    {
     "data": {
      "text/html": [
       "<pre>| 10112            | 3m 25s       | 51%              |</pre>"
      ],
      "text/plain": [
       "| 10112            | 3m 25s       | 51%              |"
      ]
     },
     "metadata": {},
     "output_type": "display_data"
    },
    {
     "data": {
      "text/html": [
       "<pre>| 10176            | 3m 26s       | 51.25%           |</pre>"
      ],
      "text/plain": [
       "| 10176            | 3m 26s       | 51.25%           |"
      ]
     },
     "metadata": {},
     "output_type": "display_data"
    },
    {
     "data": {
      "text/html": [
       "<pre>| 10240            | 3m 27s       | 51.75%           |</pre>"
      ],
      "text/plain": [
       "| 10240            | 3m 27s       | 51.75%           |"
      ]
     },
     "metadata": {},
     "output_type": "display_data"
    },
    {
     "data": {
      "text/html": [
       "<pre>| 10304            | 3m 28s       | 52%              |</pre>"
      ],
      "text/plain": [
       "| 10304            | 3m 28s       | 52%              |"
      ]
     },
     "metadata": {},
     "output_type": "display_data"
    },
    {
     "data": {
      "text/html": [
       "<pre>| 10368            | 3m 30s       | 52.25%           |</pre>"
      ],
      "text/plain": [
       "| 10368            | 3m 30s       | 52.25%           |"
      ]
     },
     "metadata": {},
     "output_type": "display_data"
    },
    {
     "data": {
      "text/html": [
       "<pre>| 10432            | 3m 31s       | 52.75%           |</pre>"
      ],
      "text/plain": [
       "| 10432            | 3m 31s       | 52.75%           |"
      ]
     },
     "metadata": {},
     "output_type": "display_data"
    },
    {
     "data": {
      "text/html": [
       "<pre>| 10496            | 3m 32s       | 53%              |</pre>"
      ],
      "text/plain": [
       "| 10496            | 3m 32s       | 53%              |"
      ]
     },
     "metadata": {},
     "output_type": "display_data"
    },
    {
     "data": {
      "text/html": [
       "<pre>| 10560            | 3m 34s       | 53.25%           |</pre>"
      ],
      "text/plain": [
       "| 10560            | 3m 34s       | 53.25%           |"
      ]
     },
     "metadata": {},
     "output_type": "display_data"
    },
    {
     "data": {
      "text/html": [
       "<pre>| 10624            | 3m 35s       | 53.5%            |</pre>"
      ],
      "text/plain": [
       "| 10624            | 3m 35s       | 53.5%            |"
      ]
     },
     "metadata": {},
     "output_type": "display_data"
    },
    {
     "data": {
      "text/html": [
       "<pre>| 10688            | 3m 36s       | 54%              |</pre>"
      ],
      "text/plain": [
       "| 10688            | 3m 36s       | 54%              |"
      ]
     },
     "metadata": {},
     "output_type": "display_data"
    },
    {
     "data": {
      "text/html": [
       "<pre>| 10752            | 3m 37s       | 54.25%           |</pre>"
      ],
      "text/plain": [
       "| 10752            | 3m 37s       | 54.25%           |"
      ]
     },
     "metadata": {},
     "output_type": "display_data"
    },
    {
     "data": {
      "text/html": [
       "<pre>| 10816            | 3m 39s       | 54.5%            |</pre>"
      ],
      "text/plain": [
       "| 10816            | 3m 39s       | 54.5%            |"
      ]
     },
     "metadata": {},
     "output_type": "display_data"
    },
    {
     "data": {
      "text/html": [
       "<pre>| 10880            | 3m 40s       | 55%              |</pre>"
      ],
      "text/plain": [
       "| 10880            | 3m 40s       | 55%              |"
      ]
     },
     "metadata": {},
     "output_type": "display_data"
    },
    {
     "data": {
      "text/html": [
       "<pre>| 10944            | 3m 41s       | 55.25%           |</pre>"
      ],
      "text/plain": [
       "| 10944            | 3m 41s       | 55.25%           |"
      ]
     },
     "metadata": {},
     "output_type": "display_data"
    },
    {
     "data": {
      "text/html": [
       "<pre>| 11008            | 3m 43s       | 55.5%            |</pre>"
      ],
      "text/plain": [
       "| 11008            | 3m 43s       | 55.5%            |"
      ]
     },
     "metadata": {},
     "output_type": "display_data"
    },
    {
     "data": {
      "text/html": [
       "<pre>| 11072            | 3m 44s       | 55.75%           |</pre>"
      ],
      "text/plain": [
       "| 11072            | 3m 44s       | 55.75%           |"
      ]
     },
     "metadata": {},
     "output_type": "display_data"
    },
    {
     "data": {
      "text/html": [
       "<pre>| 11136            | 3m 45s       | 56.25%           |</pre>"
      ],
      "text/plain": [
       "| 11136            | 3m 45s       | 56.25%           |"
      ]
     },
     "metadata": {},
     "output_type": "display_data"
    },
    {
     "data": {
      "text/html": [
       "<pre>| 11200            | 3m 46s       | 56.5%            |</pre>"
      ],
      "text/plain": [
       "| 11200            | 3m 46s       | 56.5%            |"
      ]
     },
     "metadata": {},
     "output_type": "display_data"
    },
    {
     "data": {
      "text/html": [
       "<pre>| 11264            | 3m 48s       | 56.75%           |</pre>"
      ],
      "text/plain": [
       "| 11264            | 3m 48s       | 56.75%           |"
      ]
     },
     "metadata": {},
     "output_type": "display_data"
    },
    {
     "data": {
      "text/html": [
       "<pre>| 11328            | 3m 49s       | 57.25%           |</pre>"
      ],
      "text/plain": [
       "| 11328            | 3m 49s       | 57.25%           |"
      ]
     },
     "metadata": {},
     "output_type": "display_data"
    },
    {
     "data": {
      "text/html": [
       "<pre>| 11392            | 3m 50s       | 57.5%            |</pre>"
      ],
      "text/plain": [
       "| 11392            | 3m 50s       | 57.5%            |"
      ]
     },
     "metadata": {},
     "output_type": "display_data"
    },
    {
     "data": {
      "text/html": [
       "<pre>| 11456            | 3m 52s       | 57.75%           |</pre>"
      ],
      "text/plain": [
       "| 11456            | 3m 52s       | 57.75%           |"
      ]
     },
     "metadata": {},
     "output_type": "display_data"
    },
    {
     "data": {
      "text/html": [
       "<pre>| 11520            | 3m 53s       | 58.25%           |</pre>"
      ],
      "text/plain": [
       "| 11520            | 3m 53s       | 58.25%           |"
      ]
     },
     "metadata": {},
     "output_type": "display_data"
    },
    {
     "data": {
      "text/html": [
       "<pre>| 11584            | 3m 54s       | 58.5%            |</pre>"
      ],
      "text/plain": [
       "| 11584            | 3m 54s       | 58.5%            |"
      ]
     },
     "metadata": {},
     "output_type": "display_data"
    },
    {
     "data": {
      "text/html": [
       "<pre>| 11648            | 3m 56s       | 58.75%           |</pre>"
      ],
      "text/plain": [
       "| 11648            | 3m 56s       | 58.75%           |"
      ]
     },
     "metadata": {},
     "output_type": "display_data"
    },
    {
     "data": {
      "text/html": [
       "<pre>| 11712            | 3m 57s       | 59%              |</pre>"
      ],
      "text/plain": [
       "| 11712            | 3m 57s       | 59%              |"
      ]
     },
     "metadata": {},
     "output_type": "display_data"
    },
    {
     "data": {
      "text/html": [
       "<pre>| 11776            | 3m 59s       | 59.5%            |</pre>"
      ],
      "text/plain": [
       "| 11776            | 3m 59s       | 59.5%            |"
      ]
     },
     "metadata": {},
     "output_type": "display_data"
    },
    {
     "data": {
      "text/html": [
       "<pre>| 11840            | 4m 0s        | 59.75%           |</pre>"
      ],
      "text/plain": [
       "| 11840            | 4m 0s        | 59.75%           |"
      ]
     },
     "metadata": {},
     "output_type": "display_data"
    },
    {
     "data": {
      "text/html": [
       "<pre>| 11904            | 4m 1s        | 60%              |</pre>"
      ],
      "text/plain": [
       "| 11904            | 4m 1s        | 60%              |"
      ]
     },
     "metadata": {},
     "output_type": "display_data"
    },
    {
     "data": {
      "text/html": [
       "<pre>| 11968            | 4m 2s        | 60.5%            |</pre>"
      ],
      "text/plain": [
       "| 11968            | 4m 2s        | 60.5%            |"
      ]
     },
     "metadata": {},
     "output_type": "display_data"
    },
    {
     "data": {
      "text/html": [
       "<pre>| 12032            | 4m 4s        | 60.75%           |</pre>"
      ],
      "text/plain": [
       "| 12032            | 4m 4s        | 60.75%           |"
      ]
     },
     "metadata": {},
     "output_type": "display_data"
    },
    {
     "data": {
      "text/html": [
       "<pre>| 12096            | 4m 5s        | 61%              |</pre>"
      ],
      "text/plain": [
       "| 12096            | 4m 5s        | 61%              |"
      ]
     },
     "metadata": {},
     "output_type": "display_data"
    },
    {
     "data": {
      "text/html": [
       "<pre>| 12160            | 4m 6s        | 61.25%           |</pre>"
      ],
      "text/plain": [
       "| 12160            | 4m 6s        | 61.25%           |"
      ]
     },
     "metadata": {},
     "output_type": "display_data"
    },
    {
     "data": {
      "text/html": [
       "<pre>| 12224            | 4m 8s        | 61.75%           |</pre>"
      ],
      "text/plain": [
       "| 12224            | 4m 8s        | 61.75%           |"
      ]
     },
     "metadata": {},
     "output_type": "display_data"
    },
    {
     "data": {
      "text/html": [
       "<pre>| 12288            | 4m 9s        | 62%              |</pre>"
      ],
      "text/plain": [
       "| 12288            | 4m 9s        | 62%              |"
      ]
     },
     "metadata": {},
     "output_type": "display_data"
    },
    {
     "data": {
      "text/html": [
       "<pre>| 12352            | 4m 10s       | 62.25%           |</pre>"
      ],
      "text/plain": [
       "| 12352            | 4m 10s       | 62.25%           |"
      ]
     },
     "metadata": {},
     "output_type": "display_data"
    },
    {
     "data": {
      "text/html": [
       "<pre>| 12416            | 4m 12s       | 62.75%           |</pre>"
      ],
      "text/plain": [
       "| 12416            | 4m 12s       | 62.75%           |"
      ]
     },
     "metadata": {},
     "output_type": "display_data"
    },
    {
     "data": {
      "text/html": [
       "<pre>| 12480            | 4m 13s       | 63%              |</pre>"
      ],
      "text/plain": [
       "| 12480            | 4m 13s       | 63%              |"
      ]
     },
     "metadata": {},
     "output_type": "display_data"
    },
    {
     "data": {
      "text/html": [
       "<pre>| 12544            | 4m 14s       | 63.25%           |</pre>"
      ],
      "text/plain": [
       "| 12544            | 4m 14s       | 63.25%           |"
      ]
     },
     "metadata": {},
     "output_type": "display_data"
    },
    {
     "data": {
      "text/html": [
       "<pre>| 12608            | 4m 15s       | 63.75%           |</pre>"
      ],
      "text/plain": [
       "| 12608            | 4m 15s       | 63.75%           |"
      ]
     },
     "metadata": {},
     "output_type": "display_data"
    },
    {
     "data": {
      "text/html": [
       "<pre>| 12672            | 4m 17s       | 64%              |</pre>"
      ],
      "text/plain": [
       "| 12672            | 4m 17s       | 64%              |"
      ]
     },
     "metadata": {},
     "output_type": "display_data"
    },
    {
     "data": {
      "text/html": [
       "<pre>| 12736            | 4m 18s       | 64.25%           |</pre>"
      ],
      "text/plain": [
       "| 12736            | 4m 18s       | 64.25%           |"
      ]
     },
     "metadata": {},
     "output_type": "display_data"
    },
    {
     "data": {
      "text/html": [
       "<pre>| 12800            | 4m 19s       | 64.5%            |</pre>"
      ],
      "text/plain": [
       "| 12800            | 4m 19s       | 64.5%            |"
      ]
     },
     "metadata": {},
     "output_type": "display_data"
    },
    {
     "data": {
      "text/html": [
       "<pre>| 12864            | 4m 21s       | 65%              |</pre>"
      ],
      "text/plain": [
       "| 12864            | 4m 21s       | 65%              |"
      ]
     },
     "metadata": {},
     "output_type": "display_data"
    },
    {
     "data": {
      "text/html": [
       "<pre>| 12928            | 4m 22s       | 65.25%           |</pre>"
      ],
      "text/plain": [
       "| 12928            | 4m 22s       | 65.25%           |"
      ]
     },
     "metadata": {},
     "output_type": "display_data"
    },
    {
     "data": {
      "text/html": [
       "<pre>| 12992            | 4m 23s       | 65.5%            |</pre>"
      ],
      "text/plain": [
       "| 12992            | 4m 23s       | 65.5%            |"
      ]
     },
     "metadata": {},
     "output_type": "display_data"
    },
    {
     "data": {
      "text/html": [
       "<pre>| 13056            | 4m 25s       | 66%              |</pre>"
      ],
      "text/plain": [
       "| 13056            | 4m 25s       | 66%              |"
      ]
     },
     "metadata": {},
     "output_type": "display_data"
    },
    {
     "data": {
      "text/html": [
       "<pre>| 13120            | 4m 26s       | 66.25%           |</pre>"
      ],
      "text/plain": [
       "| 13120            | 4m 26s       | 66.25%           |"
      ]
     },
     "metadata": {},
     "output_type": "display_data"
    },
    {
     "data": {
      "text/html": [
       "<pre>| 13184            | 4m 27s       | 66.5%            |</pre>"
      ],
      "text/plain": [
       "| 13184            | 4m 27s       | 66.5%            |"
      ]
     },
     "metadata": {},
     "output_type": "display_data"
    },
    {
     "data": {
      "text/html": [
       "<pre>| 13248            | 4m 29s       | 66.75%           |</pre>"
      ],
      "text/plain": [
       "| 13248            | 4m 29s       | 66.75%           |"
      ]
     },
     "metadata": {},
     "output_type": "display_data"
    },
    {
     "data": {
      "text/html": [
       "<pre>| 13312            | 4m 30s       | 67.25%           |</pre>"
      ],
      "text/plain": [
       "| 13312            | 4m 30s       | 67.25%           |"
      ]
     },
     "metadata": {},
     "output_type": "display_data"
    },
    {
     "data": {
      "text/html": [
       "<pre>| 13376            | 4m 31s       | 67.5%            |</pre>"
      ],
      "text/plain": [
       "| 13376            | 4m 31s       | 67.5%            |"
      ]
     },
     "metadata": {},
     "output_type": "display_data"
    },
    {
     "data": {
      "text/html": [
       "<pre>| 13440            | 4m 32s       | 67.75%           |</pre>"
      ],
      "text/plain": [
       "| 13440            | 4m 32s       | 67.75%           |"
      ]
     },
     "metadata": {},
     "output_type": "display_data"
    },
    {
     "data": {
      "text/html": [
       "<pre>| 13504            | 4m 34s       | 68.25%           |</pre>"
      ],
      "text/plain": [
       "| 13504            | 4m 34s       | 68.25%           |"
      ]
     },
     "metadata": {},
     "output_type": "display_data"
    },
    {
     "data": {
      "text/html": [
       "<pre>| 13568            | 4m 35s       | 68.5%            |</pre>"
      ],
      "text/plain": [
       "| 13568            | 4m 35s       | 68.5%            |"
      ]
     },
     "metadata": {},
     "output_type": "display_data"
    },
    {
     "data": {
      "text/html": [
       "<pre>| 13632            | 4m 36s       | 68.75%           |</pre>"
      ],
      "text/plain": [
       "| 13632            | 4m 36s       | 68.75%           |"
      ]
     },
     "metadata": {},
     "output_type": "display_data"
    },
    {
     "data": {
      "text/html": [
       "<pre>| 13696            | 4m 38s       | 69.25%           |</pre>"
      ],
      "text/plain": [
       "| 13696            | 4m 38s       | 69.25%           |"
      ]
     },
     "metadata": {},
     "output_type": "display_data"
    },
    {
     "data": {
      "text/html": [
       "<pre>| 13760            | 4m 39s       | 69.5%            |</pre>"
      ],
      "text/plain": [
       "| 13760            | 4m 39s       | 69.5%            |"
      ]
     },
     "metadata": {},
     "output_type": "display_data"
    },
    {
     "data": {
      "text/html": [
       "<pre>| 13824            | 4m 40s       | 69.75%           |</pre>"
      ],
      "text/plain": [
       "| 13824            | 4m 40s       | 69.75%           |"
      ]
     },
     "metadata": {},
     "output_type": "display_data"
    },
    {
     "data": {
      "text/html": [
       "<pre>| 13888            | 4m 42s       | 70%              |</pre>"
      ],
      "text/plain": [
       "| 13888            | 4m 42s       | 70%              |"
      ]
     },
     "metadata": {},
     "output_type": "display_data"
    },
    {
     "data": {
      "text/html": [
       "<pre>| 13952            | 4m 43s       | 70.5%            |</pre>"
      ],
      "text/plain": [
       "| 13952            | 4m 43s       | 70.5%            |"
      ]
     },
     "metadata": {},
     "output_type": "display_data"
    },
    {
     "data": {
      "text/html": [
       "<pre>| 14016            | 4m 44s       | 70.75%           |</pre>"
      ],
      "text/plain": [
       "| 14016            | 4m 44s       | 70.75%           |"
      ]
     },
     "metadata": {},
     "output_type": "display_data"
    },
    {
     "data": {
      "text/html": [
       "<pre>| 14080            | 4m 45s       | 71%              |</pre>"
      ],
      "text/plain": [
       "| 14080            | 4m 45s       | 71%              |"
      ]
     },
     "metadata": {},
     "output_type": "display_data"
    },
    {
     "data": {
      "text/html": [
       "<pre>| 14144            | 4m 47s       | 71.5%            |</pre>"
      ],
      "text/plain": [
       "| 14144            | 4m 47s       | 71.5%            |"
      ]
     },
     "metadata": {},
     "output_type": "display_data"
    },
    {
     "data": {
      "text/html": [
       "<pre>| 14208            | 4m 48s       | 71.75%           |</pre>"
      ],
      "text/plain": [
       "| 14208            | 4m 48s       | 71.75%           |"
      ]
     },
     "metadata": {},
     "output_type": "display_data"
    },
    {
     "data": {
      "text/html": [
       "<pre>| 14272            | 4m 49s       | 72%              |</pre>"
      ],
      "text/plain": [
       "| 14272            | 4m 49s       | 72%              |"
      ]
     },
     "metadata": {},
     "output_type": "display_data"
    },
    {
     "data": {
      "text/html": [
       "<pre>| 14336            | 4m 51s       | 72.25%           |</pre>"
      ],
      "text/plain": [
       "| 14336            | 4m 51s       | 72.25%           |"
      ]
     },
     "metadata": {},
     "output_type": "display_data"
    },
    {
     "data": {
      "text/html": [
       "<pre>| 14400            | 4m 52s       | 72.75%           |</pre>"
      ],
      "text/plain": [
       "| 14400            | 4m 52s       | 72.75%           |"
      ]
     },
     "metadata": {},
     "output_type": "display_data"
    },
    {
     "data": {
      "text/html": [
       "<pre>| 14464            | 4m 53s       | 73%              |</pre>"
      ],
      "text/plain": [
       "| 14464            | 4m 53s       | 73%              |"
      ]
     },
     "metadata": {},
     "output_type": "display_data"
    },
    {
     "data": {
      "text/html": [
       "<pre>| 14528            | 4m 55s       | 73.25%           |</pre>"
      ],
      "text/plain": [
       "| 14528            | 4m 55s       | 73.25%           |"
      ]
     },
     "metadata": {},
     "output_type": "display_data"
    },
    {
     "data": {
      "text/html": [
       "<pre>| 14592            | 4m 56s       | 73.75%           |</pre>"
      ],
      "text/plain": [
       "| 14592            | 4m 56s       | 73.75%           |"
      ]
     },
     "metadata": {},
     "output_type": "display_data"
    },
    {
     "data": {
      "text/html": [
       "<pre>| 14656            | 4m 57s       | 74%              |</pre>"
      ],
      "text/plain": [
       "| 14656            | 4m 57s       | 74%              |"
      ]
     },
     "metadata": {},
     "output_type": "display_data"
    },
    {
     "data": {
      "text/html": [
       "<pre>| 14720            | 4m 58s       | 74.25%           |</pre>"
      ],
      "text/plain": [
       "| 14720            | 4m 58s       | 74.25%           |"
      ]
     },
     "metadata": {},
     "output_type": "display_data"
    },
    {
     "data": {
      "text/html": [
       "<pre>| 14784            | 5m 0s        | 74.75%           |</pre>"
      ],
      "text/plain": [
       "| 14784            | 5m 0s        | 74.75%           |"
      ]
     },
     "metadata": {},
     "output_type": "display_data"
    },
    {
     "data": {
      "text/html": [
       "<pre>| 14848            | 5m 1s        | 75%              |</pre>"
      ],
      "text/plain": [
       "| 14848            | 5m 1s        | 75%              |"
      ]
     },
     "metadata": {},
     "output_type": "display_data"
    },
    {
     "data": {
      "text/html": [
       "<pre>| 14912            | 5m 2s        | 75.25%           |</pre>"
      ],
      "text/plain": [
       "| 14912            | 5m 2s        | 75.25%           |"
      ]
     },
     "metadata": {},
     "output_type": "display_data"
    },
    {
     "data": {
      "text/html": [
       "<pre>| 14976            | 5m 4s        | 75.5%            |</pre>"
      ],
      "text/plain": [
       "| 14976            | 5m 4s        | 75.5%            |"
      ]
     },
     "metadata": {},
     "output_type": "display_data"
    },
    {
     "data": {
      "text/html": [
       "<pre>| 15040            | 5m 5s        | 76%              |</pre>"
      ],
      "text/plain": [
       "| 15040            | 5m 5s        | 76%              |"
      ]
     },
     "metadata": {},
     "output_type": "display_data"
    },
    {
     "data": {
      "text/html": [
       "<pre>| 15104            | 5m 6s        | 76.25%           |</pre>"
      ],
      "text/plain": [
       "| 15104            | 5m 6s        | 76.25%           |"
      ]
     },
     "metadata": {},
     "output_type": "display_data"
    },
    {
     "data": {
      "text/html": [
       "<pre>| 15168            | 5m 7s        | 76.5%            |</pre>"
      ],
      "text/plain": [
       "| 15168            | 5m 7s        | 76.5%            |"
      ]
     },
     "metadata": {},
     "output_type": "display_data"
    },
    {
     "data": {
      "text/html": [
       "<pre>| 15232            | 5m 9s        | 77%              |</pre>"
      ],
      "text/plain": [
       "| 15232            | 5m 9s        | 77%              |"
      ]
     },
     "metadata": {},
     "output_type": "display_data"
    },
    {
     "data": {
      "text/html": [
       "<pre>| 15296            | 5m 10s       | 77.25%           |</pre>"
      ],
      "text/plain": [
       "| 15296            | 5m 10s       | 77.25%           |"
      ]
     },
     "metadata": {},
     "output_type": "display_data"
    },
    {
     "data": {
      "text/html": [
       "<pre>| 15360            | 5m 11s       | 77.5%            |</pre>"
      ],
      "text/plain": [
       "| 15360            | 5m 11s       | 77.5%            |"
      ]
     },
     "metadata": {},
     "output_type": "display_data"
    },
    {
     "data": {
      "text/html": [
       "<pre>| 15424            | 5m 13s       | 77.75%           |</pre>"
      ],
      "text/plain": [
       "| 15424            | 5m 13s       | 77.75%           |"
      ]
     },
     "metadata": {},
     "output_type": "display_data"
    },
    {
     "data": {
      "text/html": [
       "<pre>| 15488            | 5m 14s       | 78.25%           |</pre>"
      ],
      "text/plain": [
       "| 15488            | 5m 14s       | 78.25%           |"
      ]
     },
     "metadata": {},
     "output_type": "display_data"
    },
    {
     "data": {
      "text/html": [
       "<pre>| 15552            | 5m 15s       | 78.5%            |</pre>"
      ],
      "text/plain": [
       "| 15552            | 5m 15s       | 78.5%            |"
      ]
     },
     "metadata": {},
     "output_type": "display_data"
    },
    {
     "data": {
      "text/html": [
       "<pre>| 15616            | 5m 17s       | 78.75%           |</pre>"
      ],
      "text/plain": [
       "| 15616            | 5m 17s       | 78.75%           |"
      ]
     },
     "metadata": {},
     "output_type": "display_data"
    },
    {
     "data": {
      "text/html": [
       "<pre>| 15680            | 5m 18s       | 79.25%           |</pre>"
      ],
      "text/plain": [
       "| 15680            | 5m 18s       | 79.25%           |"
      ]
     },
     "metadata": {},
     "output_type": "display_data"
    },
    {
     "data": {
      "text/html": [
       "<pre>| 15744            | 5m 19s       | 79.5%            |</pre>"
      ],
      "text/plain": [
       "| 15744            | 5m 19s       | 79.5%            |"
      ]
     },
     "metadata": {},
     "output_type": "display_data"
    },
    {
     "data": {
      "text/html": [
       "<pre>| 15808            | 5m 21s       | 79.75%           |</pre>"
      ],
      "text/plain": [
       "| 15808            | 5m 21s       | 79.75%           |"
      ]
     },
     "metadata": {},
     "output_type": "display_data"
    },
    {
     "data": {
      "text/html": [
       "<pre>| 15872            | 5m 22s       | 80.25%           |</pre>"
      ],
      "text/plain": [
       "| 15872            | 5m 22s       | 80.25%           |"
      ]
     },
     "metadata": {},
     "output_type": "display_data"
    },
    {
     "data": {
      "text/html": [
       "<pre>| 15936            | 5m 23s       | 80.5%            |</pre>"
      ],
      "text/plain": [
       "| 15936            | 5m 23s       | 80.5%            |"
      ]
     },
     "metadata": {},
     "output_type": "display_data"
    },
    {
     "data": {
      "text/html": [
       "<pre>| 16000            | 5m 24s       | 80.75%           |</pre>"
      ],
      "text/plain": [
       "| 16000            | 5m 24s       | 80.75%           |"
      ]
     },
     "metadata": {},
     "output_type": "display_data"
    },
    {
     "data": {
      "text/html": [
       "<pre>| 16064            | 5m 26s       | 81%              |</pre>"
      ],
      "text/plain": [
       "| 16064            | 5m 26s       | 81%              |"
      ]
     },
     "metadata": {},
     "output_type": "display_data"
    },
    {
     "data": {
      "text/html": [
       "<pre>| 16128            | 5m 27s       | 81.5%            |</pre>"
      ],
      "text/plain": [
       "| 16128            | 5m 27s       | 81.5%            |"
      ]
     },
     "metadata": {},
     "output_type": "display_data"
    },
    {
     "data": {
      "text/html": [
       "<pre>| 16192            | 5m 28s       | 81.75%           |</pre>"
      ],
      "text/plain": [
       "| 16192            | 5m 28s       | 81.75%           |"
      ]
     },
     "metadata": {},
     "output_type": "display_data"
    },
    {
     "data": {
      "text/html": [
       "<pre>| 16256            | 5m 30s       | 82%              |</pre>"
      ],
      "text/plain": [
       "| 16256            | 5m 30s       | 82%              |"
      ]
     },
     "metadata": {},
     "output_type": "display_data"
    },
    {
     "data": {
      "text/html": [
       "<pre>| 16320            | 5m 31s       | 82.5%            |</pre>"
      ],
      "text/plain": [
       "| 16320            | 5m 31s       | 82.5%            |"
      ]
     },
     "metadata": {},
     "output_type": "display_data"
    },
    {
     "data": {
      "text/html": [
       "<pre>| 16384            | 5m 32s       | 82.75%           |</pre>"
      ],
      "text/plain": [
       "| 16384            | 5m 32s       | 82.75%           |"
      ]
     },
     "metadata": {},
     "output_type": "display_data"
    },
    {
     "data": {
      "text/html": [
       "<pre>| 16448            | 5m 34s       | 83%              |</pre>"
      ],
      "text/plain": [
       "| 16448            | 5m 34s       | 83%              |"
      ]
     },
     "metadata": {},
     "output_type": "display_data"
    },
    {
     "data": {
      "text/html": [
       "<pre>| 16512            | 5m 35s       | 83.25%           |</pre>"
      ],
      "text/plain": [
       "| 16512            | 5m 35s       | 83.25%           |"
      ]
     },
     "metadata": {},
     "output_type": "display_data"
    },
    {
     "data": {
      "text/html": [
       "<pre>| 16576            | 5m 36s       | 83.75%           |</pre>"
      ],
      "text/plain": [
       "| 16576            | 5m 36s       | 83.75%           |"
      ]
     },
     "metadata": {},
     "output_type": "display_data"
    },
    {
     "data": {
      "text/html": [
       "<pre>| 16640            | 5m 37s       | 84%              |</pre>"
      ],
      "text/plain": [
       "| 16640            | 5m 37s       | 84%              |"
      ]
     },
     "metadata": {},
     "output_type": "display_data"
    },
    {
     "data": {
      "text/html": [
       "<pre>| 16704            | 5m 39s       | 84.25%           |</pre>"
      ],
      "text/plain": [
       "| 16704            | 5m 39s       | 84.25%           |"
      ]
     },
     "metadata": {},
     "output_type": "display_data"
    },
    {
     "data": {
      "text/html": [
       "<pre>| 16768            | 5m 40s       | 84.75%           |</pre>"
      ],
      "text/plain": [
       "| 16768            | 5m 40s       | 84.75%           |"
      ]
     },
     "metadata": {},
     "output_type": "display_data"
    },
    {
     "data": {
      "text/html": [
       "<pre>| 16832            | 5m 41s       | 85%              |</pre>"
      ],
      "text/plain": [
       "| 16832            | 5m 41s       | 85%              |"
      ]
     },
     "metadata": {},
     "output_type": "display_data"
    },
    {
     "data": {
      "text/html": [
       "<pre>| 16896            | 5m 43s       | 85.25%           |</pre>"
      ],
      "text/plain": [
       "| 16896            | 5m 43s       | 85.25%           |"
      ]
     },
     "metadata": {},
     "output_type": "display_data"
    },
    {
     "data": {
      "text/html": [
       "<pre>| 16960            | 5m 44s       | 85.75%           |</pre>"
      ],
      "text/plain": [
       "| 16960            | 5m 44s       | 85.75%           |"
      ]
     },
     "metadata": {},
     "output_type": "display_data"
    },
    {
     "data": {
      "text/html": [
       "<pre>| 17024            | 5m 45s       | 86%              |</pre>"
      ],
      "text/plain": [
       "| 17024            | 5m 45s       | 86%              |"
      ]
     },
     "metadata": {},
     "output_type": "display_data"
    },
    {
     "data": {
      "text/html": [
       "<pre>| 17088            | 5m 47s       | 86.25%           |</pre>"
      ],
      "text/plain": [
       "| 17088            | 5m 47s       | 86.25%           |"
      ]
     },
     "metadata": {},
     "output_type": "display_data"
    },
    {
     "data": {
      "text/html": [
       "<pre>| 17152            | 5m 48s       | 86.5%            |</pre>"
      ],
      "text/plain": [
       "| 17152            | 5m 48s       | 86.5%            |"
      ]
     },
     "metadata": {},
     "output_type": "display_data"
    },
    {
     "data": {
      "text/html": [
       "<pre>| 17216            | 5m 49s       | 87%              |</pre>"
      ],
      "text/plain": [
       "| 17216            | 5m 49s       | 87%              |"
      ]
     },
     "metadata": {},
     "output_type": "display_data"
    },
    {
     "data": {
      "text/html": [
       "<pre>| 17280            | 5m 51s       | 87.25%           |</pre>"
      ],
      "text/plain": [
       "| 17280            | 5m 51s       | 87.25%           |"
      ]
     },
     "metadata": {},
     "output_type": "display_data"
    },
    {
     "data": {
      "text/html": [
       "<pre>| 17344            | 5m 52s       | 87.5%            |</pre>"
      ],
      "text/plain": [
       "| 17344            | 5m 52s       | 87.5%            |"
      ]
     },
     "metadata": {},
     "output_type": "display_data"
    },
    {
     "data": {
      "text/html": [
       "<pre>| 17408            | 5m 53s       | 88%              |</pre>"
      ],
      "text/plain": [
       "| 17408            | 5m 53s       | 88%              |"
      ]
     },
     "metadata": {},
     "output_type": "display_data"
    },
    {
     "data": {
      "text/html": [
       "<pre>| 17472            | 5m 54s       | 88.25%           |</pre>"
      ],
      "text/plain": [
       "| 17472            | 5m 54s       | 88.25%           |"
      ]
     },
     "metadata": {},
     "output_type": "display_data"
    },
    {
     "data": {
      "text/html": [
       "<pre>| 17536            | 5m 56s       | 88.5%            |</pre>"
      ],
      "text/plain": [
       "| 17536            | 5m 56s       | 88.5%            |"
      ]
     },
     "metadata": {},
     "output_type": "display_data"
    },
    {
     "data": {
      "text/html": [
       "<pre>| 17600            | 5m 57s       | 88.75%           |</pre>"
      ],
      "text/plain": [
       "| 17600            | 5m 57s       | 88.75%           |"
      ]
     },
     "metadata": {},
     "output_type": "display_data"
    },
    {
     "data": {
      "text/html": [
       "<pre>| 17664            | 5m 58s       | 89.25%           |</pre>"
      ],
      "text/plain": [
       "| 17664            | 5m 58s       | 89.25%           |"
      ]
     },
     "metadata": {},
     "output_type": "display_data"
    },
    {
     "data": {
      "text/html": [
       "<pre>| 17728            | 6m 0s        | 89.5%            |</pre>"
      ],
      "text/plain": [
       "| 17728            | 6m 0s        | 89.5%            |"
      ]
     },
     "metadata": {},
     "output_type": "display_data"
    },
    {
     "data": {
      "text/html": [
       "<pre>| 17792            | 6m 1s        | 89.75%           |</pre>"
      ],
      "text/plain": [
       "| 17792            | 6m 1s        | 89.75%           |"
      ]
     },
     "metadata": {},
     "output_type": "display_data"
    },
    {
     "data": {
      "text/html": [
       "<pre>| 17856            | 6m 2s        | 90.25%           |</pre>"
      ],
      "text/plain": [
       "| 17856            | 6m 2s        | 90.25%           |"
      ]
     },
     "metadata": {},
     "output_type": "display_data"
    },
    {
     "data": {
      "text/html": [
       "<pre>| 17920            | 6m 4s        | 90.5%            |</pre>"
      ],
      "text/plain": [
       "| 17920            | 6m 4s        | 90.5%            |"
      ]
     },
     "metadata": {},
     "output_type": "display_data"
    },
    {
     "data": {
      "text/html": [
       "<pre>| 17984            | 6m 5s        | 90.75%           |</pre>"
      ],
      "text/plain": [
       "| 17984            | 6m 5s        | 90.75%           |"
      ]
     },
     "metadata": {},
     "output_type": "display_data"
    },
    {
     "data": {
      "text/html": [
       "<pre>| 18048            | 6m 6s        | 91.25%           |</pre>"
      ],
      "text/plain": [
       "| 18048            | 6m 6s        | 91.25%           |"
      ]
     },
     "metadata": {},
     "output_type": "display_data"
    },
    {
     "data": {
      "text/html": [
       "<pre>| 18112            | 6m 7s        | 91.5%            |</pre>"
      ],
      "text/plain": [
       "| 18112            | 6m 7s        | 91.5%            |"
      ]
     },
     "metadata": {},
     "output_type": "display_data"
    },
    {
     "data": {
      "text/html": [
       "<pre>| 18176            | 6m 9s        | 91.75%           |</pre>"
      ],
      "text/plain": [
       "| 18176            | 6m 9s        | 91.75%           |"
      ]
     },
     "metadata": {},
     "output_type": "display_data"
    },
    {
     "data": {
      "text/html": [
       "<pre>| 18240            | 6m 10s       | 92%              |</pre>"
      ],
      "text/plain": [
       "| 18240            | 6m 10s       | 92%              |"
      ]
     },
     "metadata": {},
     "output_type": "display_data"
    },
    {
     "data": {
      "text/html": [
       "<pre>| 18304            | 6m 11s       | 92.5%            |</pre>"
      ],
      "text/plain": [
       "| 18304            | 6m 11s       | 92.5%            |"
      ]
     },
     "metadata": {},
     "output_type": "display_data"
    },
    {
     "data": {
      "text/html": [
       "<pre>| 18368            | 6m 13s       | 92.75%           |</pre>"
      ],
      "text/plain": [
       "| 18368            | 6m 13s       | 92.75%           |"
      ]
     },
     "metadata": {},
     "output_type": "display_data"
    },
    {
     "data": {
      "text/html": [
       "<pre>| 18432            | 6m 14s       | 93%              |</pre>"
      ],
      "text/plain": [
       "| 18432            | 6m 14s       | 93%              |"
      ]
     },
     "metadata": {},
     "output_type": "display_data"
    },
    {
     "data": {
      "text/html": [
       "<pre>| 18496            | 6m 15s       | 93.5%            |</pre>"
      ],
      "text/plain": [
       "| 18496            | 6m 15s       | 93.5%            |"
      ]
     },
     "metadata": {},
     "output_type": "display_data"
    },
    {
     "data": {
      "text/html": [
       "<pre>| 18560            | 6m 17s       | 93.75%           |</pre>"
      ],
      "text/plain": [
       "| 18560            | 6m 17s       | 93.75%           |"
      ]
     },
     "metadata": {},
     "output_type": "display_data"
    },
    {
     "data": {
      "text/html": [
       "<pre>| 18624            | 6m 18s       | 94%              |</pre>"
      ],
      "text/plain": [
       "| 18624            | 6m 18s       | 94%              |"
      ]
     },
     "metadata": {},
     "output_type": "display_data"
    },
    {
     "data": {
      "text/html": [
       "<pre>| 18688            | 6m 19s       | 94.25%           |</pre>"
      ],
      "text/plain": [
       "| 18688            | 6m 19s       | 94.25%           |"
      ]
     },
     "metadata": {},
     "output_type": "display_data"
    },
    {
     "data": {
      "text/html": [
       "<pre>| 18752            | 6m 21s       | 94.75%           |</pre>"
      ],
      "text/plain": [
       "| 18752            | 6m 21s       | 94.75%           |"
      ]
     },
     "metadata": {},
     "output_type": "display_data"
    },
    {
     "data": {
      "text/html": [
       "<pre>| 18816            | 6m 22s       | 95%              |</pre>"
      ],
      "text/plain": [
       "| 18816            | 6m 22s       | 95%              |"
      ]
     },
     "metadata": {},
     "output_type": "display_data"
    },
    {
     "data": {
      "text/html": [
       "<pre>| 18880            | 6m 23s       | 95.25%           |</pre>"
      ],
      "text/plain": [
       "| 18880            | 6m 23s       | 95.25%           |"
      ]
     },
     "metadata": {},
     "output_type": "display_data"
    },
    {
     "data": {
      "text/html": [
       "<pre>| 18944            | 6m 24s       | 95.75%           |</pre>"
      ],
      "text/plain": [
       "| 18944            | 6m 24s       | 95.75%           |"
      ]
     },
     "metadata": {},
     "output_type": "display_data"
    },
    {
     "data": {
      "text/html": [
       "<pre>| 19008            | 6m 26s       | 96%              |</pre>"
      ],
      "text/plain": [
       "| 19008            | 6m 26s       | 96%              |"
      ]
     },
     "metadata": {},
     "output_type": "display_data"
    },
    {
     "data": {
      "text/html": [
       "<pre>| 19072            | 6m 27s       | 96.25%           |</pre>"
      ],
      "text/plain": [
       "| 19072            | 6m 27s       | 96.25%           |"
      ]
     },
     "metadata": {},
     "output_type": "display_data"
    },
    {
     "data": {
      "text/html": [
       "<pre>| 19328            | 6m 32s       | 97.5%            |</pre>"
      ],
      "text/plain": [
       "| 19328            | 6m 32s       | 97.5%            |"
      ]
     },
     "metadata": {},
     "output_type": "display_data"
    },
    {
     "data": {
      "text/html": [
       "<pre>| 19392            | 6m 34s       | 98%              |</pre>"
      ],
      "text/plain": [
       "| 19392            | 6m 34s       | 98%              |"
      ]
     },
     "metadata": {},
     "output_type": "display_data"
    },
    {
     "data": {
      "text/html": [
       "<pre>| 19456            | 6m 35s       | 98.25%           |</pre>"
      ],
      "text/plain": [
       "| 19456            | 6m 35s       | 98.25%           |"
      ]
     },
     "metadata": {},
     "output_type": "display_data"
    },
    {
     "data": {
      "text/html": [
       "<pre>+------------------+--------------+------------------+</pre>"
      ],
      "text/plain": [
       "+------------------+--------------+------------------+"
      ]
     },
     "metadata": {},
     "output_type": "display_data"
    },
    {
     "name": "stdout",
     "output_type": "stream",
     "text": [
      "PROGRESS: Creating a validation set from 5 percent of training data. This may take a while.\n",
      "          You can set ``validation_set=None`` to disable validation tracking.\n",
      "\n"
     ]
    },
    {
     "data": {
      "text/html": [
       "<pre>Logistic regression:</pre>"
      ],
      "text/plain": [
       "Logistic regression:"
      ]
     },
     "metadata": {},
     "output_type": "display_data"
    },
    {
     "data": {
      "text/html": [
       "<pre>--------------------------------------------------------</pre>"
      ],
      "text/plain": [
       "--------------------------------------------------------"
      ]
     },
     "metadata": {},
     "output_type": "display_data"
    },
    {
     "data": {
      "text/html": [
       "<pre>Number of examples          : 18760</pre>"
      ],
      "text/plain": [
       "Number of examples          : 18760"
      ]
     },
     "metadata": {},
     "output_type": "display_data"
    },
    {
     "data": {
      "text/html": [
       "<pre>Number of classes           : 2</pre>"
      ],
      "text/plain": [
       "Number of classes           : 2"
      ]
     },
     "metadata": {},
     "output_type": "display_data"
    },
    {
     "data": {
      "text/html": [
       "<pre>Number of feature columns   : 1</pre>"
      ],
      "text/plain": [
       "Number of feature columns   : 1"
      ]
     },
     "metadata": {},
     "output_type": "display_data"
    },
    {
     "data": {
      "text/html": [
       "<pre>Number of unpacked features : 2048</pre>"
      ],
      "text/plain": [
       "Number of unpacked features : 2048"
      ]
     },
     "metadata": {},
     "output_type": "display_data"
    },
    {
     "data": {
      "text/html": [
       "<pre>Number of coefficients      : 2049</pre>"
      ],
      "text/plain": [
       "Number of coefficients      : 2049"
      ]
     },
     "metadata": {},
     "output_type": "display_data"
    },
    {
     "data": {
      "text/html": [
       "<pre>Starting L-BFGS</pre>"
      ],
      "text/plain": [
       "Starting L-BFGS"
      ]
     },
     "metadata": {},
     "output_type": "display_data"
    },
    {
     "data": {
      "text/html": [
       "<pre>--------------------------------------------------------</pre>"
      ],
      "text/plain": [
       "--------------------------------------------------------"
      ]
     },
     "metadata": {},
     "output_type": "display_data"
    },
    {
     "data": {
      "text/html": [
       "<pre>+-----------+----------+-----------+--------------+-------------------+---------------------+</pre>"
      ],
      "text/plain": [
       "+-----------+----------+-----------+--------------+-------------------+---------------------+"
      ]
     },
     "metadata": {},
     "output_type": "display_data"
    },
    {
     "data": {
      "text/html": [
       "<pre>| Iteration | Passes   | Step size | Elapsed Time | Training-accuracy | Validation-accuracy |</pre>"
      ],
      "text/plain": [
       "| Iteration | Passes   | Step size | Elapsed Time | Training-accuracy | Validation-accuracy |"
      ]
     },
     "metadata": {},
     "output_type": "display_data"
    },
    {
     "data": {
      "text/html": [
       "<pre>+-----------+----------+-----------+--------------+-------------------+---------------------+</pre>"
      ],
      "text/plain": [
       "+-----------+----------+-----------+--------------+-------------------+---------------------+"
      ]
     },
     "metadata": {},
     "output_type": "display_data"
    },
    {
     "data": {
      "text/html": [
       "<pre>| 1         | 3        | 0.000053  | 1.013662     | 0.977239          | 0.982090            |</pre>"
      ],
      "text/plain": [
       "| 1         | 3        | 0.000053  | 1.013662     | 0.977239          | 0.982090            |"
      ]
     },
     "metadata": {},
     "output_type": "display_data"
    },
    {
     "data": {
      "text/html": [
       "<pre>| 2         | 6        | 0.500000  | 2.375037     | 0.980544          | 0.987065            |</pre>"
      ],
      "text/plain": [
       "| 2         | 6        | 0.500000  | 2.375037     | 0.980544          | 0.987065            |"
      ]
     },
     "metadata": {},
     "output_type": "display_data"
    },
    {
     "data": {
      "text/html": [
       "<pre>| 3         | 7        | 0.500000  | 3.061365     | 0.982463          | 0.988060            |</pre>"
      ],
      "text/plain": [
       "| 3         | 7        | 0.500000  | 3.061365     | 0.982463          | 0.988060            |"
      ]
     },
     "metadata": {},
     "output_type": "display_data"
    },
    {
     "data": {
      "text/html": [
       "<pre>| 4         | 8        | 0.500000  | 3.720258     | 0.983742          | 0.988060            |</pre>"
      ],
      "text/plain": [
       "| 4         | 8        | 0.500000  | 3.720258     | 0.983742          | 0.988060            |"
      ]
     },
     "metadata": {},
     "output_type": "display_data"
    },
    {
     "data": {
      "text/html": [
       "<pre>| 5         | 9        | 0.500000  | 4.449610     | 0.984861          | 0.988060            |</pre>"
      ],
      "text/plain": [
       "| 5         | 9        | 0.500000  | 4.449610     | 0.984861          | 0.988060            |"
      ]
     },
     "metadata": {},
     "output_type": "display_data"
    },
    {
     "data": {
      "text/html": [
       "<pre>| 10        | 14       | 0.500000  | 8.114968     | 0.990991          | 0.994030            |</pre>"
      ],
      "text/plain": [
       "| 10        | 14       | 0.500000  | 8.114968     | 0.990991          | 0.994030            |"
      ]
     },
     "metadata": {},
     "output_type": "display_data"
    },
    {
     "data": {
      "text/html": [
       "<pre>+-----------+----------+-----------+--------------+-------------------+---------------------+</pre>"
      ],
      "text/plain": [
       "+-----------+----------+-----------+--------------+-------------------+---------------------+"
      ]
     },
     "metadata": {},
     "output_type": "display_data"
    },
    {
     "data": {
      "text/html": [
       "<pre>Completed (Iteration limit reached).</pre>"
      ],
      "text/plain": [
       "Completed (Iteration limit reached)."
      ]
     },
     "metadata": {},
     "output_type": "display_data"
    },
    {
     "data": {
      "text/html": [
       "<pre>This model may not be optimal. To improve it, consider increasing `max_iterations`.</pre>"
      ],
      "text/plain": [
       "This model may not be optimal. To improve it, consider increasing `max_iterations`."
      ]
     },
     "metadata": {},
     "output_type": "display_data"
    }
   ],
   "source": [
    "model = tc.image_classifier.create(train_data, target='label')"
   ]
  },
  {
   "cell_type": "markdown",
   "metadata": {},
   "source": [
    "| 19456            | 6m 35s       | 98.25%           |\n",
    "\n",
    "Logistic regression\n",
    "\n",
    "+--------------------------------------------------------\n",
    "\n",
    "Number of examples          : 18760\n",
    "\n",
    "Number of classes           : 2\n",
    "\n",
    "Number of feature columns   : 1\n",
    "\n",
    "Number of unpacked features : 2048\n",
    "\n",
    "Number of coefficients      : 2049\n",
    "\n",
    "Starting L-BFGS\n",
    "\n",
    "+--------------------------------------------------------"
   ]
  },
  {
   "cell_type": "code",
   "execution_count": 6,
   "metadata": {},
   "outputs": [
    {
     "data": {
      "text/plain": [
       "Class                                    : ImageClassifier\n",
       "\n",
       "Schema\n",
       "------\n",
       "Number of classes                        : 2\n",
       "Number of feature columns                : 1\n",
       "Input image shape                        : (3, 224, 224)\n",
       "\n",
       "Training summary\n",
       "----------------\n",
       "Number of examples                       : 18760\n",
       "Training loss                            : 1103.7099\n",
       "Training time (sec)                      : 504.6233"
      ]
     },
     "execution_count": 6,
     "metadata": {},
     "output_type": "execute_result"
    }
   ],
   "source": [
    "model"
   ]
  },
  {
   "cell_type": "code",
   "execution_count": 7,
   "metadata": {},
   "outputs": [],
   "source": [
    "predictions = model.predict(test_data)"
   ]
  },
  {
   "cell_type": "code",
   "execution_count": 8,
   "metadata": {},
   "outputs": [
    {
     "data": {
      "text/plain": [
       "dtype: str\n",
       "Rows: 5004\n",
       "['cat', 'cat', 'cat', 'cat', 'cat', 'cat', 'cat', 'cat', 'cat', 'cat', 'cat', 'cat', 'cat', 'cat', 'cat', 'cat', 'cat', 'cat', 'cat', 'cat', 'cat', 'cat', 'cat', 'cat', 'cat', 'cat', 'cat', 'cat', 'cat', 'cat', 'cat', 'cat', 'cat', 'cat', 'cat', 'cat', 'cat', 'cat', 'cat', 'cat', 'cat', 'cat', 'cat', 'cat', 'cat', 'cat', 'cat', 'cat', 'cat', 'cat', 'cat', 'cat', 'cat', 'cat', 'cat', 'cat', 'cat', 'cat', 'cat', 'cat', 'cat', 'cat', 'cat', 'dog', 'cat', 'cat', 'cat', 'cat', 'cat', 'cat', 'cat', 'cat', 'cat', 'cat', 'cat', 'cat', 'cat', 'cat', 'cat', 'cat', 'cat', 'cat', 'cat', 'cat', 'cat', 'cat', 'cat', 'cat', 'cat', 'cat', 'cat', 'cat', 'cat', 'cat', 'cat', 'cat', 'cat', 'cat', 'cat', 'cat', ... ]"
      ]
     },
     "execution_count": 8,
     "metadata": {},
     "output_type": "execute_result"
    }
   ],
   "source": [
    "predictions"
   ]
  },
  {
   "cell_type": "markdown",
   "metadata": {},
   "source": [
    "**Evaluate the model and save the results**"
   ]
  },
  {
   "cell_type": "code",
   "execution_count": 9,
   "metadata": {
    "scrolled": true
   },
   "outputs": [
    {
     "data": {
      "text/html": [
       "<pre>Analyzing and extracting image features.</pre>"
      ],
      "text/plain": [
       "Analyzing and extracting image features."
      ]
     },
     "metadata": {},
     "output_type": "display_data"
    },
    {
     "data": {
      "text/html": [
       "<pre>+------------------+--------------+------------------+</pre>"
      ],
      "text/plain": [
       "+------------------+--------------+------------------+"
      ]
     },
     "metadata": {},
     "output_type": "display_data"
    },
    {
     "data": {
      "text/html": [
       "<pre>| Images Processed | Elapsed Time | Percent Complete |</pre>"
      ],
      "text/plain": [
       "| Images Processed | Elapsed Time | Percent Complete |"
      ]
     },
     "metadata": {},
     "output_type": "display_data"
    },
    {
     "data": {
      "text/html": [
       "<pre>+------------------+--------------+------------------+</pre>"
      ],
      "text/plain": [
       "+------------------+--------------+------------------+"
      ]
     },
     "metadata": {},
     "output_type": "display_data"
    },
    {
     "data": {
      "text/html": [
       "<pre>| 0                | 6.065ms      | 0%               |</pre>"
      ],
      "text/plain": [
       "| 0                | 6.065ms      | 0%               |"
      ]
     },
     "metadata": {},
     "output_type": "display_data"
    },
    {
     "data": {
      "text/html": [
       "<pre>| 0                | 6.194ms      | 0%               |</pre>"
      ],
      "text/plain": [
       "| 0                | 6.194ms      | 0%               |"
      ]
     },
     "metadata": {},
     "output_type": "display_data"
    },
    {
     "data": {
      "text/html": [
       "<pre>| 0                | 6.309ms      | 0%               |</pre>"
      ],
      "text/plain": [
       "| 0                | 6.309ms      | 0%               |"
      ]
     },
     "metadata": {},
     "output_type": "display_data"
    },
    {
     "data": {
      "text/html": [
       "<pre>| 64               | 1.92s        | 1.25%            |</pre>"
      ],
      "text/plain": [
       "| 64               | 1.92s        | 1.25%            |"
      ]
     },
     "metadata": {},
     "output_type": "display_data"
    },
    {
     "data": {
      "text/html": [
       "<pre>| 128              | 3.16s        | 2.5%             |</pre>"
      ],
      "text/plain": [
       "| 128              | 3.16s        | 2.5%             |"
      ]
     },
     "metadata": {},
     "output_type": "display_data"
    },
    {
     "data": {
      "text/html": [
       "<pre>| 192              | 4.44s        | 3.75%            |</pre>"
      ],
      "text/plain": [
       "| 192              | 4.44s        | 3.75%            |"
      ]
     },
     "metadata": {},
     "output_type": "display_data"
    },
    {
     "data": {
      "text/html": [
       "<pre>| 256              | 5.75s        | 5%               |</pre>"
      ],
      "text/plain": [
       "| 256              | 5.75s        | 5%               |"
      ]
     },
     "metadata": {},
     "output_type": "display_data"
    },
    {
     "data": {
      "text/html": [
       "<pre>| 320              | 7.07s        | 6.25%            |</pre>"
      ],
      "text/plain": [
       "| 320              | 7.07s        | 6.25%            |"
      ]
     },
     "metadata": {},
     "output_type": "display_data"
    },
    {
     "data": {
      "text/html": [
       "<pre>| 384              | 8.39s        | 7.5%             |</pre>"
      ],
      "text/plain": [
       "| 384              | 8.39s        | 7.5%             |"
      ]
     },
     "metadata": {},
     "output_type": "display_data"
    },
    {
     "data": {
      "text/html": [
       "<pre>| 448              | 9.72s        | 8.75%            |</pre>"
      ],
      "text/plain": [
       "| 448              | 9.72s        | 8.75%            |"
      ]
     },
     "metadata": {},
     "output_type": "display_data"
    },
    {
     "data": {
      "text/html": [
       "<pre>| 512              | 11.05s       | 10%              |</pre>"
      ],
      "text/plain": [
       "| 512              | 11.05s       | 10%              |"
      ]
     },
     "metadata": {},
     "output_type": "display_data"
    },
    {
     "data": {
      "text/html": [
       "<pre>| 576              | 12.37s       | 11.25%           |</pre>"
      ],
      "text/plain": [
       "| 576              | 12.37s       | 11.25%           |"
      ]
     },
     "metadata": {},
     "output_type": "display_data"
    },
    {
     "data": {
      "text/html": [
       "<pre>| 640              | 13.73s       | 12.5%            |</pre>"
      ],
      "text/plain": [
       "| 640              | 13.73s       | 12.5%            |"
      ]
     },
     "metadata": {},
     "output_type": "display_data"
    },
    {
     "data": {
      "text/html": [
       "<pre>| 704              | 14.98s       | 13.75%           |</pre>"
      ],
      "text/plain": [
       "| 704              | 14.98s       | 13.75%           |"
      ]
     },
     "metadata": {},
     "output_type": "display_data"
    },
    {
     "data": {
      "text/html": [
       "<pre>| 768              | 16.24s       | 15%              |</pre>"
      ],
      "text/plain": [
       "| 768              | 16.24s       | 15%              |"
      ]
     },
     "metadata": {},
     "output_type": "display_data"
    },
    {
     "data": {
      "text/html": [
       "<pre>| 832              | 17.47s       | 16.25%           |</pre>"
      ],
      "text/plain": [
       "| 832              | 17.47s       | 16.25%           |"
      ]
     },
     "metadata": {},
     "output_type": "display_data"
    },
    {
     "data": {
      "text/html": [
       "<pre>| 896              | 18.78s       | 17.5%            |</pre>"
      ],
      "text/plain": [
       "| 896              | 18.78s       | 17.5%            |"
      ]
     },
     "metadata": {},
     "output_type": "display_data"
    },
    {
     "data": {
      "text/html": [
       "<pre>| 960              | 20.08s       | 18.75%           |</pre>"
      ],
      "text/plain": [
       "| 960              | 20.08s       | 18.75%           |"
      ]
     },
     "metadata": {},
     "output_type": "display_data"
    },
    {
     "data": {
      "text/html": [
       "<pre>| 1024             | 21.41s       | 20.25%           |</pre>"
      ],
      "text/plain": [
       "| 1024             | 21.41s       | 20.25%           |"
      ]
     },
     "metadata": {},
     "output_type": "display_data"
    },
    {
     "data": {
      "text/html": [
       "<pre>| 1088             | 22.74s       | 21.5%            |</pre>"
      ],
      "text/plain": [
       "| 1088             | 22.74s       | 21.5%            |"
      ]
     },
     "metadata": {},
     "output_type": "display_data"
    },
    {
     "data": {
      "text/html": [
       "<pre>| 1152             | 24.06s       | 22.75%           |</pre>"
      ],
      "text/plain": [
       "| 1152             | 24.06s       | 22.75%           |"
      ]
     },
     "metadata": {},
     "output_type": "display_data"
    },
    {
     "data": {
      "text/html": [
       "<pre>| 1216             | 25.38s       | 24%              |</pre>"
      ],
      "text/plain": [
       "| 1216             | 25.38s       | 24%              |"
      ]
     },
     "metadata": {},
     "output_type": "display_data"
    },
    {
     "data": {
      "text/html": [
       "<pre>| 1280             | 26.71s       | 25.25%           |</pre>"
      ],
      "text/plain": [
       "| 1280             | 26.71s       | 25.25%           |"
      ]
     },
     "metadata": {},
     "output_type": "display_data"
    },
    {
     "data": {
      "text/html": [
       "<pre>| 1344             | 28.04s       | 26.5%            |</pre>"
      ],
      "text/plain": [
       "| 1344             | 28.04s       | 26.5%            |"
      ]
     },
     "metadata": {},
     "output_type": "display_data"
    },
    {
     "data": {
      "text/html": [
       "<pre>| 1408             | 29.29s       | 27.75%           |</pre>"
      ],
      "text/plain": [
       "| 1408             | 29.29s       | 27.75%           |"
      ]
     },
     "metadata": {},
     "output_type": "display_data"
    },
    {
     "data": {
      "text/html": [
       "<pre>| 1472             | 30.53s       | 29%              |</pre>"
      ],
      "text/plain": [
       "| 1472             | 30.53s       | 29%              |"
      ]
     },
     "metadata": {},
     "output_type": "display_data"
    },
    {
     "data": {
      "text/html": [
       "<pre>| 1536             | 31.77s       | 30.25%           |</pre>"
      ],
      "text/plain": [
       "| 1536             | 31.77s       | 30.25%           |"
      ]
     },
     "metadata": {},
     "output_type": "display_data"
    },
    {
     "data": {
      "text/html": [
       "<pre>| 1600             | 33.11s       | 31.5%            |</pre>"
      ],
      "text/plain": [
       "| 1600             | 33.11s       | 31.5%            |"
      ]
     },
     "metadata": {},
     "output_type": "display_data"
    },
    {
     "data": {
      "text/html": [
       "<pre>| 1664             | 34.44s       | 32.75%           |</pre>"
      ],
      "text/plain": [
       "| 1664             | 34.44s       | 32.75%           |"
      ]
     },
     "metadata": {},
     "output_type": "display_data"
    },
    {
     "data": {
      "text/html": [
       "<pre>| 1728             | 35.75s       | 34%              |</pre>"
      ],
      "text/plain": [
       "| 1728             | 35.75s       | 34%              |"
      ]
     },
     "metadata": {},
     "output_type": "display_data"
    },
    {
     "data": {
      "text/html": [
       "<pre>| 1792             | 37.08s       | 35.25%           |</pre>"
      ],
      "text/plain": [
       "| 1792             | 37.08s       | 35.25%           |"
      ]
     },
     "metadata": {},
     "output_type": "display_data"
    },
    {
     "data": {
      "text/html": [
       "<pre>| 1856             | 38.50s       | 36.5%            |</pre>"
      ],
      "text/plain": [
       "| 1856             | 38.50s       | 36.5%            |"
      ]
     },
     "metadata": {},
     "output_type": "display_data"
    },
    {
     "data": {
      "text/html": [
       "<pre>| 1920             | 39.82s       | 37.75%           |</pre>"
      ],
      "text/plain": [
       "| 1920             | 39.82s       | 37.75%           |"
      ]
     },
     "metadata": {},
     "output_type": "display_data"
    },
    {
     "data": {
      "text/html": [
       "<pre>| 1984             | 41.15s       | 39%              |</pre>"
      ],
      "text/plain": [
       "| 1984             | 41.15s       | 39%              |"
      ]
     },
     "metadata": {},
     "output_type": "display_data"
    },
    {
     "data": {
      "text/html": [
       "<pre>| 2048             | 42.43s       | 40.5%            |</pre>"
      ],
      "text/plain": [
       "| 2048             | 42.43s       | 40.5%            |"
      ]
     },
     "metadata": {},
     "output_type": "display_data"
    },
    {
     "data": {
      "text/html": [
       "<pre>| 2112             | 43.67s       | 41.75%           |</pre>"
      ],
      "text/plain": [
       "| 2112             | 43.67s       | 41.75%           |"
      ]
     },
     "metadata": {},
     "output_type": "display_data"
    },
    {
     "data": {
      "text/html": [
       "<pre>| 2176             | 44.93s       | 43%              |</pre>"
      ],
      "text/plain": [
       "| 2176             | 44.93s       | 43%              |"
      ]
     },
     "metadata": {},
     "output_type": "display_data"
    },
    {
     "data": {
      "text/html": [
       "<pre>| 2240             | 46.27s       | 44.25%           |</pre>"
      ],
      "text/plain": [
       "| 2240             | 46.27s       | 44.25%           |"
      ]
     },
     "metadata": {},
     "output_type": "display_data"
    },
    {
     "data": {
      "text/html": [
       "<pre>| 2304             | 47.66s       | 45.5%            |</pre>"
      ],
      "text/plain": [
       "| 2304             | 47.66s       | 45.5%            |"
      ]
     },
     "metadata": {},
     "output_type": "display_data"
    },
    {
     "data": {
      "text/html": [
       "<pre>| 2368             | 49.06s       | 46.75%           |</pre>"
      ],
      "text/plain": [
       "| 2368             | 49.06s       | 46.75%           |"
      ]
     },
     "metadata": {},
     "output_type": "display_data"
    },
    {
     "data": {
      "text/html": [
       "<pre>| 2432             | 50.44s       | 48%              |</pre>"
      ],
      "text/plain": [
       "| 2432             | 50.44s       | 48%              |"
      ]
     },
     "metadata": {},
     "output_type": "display_data"
    },
    {
     "data": {
      "text/html": [
       "<pre>| 2496             | 51.80s       | 49.25%           |</pre>"
      ],
      "text/plain": [
       "| 2496             | 51.80s       | 49.25%           |"
      ]
     },
     "metadata": {},
     "output_type": "display_data"
    },
    {
     "data": {
      "text/html": [
       "<pre>| 2560             | 53.17s       | 50.5%            |</pre>"
      ],
      "text/plain": [
       "| 2560             | 53.17s       | 50.5%            |"
      ]
     },
     "metadata": {},
     "output_type": "display_data"
    },
    {
     "data": {
      "text/html": [
       "<pre>| 2624             | 54.54s       | 51.75%           |</pre>"
      ],
      "text/plain": [
       "| 2624             | 54.54s       | 51.75%           |"
      ]
     },
     "metadata": {},
     "output_type": "display_data"
    },
    {
     "data": {
      "text/html": [
       "<pre>| 2688             | 55.84s       | 53%              |</pre>"
      ],
      "text/plain": [
       "| 2688             | 55.84s       | 53%              |"
      ]
     },
     "metadata": {},
     "output_type": "display_data"
    },
    {
     "data": {
      "text/html": [
       "<pre>| 2752             | 57.08s       | 54.25%           |</pre>"
      ],
      "text/plain": [
       "| 2752             | 57.08s       | 54.25%           |"
      ]
     },
     "metadata": {},
     "output_type": "display_data"
    },
    {
     "data": {
      "text/html": [
       "<pre>| 2816             | 58.31s       | 55.5%            |</pre>"
      ],
      "text/plain": [
       "| 2816             | 58.31s       | 55.5%            |"
      ]
     },
     "metadata": {},
     "output_type": "display_data"
    },
    {
     "data": {
      "text/html": [
       "<pre>| 2880             | 59.60s       | 56.75%           |</pre>"
      ],
      "text/plain": [
       "| 2880             | 59.60s       | 56.75%           |"
      ]
     },
     "metadata": {},
     "output_type": "display_data"
    },
    {
     "data": {
      "text/html": [
       "<pre>| 2944             | 1m 0s        | 58%              |</pre>"
      ],
      "text/plain": [
       "| 2944             | 1m 0s        | 58%              |"
      ]
     },
     "metadata": {},
     "output_type": "display_data"
    },
    {
     "data": {
      "text/html": [
       "<pre>| 3008             | 1m 2s        | 59.25%           |</pre>"
      ],
      "text/plain": [
       "| 3008             | 1m 2s        | 59.25%           |"
      ]
     },
     "metadata": {},
     "output_type": "display_data"
    },
    {
     "data": {
      "text/html": [
       "<pre>| 3072             | 1m 3s        | 60.75%           |</pre>"
      ],
      "text/plain": [
       "| 3072             | 1m 3s        | 60.75%           |"
      ]
     },
     "metadata": {},
     "output_type": "display_data"
    },
    {
     "data": {
      "text/html": [
       "<pre>| 3136             | 1m 5s        | 62%              |</pre>"
      ],
      "text/plain": [
       "| 3136             | 1m 5s        | 62%              |"
      ]
     },
     "metadata": {},
     "output_type": "display_data"
    },
    {
     "data": {
      "text/html": [
       "<pre>| 3200             | 1m 6s        | 63.25%           |</pre>"
      ],
      "text/plain": [
       "| 3200             | 1m 6s        | 63.25%           |"
      ]
     },
     "metadata": {},
     "output_type": "display_data"
    },
    {
     "data": {
      "text/html": [
       "<pre>| 3264             | 1m 7s        | 64.5%            |</pre>"
      ],
      "text/plain": [
       "| 3264             | 1m 7s        | 64.5%            |"
      ]
     },
     "metadata": {},
     "output_type": "display_data"
    },
    {
     "data": {
      "text/html": [
       "<pre>| 3328             | 1m 9s        | 65.75%           |</pre>"
      ],
      "text/plain": [
       "| 3328             | 1m 9s        | 65.75%           |"
      ]
     },
     "metadata": {},
     "output_type": "display_data"
    },
    {
     "data": {
      "text/html": [
       "<pre>| 3392             | 1m 10s       | 67%              |</pre>"
      ],
      "text/plain": [
       "| 3392             | 1m 10s       | 67%              |"
      ]
     },
     "metadata": {},
     "output_type": "display_data"
    },
    {
     "data": {
      "text/html": [
       "<pre>| 3456             | 1m 11s       | 68.25%           |</pre>"
      ],
      "text/plain": [
       "| 3456             | 1m 11s       | 68.25%           |"
      ]
     },
     "metadata": {},
     "output_type": "display_data"
    },
    {
     "data": {
      "text/html": [
       "<pre>| 3520             | 1m 12s       | 69.5%            |</pre>"
      ],
      "text/plain": [
       "| 3520             | 1m 12s       | 69.5%            |"
      ]
     },
     "metadata": {},
     "output_type": "display_data"
    },
    {
     "data": {
      "text/html": [
       "<pre>| 3584             | 1m 14s       | 70.75%           |</pre>"
      ],
      "text/plain": [
       "| 3584             | 1m 14s       | 70.75%           |"
      ]
     },
     "metadata": {},
     "output_type": "display_data"
    },
    {
     "data": {
      "text/html": [
       "<pre>| 3648             | 1m 15s       | 72%              |</pre>"
      ],
      "text/plain": [
       "| 3648             | 1m 15s       | 72%              |"
      ]
     },
     "metadata": {},
     "output_type": "display_data"
    },
    {
     "data": {
      "text/html": [
       "<pre>| 3712             | 1m 16s       | 73.25%           |</pre>"
      ],
      "text/plain": [
       "| 3712             | 1m 16s       | 73.25%           |"
      ]
     },
     "metadata": {},
     "output_type": "display_data"
    },
    {
     "data": {
      "text/html": [
       "<pre>| 3776             | 1m 18s       | 74.5%            |</pre>"
      ],
      "text/plain": [
       "| 3776             | 1m 18s       | 74.5%            |"
      ]
     },
     "metadata": {},
     "output_type": "display_data"
    },
    {
     "data": {
      "text/html": [
       "<pre>| 3840             | 1m 19s       | 75.75%           |</pre>"
      ],
      "text/plain": [
       "| 3840             | 1m 19s       | 75.75%           |"
      ]
     },
     "metadata": {},
     "output_type": "display_data"
    },
    {
     "data": {
      "text/html": [
       "<pre>| 3904             | 1m 20s       | 77%              |</pre>"
      ],
      "text/plain": [
       "| 3904             | 1m 20s       | 77%              |"
      ]
     },
     "metadata": {},
     "output_type": "display_data"
    },
    {
     "data": {
      "text/html": [
       "<pre>| 3968             | 1m 22s       | 78.25%           |</pre>"
      ],
      "text/plain": [
       "| 3968             | 1m 22s       | 78.25%           |"
      ]
     },
     "metadata": {},
     "output_type": "display_data"
    },
    {
     "data": {
      "text/html": [
       "<pre>| 4032             | 1m 23s       | 79.5%            |</pre>"
      ],
      "text/plain": [
       "| 4032             | 1m 23s       | 79.5%            |"
      ]
     },
     "metadata": {},
     "output_type": "display_data"
    },
    {
     "data": {
      "text/html": [
       "<pre>| 4096             | 1m 24s       | 81%              |</pre>"
      ],
      "text/plain": [
       "| 4096             | 1m 24s       | 81%              |"
      ]
     },
     "metadata": {},
     "output_type": "display_data"
    },
    {
     "data": {
      "text/html": [
       "<pre>| 4160             | 1m 26s       | 82.25%           |</pre>"
      ],
      "text/plain": [
       "| 4160             | 1m 26s       | 82.25%           |"
      ]
     },
     "metadata": {},
     "output_type": "display_data"
    },
    {
     "data": {
      "text/html": [
       "<pre>| 4224             | 1m 27s       | 83.5%            |</pre>"
      ],
      "text/plain": [
       "| 4224             | 1m 27s       | 83.5%            |"
      ]
     },
     "metadata": {},
     "output_type": "display_data"
    },
    {
     "data": {
      "text/html": [
       "<pre>| 4352             | 1m 29s       | 86%              |</pre>"
      ],
      "text/plain": [
       "| 4352             | 1m 29s       | 86%              |"
      ]
     },
     "metadata": {},
     "output_type": "display_data"
    },
    {
     "data": {
      "text/html": [
       "<pre>| 4416             | 1m 31s       | 87.25%           |</pre>"
      ],
      "text/plain": [
       "| 4416             | 1m 31s       | 87.25%           |"
      ]
     },
     "metadata": {},
     "output_type": "display_data"
    },
    {
     "data": {
      "text/html": [
       "<pre>| 4480             | 1m 32s       | 88.5%            |</pre>"
      ],
      "text/plain": [
       "| 4480             | 1m 32s       | 88.5%            |"
      ]
     },
     "metadata": {},
     "output_type": "display_data"
    },
    {
     "data": {
      "text/html": [
       "<pre>| 4544             | 1m 33s       | 89.75%           |</pre>"
      ],
      "text/plain": [
       "| 4544             | 1m 33s       | 89.75%           |"
      ]
     },
     "metadata": {},
     "output_type": "display_data"
    },
    {
     "data": {
      "text/html": [
       "<pre>| 4608             | 1m 35s       | 91%              |</pre>"
      ],
      "text/plain": [
       "| 4608             | 1m 35s       | 91%              |"
      ]
     },
     "metadata": {},
     "output_type": "display_data"
    },
    {
     "data": {
      "text/html": [
       "<pre>+------------------+--------------+------------------+</pre>"
      ],
      "text/plain": [
       "+------------------+--------------+------------------+"
      ]
     },
     "metadata": {},
     "output_type": "display_data"
    }
   ],
   "source": [
    "metrics = model.evaluate(test_data)"
   ]
  },
  {
   "cell_type": "markdown",
   "metadata": {},
   "source": [
    "| 4608             | 1m 35s       | 91%              |"
   ]
  },
  {
   "cell_type": "code",
   "execution_count": 10,
   "metadata": {},
   "outputs": [
    {
     "data": {
      "text/plain": [
       "{'accuracy': 0.9908073541167066,\n",
       " 'auc': 0.9981023265771733,\n",
       " 'confusion_matrix': Columns:\n",
       " \ttarget_label\tstr\n",
       " \tpredicted_label\tstr\n",
       " \tcount\tint\n",
       " \n",
       " Rows: 4\n",
       " \n",
       " Data:\n",
       " +--------------+-----------------+-------+\n",
       " | target_label | predicted_label | count |\n",
       " +--------------+-----------------+-------+\n",
       " |     cat      |       dog       |   22  |\n",
       " |     cat      |       cat       |  2512 |\n",
       " |     dog      |       cat       |   24  |\n",
       " |     dog      |       dog       |  2446 |\n",
       " +--------------+-----------------+-------+\n",
       " [4 rows x 3 columns],\n",
       " 'f1_score': 0.9906844876468206,\n",
       " 'log_loss': 0.05375924860056555,\n",
       " 'precision': 0.9910858995137763,\n",
       " 'recall': 0.9902834008097166,\n",
       " 'roc_curve': Columns:\n",
       " \tthreshold\tfloat\n",
       " \tfpr\tfloat\n",
       " \ttpr\tfloat\n",
       " \tp\tint\n",
       " \tn\tint\n",
       " \n",
       " Rows: 100001\n",
       " \n",
       " Data:\n",
       " +-----------+----------------------+--------------------+------+------+\n",
       " | threshold |         fpr          |        tpr         |  p   |  n   |\n",
       " +-----------+----------------------+--------------------+------+------+\n",
       " |    0.0    |         1.0          |        1.0         | 2470 | 2534 |\n",
       " |   1e-05   | 0.04498816101026046  | 0.9991902834008097 | 2470 | 2534 |\n",
       " |   2e-05   | 0.043409629044988164 | 0.9991902834008097 | 2470 | 2534 |\n",
       " |   3e-05   | 0.04104183109707971  | 0.9991902834008097 | 2470 | 2534 |\n",
       " |   4e-05   | 0.039857932123125495 | 0.9991902834008097 | 2470 | 2534 |\n",
       " |   5e-05   | 0.03749013417521705  | 0.9987854251012146 | 2470 | 2534 |\n",
       " |   6e-05   | 0.037095501183898975 | 0.9987854251012146 | 2470 | 2534 |\n",
       " |   7e-05   | 0.036306235201262825 | 0.9987854251012146 | 2470 | 2534 |\n",
       " |   8e-05   | 0.035516969218626675 | 0.9987854251012146 | 2470 | 2534 |\n",
       " |   9e-05   |  0.0351223362273086  | 0.9987854251012146 | 2470 | 2534 |\n",
       " +-----------+----------------------+--------------------+------+------+\n",
       " [100001 rows x 5 columns]\n",
       " Note: Only the head of the SFrame is printed.\n",
       " You can use print_rows(num_rows=m, num_columns=n) to print more rows and columns.}"
      ]
     },
     "execution_count": 10,
     "metadata": {},
     "output_type": "execute_result"
    }
   ],
   "source": [
    "metrics"
   ]
  },
  {
   "cell_type": "code",
   "execution_count": 11,
   "metadata": {},
   "outputs": [
    {
     "name": "stdout",
     "output_type": "stream",
     "text": [
      "0.9908073541167066\n"
     ]
    }
   ],
   "source": [
    "print(metrics['accuracy'])"
   ]
  },
  {
   "cell_type": "code",
   "execution_count": 12,
   "metadata": {},
   "outputs": [],
   "source": [
    "model.save('myCatsDogs.model')"
   ]
  },
  {
   "cell_type": "markdown",
   "metadata": {},
   "source": [
    "**Export for use in Core ML**"
   ]
  },
  {
   "cell_type": "code",
   "execution_count": 13,
   "metadata": {},
   "outputs": [],
   "source": [
    "model.export_coreml('myCatsDogs.mlmodel')"
   ]
  },
  {
   "cell_type": "markdown",
   "metadata": {},
   "source": [
    "**Predictions for some raw data**"
   ]
  },
  {
   "cell_type": "code",
   "execution_count": 14,
   "metadata": {},
   "outputs": [],
   "source": [
    "new_cats_dogs = tc.image_analysis.load_images('newcatsdogs')"
   ]
  },
  {
   "cell_type": "code",
   "execution_count": 15,
   "metadata": {},
   "outputs": [
    {
     "data": {
      "text/html": [
       "<div style=\"max-height:1000px;max-width:1500px;overflow:auto;\"><table frame=\"box\" rules=\"cols\">\n",
       "    <tr>\n",
       "        <th style=\"padding-left: 1em; padding-right: 1em; text-align: center\">path</th>\n",
       "        <th style=\"padding-left: 1em; padding-right: 1em; text-align: center\">image</th>\n",
       "    </tr>\n",
       "    <tr>\n",
       "        <td style=\"padding-left: 1em; padding-right: 1em; text-align: center; vertical-align: top\">newcatsdogs/download<br>(1).jpeg ...</td>\n",
       "        <td style=\"padding-left: 1em; padding-right: 1em; text-align: center; vertical-align: top\">Height: 119 Width: 190</td>\n",
       "    </tr>\n",
       "    <tr>\n",
       "        <td style=\"padding-left: 1em; padding-right: 1em; text-align: center; vertical-align: top\">newcatsdogs/download<br>(2).jpeg ...</td>\n",
       "        <td style=\"padding-left: 1em; padding-right: 1em; text-align: center; vertical-align: top\">Height: 121 Width: 119</td>\n",
       "    </tr>\n",
       "    <tr>\n",
       "        <td style=\"padding-left: 1em; padding-right: 1em; text-align: center; vertical-align: top\">newcatsdogs/download<br>(3).jpeg ...</td>\n",
       "        <td style=\"padding-left: 1em; padding-right: 1em; text-align: center; vertical-align: top\">Height: 119 Width: 159</td>\n",
       "    </tr>\n",
       "    <tr>\n",
       "        <td style=\"padding-left: 1em; padding-right: 1em; text-align: center; vertical-align: top\">newcatsdogs/download<br>(4).jpeg ...</td>\n",
       "        <td style=\"padding-left: 1em; padding-right: 1em; text-align: center; vertical-align: top\">Height: 125 Width: 160</td>\n",
       "    </tr>\n",
       "    <tr>\n",
       "        <td style=\"padding-left: 1em; padding-right: 1em; text-align: center; vertical-align: top\">newcatsdogs/download<br>(5).jpeg ...</td>\n",
       "        <td style=\"padding-left: 1em; padding-right: 1em; text-align: center; vertical-align: top\">Height: 125 Width: 167</td>\n",
       "    </tr>\n",
       "    <tr>\n",
       "        <td style=\"padding-left: 1em; padding-right: 1em; text-align: center; vertical-align: top\">newcatsdogs/download<br>(6).jpeg ...</td>\n",
       "        <td style=\"padding-left: 1em; padding-right: 1em; text-align: center; vertical-align: top\">Height: 118 Width: 206</td>\n",
       "    </tr>\n",
       "    <tr>\n",
       "        <td style=\"padding-left: 1em; padding-right: 1em; text-align: center; vertical-align: top\">newcatsdogs/download<br>(7).jpeg ...</td>\n",
       "        <td style=\"padding-left: 1em; padding-right: 1em; text-align: center; vertical-align: top\">Height: 119 Width: 159</td>\n",
       "    </tr>\n",
       "    <tr>\n",
       "        <td style=\"padding-left: 1em; padding-right: 1em; text-align: center; vertical-align: top\">newcatsdogs/download.jpeg</td>\n",
       "        <td style=\"padding-left: 1em; padding-right: 1em; text-align: center; vertical-align: top\">Height: 121 Width: 182</td>\n",
       "    </tr>\n",
       "</table>\n",
       "[8 rows x 2 columns]<br/>\n",
       "</div>"
      ],
      "text/plain": [
       "Columns:\n",
       "\tpath\tstr\n",
       "\timage\tImage\n",
       "\n",
       "Rows: 8\n",
       "\n",
       "Data:\n",
       "+-------------------------------+------------------------+\n",
       "|              path             |         image          |\n",
       "+-------------------------------+------------------------+\n",
       "| newcatsdogs/download (1).jpeg | Height: 119 Width: 190 |\n",
       "| newcatsdogs/download (2).jpeg | Height: 121 Width: 119 |\n",
       "| newcatsdogs/download (3).jpeg | Height: 119 Width: 159 |\n",
       "| newcatsdogs/download (4).jpeg | Height: 125 Width: 160 |\n",
       "| newcatsdogs/download (5).jpeg | Height: 125 Width: 167 |\n",
       "| newcatsdogs/download (6).jpeg | Height: 118 Width: 206 |\n",
       "| newcatsdogs/download (7).jpeg | Height: 119 Width: 159 |\n",
       "|   newcatsdogs/download.jpeg   | Height: 121 Width: 182 |\n",
       "+-------------------------------+------------------------+\n",
       "[8 rows x 2 columns]"
      ]
     },
     "execution_count": 15,
     "metadata": {},
     "output_type": "execute_result"
    }
   ],
   "source": [
    "new_cats_dogs"
   ]
  },
  {
   "cell_type": "code",
   "execution_count": 16,
   "metadata": {},
   "outputs": [],
   "source": [
    "new_cats_dogs['predictions'] = model.predict(new_cats_dogs)"
   ]
  },
  {
   "cell_type": "code",
   "execution_count": 17,
   "metadata": {},
   "outputs": [
    {
     "data": {
      "text/plain": [
       "dtype: str\n",
       "Rows: 8\n",
       "['cat', 'cat', 'cat', 'dog', 'dog', 'dog', 'dog', 'cat']"
      ]
     },
     "execution_count": 17,
     "metadata": {},
     "output_type": "execute_result"
    }
   ],
   "source": [
    "new_cats_dogs['predictions'] "
   ]
  },
  {
   "cell_type": "code",
   "execution_count": 18,
   "metadata": {},
   "outputs": [
    {
     "data": {
      "text/html": [
       "<pre>Materializing SFrame...</pre>"
      ],
      "text/plain": [
       "Materializing SFrame..."
      ]
     },
     "metadata": {},
     "output_type": "display_data"
    },
    {
     "data": {
      "text/html": [
       "<pre>Done.</pre>"
      ],
      "text/plain": [
       "Done."
      ]
     },
     "metadata": {},
     "output_type": "display_data"
    }
   ],
   "source": [
    "new_cats_dogs.explore()"
   ]
  },
  {
   "cell_type": "markdown",
   "metadata": {},
   "source": [
    "# Advanced Usage"
   ]
  },
  {
   "cell_type": "markdown",
   "metadata": {},
   "source": [
    "## Pre-trained models"
   ]
  },
  {
   "cell_type": "markdown",
   "metadata": {},
   "source": [
    "The image classifier toolkit is based on a technique known as transfer learning. \n",
    "The advanced options let you select from a set of pre-trained models which can result in a model having various size, performance, and accuracy characteristics."
   ]
  },
  {
   "cell_type": "markdown",
   "metadata": {},
   "source": [
    "Like following option, you can change to use [squeezenet](https://apple.github.io/turicreate/docs/api/generated/turicreate.image_classifier.create.html) which can trade off some accuracy for a smaller model with a lower memory and disk foot-print."
   ]
  },
  {
   "cell_type": "code",
   "execution_count": 18,
   "metadata": {
    "scrolled": true
   },
   "outputs": [
    {
     "data": {
      "text/html": [
       "<pre>Downloading base mlmodel</pre>"
      ],
      "text/plain": [
       "Downloading base mlmodel"
      ]
     },
     "metadata": {},
     "output_type": "display_data"
    },
    {
     "data": {
      "text/html": [
       "<pre>Downloading https://docs-assets.developer.apple.com/coreml/models/SqueezeNet.mlmodel to /var/folders/m4/8rlv2k612l9g_hd_gmmlbg5m0000gp/T/model_cache/squeezenet_v1.1.mlmodel</pre>"
      ],
      "text/plain": [
       "Downloading https://docs-assets.developer.apple.com/coreml/models/SqueezeNet.mlmodel to /var/folders/m4/8rlv2k612l9g_hd_gmmlbg5m0000gp/T/model_cache/squeezenet_v1.1.mlmodel"
      ]
     },
     "metadata": {},
     "output_type": "display_data"
    },
    {
     "data": {
      "text/html": [
       "<pre>Analyzing and extracting image features.</pre>"
      ],
      "text/plain": [
       "Analyzing and extracting image features."
      ]
     },
     "metadata": {},
     "output_type": "display_data"
    },
    {
     "data": {
      "text/html": [
       "<pre>+------------------+--------------+------------------+</pre>"
      ],
      "text/plain": [
       "+------------------+--------------+------------------+"
      ]
     },
     "metadata": {},
     "output_type": "display_data"
    },
    {
     "data": {
      "text/html": [
       "<pre>| Images Processed | Elapsed Time | Percent Complete |</pre>"
      ],
      "text/plain": [
       "| Images Processed | Elapsed Time | Percent Complete |"
      ]
     },
     "metadata": {},
     "output_type": "display_data"
    },
    {
     "data": {
      "text/html": [
       "<pre>+------------------+--------------+------------------+</pre>"
      ],
      "text/plain": [
       "+------------------+--------------+------------------+"
      ]
     },
     "metadata": {},
     "output_type": "display_data"
    },
    {
     "data": {
      "text/html": [
       "<pre>| 0                | 144us        | 0%               |</pre>"
      ],
      "text/plain": [
       "| 0                | 144us        | 0%               |"
      ]
     },
     "metadata": {},
     "output_type": "display_data"
    },
    {
     "data": {
      "text/html": [
       "<pre>| 0                | 192us        | 0%               |</pre>"
      ],
      "text/plain": [
       "| 0                | 192us        | 0%               |"
      ]
     },
     "metadata": {},
     "output_type": "display_data"
    },
    {
     "data": {
      "text/html": [
       "<pre>| 0                | 221us        | 0%               |</pre>"
      ],
      "text/plain": [
       "| 0                | 221us        | 0%               |"
      ]
     },
     "metadata": {},
     "output_type": "display_data"
    },
    {
     "data": {
      "text/html": [
       "<pre>| 64               | 871.439ms    | 0.25%            |</pre>"
      ],
      "text/plain": [
       "| 64               | 871.439ms    | 0.25%            |"
      ]
     },
     "metadata": {},
     "output_type": "display_data"
    },
    {
     "data": {
      "text/html": [
       "<pre>| 128              | 1.09s        | 0.5%             |</pre>"
      ],
      "text/plain": [
       "| 128              | 1.09s        | 0.5%             |"
      ]
     },
     "metadata": {},
     "output_type": "display_data"
    },
    {
     "data": {
      "text/html": [
       "<pre>| 192              | 1.29s        | 0.75%            |</pre>"
      ],
      "text/plain": [
       "| 192              | 1.29s        | 0.75%            |"
      ]
     },
     "metadata": {},
     "output_type": "display_data"
    },
    {
     "data": {
      "text/html": [
       "<pre>| 256              | 1.50s        | 1.25%            |</pre>"
      ],
      "text/plain": [
       "| 256              | 1.50s        | 1.25%            |"
      ]
     },
     "metadata": {},
     "output_type": "display_data"
    },
    {
     "data": {
      "text/html": [
       "<pre>| 320              | 1.70s        | 1.5%             |</pre>"
      ],
      "text/plain": [
       "| 320              | 1.70s        | 1.5%             |"
      ]
     },
     "metadata": {},
     "output_type": "display_data"
    },
    {
     "data": {
      "text/html": [
       "<pre>| 384              | 1.90s        | 1.75%            |</pre>"
      ],
      "text/plain": [
       "| 384              | 1.90s        | 1.75%            |"
      ]
     },
     "metadata": {},
     "output_type": "display_data"
    },
    {
     "data": {
      "text/html": [
       "<pre>| 448              | 2.10s        | 2.25%            |</pre>"
      ],
      "text/plain": [
       "| 448              | 2.10s        | 2.25%            |"
      ]
     },
     "metadata": {},
     "output_type": "display_data"
    },
    {
     "data": {
      "text/html": [
       "<pre>| 512              | 2.30s        | 2.5%             |</pre>"
      ],
      "text/plain": [
       "| 512              | 2.30s        | 2.5%             |"
      ]
     },
     "metadata": {},
     "output_type": "display_data"
    },
    {
     "data": {
      "text/html": [
       "<pre>| 576              | 2.50s        | 2.75%            |</pre>"
      ],
      "text/plain": [
       "| 576              | 2.50s        | 2.75%            |"
      ]
     },
     "metadata": {},
     "output_type": "display_data"
    },
    {
     "data": {
      "text/html": [
       "<pre>| 640              | 2.71s        | 3%               |</pre>"
      ],
      "text/plain": [
       "| 640              | 2.71s        | 3%               |"
      ]
     },
     "metadata": {},
     "output_type": "display_data"
    },
    {
     "data": {
      "text/html": [
       "<pre>| 704              | 2.91s        | 3.5%             |</pre>"
      ],
      "text/plain": [
       "| 704              | 2.91s        | 3.5%             |"
      ]
     },
     "metadata": {},
     "output_type": "display_data"
    },
    {
     "data": {
      "text/html": [
       "<pre>| 768              | 3.12s        | 3.75%            |</pre>"
      ],
      "text/plain": [
       "| 768              | 3.12s        | 3.75%            |"
      ]
     },
     "metadata": {},
     "output_type": "display_data"
    },
    {
     "data": {
      "text/html": [
       "<pre>| 832              | 3.32s        | 4%               |</pre>"
      ],
      "text/plain": [
       "| 832              | 3.32s        | 4%               |"
      ]
     },
     "metadata": {},
     "output_type": "display_data"
    },
    {
     "data": {
      "text/html": [
       "<pre>| 896              | 3.52s        | 4.5%             |</pre>"
      ],
      "text/plain": [
       "| 896              | 3.52s        | 4.5%             |"
      ]
     },
     "metadata": {},
     "output_type": "display_data"
    },
    {
     "data": {
      "text/html": [
       "<pre>| 960              | 3.74s        | 4.75%            |</pre>"
      ],
      "text/plain": [
       "| 960              | 3.74s        | 4.75%            |"
      ]
     },
     "metadata": {},
     "output_type": "display_data"
    },
    {
     "data": {
      "text/html": [
       "<pre>| 1024             | 3.97s        | 5%               |</pre>"
      ],
      "text/plain": [
       "| 1024             | 3.97s        | 5%               |"
      ]
     },
     "metadata": {},
     "output_type": "display_data"
    },
    {
     "data": {
      "text/html": [
       "<pre>| 1088             | 4.18s        | 5.5%             |</pre>"
      ],
      "text/plain": [
       "| 1088             | 4.18s        | 5.5%             |"
      ]
     },
     "metadata": {},
     "output_type": "display_data"
    },
    {
     "data": {
      "text/html": [
       "<pre>| 1152             | 4.39s        | 5.75%            |</pre>"
      ],
      "text/plain": [
       "| 1152             | 4.39s        | 5.75%            |"
      ]
     },
     "metadata": {},
     "output_type": "display_data"
    },
    {
     "data": {
      "text/html": [
       "<pre>| 1216             | 4.59s        | 6%               |</pre>"
      ],
      "text/plain": [
       "| 1216             | 4.59s        | 6%               |"
      ]
     },
     "metadata": {},
     "output_type": "display_data"
    },
    {
     "data": {
      "text/html": [
       "<pre>| 1280             | 4.80s        | 6.25%            |</pre>"
      ],
      "text/plain": [
       "| 1280             | 4.80s        | 6.25%            |"
      ]
     },
     "metadata": {},
     "output_type": "display_data"
    },
    {
     "data": {
      "text/html": [
       "<pre>| 1344             | 5.00s        | 6.75%            |</pre>"
      ],
      "text/plain": [
       "| 1344             | 5.00s        | 6.75%            |"
      ]
     },
     "metadata": {},
     "output_type": "display_data"
    },
    {
     "data": {
      "text/html": [
       "<pre>| 1408             | 5.21s        | 7%               |</pre>"
      ],
      "text/plain": [
       "| 1408             | 5.21s        | 7%               |"
      ]
     },
     "metadata": {},
     "output_type": "display_data"
    },
    {
     "data": {
      "text/html": [
       "<pre>| 1472             | 5.42s        | 7.25%            |</pre>"
      ],
      "text/plain": [
       "| 1472             | 5.42s        | 7.25%            |"
      ]
     },
     "metadata": {},
     "output_type": "display_data"
    },
    {
     "data": {
      "text/html": [
       "<pre>| 1536             | 5.64s        | 7.75%            |</pre>"
      ],
      "text/plain": [
       "| 1536             | 5.64s        | 7.75%            |"
      ]
     },
     "metadata": {},
     "output_type": "display_data"
    },
    {
     "data": {
      "text/html": [
       "<pre>| 1600             | 5.85s        | 8%               |</pre>"
      ],
      "text/plain": [
       "| 1600             | 5.85s        | 8%               |"
      ]
     },
     "metadata": {},
     "output_type": "display_data"
    },
    {
     "data": {
      "text/html": [
       "<pre>| 1664             | 6.06s        | 8.25%            |</pre>"
      ],
      "text/plain": [
       "| 1664             | 6.06s        | 8.25%            |"
      ]
     },
     "metadata": {},
     "output_type": "display_data"
    },
    {
     "data": {
      "text/html": [
       "<pre>| 1728             | 6.26s        | 8.5%             |</pre>"
      ],
      "text/plain": [
       "| 1728             | 6.26s        | 8.5%             |"
      ]
     },
     "metadata": {},
     "output_type": "display_data"
    },
    {
     "data": {
      "text/html": [
       "<pre>| 1792             | 6.49s        | 9%               |</pre>"
      ],
      "text/plain": [
       "| 1792             | 6.49s        | 9%               |"
      ]
     },
     "metadata": {},
     "output_type": "display_data"
    },
    {
     "data": {
      "text/html": [
       "<pre>| 1856             | 6.69s        | 9.25%            |</pre>"
      ],
      "text/plain": [
       "| 1856             | 6.69s        | 9.25%            |"
      ]
     },
     "metadata": {},
     "output_type": "display_data"
    },
    {
     "data": {
      "text/html": [
       "<pre>| 1920             | 6.90s        | 9.5%             |</pre>"
      ],
      "text/plain": [
       "| 1920             | 6.90s        | 9.5%             |"
      ]
     },
     "metadata": {},
     "output_type": "display_data"
    },
    {
     "data": {
      "text/html": [
       "<pre>| 1984             | 7.10s        | 10%              |</pre>"
      ],
      "text/plain": [
       "| 1984             | 7.10s        | 10%              |"
      ]
     },
     "metadata": {},
     "output_type": "display_data"
    },
    {
     "data": {
      "text/html": [
       "<pre>| 2048             | 7.30s        | 10.25%           |</pre>"
      ],
      "text/plain": [
       "| 2048             | 7.30s        | 10.25%           |"
      ]
     },
     "metadata": {},
     "output_type": "display_data"
    },
    {
     "data": {
      "text/html": [
       "<pre>| 2112             | 7.50s        | 10.5%            |</pre>"
      ],
      "text/plain": [
       "| 2112             | 7.50s        | 10.5%            |"
      ]
     },
     "metadata": {},
     "output_type": "display_data"
    },
    {
     "data": {
      "text/html": [
       "<pre>| 2176             | 7.70s        | 11%              |</pre>"
      ],
      "text/plain": [
       "| 2176             | 7.70s        | 11%              |"
      ]
     },
     "metadata": {},
     "output_type": "display_data"
    },
    {
     "data": {
      "text/html": [
       "<pre>| 2240             | 7.91s        | 11.25%           |</pre>"
      ],
      "text/plain": [
       "| 2240             | 7.91s        | 11.25%           |"
      ]
     },
     "metadata": {},
     "output_type": "display_data"
    },
    {
     "data": {
      "text/html": [
       "<pre>| 2304             | 8.11s        | 11.5%            |</pre>"
      ],
      "text/plain": [
       "| 2304             | 8.11s        | 11.5%            |"
      ]
     },
     "metadata": {},
     "output_type": "display_data"
    },
    {
     "data": {
      "text/html": [
       "<pre>| 2368             | 8.31s        | 11.75%           |</pre>"
      ],
      "text/plain": [
       "| 2368             | 8.31s        | 11.75%           |"
      ]
     },
     "metadata": {},
     "output_type": "display_data"
    },
    {
     "data": {
      "text/html": [
       "<pre>| 2432             | 8.51s        | 12.25%           |</pre>"
      ],
      "text/plain": [
       "| 2432             | 8.51s        | 12.25%           |"
      ]
     },
     "metadata": {},
     "output_type": "display_data"
    },
    {
     "data": {
      "text/html": [
       "<pre>| 2496             | 8.71s        | 12.5%            |</pre>"
      ],
      "text/plain": [
       "| 2496             | 8.71s        | 12.5%            |"
      ]
     },
     "metadata": {},
     "output_type": "display_data"
    },
    {
     "data": {
      "text/html": [
       "<pre>| 2560             | 8.91s        | 12.75%           |</pre>"
      ],
      "text/plain": [
       "| 2560             | 8.91s        | 12.75%           |"
      ]
     },
     "metadata": {},
     "output_type": "display_data"
    },
    {
     "data": {
      "text/html": [
       "<pre>| 2624             | 9.11s        | 13.25%           |</pre>"
      ],
      "text/plain": [
       "| 2624             | 9.11s        | 13.25%           |"
      ]
     },
     "metadata": {},
     "output_type": "display_data"
    },
    {
     "data": {
      "text/html": [
       "<pre>| 2688             | 9.31s        | 13.5%            |</pre>"
      ],
      "text/plain": [
       "| 2688             | 9.31s        | 13.5%            |"
      ]
     },
     "metadata": {},
     "output_type": "display_data"
    },
    {
     "data": {
      "text/html": [
       "<pre>| 2752             | 9.51s        | 13.75%           |</pre>"
      ],
      "text/plain": [
       "| 2752             | 9.51s        | 13.75%           |"
      ]
     },
     "metadata": {},
     "output_type": "display_data"
    },
    {
     "data": {
      "text/html": [
       "<pre>| 2816             | 9.72s        | 14%              |</pre>"
      ],
      "text/plain": [
       "| 2816             | 9.72s        | 14%              |"
      ]
     },
     "metadata": {},
     "output_type": "display_data"
    },
    {
     "data": {
      "text/html": [
       "<pre>| 2880             | 9.92s        | 14.5%            |</pre>"
      ],
      "text/plain": [
       "| 2880             | 9.92s        | 14.5%            |"
      ]
     },
     "metadata": {},
     "output_type": "display_data"
    },
    {
     "data": {
      "text/html": [
       "<pre>| 2944             | 10.13s       | 14.75%           |</pre>"
      ],
      "text/plain": [
       "| 2944             | 10.13s       | 14.75%           |"
      ]
     },
     "metadata": {},
     "output_type": "display_data"
    },
    {
     "data": {
      "text/html": [
       "<pre>| 3008             | 10.32s       | 15%              |</pre>"
      ],
      "text/plain": [
       "| 3008             | 10.32s       | 15%              |"
      ]
     },
     "metadata": {},
     "output_type": "display_data"
    },
    {
     "data": {
      "text/html": [
       "<pre>| 3072             | 10.52s       | 15.5%            |</pre>"
      ],
      "text/plain": [
       "| 3072             | 10.52s       | 15.5%            |"
      ]
     },
     "metadata": {},
     "output_type": "display_data"
    },
    {
     "data": {
      "text/html": [
       "<pre>| 3136             | 10.72s       | 15.75%           |</pre>"
      ],
      "text/plain": [
       "| 3136             | 10.72s       | 15.75%           |"
      ]
     },
     "metadata": {},
     "output_type": "display_data"
    },
    {
     "data": {
      "text/html": [
       "<pre>| 3200             | 10.92s       | 16%              |</pre>"
      ],
      "text/plain": [
       "| 3200             | 10.92s       | 16%              |"
      ]
     },
     "metadata": {},
     "output_type": "display_data"
    },
    {
     "data": {
      "text/html": [
       "<pre>| 3264             | 11.12s       | 16.5%            |</pre>"
      ],
      "text/plain": [
       "| 3264             | 11.12s       | 16.5%            |"
      ]
     },
     "metadata": {},
     "output_type": "display_data"
    },
    {
     "data": {
      "text/html": [
       "<pre>| 3328             | 11.32s       | 16.75%           |</pre>"
      ],
      "text/plain": [
       "| 3328             | 11.32s       | 16.75%           |"
      ]
     },
     "metadata": {},
     "output_type": "display_data"
    },
    {
     "data": {
      "text/html": [
       "<pre>| 3392             | 11.52s       | 17%              |</pre>"
      ],
      "text/plain": [
       "| 3392             | 11.52s       | 17%              |"
      ]
     },
     "metadata": {},
     "output_type": "display_data"
    },
    {
     "data": {
      "text/html": [
       "<pre>| 3456             | 11.71s       | 17.25%           |</pre>"
      ],
      "text/plain": [
       "| 3456             | 11.71s       | 17.25%           |"
      ]
     },
     "metadata": {},
     "output_type": "display_data"
    },
    {
     "data": {
      "text/html": [
       "<pre>| 3520             | 11.91s       | 17.75%           |</pre>"
      ],
      "text/plain": [
       "| 3520             | 11.91s       | 17.75%           |"
      ]
     },
     "metadata": {},
     "output_type": "display_data"
    },
    {
     "data": {
      "text/html": [
       "<pre>| 3584             | 12.10s       | 18%              |</pre>"
      ],
      "text/plain": [
       "| 3584             | 12.10s       | 18%              |"
      ]
     },
     "metadata": {},
     "output_type": "display_data"
    },
    {
     "data": {
      "text/html": [
       "<pre>| 3648             | 12.30s       | 18.25%           |</pre>"
      ],
      "text/plain": [
       "| 3648             | 12.30s       | 18.25%           |"
      ]
     },
     "metadata": {},
     "output_type": "display_data"
    },
    {
     "data": {
      "text/html": [
       "<pre>| 3712             | 12.49s       | 18.75%           |</pre>"
      ],
      "text/plain": [
       "| 3712             | 12.49s       | 18.75%           |"
      ]
     },
     "metadata": {},
     "output_type": "display_data"
    },
    {
     "data": {
      "text/html": [
       "<pre>| 3776             | 12.69s       | 19%              |</pre>"
      ],
      "text/plain": [
       "| 3776             | 12.69s       | 19%              |"
      ]
     },
     "metadata": {},
     "output_type": "display_data"
    },
    {
     "data": {
      "text/html": [
       "<pre>| 3840             | 12.89s       | 19.25%           |</pre>"
      ],
      "text/plain": [
       "| 3840             | 12.89s       | 19.25%           |"
      ]
     },
     "metadata": {},
     "output_type": "display_data"
    },
    {
     "data": {
      "text/html": [
       "<pre>| 3904             | 13.08s       | 19.5%            |</pre>"
      ],
      "text/plain": [
       "| 3904             | 13.08s       | 19.5%            |"
      ]
     },
     "metadata": {},
     "output_type": "display_data"
    },
    {
     "data": {
      "text/html": [
       "<pre>| 3968             | 13.28s       | 20%              |</pre>"
      ],
      "text/plain": [
       "| 3968             | 13.28s       | 20%              |"
      ]
     },
     "metadata": {},
     "output_type": "display_data"
    },
    {
     "data": {
      "text/html": [
       "<pre>| 4032             | 13.47s       | 20.25%           |</pre>"
      ],
      "text/plain": [
       "| 4032             | 13.47s       | 20.25%           |"
      ]
     },
     "metadata": {},
     "output_type": "display_data"
    },
    {
     "data": {
      "text/html": [
       "<pre>| 4096             | 13.67s       | 20.5%            |</pre>"
      ],
      "text/plain": [
       "| 4096             | 13.67s       | 20.5%            |"
      ]
     },
     "metadata": {},
     "output_type": "display_data"
    },
    {
     "data": {
      "text/html": [
       "<pre>| 4160             | 13.86s       | 21%              |</pre>"
      ],
      "text/plain": [
       "| 4160             | 13.86s       | 21%              |"
      ]
     },
     "metadata": {},
     "output_type": "display_data"
    },
    {
     "data": {
      "text/html": [
       "<pre>| 4224             | 14.06s       | 21.25%           |</pre>"
      ],
      "text/plain": [
       "| 4224             | 14.06s       | 21.25%           |"
      ]
     },
     "metadata": {},
     "output_type": "display_data"
    },
    {
     "data": {
      "text/html": [
       "<pre>| 4288             | 14.25s       | 21.5%            |</pre>"
      ],
      "text/plain": [
       "| 4288             | 14.25s       | 21.5%            |"
      ]
     },
     "metadata": {},
     "output_type": "display_data"
    },
    {
     "data": {
      "text/html": [
       "<pre>| 4352             | 14.45s       | 22%              |</pre>"
      ],
      "text/plain": [
       "| 4352             | 14.45s       | 22%              |"
      ]
     },
     "metadata": {},
     "output_type": "display_data"
    },
    {
     "data": {
      "text/html": [
       "<pre>| 4416             | 14.65s       | 22.25%           |</pre>"
      ],
      "text/plain": [
       "| 4416             | 14.65s       | 22.25%           |"
      ]
     },
     "metadata": {},
     "output_type": "display_data"
    },
    {
     "data": {
      "text/html": [
       "<pre>| 4480             | 14.84s       | 22.5%            |</pre>"
      ],
      "text/plain": [
       "| 4480             | 14.84s       | 22.5%            |"
      ]
     },
     "metadata": {},
     "output_type": "display_data"
    },
    {
     "data": {
      "text/html": [
       "<pre>| 4544             | 15.04s       | 22.75%           |</pre>"
      ],
      "text/plain": [
       "| 4544             | 15.04s       | 22.75%           |"
      ]
     },
     "metadata": {},
     "output_type": "display_data"
    },
    {
     "data": {
      "text/html": [
       "<pre>| 4608             | 15.23s       | 23.25%           |</pre>"
      ],
      "text/plain": [
       "| 4608             | 15.23s       | 23.25%           |"
      ]
     },
     "metadata": {},
     "output_type": "display_data"
    },
    {
     "data": {
      "text/html": [
       "<pre>| 4672             | 15.43s       | 23.5%            |</pre>"
      ],
      "text/plain": [
       "| 4672             | 15.43s       | 23.5%            |"
      ]
     },
     "metadata": {},
     "output_type": "display_data"
    },
    {
     "data": {
      "text/html": [
       "<pre>| 4736             | 15.62s       | 23.75%           |</pre>"
      ],
      "text/plain": [
       "| 4736             | 15.62s       | 23.75%           |"
      ]
     },
     "metadata": {},
     "output_type": "display_data"
    },
    {
     "data": {
      "text/html": [
       "<pre>| 4800             | 15.82s       | 24.25%           |</pre>"
      ],
      "text/plain": [
       "| 4800             | 15.82s       | 24.25%           |"
      ]
     },
     "metadata": {},
     "output_type": "display_data"
    },
    {
     "data": {
      "text/html": [
       "<pre>| 4864             | 16.02s       | 24.5%            |</pre>"
      ],
      "text/plain": [
       "| 4864             | 16.02s       | 24.5%            |"
      ]
     },
     "metadata": {},
     "output_type": "display_data"
    },
    {
     "data": {
      "text/html": [
       "<pre>| 4928             | 16.21s       | 24.75%           |</pre>"
      ],
      "text/plain": [
       "| 4928             | 16.21s       | 24.75%           |"
      ]
     },
     "metadata": {},
     "output_type": "display_data"
    },
    {
     "data": {
      "text/html": [
       "<pre>| 4992             | 16.41s       | 25%              |</pre>"
      ],
      "text/plain": [
       "| 4992             | 16.41s       | 25%              |"
      ]
     },
     "metadata": {},
     "output_type": "display_data"
    },
    {
     "data": {
      "text/html": [
       "<pre>| 5056             | 16.60s       | 25.5%            |</pre>"
      ],
      "text/plain": [
       "| 5056             | 16.60s       | 25.5%            |"
      ]
     },
     "metadata": {},
     "output_type": "display_data"
    },
    {
     "data": {
      "text/html": [
       "<pre>| 5120             | 16.80s       | 25.75%           |</pre>"
      ],
      "text/plain": [
       "| 5120             | 16.80s       | 25.75%           |"
      ]
     },
     "metadata": {},
     "output_type": "display_data"
    },
    {
     "data": {
      "text/html": [
       "<pre>| 5184             | 17.00s       | 26%              |</pre>"
      ],
      "text/plain": [
       "| 5184             | 17.00s       | 26%              |"
      ]
     },
     "metadata": {},
     "output_type": "display_data"
    },
    {
     "data": {
      "text/html": [
       "<pre>| 5248             | 17.20s       | 26.5%            |</pre>"
      ],
      "text/plain": [
       "| 5248             | 17.20s       | 26.5%            |"
      ]
     },
     "metadata": {},
     "output_type": "display_data"
    },
    {
     "data": {
      "text/html": [
       "<pre>| 5312             | 17.40s       | 26.75%           |</pre>"
      ],
      "text/plain": [
       "| 5312             | 17.40s       | 26.75%           |"
      ]
     },
     "metadata": {},
     "output_type": "display_data"
    },
    {
     "data": {
      "text/html": [
       "<pre>| 5376             | 17.60s       | 27%              |</pre>"
      ],
      "text/plain": [
       "| 5376             | 17.60s       | 27%              |"
      ]
     },
     "metadata": {},
     "output_type": "display_data"
    },
    {
     "data": {
      "text/html": [
       "<pre>| 5440             | 17.80s       | 27.5%            |</pre>"
      ],
      "text/plain": [
       "| 5440             | 17.80s       | 27.5%            |"
      ]
     },
     "metadata": {},
     "output_type": "display_data"
    },
    {
     "data": {
      "text/html": [
       "<pre>| 5504             | 18.00s       | 27.75%           |</pre>"
      ],
      "text/plain": [
       "| 5504             | 18.00s       | 27.75%           |"
      ]
     },
     "metadata": {},
     "output_type": "display_data"
    },
    {
     "data": {
      "text/html": [
       "<pre>| 5568             | 18.20s       | 28%              |</pre>"
      ],
      "text/plain": [
       "| 5568             | 18.20s       | 28%              |"
      ]
     },
     "metadata": {},
     "output_type": "display_data"
    },
    {
     "data": {
      "text/html": [
       "<pre>| 5632             | 18.40s       | 28.25%           |</pre>"
      ],
      "text/plain": [
       "| 5632             | 18.40s       | 28.25%           |"
      ]
     },
     "metadata": {},
     "output_type": "display_data"
    },
    {
     "data": {
      "text/html": [
       "<pre>| 5696             | 18.60s       | 28.75%           |</pre>"
      ],
      "text/plain": [
       "| 5696             | 18.60s       | 28.75%           |"
      ]
     },
     "metadata": {},
     "output_type": "display_data"
    },
    {
     "data": {
      "text/html": [
       "<pre>| 5760             | 18.80s       | 29%              |</pre>"
      ],
      "text/plain": [
       "| 5760             | 18.80s       | 29%              |"
      ]
     },
     "metadata": {},
     "output_type": "display_data"
    },
    {
     "data": {
      "text/html": [
       "<pre>| 5824             | 19.00s       | 29.25%           |</pre>"
      ],
      "text/plain": [
       "| 5824             | 19.00s       | 29.25%           |"
      ]
     },
     "metadata": {},
     "output_type": "display_data"
    },
    {
     "data": {
      "text/html": [
       "<pre>| 5888             | 19.20s       | 29.75%           |</pre>"
      ],
      "text/plain": [
       "| 5888             | 19.20s       | 29.75%           |"
      ]
     },
     "metadata": {},
     "output_type": "display_data"
    },
    {
     "data": {
      "text/html": [
       "<pre>| 5952             | 19.40s       | 30%              |</pre>"
      ],
      "text/plain": [
       "| 5952             | 19.40s       | 30%              |"
      ]
     },
     "metadata": {},
     "output_type": "display_data"
    },
    {
     "data": {
      "text/html": [
       "<pre>| 6016             | 19.60s       | 30.25%           |</pre>"
      ],
      "text/plain": [
       "| 6016             | 19.60s       | 30.25%           |"
      ]
     },
     "metadata": {},
     "output_type": "display_data"
    },
    {
     "data": {
      "text/html": [
       "<pre>| 6080             | 19.80s       | 30.5%            |</pre>"
      ],
      "text/plain": [
       "| 6080             | 19.80s       | 30.5%            |"
      ]
     },
     "metadata": {},
     "output_type": "display_data"
    },
    {
     "data": {
      "text/html": [
       "<pre>| 6144             | 20.00s       | 31%              |</pre>"
      ],
      "text/plain": [
       "| 6144             | 20.00s       | 31%              |"
      ]
     },
     "metadata": {},
     "output_type": "display_data"
    },
    {
     "data": {
      "text/html": [
       "<pre>| 6208             | 20.20s       | 31.25%           |</pre>"
      ],
      "text/plain": [
       "| 6208             | 20.20s       | 31.25%           |"
      ]
     },
     "metadata": {},
     "output_type": "display_data"
    },
    {
     "data": {
      "text/html": [
       "<pre>| 6272             | 20.39s       | 31.5%            |</pre>"
      ],
      "text/plain": [
       "| 6272             | 20.39s       | 31.5%            |"
      ]
     },
     "metadata": {},
     "output_type": "display_data"
    },
    {
     "data": {
      "text/html": [
       "<pre>| 6336             | 20.59s       | 32%              |</pre>"
      ],
      "text/plain": [
       "| 6336             | 20.59s       | 32%              |"
      ]
     },
     "metadata": {},
     "output_type": "display_data"
    },
    {
     "data": {
      "text/html": [
       "<pre>| 6400             | 20.79s       | 32.25%           |</pre>"
      ],
      "text/plain": [
       "| 6400             | 20.79s       | 32.25%           |"
      ]
     },
     "metadata": {},
     "output_type": "display_data"
    },
    {
     "data": {
      "text/html": [
       "<pre>| 6464             | 20.99s       | 32.5%            |</pre>"
      ],
      "text/plain": [
       "| 6464             | 20.99s       | 32.5%            |"
      ]
     },
     "metadata": {},
     "output_type": "display_data"
    },
    {
     "data": {
      "text/html": [
       "<pre>| 6528             | 21.18s       | 33%              |</pre>"
      ],
      "text/plain": [
       "| 6528             | 21.18s       | 33%              |"
      ]
     },
     "metadata": {},
     "output_type": "display_data"
    },
    {
     "data": {
      "text/html": [
       "<pre>| 6592             | 21.38s       | 33.25%           |</pre>"
      ],
      "text/plain": [
       "| 6592             | 21.38s       | 33.25%           |"
      ]
     },
     "metadata": {},
     "output_type": "display_data"
    },
    {
     "data": {
      "text/html": [
       "<pre>| 6656             | 21.58s       | 33.5%            |</pre>"
      ],
      "text/plain": [
       "| 6656             | 21.58s       | 33.5%            |"
      ]
     },
     "metadata": {},
     "output_type": "display_data"
    },
    {
     "data": {
      "text/html": [
       "<pre>| 6720             | 21.78s       | 33.75%           |</pre>"
      ],
      "text/plain": [
       "| 6720             | 21.78s       | 33.75%           |"
      ]
     },
     "metadata": {},
     "output_type": "display_data"
    },
    {
     "data": {
      "text/html": [
       "<pre>| 6784             | 21.97s       | 34.25%           |</pre>"
      ],
      "text/plain": [
       "| 6784             | 21.97s       | 34.25%           |"
      ]
     },
     "metadata": {},
     "output_type": "display_data"
    },
    {
     "data": {
      "text/html": [
       "<pre>| 6848             | 22.17s       | 34.5%            |</pre>"
      ],
      "text/plain": [
       "| 6848             | 22.17s       | 34.5%            |"
      ]
     },
     "metadata": {},
     "output_type": "display_data"
    },
    {
     "data": {
      "text/html": [
       "<pre>| 6912             | 22.37s       | 34.75%           |</pre>"
      ],
      "text/plain": [
       "| 6912             | 22.37s       | 34.75%           |"
      ]
     },
     "metadata": {},
     "output_type": "display_data"
    },
    {
     "data": {
      "text/html": [
       "<pre>| 6976             | 22.56s       | 35.25%           |</pre>"
      ],
      "text/plain": [
       "| 6976             | 22.56s       | 35.25%           |"
      ]
     },
     "metadata": {},
     "output_type": "display_data"
    },
    {
     "data": {
      "text/html": [
       "<pre>| 7040             | 22.76s       | 35.5%            |</pre>"
      ],
      "text/plain": [
       "| 7040             | 22.76s       | 35.5%            |"
      ]
     },
     "metadata": {},
     "output_type": "display_data"
    },
    {
     "data": {
      "text/html": [
       "<pre>| 7104             | 22.95s       | 35.75%           |</pre>"
      ],
      "text/plain": [
       "| 7104             | 22.95s       | 35.75%           |"
      ]
     },
     "metadata": {},
     "output_type": "display_data"
    },
    {
     "data": {
      "text/html": [
       "<pre>| 7168             | 23.15s       | 36%              |</pre>"
      ],
      "text/plain": [
       "| 7168             | 23.15s       | 36%              |"
      ]
     },
     "metadata": {},
     "output_type": "display_data"
    },
    {
     "data": {
      "text/html": [
       "<pre>| 7232             | 23.34s       | 36.5%            |</pre>"
      ],
      "text/plain": [
       "| 7232             | 23.34s       | 36.5%            |"
      ]
     },
     "metadata": {},
     "output_type": "display_data"
    },
    {
     "data": {
      "text/html": [
       "<pre>| 7296             | 23.54s       | 36.75%           |</pre>"
      ],
      "text/plain": [
       "| 7296             | 23.54s       | 36.75%           |"
      ]
     },
     "metadata": {},
     "output_type": "display_data"
    },
    {
     "data": {
      "text/html": [
       "<pre>| 7360             | 23.73s       | 37%              |</pre>"
      ],
      "text/plain": [
       "| 7360             | 23.73s       | 37%              |"
      ]
     },
     "metadata": {},
     "output_type": "display_data"
    },
    {
     "data": {
      "text/html": [
       "<pre>| 7424             | 23.93s       | 37.5%            |</pre>"
      ],
      "text/plain": [
       "| 7424             | 23.93s       | 37.5%            |"
      ]
     },
     "metadata": {},
     "output_type": "display_data"
    },
    {
     "data": {
      "text/html": [
       "<pre>| 7488             | 24.12s       | 37.75%           |</pre>"
      ],
      "text/plain": [
       "| 7488             | 24.12s       | 37.75%           |"
      ]
     },
     "metadata": {},
     "output_type": "display_data"
    },
    {
     "data": {
      "text/html": [
       "<pre>| 7552             | 24.32s       | 38%              |</pre>"
      ],
      "text/plain": [
       "| 7552             | 24.32s       | 38%              |"
      ]
     },
     "metadata": {},
     "output_type": "display_data"
    },
    {
     "data": {
      "text/html": [
       "<pre>| 7616             | 24.52s       | 38.5%            |</pre>"
      ],
      "text/plain": [
       "| 7616             | 24.52s       | 38.5%            |"
      ]
     },
     "metadata": {},
     "output_type": "display_data"
    },
    {
     "data": {
      "text/html": [
       "<pre>| 7680             | 24.71s       | 38.75%           |</pre>"
      ],
      "text/plain": [
       "| 7680             | 24.71s       | 38.75%           |"
      ]
     },
     "metadata": {},
     "output_type": "display_data"
    },
    {
     "data": {
      "text/html": [
       "<pre>| 7744             | 24.91s       | 39%              |</pre>"
      ],
      "text/plain": [
       "| 7744             | 24.91s       | 39%              |"
      ]
     },
     "metadata": {},
     "output_type": "display_data"
    },
    {
     "data": {
      "text/html": [
       "<pre>| 7808             | 25.10s       | 39.25%           |</pre>"
      ],
      "text/plain": [
       "| 7808             | 25.10s       | 39.25%           |"
      ]
     },
     "metadata": {},
     "output_type": "display_data"
    },
    {
     "data": {
      "text/html": [
       "<pre>| 7872             | 25.30s       | 39.75%           |</pre>"
      ],
      "text/plain": [
       "| 7872             | 25.30s       | 39.75%           |"
      ]
     },
     "metadata": {},
     "output_type": "display_data"
    },
    {
     "data": {
      "text/html": [
       "<pre>| 7936             | 25.49s       | 40%              |</pre>"
      ],
      "text/plain": [
       "| 7936             | 25.49s       | 40%              |"
      ]
     },
     "metadata": {},
     "output_type": "display_data"
    },
    {
     "data": {
      "text/html": [
       "<pre>| 8000             | 25.69s       | 40.25%           |</pre>"
      ],
      "text/plain": [
       "| 8000             | 25.69s       | 40.25%           |"
      ]
     },
     "metadata": {},
     "output_type": "display_data"
    },
    {
     "data": {
      "text/html": [
       "<pre>| 8064             | 25.88s       | 40.75%           |</pre>"
      ],
      "text/plain": [
       "| 8064             | 25.88s       | 40.75%           |"
      ]
     },
     "metadata": {},
     "output_type": "display_data"
    },
    {
     "data": {
      "text/html": [
       "<pre>| 8128             | 26.08s       | 41%              |</pre>"
      ],
      "text/plain": [
       "| 8128             | 26.08s       | 41%              |"
      ]
     },
     "metadata": {},
     "output_type": "display_data"
    },
    {
     "data": {
      "text/html": [
       "<pre>| 8192             | 26.27s       | 41.25%           |</pre>"
      ],
      "text/plain": [
       "| 8192             | 26.27s       | 41.25%           |"
      ]
     },
     "metadata": {},
     "output_type": "display_data"
    },
    {
     "data": {
      "text/html": [
       "<pre>| 8256             | 26.47s       | 41.5%            |</pre>"
      ],
      "text/plain": [
       "| 8256             | 26.47s       | 41.5%            |"
      ]
     },
     "metadata": {},
     "output_type": "display_data"
    },
    {
     "data": {
      "text/html": [
       "<pre>| 8320             | 26.66s       | 42%              |</pre>"
      ],
      "text/plain": [
       "| 8320             | 26.66s       | 42%              |"
      ]
     },
     "metadata": {},
     "output_type": "display_data"
    },
    {
     "data": {
      "text/html": [
       "<pre>| 8384             | 26.86s       | 42.25%           |</pre>"
      ],
      "text/plain": [
       "| 8384             | 26.86s       | 42.25%           |"
      ]
     },
     "metadata": {},
     "output_type": "display_data"
    },
    {
     "data": {
      "text/html": [
       "<pre>| 8448             | 27.05s       | 42.5%            |</pre>"
      ],
      "text/plain": [
       "| 8448             | 27.05s       | 42.5%            |"
      ]
     },
     "metadata": {},
     "output_type": "display_data"
    },
    {
     "data": {
      "text/html": [
       "<pre>| 8512             | 27.25s       | 43%              |</pre>"
      ],
      "text/plain": [
       "| 8512             | 27.25s       | 43%              |"
      ]
     },
     "metadata": {},
     "output_type": "display_data"
    },
    {
     "data": {
      "text/html": [
       "<pre>| 8576             | 27.44s       | 43.25%           |</pre>"
      ],
      "text/plain": [
       "| 8576             | 27.44s       | 43.25%           |"
      ]
     },
     "metadata": {},
     "output_type": "display_data"
    },
    {
     "data": {
      "text/html": [
       "<pre>| 8640             | 27.64s       | 43.5%            |</pre>"
      ],
      "text/plain": [
       "| 8640             | 27.64s       | 43.5%            |"
      ]
     },
     "metadata": {},
     "output_type": "display_data"
    },
    {
     "data": {
      "text/html": [
       "<pre>| 8704             | 27.84s       | 44%              |</pre>"
      ],
      "text/plain": [
       "| 8704             | 27.84s       | 44%              |"
      ]
     },
     "metadata": {},
     "output_type": "display_data"
    },
    {
     "data": {
      "text/html": [
       "<pre>| 8768             | 28.03s       | 44.25%           |</pre>"
      ],
      "text/plain": [
       "| 8768             | 28.03s       | 44.25%           |"
      ]
     },
     "metadata": {},
     "output_type": "display_data"
    },
    {
     "data": {
      "text/html": [
       "<pre>| 8832             | 28.23s       | 44.5%            |</pre>"
      ],
      "text/plain": [
       "| 8832             | 28.23s       | 44.5%            |"
      ]
     },
     "metadata": {},
     "output_type": "display_data"
    },
    {
     "data": {
      "text/html": [
       "<pre>| 8896             | 28.42s       | 44.75%           |</pre>"
      ],
      "text/plain": [
       "| 8896             | 28.42s       | 44.75%           |"
      ]
     },
     "metadata": {},
     "output_type": "display_data"
    },
    {
     "data": {
      "text/html": [
       "<pre>| 8960             | 28.62s       | 45.25%           |</pre>"
      ],
      "text/plain": [
       "| 8960             | 28.62s       | 45.25%           |"
      ]
     },
     "metadata": {},
     "output_type": "display_data"
    },
    {
     "data": {
      "text/html": [
       "<pre>| 9024             | 28.82s       | 45.5%            |</pre>"
      ],
      "text/plain": [
       "| 9024             | 28.82s       | 45.5%            |"
      ]
     },
     "metadata": {},
     "output_type": "display_data"
    },
    {
     "data": {
      "text/html": [
       "<pre>| 9088             | 29.01s       | 45.75%           |</pre>"
      ],
      "text/plain": [
       "| 9088             | 29.01s       | 45.75%           |"
      ]
     },
     "metadata": {},
     "output_type": "display_data"
    },
    {
     "data": {
      "text/html": [
       "<pre>| 9152             | 29.21s       | 46.25%           |</pre>"
      ],
      "text/plain": [
       "| 9152             | 29.21s       | 46.25%           |"
      ]
     },
     "metadata": {},
     "output_type": "display_data"
    },
    {
     "data": {
      "text/html": [
       "<pre>| 9216             | 29.40s       | 46.5%            |</pre>"
      ],
      "text/plain": [
       "| 9216             | 29.40s       | 46.5%            |"
      ]
     },
     "metadata": {},
     "output_type": "display_data"
    },
    {
     "data": {
      "text/html": [
       "<pre>| 9280             | 29.60s       | 46.75%           |</pre>"
      ],
      "text/plain": [
       "| 9280             | 29.60s       | 46.75%           |"
      ]
     },
     "metadata": {},
     "output_type": "display_data"
    },
    {
     "data": {
      "text/html": [
       "<pre>| 9344             | 29.79s       | 47%              |</pre>"
      ],
      "text/plain": [
       "| 9344             | 29.79s       | 47%              |"
      ]
     },
     "metadata": {},
     "output_type": "display_data"
    },
    {
     "data": {
      "text/html": [
       "<pre>| 9408             | 29.99s       | 47.5%            |</pre>"
      ],
      "text/plain": [
       "| 9408             | 29.99s       | 47.5%            |"
      ]
     },
     "metadata": {},
     "output_type": "display_data"
    },
    {
     "data": {
      "text/html": [
       "<pre>| 9472             | 30.18s       | 47.75%           |</pre>"
      ],
      "text/plain": [
       "| 9472             | 30.18s       | 47.75%           |"
      ]
     },
     "metadata": {},
     "output_type": "display_data"
    },
    {
     "data": {
      "text/html": [
       "<pre>| 9536             | 30.38s       | 48%              |</pre>"
      ],
      "text/plain": [
       "| 9536             | 30.38s       | 48%              |"
      ]
     },
     "metadata": {},
     "output_type": "display_data"
    },
    {
     "data": {
      "text/html": [
       "<pre>| 9600             | 30.58s       | 48.5%            |</pre>"
      ],
      "text/plain": [
       "| 9600             | 30.58s       | 48.5%            |"
      ]
     },
     "metadata": {},
     "output_type": "display_data"
    },
    {
     "data": {
      "text/html": [
       "<pre>| 9664             | 30.78s       | 48.75%           |</pre>"
      ],
      "text/plain": [
       "| 9664             | 30.78s       | 48.75%           |"
      ]
     },
     "metadata": {},
     "output_type": "display_data"
    },
    {
     "data": {
      "text/html": [
       "<pre>| 9728             | 30.99s       | 49%              |</pre>"
      ],
      "text/plain": [
       "| 9728             | 30.99s       | 49%              |"
      ]
     },
     "metadata": {},
     "output_type": "display_data"
    },
    {
     "data": {
      "text/html": [
       "<pre>| 9792             | 31.19s       | 49.5%            |</pre>"
      ],
      "text/plain": [
       "| 9792             | 31.19s       | 49.5%            |"
      ]
     },
     "metadata": {},
     "output_type": "display_data"
    },
    {
     "data": {
      "text/html": [
       "<pre>| 9856             | 31.39s       | 49.75%           |</pre>"
      ],
      "text/plain": [
       "| 9856             | 31.39s       | 49.75%           |"
      ]
     },
     "metadata": {},
     "output_type": "display_data"
    },
    {
     "data": {
      "text/html": [
       "<pre>| 9920             | 31.59s       | 50%              |</pre>"
      ],
      "text/plain": [
       "| 9920             | 31.59s       | 50%              |"
      ]
     },
     "metadata": {},
     "output_type": "display_data"
    },
    {
     "data": {
      "text/html": [
       "<pre>| 9984             | 31.79s       | 50.25%           |</pre>"
      ],
      "text/plain": [
       "| 9984             | 31.79s       | 50.25%           |"
      ]
     },
     "metadata": {},
     "output_type": "display_data"
    },
    {
     "data": {
      "text/html": [
       "<pre>| 10048            | 31.99s       | 50.75%           |</pre>"
      ],
      "text/plain": [
       "| 10048            | 31.99s       | 50.75%           |"
      ]
     },
     "metadata": {},
     "output_type": "display_data"
    },
    {
     "data": {
      "text/html": [
       "<pre>| 10112            | 32.19s       | 51%              |</pre>"
      ],
      "text/plain": [
       "| 10112            | 32.19s       | 51%              |"
      ]
     },
     "metadata": {},
     "output_type": "display_data"
    },
    {
     "data": {
      "text/html": [
       "<pre>| 10176            | 32.40s       | 51.25%           |</pre>"
      ],
      "text/plain": [
       "| 10176            | 32.40s       | 51.25%           |"
      ]
     },
     "metadata": {},
     "output_type": "display_data"
    },
    {
     "data": {
      "text/html": [
       "<pre>| 10240            | 32.60s       | 51.75%           |</pre>"
      ],
      "text/plain": [
       "| 10240            | 32.60s       | 51.75%           |"
      ]
     },
     "metadata": {},
     "output_type": "display_data"
    },
    {
     "data": {
      "text/html": [
       "<pre>| 10304            | 32.84s       | 52%              |</pre>"
      ],
      "text/plain": [
       "| 10304            | 32.84s       | 52%              |"
      ]
     },
     "metadata": {},
     "output_type": "display_data"
    },
    {
     "data": {
      "text/html": [
       "<pre>| 10368            | 33.05s       | 52.25%           |</pre>"
      ],
      "text/plain": [
       "| 10368            | 33.05s       | 52.25%           |"
      ]
     },
     "metadata": {},
     "output_type": "display_data"
    },
    {
     "data": {
      "text/html": [
       "<pre>| 10432            | 33.28s       | 52.75%           |</pre>"
      ],
      "text/plain": [
       "| 10432            | 33.28s       | 52.75%           |"
      ]
     },
     "metadata": {},
     "output_type": "display_data"
    },
    {
     "data": {
      "text/html": [
       "<pre>| 10496            | 33.51s       | 53%              |</pre>"
      ],
      "text/plain": [
       "| 10496            | 33.51s       | 53%              |"
      ]
     },
     "metadata": {},
     "output_type": "display_data"
    },
    {
     "data": {
      "text/html": [
       "<pre>| 10560            | 33.74s       | 53.25%           |</pre>"
      ],
      "text/plain": [
       "| 10560            | 33.74s       | 53.25%           |"
      ]
     },
     "metadata": {},
     "output_type": "display_data"
    },
    {
     "data": {
      "text/html": [
       "<pre>| 10624            | 33.95s       | 53.5%            |</pre>"
      ],
      "text/plain": [
       "| 10624            | 33.95s       | 53.5%            |"
      ]
     },
     "metadata": {},
     "output_type": "display_data"
    },
    {
     "data": {
      "text/html": [
       "<pre>| 10688            | 34.15s       | 54%              |</pre>"
      ],
      "text/plain": [
       "| 10688            | 34.15s       | 54%              |"
      ]
     },
     "metadata": {},
     "output_type": "display_data"
    },
    {
     "data": {
      "text/html": [
       "<pre>| 10752            | 34.38s       | 54.25%           |</pre>"
      ],
      "text/plain": [
       "| 10752            | 34.38s       | 54.25%           |"
      ]
     },
     "metadata": {},
     "output_type": "display_data"
    },
    {
     "data": {
      "text/html": [
       "<pre>| 10816            | 34.59s       | 54.5%            |</pre>"
      ],
      "text/plain": [
       "| 10816            | 34.59s       | 54.5%            |"
      ]
     },
     "metadata": {},
     "output_type": "display_data"
    },
    {
     "data": {
      "text/html": [
       "<pre>| 10880            | 34.80s       | 55%              |</pre>"
      ],
      "text/plain": [
       "| 10880            | 34.80s       | 55%              |"
      ]
     },
     "metadata": {},
     "output_type": "display_data"
    },
    {
     "data": {
      "text/html": [
       "<pre>| 10944            | 35.00s       | 55.25%           |</pre>"
      ],
      "text/plain": [
       "| 10944            | 35.00s       | 55.25%           |"
      ]
     },
     "metadata": {},
     "output_type": "display_data"
    },
    {
     "data": {
      "text/html": [
       "<pre>| 11008            | 35.22s       | 55.5%            |</pre>"
      ],
      "text/plain": [
       "| 11008            | 35.22s       | 55.5%            |"
      ]
     },
     "metadata": {},
     "output_type": "display_data"
    },
    {
     "data": {
      "text/html": [
       "<pre>| 11072            | 35.43s       | 55.75%           |</pre>"
      ],
      "text/plain": [
       "| 11072            | 35.43s       | 55.75%           |"
      ]
     },
     "metadata": {},
     "output_type": "display_data"
    },
    {
     "data": {
      "text/html": [
       "<pre>| 11136            | 35.62s       | 56.25%           |</pre>"
      ],
      "text/plain": [
       "| 11136            | 35.62s       | 56.25%           |"
      ]
     },
     "metadata": {},
     "output_type": "display_data"
    },
    {
     "data": {
      "text/html": [
       "<pre>| 11200            | 35.84s       | 56.5%            |</pre>"
      ],
      "text/plain": [
       "| 11200            | 35.84s       | 56.5%            |"
      ]
     },
     "metadata": {},
     "output_type": "display_data"
    },
    {
     "data": {
      "text/html": [
       "<pre>| 11264            | 36.04s       | 56.75%           |</pre>"
      ],
      "text/plain": [
       "| 11264            | 36.04s       | 56.75%           |"
      ]
     },
     "metadata": {},
     "output_type": "display_data"
    },
    {
     "data": {
      "text/html": [
       "<pre>| 11328            | 36.23s       | 57.25%           |</pre>"
      ],
      "text/plain": [
       "| 11328            | 36.23s       | 57.25%           |"
      ]
     },
     "metadata": {},
     "output_type": "display_data"
    },
    {
     "data": {
      "text/html": [
       "<pre>| 11392            | 36.43s       | 57.5%            |</pre>"
      ],
      "text/plain": [
       "| 11392            | 36.43s       | 57.5%            |"
      ]
     },
     "metadata": {},
     "output_type": "display_data"
    },
    {
     "data": {
      "text/html": [
       "<pre>| 11456            | 36.66s       | 57.75%           |</pre>"
      ],
      "text/plain": [
       "| 11456            | 36.66s       | 57.75%           |"
      ]
     },
     "metadata": {},
     "output_type": "display_data"
    },
    {
     "data": {
      "text/html": [
       "<pre>| 11520            | 36.86s       | 58.25%           |</pre>"
      ],
      "text/plain": [
       "| 11520            | 36.86s       | 58.25%           |"
      ]
     },
     "metadata": {},
     "output_type": "display_data"
    },
    {
     "data": {
      "text/html": [
       "<pre>| 11584            | 37.08s       | 58.5%            |</pre>"
      ],
      "text/plain": [
       "| 11584            | 37.08s       | 58.5%            |"
      ]
     },
     "metadata": {},
     "output_type": "display_data"
    },
    {
     "data": {
      "text/html": [
       "<pre>| 11648            | 37.29s       | 58.75%           |</pre>"
      ],
      "text/plain": [
       "| 11648            | 37.29s       | 58.75%           |"
      ]
     },
     "metadata": {},
     "output_type": "display_data"
    },
    {
     "data": {
      "text/html": [
       "<pre>| 11712            | 37.49s       | 59%              |</pre>"
      ],
      "text/plain": [
       "| 11712            | 37.49s       | 59%              |"
      ]
     },
     "metadata": {},
     "output_type": "display_data"
    },
    {
     "data": {
      "text/html": [
       "<pre>| 11776            | 37.70s       | 59.5%            |</pre>"
      ],
      "text/plain": [
       "| 11776            | 37.70s       | 59.5%            |"
      ]
     },
     "metadata": {},
     "output_type": "display_data"
    },
    {
     "data": {
      "text/html": [
       "<pre>| 11840            | 37.91s       | 59.75%           |</pre>"
      ],
      "text/plain": [
       "| 11840            | 37.91s       | 59.75%           |"
      ]
     },
     "metadata": {},
     "output_type": "display_data"
    },
    {
     "data": {
      "text/html": [
       "<pre>| 11904            | 38.12s       | 60%              |</pre>"
      ],
      "text/plain": [
       "| 11904            | 38.12s       | 60%              |"
      ]
     },
     "metadata": {},
     "output_type": "display_data"
    },
    {
     "data": {
      "text/html": [
       "<pre>| 11968            | 38.32s       | 60.5%            |</pre>"
      ],
      "text/plain": [
       "| 11968            | 38.32s       | 60.5%            |"
      ]
     },
     "metadata": {},
     "output_type": "display_data"
    },
    {
     "data": {
      "text/html": [
       "<pre>| 12032            | 38.55s       | 60.75%           |</pre>"
      ],
      "text/plain": [
       "| 12032            | 38.55s       | 60.75%           |"
      ]
     },
     "metadata": {},
     "output_type": "display_data"
    },
    {
     "data": {
      "text/html": [
       "<pre>| 12096            | 38.78s       | 61%              |</pre>"
      ],
      "text/plain": [
       "| 12096            | 38.78s       | 61%              |"
      ]
     },
     "metadata": {},
     "output_type": "display_data"
    },
    {
     "data": {
      "text/html": [
       "<pre>| 12160            | 39.00s       | 61.25%           |</pre>"
      ],
      "text/plain": [
       "| 12160            | 39.00s       | 61.25%           |"
      ]
     },
     "metadata": {},
     "output_type": "display_data"
    },
    {
     "data": {
      "text/html": [
       "<pre>| 12224            | 39.21s       | 61.75%           |</pre>"
      ],
      "text/plain": [
       "| 12224            | 39.21s       | 61.75%           |"
      ]
     },
     "metadata": {},
     "output_type": "display_data"
    },
    {
     "data": {
      "text/html": [
       "<pre>| 12288            | 39.41s       | 62%              |</pre>"
      ],
      "text/plain": [
       "| 12288            | 39.41s       | 62%              |"
      ]
     },
     "metadata": {},
     "output_type": "display_data"
    },
    {
     "data": {
      "text/html": [
       "<pre>| 12352            | 39.62s       | 62.25%           |</pre>"
      ],
      "text/plain": [
       "| 12352            | 39.62s       | 62.25%           |"
      ]
     },
     "metadata": {},
     "output_type": "display_data"
    },
    {
     "data": {
      "text/html": [
       "<pre>| 12416            | 39.83s       | 62.75%           |</pre>"
      ],
      "text/plain": [
       "| 12416            | 39.83s       | 62.75%           |"
      ]
     },
     "metadata": {},
     "output_type": "display_data"
    },
    {
     "data": {
      "text/html": [
       "<pre>| 12480            | 40.05s       | 63%              |</pre>"
      ],
      "text/plain": [
       "| 12480            | 40.05s       | 63%              |"
      ]
     },
     "metadata": {},
     "output_type": "display_data"
    },
    {
     "data": {
      "text/html": [
       "<pre>| 12544            | 40.28s       | 63.25%           |</pre>"
      ],
      "text/plain": [
       "| 12544            | 40.28s       | 63.25%           |"
      ]
     },
     "metadata": {},
     "output_type": "display_data"
    },
    {
     "data": {
      "text/html": [
       "<pre>| 12608            | 40.51s       | 63.75%           |</pre>"
      ],
      "text/plain": [
       "| 12608            | 40.51s       | 63.75%           |"
      ]
     },
     "metadata": {},
     "output_type": "display_data"
    },
    {
     "data": {
      "text/html": [
       "<pre>| 12672            | 40.74s       | 64%              |</pre>"
      ],
      "text/plain": [
       "| 12672            | 40.74s       | 64%              |"
      ]
     },
     "metadata": {},
     "output_type": "display_data"
    },
    {
     "data": {
      "text/html": [
       "<pre>| 12736            | 40.97s       | 64.25%           |</pre>"
      ],
      "text/plain": [
       "| 12736            | 40.97s       | 64.25%           |"
      ]
     },
     "metadata": {},
     "output_type": "display_data"
    },
    {
     "data": {
      "text/html": [
       "<pre>| 12800            | 41.20s       | 64.5%            |</pre>"
      ],
      "text/plain": [
       "| 12800            | 41.20s       | 64.5%            |"
      ]
     },
     "metadata": {},
     "output_type": "display_data"
    },
    {
     "data": {
      "text/html": [
       "<pre>| 12864            | 41.43s       | 65%              |</pre>"
      ],
      "text/plain": [
       "| 12864            | 41.43s       | 65%              |"
      ]
     },
     "metadata": {},
     "output_type": "display_data"
    },
    {
     "data": {
      "text/html": [
       "<pre>| 12928            | 41.66s       | 65.25%           |</pre>"
      ],
      "text/plain": [
       "| 12928            | 41.66s       | 65.25%           |"
      ]
     },
     "metadata": {},
     "output_type": "display_data"
    },
    {
     "data": {
      "text/html": [
       "<pre>| 12992            | 41.88s       | 65.5%            |</pre>"
      ],
      "text/plain": [
       "| 12992            | 41.88s       | 65.5%            |"
      ]
     },
     "metadata": {},
     "output_type": "display_data"
    },
    {
     "data": {
      "text/html": [
       "<pre>| 13056            | 42.08s       | 66%              |</pre>"
      ],
      "text/plain": [
       "| 13056            | 42.08s       | 66%              |"
      ]
     },
     "metadata": {},
     "output_type": "display_data"
    },
    {
     "data": {
      "text/html": [
       "<pre>| 13120            | 42.31s       | 66.25%           |</pre>"
      ],
      "text/plain": [
       "| 13120            | 42.31s       | 66.25%           |"
      ]
     },
     "metadata": {},
     "output_type": "display_data"
    },
    {
     "data": {
      "text/html": [
       "<pre>| 13184            | 42.53s       | 66.5%            |</pre>"
      ],
      "text/plain": [
       "| 13184            | 42.53s       | 66.5%            |"
      ]
     },
     "metadata": {},
     "output_type": "display_data"
    },
    {
     "data": {
      "text/html": [
       "<pre>| 13248            | 42.75s       | 66.75%           |</pre>"
      ],
      "text/plain": [
       "| 13248            | 42.75s       | 66.75%           |"
      ]
     },
     "metadata": {},
     "output_type": "display_data"
    },
    {
     "data": {
      "text/html": [
       "<pre>| 13312            | 42.96s       | 67.25%           |</pre>"
      ],
      "text/plain": [
       "| 13312            | 42.96s       | 67.25%           |"
      ]
     },
     "metadata": {},
     "output_type": "display_data"
    },
    {
     "data": {
      "text/html": [
       "<pre>| 13376            | 43.19s       | 67.5%            |</pre>"
      ],
      "text/plain": [
       "| 13376            | 43.19s       | 67.5%            |"
      ]
     },
     "metadata": {},
     "output_type": "display_data"
    },
    {
     "data": {
      "text/html": [
       "<pre>| 13440            | 43.40s       | 67.75%           |</pre>"
      ],
      "text/plain": [
       "| 13440            | 43.40s       | 67.75%           |"
      ]
     },
     "metadata": {},
     "output_type": "display_data"
    },
    {
     "data": {
      "text/html": [
       "<pre>| 13504            | 43.61s       | 68.25%           |</pre>"
      ],
      "text/plain": [
       "| 13504            | 43.61s       | 68.25%           |"
      ]
     },
     "metadata": {},
     "output_type": "display_data"
    },
    {
     "data": {
      "text/html": [
       "<pre>| 13568            | 43.81s       | 68.5%            |</pre>"
      ],
      "text/plain": [
       "| 13568            | 43.81s       | 68.5%            |"
      ]
     },
     "metadata": {},
     "output_type": "display_data"
    },
    {
     "data": {
      "text/html": [
       "<pre>| 13632            | 44.01s       | 68.75%           |</pre>"
      ],
      "text/plain": [
       "| 13632            | 44.01s       | 68.75%           |"
      ]
     },
     "metadata": {},
     "output_type": "display_data"
    },
    {
     "data": {
      "text/html": [
       "<pre>| 13696            | 44.22s       | 69.25%           |</pre>"
      ],
      "text/plain": [
       "| 13696            | 44.22s       | 69.25%           |"
      ]
     },
     "metadata": {},
     "output_type": "display_data"
    },
    {
     "data": {
      "text/html": [
       "<pre>| 13760            | 44.42s       | 69.5%            |</pre>"
      ],
      "text/plain": [
       "| 13760            | 44.42s       | 69.5%            |"
      ]
     },
     "metadata": {},
     "output_type": "display_data"
    },
    {
     "data": {
      "text/html": [
       "<pre>| 13824            | 44.62s       | 69.75%           |</pre>"
      ],
      "text/plain": [
       "| 13824            | 44.62s       | 69.75%           |"
      ]
     },
     "metadata": {},
     "output_type": "display_data"
    },
    {
     "data": {
      "text/html": [
       "<pre>| 13888            | 44.82s       | 70%              |</pre>"
      ],
      "text/plain": [
       "| 13888            | 44.82s       | 70%              |"
      ]
     },
     "metadata": {},
     "output_type": "display_data"
    },
    {
     "data": {
      "text/html": [
       "<pre>| 13952            | 45.02s       | 70.5%            |</pre>"
      ],
      "text/plain": [
       "| 13952            | 45.02s       | 70.5%            |"
      ]
     },
     "metadata": {},
     "output_type": "display_data"
    },
    {
     "data": {
      "text/html": [
       "<pre>| 14016            | 45.23s       | 70.75%           |</pre>"
      ],
      "text/plain": [
       "| 14016            | 45.23s       | 70.75%           |"
      ]
     },
     "metadata": {},
     "output_type": "display_data"
    },
    {
     "data": {
      "text/html": [
       "<pre>| 14080            | 45.43s       | 71%              |</pre>"
      ],
      "text/plain": [
       "| 14080            | 45.43s       | 71%              |"
      ]
     },
     "metadata": {},
     "output_type": "display_data"
    },
    {
     "data": {
      "text/html": [
       "<pre>| 14144            | 45.64s       | 71.5%            |</pre>"
      ],
      "text/plain": [
       "| 14144            | 45.64s       | 71.5%            |"
      ]
     },
     "metadata": {},
     "output_type": "display_data"
    },
    {
     "data": {
      "text/html": [
       "<pre>| 14208            | 45.85s       | 71.75%           |</pre>"
      ],
      "text/plain": [
       "| 14208            | 45.85s       | 71.75%           |"
      ]
     },
     "metadata": {},
     "output_type": "display_data"
    },
    {
     "data": {
      "text/html": [
       "<pre>| 14272            | 46.06s       | 72%              |</pre>"
      ],
      "text/plain": [
       "| 14272            | 46.06s       | 72%              |"
      ]
     },
     "metadata": {},
     "output_type": "display_data"
    },
    {
     "data": {
      "text/html": [
       "<pre>| 14336            | 46.26s       | 72.25%           |</pre>"
      ],
      "text/plain": [
       "| 14336            | 46.26s       | 72.25%           |"
      ]
     },
     "metadata": {},
     "output_type": "display_data"
    },
    {
     "data": {
      "text/html": [
       "<pre>| 14400            | 46.47s       | 72.75%           |</pre>"
      ],
      "text/plain": [
       "| 14400            | 46.47s       | 72.75%           |"
      ]
     },
     "metadata": {},
     "output_type": "display_data"
    },
    {
     "data": {
      "text/html": [
       "<pre>| 14464            | 46.68s       | 73%              |</pre>"
      ],
      "text/plain": [
       "| 14464            | 46.68s       | 73%              |"
      ]
     },
     "metadata": {},
     "output_type": "display_data"
    },
    {
     "data": {
      "text/html": [
       "<pre>| 14528            | 46.90s       | 73.25%           |</pre>"
      ],
      "text/plain": [
       "| 14528            | 46.90s       | 73.25%           |"
      ]
     },
     "metadata": {},
     "output_type": "display_data"
    },
    {
     "data": {
      "text/html": [
       "<pre>| 14592            | 47.11s       | 73.75%           |</pre>"
      ],
      "text/plain": [
       "| 14592            | 47.11s       | 73.75%           |"
      ]
     },
     "metadata": {},
     "output_type": "display_data"
    },
    {
     "data": {
      "text/html": [
       "<pre>| 14656            | 47.32s       | 74%              |</pre>"
      ],
      "text/plain": [
       "| 14656            | 47.32s       | 74%              |"
      ]
     },
     "metadata": {},
     "output_type": "display_data"
    },
    {
     "data": {
      "text/html": [
       "<pre>| 14720            | 47.53s       | 74.25%           |</pre>"
      ],
      "text/plain": [
       "| 14720            | 47.53s       | 74.25%           |"
      ]
     },
     "metadata": {},
     "output_type": "display_data"
    },
    {
     "data": {
      "text/html": [
       "<pre>| 14784            | 47.74s       | 74.75%           |</pre>"
      ],
      "text/plain": [
       "| 14784            | 47.74s       | 74.75%           |"
      ]
     },
     "metadata": {},
     "output_type": "display_data"
    },
    {
     "data": {
      "text/html": [
       "<pre>| 14848            | 47.95s       | 75%              |</pre>"
      ],
      "text/plain": [
       "| 14848            | 47.95s       | 75%              |"
      ]
     },
     "metadata": {},
     "output_type": "display_data"
    },
    {
     "data": {
      "text/html": [
       "<pre>| 14912            | 48.16s       | 75.25%           |</pre>"
      ],
      "text/plain": [
       "| 14912            | 48.16s       | 75.25%           |"
      ]
     },
     "metadata": {},
     "output_type": "display_data"
    },
    {
     "data": {
      "text/html": [
       "<pre>| 14976            | 48.37s       | 75.5%            |</pre>"
      ],
      "text/plain": [
       "| 14976            | 48.37s       | 75.5%            |"
      ]
     },
     "metadata": {},
     "output_type": "display_data"
    },
    {
     "data": {
      "text/html": [
       "<pre>| 15040            | 48.58s       | 76%              |</pre>"
      ],
      "text/plain": [
       "| 15040            | 48.58s       | 76%              |"
      ]
     },
     "metadata": {},
     "output_type": "display_data"
    },
    {
     "data": {
      "text/html": [
       "<pre>| 15104            | 48.78s       | 76.25%           |</pre>"
      ],
      "text/plain": [
       "| 15104            | 48.78s       | 76.25%           |"
      ]
     },
     "metadata": {},
     "output_type": "display_data"
    },
    {
     "data": {
      "text/html": [
       "<pre>| 15168            | 48.99s       | 76.5%            |</pre>"
      ],
      "text/plain": [
       "| 15168            | 48.99s       | 76.5%            |"
      ]
     },
     "metadata": {},
     "output_type": "display_data"
    },
    {
     "data": {
      "text/html": [
       "<pre>| 15232            | 49.20s       | 77%              |</pre>"
      ],
      "text/plain": [
       "| 15232            | 49.20s       | 77%              |"
      ]
     },
     "metadata": {},
     "output_type": "display_data"
    },
    {
     "data": {
      "text/html": [
       "<pre>| 15296            | 49.41s       | 77.25%           |</pre>"
      ],
      "text/plain": [
       "| 15296            | 49.41s       | 77.25%           |"
      ]
     },
     "metadata": {},
     "output_type": "display_data"
    },
    {
     "data": {
      "text/html": [
       "<pre>| 15360            | 49.62s       | 77.5%            |</pre>"
      ],
      "text/plain": [
       "| 15360            | 49.62s       | 77.5%            |"
      ]
     },
     "metadata": {},
     "output_type": "display_data"
    },
    {
     "data": {
      "text/html": [
       "<pre>| 15424            | 49.82s       | 77.75%           |</pre>"
      ],
      "text/plain": [
       "| 15424            | 49.82s       | 77.75%           |"
      ]
     },
     "metadata": {},
     "output_type": "display_data"
    },
    {
     "data": {
      "text/html": [
       "<pre>| 15488            | 50.03s       | 78.25%           |</pre>"
      ],
      "text/plain": [
       "| 15488            | 50.03s       | 78.25%           |"
      ]
     },
     "metadata": {},
     "output_type": "display_data"
    },
    {
     "data": {
      "text/html": [
       "<pre>| 15552            | 50.23s       | 78.5%            |</pre>"
      ],
      "text/plain": [
       "| 15552            | 50.23s       | 78.5%            |"
      ]
     },
     "metadata": {},
     "output_type": "display_data"
    },
    {
     "data": {
      "text/html": [
       "<pre>| 15616            | 50.43s       | 78.75%           |</pre>"
      ],
      "text/plain": [
       "| 15616            | 50.43s       | 78.75%           |"
      ]
     },
     "metadata": {},
     "output_type": "display_data"
    },
    {
     "data": {
      "text/html": [
       "<pre>| 15680            | 50.63s       | 79.25%           |</pre>"
      ],
      "text/plain": [
       "| 15680            | 50.63s       | 79.25%           |"
      ]
     },
     "metadata": {},
     "output_type": "display_data"
    },
    {
     "data": {
      "text/html": [
       "<pre>| 15744            | 50.84s       | 79.5%            |</pre>"
      ],
      "text/plain": [
       "| 15744            | 50.84s       | 79.5%            |"
      ]
     },
     "metadata": {},
     "output_type": "display_data"
    },
    {
     "data": {
      "text/html": [
       "<pre>| 15808            | 51.04s       | 79.75%           |</pre>"
      ],
      "text/plain": [
       "| 15808            | 51.04s       | 79.75%           |"
      ]
     },
     "metadata": {},
     "output_type": "display_data"
    },
    {
     "data": {
      "text/html": [
       "<pre>| 15872            | 51.24s       | 80.25%           |</pre>"
      ],
      "text/plain": [
       "| 15872            | 51.24s       | 80.25%           |"
      ]
     },
     "metadata": {},
     "output_type": "display_data"
    },
    {
     "data": {
      "text/html": [
       "<pre>| 15936            | 51.45s       | 80.5%            |</pre>"
      ],
      "text/plain": [
       "| 15936            | 51.45s       | 80.5%            |"
      ]
     },
     "metadata": {},
     "output_type": "display_data"
    },
    {
     "data": {
      "text/html": [
       "<pre>| 16000            | 51.65s       | 80.75%           |</pre>"
      ],
      "text/plain": [
       "| 16000            | 51.65s       | 80.75%           |"
      ]
     },
     "metadata": {},
     "output_type": "display_data"
    },
    {
     "data": {
      "text/html": [
       "<pre>| 16064            | 51.85s       | 81%              |</pre>"
      ],
      "text/plain": [
       "| 16064            | 51.85s       | 81%              |"
      ]
     },
     "metadata": {},
     "output_type": "display_data"
    },
    {
     "data": {
      "text/html": [
       "<pre>| 16128            | 52.06s       | 81.5%            |</pre>"
      ],
      "text/plain": [
       "| 16128            | 52.06s       | 81.5%            |"
      ]
     },
     "metadata": {},
     "output_type": "display_data"
    },
    {
     "data": {
      "text/html": [
       "<pre>| 16192            | 52.26s       | 81.75%           |</pre>"
      ],
      "text/plain": [
       "| 16192            | 52.26s       | 81.75%           |"
      ]
     },
     "metadata": {},
     "output_type": "display_data"
    },
    {
     "data": {
      "text/html": [
       "<pre>| 16256            | 52.46s       | 82%              |</pre>"
      ],
      "text/plain": [
       "| 16256            | 52.46s       | 82%              |"
      ]
     },
     "metadata": {},
     "output_type": "display_data"
    },
    {
     "data": {
      "text/html": [
       "<pre>| 16320            | 52.66s       | 82.5%            |</pre>"
      ],
      "text/plain": [
       "| 16320            | 52.66s       | 82.5%            |"
      ]
     },
     "metadata": {},
     "output_type": "display_data"
    },
    {
     "data": {
      "text/html": [
       "<pre>| 16384            | 52.87s       | 82.75%           |</pre>"
      ],
      "text/plain": [
       "| 16384            | 52.87s       | 82.75%           |"
      ]
     },
     "metadata": {},
     "output_type": "display_data"
    },
    {
     "data": {
      "text/html": [
       "<pre>| 16448            | 53.07s       | 83%              |</pre>"
      ],
      "text/plain": [
       "| 16448            | 53.07s       | 83%              |"
      ]
     },
     "metadata": {},
     "output_type": "display_data"
    },
    {
     "data": {
      "text/html": [
       "<pre>| 16512            | 53.27s       | 83.25%           |</pre>"
      ],
      "text/plain": [
       "| 16512            | 53.27s       | 83.25%           |"
      ]
     },
     "metadata": {},
     "output_type": "display_data"
    },
    {
     "data": {
      "text/html": [
       "<pre>| 16576            | 53.47s       | 83.75%           |</pre>"
      ],
      "text/plain": [
       "| 16576            | 53.47s       | 83.75%           |"
      ]
     },
     "metadata": {},
     "output_type": "display_data"
    },
    {
     "data": {
      "text/html": [
       "<pre>| 16640            | 53.67s       | 84%              |</pre>"
      ],
      "text/plain": [
       "| 16640            | 53.67s       | 84%              |"
      ]
     },
     "metadata": {},
     "output_type": "display_data"
    },
    {
     "data": {
      "text/html": [
       "<pre>| 16704            | 53.87s       | 84.25%           |</pre>"
      ],
      "text/plain": [
       "| 16704            | 53.87s       | 84.25%           |"
      ]
     },
     "metadata": {},
     "output_type": "display_data"
    },
    {
     "data": {
      "text/html": [
       "<pre>| 16768            | 54.08s       | 84.75%           |</pre>"
      ],
      "text/plain": [
       "| 16768            | 54.08s       | 84.75%           |"
      ]
     },
     "metadata": {},
     "output_type": "display_data"
    },
    {
     "data": {
      "text/html": [
       "<pre>| 16832            | 54.28s       | 85%              |</pre>"
      ],
      "text/plain": [
       "| 16832            | 54.28s       | 85%              |"
      ]
     },
     "metadata": {},
     "output_type": "display_data"
    },
    {
     "data": {
      "text/html": [
       "<pre>| 16896            | 54.48s       | 85.25%           |</pre>"
      ],
      "text/plain": [
       "| 16896            | 54.48s       | 85.25%           |"
      ]
     },
     "metadata": {},
     "output_type": "display_data"
    },
    {
     "data": {
      "text/html": [
       "<pre>| 16960            | 54.68s       | 85.75%           |</pre>"
      ],
      "text/plain": [
       "| 16960            | 54.68s       | 85.75%           |"
      ]
     },
     "metadata": {},
     "output_type": "display_data"
    },
    {
     "data": {
      "text/html": [
       "<pre>| 17024            | 54.88s       | 86%              |</pre>"
      ],
      "text/plain": [
       "| 17024            | 54.88s       | 86%              |"
      ]
     },
     "metadata": {},
     "output_type": "display_data"
    },
    {
     "data": {
      "text/html": [
       "<pre>| 17088            | 55.11s       | 86.25%           |</pre>"
      ],
      "text/plain": [
       "| 17088            | 55.11s       | 86.25%           |"
      ]
     },
     "metadata": {},
     "output_type": "display_data"
    },
    {
     "data": {
      "text/html": [
       "<pre>| 17152            | 55.33s       | 86.5%            |</pre>"
      ],
      "text/plain": [
       "| 17152            | 55.33s       | 86.5%            |"
      ]
     },
     "metadata": {},
     "output_type": "display_data"
    },
    {
     "data": {
      "text/html": [
       "<pre>| 17216            | 55.56s       | 87%              |</pre>"
      ],
      "text/plain": [
       "| 17216            | 55.56s       | 87%              |"
      ]
     },
     "metadata": {},
     "output_type": "display_data"
    },
    {
     "data": {
      "text/html": [
       "<pre>| 17280            | 55.78s       | 87.25%           |</pre>"
      ],
      "text/plain": [
       "| 17280            | 55.78s       | 87.25%           |"
      ]
     },
     "metadata": {},
     "output_type": "display_data"
    },
    {
     "data": {
      "text/html": [
       "<pre>| 17344            | 56.01s       | 87.5%            |</pre>"
      ],
      "text/plain": [
       "| 17344            | 56.01s       | 87.5%            |"
      ]
     },
     "metadata": {},
     "output_type": "display_data"
    },
    {
     "data": {
      "text/html": [
       "<pre>| 17408            | 56.23s       | 88%              |</pre>"
      ],
      "text/plain": [
       "| 17408            | 56.23s       | 88%              |"
      ]
     },
     "metadata": {},
     "output_type": "display_data"
    },
    {
     "data": {
      "text/html": [
       "<pre>| 17472            | 56.43s       | 88.25%           |</pre>"
      ],
      "text/plain": [
       "| 17472            | 56.43s       | 88.25%           |"
      ]
     },
     "metadata": {},
     "output_type": "display_data"
    },
    {
     "data": {
      "text/html": [
       "<pre>| 17536            | 56.64s       | 88.5%            |</pre>"
      ],
      "text/plain": [
       "| 17536            | 56.64s       | 88.5%            |"
      ]
     },
     "metadata": {},
     "output_type": "display_data"
    },
    {
     "data": {
      "text/html": [
       "<pre>| 17600            | 56.87s       | 88.75%           |</pre>"
      ],
      "text/plain": [
       "| 17600            | 56.87s       | 88.75%           |"
      ]
     },
     "metadata": {},
     "output_type": "display_data"
    },
    {
     "data": {
      "text/html": [
       "<pre>| 17664            | 57.10s       | 89.25%           |</pre>"
      ],
      "text/plain": [
       "| 17664            | 57.10s       | 89.25%           |"
      ]
     },
     "metadata": {},
     "output_type": "display_data"
    },
    {
     "data": {
      "text/html": [
       "<pre>| 17728            | 57.33s       | 89.5%            |</pre>"
      ],
      "text/plain": [
       "| 17728            | 57.33s       | 89.5%            |"
      ]
     },
     "metadata": {},
     "output_type": "display_data"
    },
    {
     "data": {
      "text/html": [
       "<pre>| 17792            | 57.55s       | 89.75%           |</pre>"
      ],
      "text/plain": [
       "| 17792            | 57.55s       | 89.75%           |"
      ]
     },
     "metadata": {},
     "output_type": "display_data"
    },
    {
     "data": {
      "text/html": [
       "<pre>| 17856            | 57.78s       | 90.25%           |</pre>"
      ],
      "text/plain": [
       "| 17856            | 57.78s       | 90.25%           |"
      ]
     },
     "metadata": {},
     "output_type": "display_data"
    },
    {
     "data": {
      "text/html": [
       "<pre>| 17920            | 58.01s       | 90.5%            |</pre>"
      ],
      "text/plain": [
       "| 17920            | 58.01s       | 90.5%            |"
      ]
     },
     "metadata": {},
     "output_type": "display_data"
    },
    {
     "data": {
      "text/html": [
       "<pre>| 17984            | 58.23s       | 90.75%           |</pre>"
      ],
      "text/plain": [
       "| 17984            | 58.23s       | 90.75%           |"
      ]
     },
     "metadata": {},
     "output_type": "display_data"
    },
    {
     "data": {
      "text/html": [
       "<pre>| 18048            | 58.45s       | 91.25%           |</pre>"
      ],
      "text/plain": [
       "| 18048            | 58.45s       | 91.25%           |"
      ]
     },
     "metadata": {},
     "output_type": "display_data"
    },
    {
     "data": {
      "text/html": [
       "<pre>| 18112            | 58.68s       | 91.5%            |</pre>"
      ],
      "text/plain": [
       "| 18112            | 58.68s       | 91.5%            |"
      ]
     },
     "metadata": {},
     "output_type": "display_data"
    },
    {
     "data": {
      "text/html": [
       "<pre>| 18176            | 58.90s       | 91.75%           |</pre>"
      ],
      "text/plain": [
       "| 18176            | 58.90s       | 91.75%           |"
      ]
     },
     "metadata": {},
     "output_type": "display_data"
    },
    {
     "data": {
      "text/html": [
       "<pre>| 18240            | 59.12s       | 92%              |</pre>"
      ],
      "text/plain": [
       "| 18240            | 59.12s       | 92%              |"
      ]
     },
     "metadata": {},
     "output_type": "display_data"
    },
    {
     "data": {
      "text/html": [
       "<pre>| 18304            | 59.32s       | 92.5%            |</pre>"
      ],
      "text/plain": [
       "| 18304            | 59.32s       | 92.5%            |"
      ]
     },
     "metadata": {},
     "output_type": "display_data"
    },
    {
     "data": {
      "text/html": [
       "<pre>| 18368            | 59.52s       | 92.75%           |</pre>"
      ],
      "text/plain": [
       "| 18368            | 59.52s       | 92.75%           |"
      ]
     },
     "metadata": {},
     "output_type": "display_data"
    },
    {
     "data": {
      "text/html": [
       "<pre>| 18432            | 59.73s       | 93%              |</pre>"
      ],
      "text/plain": [
       "| 18432            | 59.73s       | 93%              |"
      ]
     },
     "metadata": {},
     "output_type": "display_data"
    },
    {
     "data": {
      "text/html": [
       "<pre>| 18496            | 59.93s       | 93.5%            |</pre>"
      ],
      "text/plain": [
       "| 18496            | 59.93s       | 93.5%            |"
      ]
     },
     "metadata": {},
     "output_type": "display_data"
    },
    {
     "data": {
      "text/html": [
       "<pre>| 18560            | 1m 0s        | 93.75%           |</pre>"
      ],
      "text/plain": [
       "| 18560            | 1m 0s        | 93.75%           |"
      ]
     },
     "metadata": {},
     "output_type": "display_data"
    },
    {
     "data": {
      "text/html": [
       "<pre>| 18624            | 1m 0s        | 94%              |</pre>"
      ],
      "text/plain": [
       "| 18624            | 1m 0s        | 94%              |"
      ]
     },
     "metadata": {},
     "output_type": "display_data"
    },
    {
     "data": {
      "text/html": [
       "<pre>| 18688            | 1m 0s        | 94.25%           |</pre>"
      ],
      "text/plain": [
       "| 18688            | 1m 0s        | 94.25%           |"
      ]
     },
     "metadata": {},
     "output_type": "display_data"
    },
    {
     "data": {
      "text/html": [
       "<pre>| 18752            | 1m 0s        | 94.75%           |</pre>"
      ],
      "text/plain": [
       "| 18752            | 1m 0s        | 94.75%           |"
      ]
     },
     "metadata": {},
     "output_type": "display_data"
    },
    {
     "data": {
      "text/html": [
       "<pre>| 18816            | 1m 0s        | 95%              |</pre>"
      ],
      "text/plain": [
       "| 18816            | 1m 0s        | 95%              |"
      ]
     },
     "metadata": {},
     "output_type": "display_data"
    },
    {
     "data": {
      "text/html": [
       "<pre>| 18880            | 1m 1s        | 95.25%           |</pre>"
      ],
      "text/plain": [
       "| 18880            | 1m 1s        | 95.25%           |"
      ]
     },
     "metadata": {},
     "output_type": "display_data"
    },
    {
     "data": {
      "text/html": [
       "<pre>| 18944            | 1m 1s        | 95.75%           |</pre>"
      ],
      "text/plain": [
       "| 18944            | 1m 1s        | 95.75%           |"
      ]
     },
     "metadata": {},
     "output_type": "display_data"
    },
    {
     "data": {
      "text/html": [
       "<pre>| 19008            | 1m 1s        | 96%              |</pre>"
      ],
      "text/plain": [
       "| 19008            | 1m 1s        | 96%              |"
      ]
     },
     "metadata": {},
     "output_type": "display_data"
    },
    {
     "data": {
      "text/html": [
       "<pre>| 19072            | 1m 1s        | 96.25%           |</pre>"
      ],
      "text/plain": [
       "| 19072            | 1m 1s        | 96.25%           |"
      ]
     },
     "metadata": {},
     "output_type": "display_data"
    },
    {
     "data": {
      "text/html": [
       "<pre>| 19328            | 1m 2s        | 97.5%            |</pre>"
      ],
      "text/plain": [
       "| 19328            | 1m 2s        | 97.5%            |"
      ]
     },
     "metadata": {},
     "output_type": "display_data"
    },
    {
     "data": {
      "text/html": [
       "<pre>| 19392            | 1m 3s        | 98%              |</pre>"
      ],
      "text/plain": [
       "| 19392            | 1m 3s        | 98%              |"
      ]
     },
     "metadata": {},
     "output_type": "display_data"
    },
    {
     "data": {
      "text/html": [
       "<pre>| 19456            | 1m 3s        | 98.25%           |</pre>"
      ],
      "text/plain": [
       "| 19456            | 1m 3s        | 98.25%           |"
      ]
     },
     "metadata": {},
     "output_type": "display_data"
    },
    {
     "data": {
      "text/html": [
       "<pre>+------------------+--------------+------------------+</pre>"
      ],
      "text/plain": [
       "+------------------+--------------+------------------+"
      ]
     },
     "metadata": {},
     "output_type": "display_data"
    },
    {
     "name": "stdout",
     "output_type": "stream",
     "text": [
      "PROGRESS: Creating a validation set from 5 percent of training data. This may take a while.\n",
      "          You can set ``validation_set=None`` to disable validation tracking.\n",
      "\n"
     ]
    },
    {
     "data": {
      "text/html": [
       "<pre>Logistic regression:</pre>"
      ],
      "text/plain": [
       "Logistic regression:"
      ]
     },
     "metadata": {},
     "output_type": "display_data"
    },
    {
     "data": {
      "text/html": [
       "<pre>--------------------------------------------------------</pre>"
      ],
      "text/plain": [
       "--------------------------------------------------------"
      ]
     },
     "metadata": {},
     "output_type": "display_data"
    },
    {
     "data": {
      "text/html": [
       "<pre>Number of examples          : 18835</pre>"
      ],
      "text/plain": [
       "Number of examples          : 18835"
      ]
     },
     "metadata": {},
     "output_type": "display_data"
    },
    {
     "data": {
      "text/html": [
       "<pre>Number of classes           : 2</pre>"
      ],
      "text/plain": [
       "Number of classes           : 2"
      ]
     },
     "metadata": {},
     "output_type": "display_data"
    },
    {
     "data": {
      "text/html": [
       "<pre>Number of feature columns   : 1</pre>"
      ],
      "text/plain": [
       "Number of feature columns   : 1"
      ]
     },
     "metadata": {},
     "output_type": "display_data"
    },
    {
     "data": {
      "text/html": [
       "<pre>Number of unpacked features : 1000</pre>"
      ],
      "text/plain": [
       "Number of unpacked features : 1000"
      ]
     },
     "metadata": {},
     "output_type": "display_data"
    },
    {
     "data": {
      "text/html": [
       "<pre>Number of coefficients      : 1001</pre>"
      ],
      "text/plain": [
       "Number of coefficients      : 1001"
      ]
     },
     "metadata": {},
     "output_type": "display_data"
    },
    {
     "data": {
      "text/html": [
       "<pre>Starting L-BFGS</pre>"
      ],
      "text/plain": [
       "Starting L-BFGS"
      ]
     },
     "metadata": {},
     "output_type": "display_data"
    },
    {
     "data": {
      "text/html": [
       "<pre>--------------------------------------------------------</pre>"
      ],
      "text/plain": [
       "--------------------------------------------------------"
      ]
     },
     "metadata": {},
     "output_type": "display_data"
    },
    {
     "data": {
      "text/html": [
       "<pre>+-----------+----------+-----------+--------------+-------------------+---------------------+</pre>"
      ],
      "text/plain": [
       "+-----------+----------+-----------+--------------+-------------------+---------------------+"
      ]
     },
     "metadata": {},
     "output_type": "display_data"
    },
    {
     "data": {
      "text/html": [
       "<pre>| Iteration | Passes   | Step size | Elapsed Time | Training-accuracy | Validation-accuracy |</pre>"
      ],
      "text/plain": [
       "| Iteration | Passes   | Step size | Elapsed Time | Training-accuracy | Validation-accuracy |"
      ]
     },
     "metadata": {},
     "output_type": "display_data"
    },
    {
     "data": {
      "text/html": [
       "<pre>+-----------+----------+-----------+--------------+-------------------+---------------------+</pre>"
      ],
      "text/plain": [
       "+-----------+----------+-----------+--------------+-------------------+---------------------+"
      ]
     },
     "metadata": {},
     "output_type": "display_data"
    },
    {
     "data": {
      "text/html": [
       "<pre>| 1         | 6        | 0.000005  | 1.517308     | 0.529652          | 0.562366            |</pre>"
      ],
      "text/plain": [
       "| 1         | 6        | 0.000005  | 1.517308     | 0.529652          | 0.562366            |"
      ]
     },
     "metadata": {},
     "output_type": "display_data"
    },
    {
     "data": {
      "text/html": [
       "<pre>| 2         | 8        | 1.000000  | 2.292306     | 0.828829          | 0.839785            |</pre>"
      ],
      "text/plain": [
       "| 2         | 8        | 1.000000  | 2.292306     | 0.828829          | 0.839785            |"
      ]
     },
     "metadata": {},
     "output_type": "display_data"
    },
    {
     "data": {
      "text/html": [
       "<pre>| 3         | 9        | 1.000000  | 2.809328     | 0.907778          | 0.920430            |</pre>"
      ],
      "text/plain": [
       "| 3         | 9        | 1.000000  | 2.809328     | 0.907778          | 0.920430            |"
      ]
     },
     "metadata": {},
     "output_type": "display_data"
    },
    {
     "data": {
      "text/html": [
       "<pre>| 4         | 10       | 1.000000  | 3.301846     | 0.907619          | 0.918280            |</pre>"
      ],
      "text/plain": [
       "| 4         | 10       | 1.000000  | 3.301846     | 0.907619          | 0.918280            |"
      ]
     },
     "metadata": {},
     "output_type": "display_data"
    },
    {
     "data": {
      "text/html": [
       "<pre>| 5         | 11       | 1.000000  | 3.783262     | 0.501088          | 0.465591            |</pre>"
      ],
      "text/plain": [
       "| 5         | 11       | 1.000000  | 3.783262     | 0.501088          | 0.465591            |"
      ]
     },
     "metadata": {},
     "output_type": "display_data"
    },
    {
     "data": {
      "text/html": [
       "<pre>| 10        | 23       | 1.000000  | 7.833680     | 0.915530          | 0.920430            |</pre>"
      ],
      "text/plain": [
       "| 10        | 23       | 1.000000  | 7.833680     | 0.915530          | 0.920430            |"
      ]
     },
     "metadata": {},
     "output_type": "display_data"
    },
    {
     "data": {
      "text/html": [
       "<pre>+-----------+----------+-----------+--------------+-------------------+---------------------+</pre>"
      ],
      "text/plain": [
       "+-----------+----------+-----------+--------------+-------------------+---------------------+"
      ]
     },
     "metadata": {},
     "output_type": "display_data"
    },
    {
     "data": {
      "text/html": [
       "<pre>Completed (Iteration limit reached).</pre>"
      ],
      "text/plain": [
       "Completed (Iteration limit reached)."
      ]
     },
     "metadata": {},
     "output_type": "display_data"
    },
    {
     "data": {
      "text/html": [
       "<pre>This model may not be optimal. To improve it, consider increasing `max_iterations`.</pre>"
      ],
      "text/plain": [
       "This model may not be optimal. To improve it, consider increasing `max_iterations`."
      ]
     },
     "metadata": {},
     "output_type": "display_data"
    }
   ],
   "source": [
    "model = tc.image_classifier.create(train_data, target = 'label', model = 'squeezenet_v1.1')"
   ]
  },
  {
   "cell_type": "markdown",
   "metadata": {},
   "source": [
    "| 19456            | 1m 3s        | 98.25%           |\n",
    "\n",
    "Logistic regression:\n",
    "\n",
    "+--------------------------------------------------------\n",
    "\n",
    "Number of examples          : 18835\n",
    "\n",
    "Number of classes           : 2\n",
    "\n",
    "Number of feature columns   : 1\n",
    "\n",
    "Number of unpacked features : 1000\n",
    "\n",
    "Number of coefficients      : 1001\n",
    "\n",
    "Starting L-BFGS\n",
    "\n",
    "+--------------------------------------------------------"
   ]
  },
  {
   "cell_type": "code",
   "execution_count": 19,
   "metadata": {},
   "outputs": [],
   "source": [
    " predictions = model.predict(test_data)"
   ]
  },
  {
   "cell_type": "code",
   "execution_count": 20,
   "metadata": {
    "scrolled": true
   },
   "outputs": [
    {
     "data": {
      "text/html": [
       "<pre>Analyzing and extracting image features.</pre>"
      ],
      "text/plain": [
       "Analyzing and extracting image features."
      ]
     },
     "metadata": {},
     "output_type": "display_data"
    },
    {
     "data": {
      "text/html": [
       "<pre>+------------------+--------------+------------------+</pre>"
      ],
      "text/plain": [
       "+------------------+--------------+------------------+"
      ]
     },
     "metadata": {},
     "output_type": "display_data"
    },
    {
     "data": {
      "text/html": [
       "<pre>| Images Processed | Elapsed Time | Percent Complete |</pre>"
      ],
      "text/plain": [
       "| Images Processed | Elapsed Time | Percent Complete |"
      ]
     },
     "metadata": {},
     "output_type": "display_data"
    },
    {
     "data": {
      "text/html": [
       "<pre>+------------------+--------------+------------------+</pre>"
      ],
      "text/plain": [
       "+------------------+--------------+------------------+"
      ]
     },
     "metadata": {},
     "output_type": "display_data"
    },
    {
     "data": {
      "text/html": [
       "<pre>| 0                | 5.657ms      | 0%               |</pre>"
      ],
      "text/plain": [
       "| 0                | 5.657ms      | 0%               |"
      ]
     },
     "metadata": {},
     "output_type": "display_data"
    },
    {
     "data": {
      "text/html": [
       "<pre>| 0                | 5.695ms      | 0%               |</pre>"
      ],
      "text/plain": [
       "| 0                | 5.695ms      | 0%               |"
      ]
     },
     "metadata": {},
     "output_type": "display_data"
    },
    {
     "data": {
      "text/html": [
       "<pre>| 0                | 5.753ms      | 0%               |</pre>"
      ],
      "text/plain": [
       "| 0                | 5.753ms      | 0%               |"
      ]
     },
     "metadata": {},
     "output_type": "display_data"
    },
    {
     "data": {
      "text/html": [
       "<pre>| 64               | 931.507ms    | 1.25%            |</pre>"
      ],
      "text/plain": [
       "| 64               | 931.507ms    | 1.25%            |"
      ]
     },
     "metadata": {},
     "output_type": "display_data"
    },
    {
     "data": {
      "text/html": [
       "<pre>| 128              | 1.16s        | 2.5%             |</pre>"
      ],
      "text/plain": [
       "| 128              | 1.16s        | 2.5%             |"
      ]
     },
     "metadata": {},
     "output_type": "display_data"
    },
    {
     "data": {
      "text/html": [
       "<pre>| 192              | 1.39s        | 3.75%            |</pre>"
      ],
      "text/plain": [
       "| 192              | 1.39s        | 3.75%            |"
      ]
     },
     "metadata": {},
     "output_type": "display_data"
    },
    {
     "data": {
      "text/html": [
       "<pre>| 256              | 1.61s        | 5%               |</pre>"
      ],
      "text/plain": [
       "| 256              | 1.61s        | 5%               |"
      ]
     },
     "metadata": {},
     "output_type": "display_data"
    },
    {
     "data": {
      "text/html": [
       "<pre>| 320              | 1.81s        | 6.25%            |</pre>"
      ],
      "text/plain": [
       "| 320              | 1.81s        | 6.25%            |"
      ]
     },
     "metadata": {},
     "output_type": "display_data"
    },
    {
     "data": {
      "text/html": [
       "<pre>| 384              | 2.02s        | 7.5%             |</pre>"
      ],
      "text/plain": [
       "| 384              | 2.02s        | 7.5%             |"
      ]
     },
     "metadata": {},
     "output_type": "display_data"
    },
    {
     "data": {
      "text/html": [
       "<pre>| 448              | 2.23s        | 8.75%            |</pre>"
      ],
      "text/plain": [
       "| 448              | 2.23s        | 8.75%            |"
      ]
     },
     "metadata": {},
     "output_type": "display_data"
    },
    {
     "data": {
      "text/html": [
       "<pre>| 512              | 2.44s        | 10%              |</pre>"
      ],
      "text/plain": [
       "| 512              | 2.44s        | 10%              |"
      ]
     },
     "metadata": {},
     "output_type": "display_data"
    },
    {
     "data": {
      "text/html": [
       "<pre>| 576              | 2.64s        | 11.25%           |</pre>"
      ],
      "text/plain": [
       "| 576              | 2.64s        | 11.25%           |"
      ]
     },
     "metadata": {},
     "output_type": "display_data"
    },
    {
     "data": {
      "text/html": [
       "<pre>| 640              | 2.84s        | 12.5%            |</pre>"
      ],
      "text/plain": [
       "| 640              | 2.84s        | 12.5%            |"
      ]
     },
     "metadata": {},
     "output_type": "display_data"
    },
    {
     "data": {
      "text/html": [
       "<pre>| 704              | 3.05s        | 13.75%           |</pre>"
      ],
      "text/plain": [
       "| 704              | 3.05s        | 13.75%           |"
      ]
     },
     "metadata": {},
     "output_type": "display_data"
    },
    {
     "data": {
      "text/html": [
       "<pre>| 768              | 3.27s        | 15%              |</pre>"
      ],
      "text/plain": [
       "| 768              | 3.27s        | 15%              |"
      ]
     },
     "metadata": {},
     "output_type": "display_data"
    },
    {
     "data": {
      "text/html": [
       "<pre>| 832              | 3.49s        | 16.25%           |</pre>"
      ],
      "text/plain": [
       "| 832              | 3.49s        | 16.25%           |"
      ]
     },
     "metadata": {},
     "output_type": "display_data"
    },
    {
     "data": {
      "text/html": [
       "<pre>| 896              | 3.71s        | 17.5%            |</pre>"
      ],
      "text/plain": [
       "| 896              | 3.71s        | 17.5%            |"
      ]
     },
     "metadata": {},
     "output_type": "display_data"
    },
    {
     "data": {
      "text/html": [
       "<pre>| 960              | 3.93s        | 18.75%           |</pre>"
      ],
      "text/plain": [
       "| 960              | 3.93s        | 18.75%           |"
      ]
     },
     "metadata": {},
     "output_type": "display_data"
    },
    {
     "data": {
      "text/html": [
       "<pre>| 1024             | 4.14s        | 20.25%           |</pre>"
      ],
      "text/plain": [
       "| 1024             | 4.14s        | 20.25%           |"
      ]
     },
     "metadata": {},
     "output_type": "display_data"
    },
    {
     "data": {
      "text/html": [
       "<pre>| 1088             | 4.34s        | 21.5%            |</pre>"
      ],
      "text/plain": [
       "| 1088             | 4.34s        | 21.5%            |"
      ]
     },
     "metadata": {},
     "output_type": "display_data"
    },
    {
     "data": {
      "text/html": [
       "<pre>| 1152             | 4.55s        | 22.75%           |</pre>"
      ],
      "text/plain": [
       "| 1152             | 4.55s        | 22.75%           |"
      ]
     },
     "metadata": {},
     "output_type": "display_data"
    },
    {
     "data": {
      "text/html": [
       "<pre>| 1216             | 4.77s        | 24%              |</pre>"
      ],
      "text/plain": [
       "| 1216             | 4.77s        | 24%              |"
      ]
     },
     "metadata": {},
     "output_type": "display_data"
    },
    {
     "data": {
      "text/html": [
       "<pre>| 1280             | 4.98s        | 25.25%           |</pre>"
      ],
      "text/plain": [
       "| 1280             | 4.98s        | 25.25%           |"
      ]
     },
     "metadata": {},
     "output_type": "display_data"
    },
    {
     "data": {
      "text/html": [
       "<pre>| 1344             | 5.18s        | 26.5%            |</pre>"
      ],
      "text/plain": [
       "| 1344             | 5.18s        | 26.5%            |"
      ]
     },
     "metadata": {},
     "output_type": "display_data"
    },
    {
     "data": {
      "text/html": [
       "<pre>| 1408             | 5.38s        | 27.75%           |</pre>"
      ],
      "text/plain": [
       "| 1408             | 5.38s        | 27.75%           |"
      ]
     },
     "metadata": {},
     "output_type": "display_data"
    },
    {
     "data": {
      "text/html": [
       "<pre>| 1472             | 5.59s        | 29%              |</pre>"
      ],
      "text/plain": [
       "| 1472             | 5.59s        | 29%              |"
      ]
     },
     "metadata": {},
     "output_type": "display_data"
    },
    {
     "data": {
      "text/html": [
       "<pre>| 1536             | 5.79s        | 30.25%           |</pre>"
      ],
      "text/plain": [
       "| 1536             | 5.79s        | 30.25%           |"
      ]
     },
     "metadata": {},
     "output_type": "display_data"
    },
    {
     "data": {
      "text/html": [
       "<pre>| 1600             | 6.00s        | 31.5%            |</pre>"
      ],
      "text/plain": [
       "| 1600             | 6.00s        | 31.5%            |"
      ]
     },
     "metadata": {},
     "output_type": "display_data"
    },
    {
     "data": {
      "text/html": [
       "<pre>| 1664             | 6.21s        | 32.75%           |</pre>"
      ],
      "text/plain": [
       "| 1664             | 6.21s        | 32.75%           |"
      ]
     },
     "metadata": {},
     "output_type": "display_data"
    },
    {
     "data": {
      "text/html": [
       "<pre>| 1728             | 6.41s        | 34%              |</pre>"
      ],
      "text/plain": [
       "| 1728             | 6.41s        | 34%              |"
      ]
     },
     "metadata": {},
     "output_type": "display_data"
    },
    {
     "data": {
      "text/html": [
       "<pre>| 1792             | 6.62s        | 35.25%           |</pre>"
      ],
      "text/plain": [
       "| 1792             | 6.62s        | 35.25%           |"
      ]
     },
     "metadata": {},
     "output_type": "display_data"
    },
    {
     "data": {
      "text/html": [
       "<pre>| 1856             | 6.84s        | 36.5%            |</pre>"
      ],
      "text/plain": [
       "| 1856             | 6.84s        | 36.5%            |"
      ]
     },
     "metadata": {},
     "output_type": "display_data"
    },
    {
     "data": {
      "text/html": [
       "<pre>| 1920             | 7.04s        | 37.75%           |</pre>"
      ],
      "text/plain": [
       "| 1920             | 7.04s        | 37.75%           |"
      ]
     },
     "metadata": {},
     "output_type": "display_data"
    },
    {
     "data": {
      "text/html": [
       "<pre>| 1984             | 7.25s        | 39%              |</pre>"
      ],
      "text/plain": [
       "| 1984             | 7.25s        | 39%              |"
      ]
     },
     "metadata": {},
     "output_type": "display_data"
    },
    {
     "data": {
      "text/html": [
       "<pre>| 2048             | 7.45s        | 40.5%            |</pre>"
      ],
      "text/plain": [
       "| 2048             | 7.45s        | 40.5%            |"
      ]
     },
     "metadata": {},
     "output_type": "display_data"
    },
    {
     "data": {
      "text/html": [
       "<pre>| 2112             | 7.67s        | 41.75%           |</pre>"
      ],
      "text/plain": [
       "| 2112             | 7.67s        | 41.75%           |"
      ]
     },
     "metadata": {},
     "output_type": "display_data"
    },
    {
     "data": {
      "text/html": [
       "<pre>| 2176             | 7.88s        | 43%              |</pre>"
      ],
      "text/plain": [
       "| 2176             | 7.88s        | 43%              |"
      ]
     },
     "metadata": {},
     "output_type": "display_data"
    },
    {
     "data": {
      "text/html": [
       "<pre>| 2240             | 8.09s        | 44.25%           |</pre>"
      ],
      "text/plain": [
       "| 2240             | 8.09s        | 44.25%           |"
      ]
     },
     "metadata": {},
     "output_type": "display_data"
    },
    {
     "data": {
      "text/html": [
       "<pre>| 2304             | 8.29s        | 45.5%            |</pre>"
      ],
      "text/plain": [
       "| 2304             | 8.29s        | 45.5%            |"
      ]
     },
     "metadata": {},
     "output_type": "display_data"
    },
    {
     "data": {
      "text/html": [
       "<pre>| 2368             | 8.52s        | 46.75%           |</pre>"
      ],
      "text/plain": [
       "| 2368             | 8.52s        | 46.75%           |"
      ]
     },
     "metadata": {},
     "output_type": "display_data"
    },
    {
     "data": {
      "text/html": [
       "<pre>| 2432             | 8.72s        | 48%              |</pre>"
      ],
      "text/plain": [
       "| 2432             | 8.72s        | 48%              |"
      ]
     },
     "metadata": {},
     "output_type": "display_data"
    },
    {
     "data": {
      "text/html": [
       "<pre>| 2496             | 8.92s        | 49.25%           |</pre>"
      ],
      "text/plain": [
       "| 2496             | 8.92s        | 49.25%           |"
      ]
     },
     "metadata": {},
     "output_type": "display_data"
    },
    {
     "data": {
      "text/html": [
       "<pre>| 2560             | 9.12s        | 50.5%            |</pre>"
      ],
      "text/plain": [
       "| 2560             | 9.12s        | 50.5%            |"
      ]
     },
     "metadata": {},
     "output_type": "display_data"
    },
    {
     "data": {
      "text/html": [
       "<pre>| 2624             | 9.32s        | 51.75%           |</pre>"
      ],
      "text/plain": [
       "| 2624             | 9.32s        | 51.75%           |"
      ]
     },
     "metadata": {},
     "output_type": "display_data"
    },
    {
     "data": {
      "text/html": [
       "<pre>| 2688             | 9.52s        | 53%              |</pre>"
      ],
      "text/plain": [
       "| 2688             | 9.52s        | 53%              |"
      ]
     },
     "metadata": {},
     "output_type": "display_data"
    },
    {
     "data": {
      "text/html": [
       "<pre>| 2752             | 9.72s        | 54.25%           |</pre>"
      ],
      "text/plain": [
       "| 2752             | 9.72s        | 54.25%           |"
      ]
     },
     "metadata": {},
     "output_type": "display_data"
    },
    {
     "data": {
      "text/html": [
       "<pre>| 2816             | 9.95s        | 55.5%            |</pre>"
      ],
      "text/plain": [
       "| 2816             | 9.95s        | 55.5%            |"
      ]
     },
     "metadata": {},
     "output_type": "display_data"
    },
    {
     "data": {
      "text/html": [
       "<pre>| 2880             | 10.15s       | 56.75%           |</pre>"
      ],
      "text/plain": [
       "| 2880             | 10.15s       | 56.75%           |"
      ]
     },
     "metadata": {},
     "output_type": "display_data"
    },
    {
     "data": {
      "text/html": [
       "<pre>| 2944             | 10.35s       | 58%              |</pre>"
      ],
      "text/plain": [
       "| 2944             | 10.35s       | 58%              |"
      ]
     },
     "metadata": {},
     "output_type": "display_data"
    },
    {
     "data": {
      "text/html": [
       "<pre>| 3008             | 10.56s       | 59.25%           |</pre>"
      ],
      "text/plain": [
       "| 3008             | 10.56s       | 59.25%           |"
      ]
     },
     "metadata": {},
     "output_type": "display_data"
    },
    {
     "data": {
      "text/html": [
       "<pre>| 3072             | 10.76s       | 60.75%           |</pre>"
      ],
      "text/plain": [
       "| 3072             | 10.76s       | 60.75%           |"
      ]
     },
     "metadata": {},
     "output_type": "display_data"
    },
    {
     "data": {
      "text/html": [
       "<pre>| 3136             | 10.97s       | 62%              |</pre>"
      ],
      "text/plain": [
       "| 3136             | 10.97s       | 62%              |"
      ]
     },
     "metadata": {},
     "output_type": "display_data"
    },
    {
     "data": {
      "text/html": [
       "<pre>| 3200             | 11.17s       | 63.25%           |</pre>"
      ],
      "text/plain": [
       "| 3200             | 11.17s       | 63.25%           |"
      ]
     },
     "metadata": {},
     "output_type": "display_data"
    },
    {
     "data": {
      "text/html": [
       "<pre>| 3264             | 11.37s       | 64.5%            |</pre>"
      ],
      "text/plain": [
       "| 3264             | 11.37s       | 64.5%            |"
      ]
     },
     "metadata": {},
     "output_type": "display_data"
    },
    {
     "data": {
      "text/html": [
       "<pre>| 3328             | 11.57s       | 65.75%           |</pre>"
      ],
      "text/plain": [
       "| 3328             | 11.57s       | 65.75%           |"
      ]
     },
     "metadata": {},
     "output_type": "display_data"
    },
    {
     "data": {
      "text/html": [
       "<pre>| 3392             | 11.77s       | 67%              |</pre>"
      ],
      "text/plain": [
       "| 3392             | 11.77s       | 67%              |"
      ]
     },
     "metadata": {},
     "output_type": "display_data"
    },
    {
     "data": {
      "text/html": [
       "<pre>| 3456             | 11.96s       | 68.25%           |</pre>"
      ],
      "text/plain": [
       "| 3456             | 11.96s       | 68.25%           |"
      ]
     },
     "metadata": {},
     "output_type": "display_data"
    },
    {
     "data": {
      "text/html": [
       "<pre>| 3520             | 12.16s       | 69.5%            |</pre>"
      ],
      "text/plain": [
       "| 3520             | 12.16s       | 69.5%            |"
      ]
     },
     "metadata": {},
     "output_type": "display_data"
    },
    {
     "data": {
      "text/html": [
       "<pre>| 3584             | 12.35s       | 70.75%           |</pre>"
      ],
      "text/plain": [
       "| 3584             | 12.35s       | 70.75%           |"
      ]
     },
     "metadata": {},
     "output_type": "display_data"
    },
    {
     "data": {
      "text/html": [
       "<pre>| 3648             | 12.55s       | 72%              |</pre>"
      ],
      "text/plain": [
       "| 3648             | 12.55s       | 72%              |"
      ]
     },
     "metadata": {},
     "output_type": "display_data"
    },
    {
     "data": {
      "text/html": [
       "<pre>| 3712             | 12.75s       | 73.25%           |</pre>"
      ],
      "text/plain": [
       "| 3712             | 12.75s       | 73.25%           |"
      ]
     },
     "metadata": {},
     "output_type": "display_data"
    },
    {
     "data": {
      "text/html": [
       "<pre>| 3776             | 12.94s       | 74.5%            |</pre>"
      ],
      "text/plain": [
       "| 3776             | 12.94s       | 74.5%            |"
      ]
     },
     "metadata": {},
     "output_type": "display_data"
    },
    {
     "data": {
      "text/html": [
       "<pre>| 3840             | 13.14s       | 75.75%           |</pre>"
      ],
      "text/plain": [
       "| 3840             | 13.14s       | 75.75%           |"
      ]
     },
     "metadata": {},
     "output_type": "display_data"
    },
    {
     "data": {
      "text/html": [
       "<pre>| 3904             | 13.33s       | 77%              |</pre>"
      ],
      "text/plain": [
       "| 3904             | 13.33s       | 77%              |"
      ]
     },
     "metadata": {},
     "output_type": "display_data"
    },
    {
     "data": {
      "text/html": [
       "<pre>| 3968             | 13.53s       | 78.25%           |</pre>"
      ],
      "text/plain": [
       "| 3968             | 13.53s       | 78.25%           |"
      ]
     },
     "metadata": {},
     "output_type": "display_data"
    },
    {
     "data": {
      "text/html": [
       "<pre>| 4032             | 13.72s       | 79.5%            |</pre>"
      ],
      "text/plain": [
       "| 4032             | 13.72s       | 79.5%            |"
      ]
     },
     "metadata": {},
     "output_type": "display_data"
    },
    {
     "data": {
      "text/html": [
       "<pre>| 4096             | 13.92s       | 81%              |</pre>"
      ],
      "text/plain": [
       "| 4096             | 13.92s       | 81%              |"
      ]
     },
     "metadata": {},
     "output_type": "display_data"
    },
    {
     "data": {
      "text/html": [
       "<pre>| 4160             | 14.12s       | 82.25%           |</pre>"
      ],
      "text/plain": [
       "| 4160             | 14.12s       | 82.25%           |"
      ]
     },
     "metadata": {},
     "output_type": "display_data"
    },
    {
     "data": {
      "text/html": [
       "<pre>| 4224             | 14.33s       | 83.5%            |</pre>"
      ],
      "text/plain": [
       "| 4224             | 14.33s       | 83.5%            |"
      ]
     },
     "metadata": {},
     "output_type": "display_data"
    },
    {
     "data": {
      "text/html": [
       "<pre>| 4288             | 14.53s       | 84.75%           |</pre>"
      ],
      "text/plain": [
       "| 4288             | 14.53s       | 84.75%           |"
      ]
     },
     "metadata": {},
     "output_type": "display_data"
    },
    {
     "data": {
      "text/html": [
       "<pre>| 4352             | 14.73s       | 86%              |</pre>"
      ],
      "text/plain": [
       "| 4352             | 14.73s       | 86%              |"
      ]
     },
     "metadata": {},
     "output_type": "display_data"
    },
    {
     "data": {
      "text/html": [
       "<pre>| 4416             | 14.93s       | 87.25%           |</pre>"
      ],
      "text/plain": [
       "| 4416             | 14.93s       | 87.25%           |"
      ]
     },
     "metadata": {},
     "output_type": "display_data"
    },
    {
     "data": {
      "text/html": [
       "<pre>| 4544             | 15.34s       | 89.75%           |</pre>"
      ],
      "text/plain": [
       "| 4544             | 15.34s       | 89.75%           |"
      ]
     },
     "metadata": {},
     "output_type": "display_data"
    },
    {
     "data": {
      "text/html": [
       "<pre>| 4672             | 15.62s       | 92.25%           |</pre>"
      ],
      "text/plain": [
       "| 4672             | 15.62s       | 92.25%           |"
      ]
     },
     "metadata": {},
     "output_type": "display_data"
    },
    {
     "data": {
      "text/html": [
       "<pre>+------------------+--------------+------------------+</pre>"
      ],
      "text/plain": [
       "+------------------+--------------+------------------+"
      ]
     },
     "metadata": {},
     "output_type": "display_data"
    }
   ],
   "source": [
    "metrics = model.evaluate(test_data)"
   ]
  },
  {
   "cell_type": "markdown",
   "metadata": {},
   "source": [
    "| 4672             | 15.62s       | 92.25%           |"
   ]
  },
  {
   "cell_type": "code",
   "execution_count": 25,
   "metadata": {},
   "outputs": [],
   "source": [
    "model.save('myCatsDogs_squeezenet.model')"
   ]
  },
  {
   "cell_type": "code",
   "execution_count": 26,
   "metadata": {},
   "outputs": [],
   "source": [
    "model.export_coreml('myCatsDogs_squeezenet.mlmodel')"
   ]
  },
  {
   "cell_type": "code",
   "execution_count": 23,
   "metadata": {},
   "outputs": [],
   "source": [
    "new_cats_dogs['predictions'] = model.predict(new_cats_dogs)"
   ]
  },
  {
   "cell_type": "code",
   "execution_count": 24,
   "metadata": {},
   "outputs": [
    {
     "data": {
      "text/html": [
       "<pre>Materializing SFrame</pre>"
      ],
      "text/plain": [
       "Materializing SFrame"
      ]
     },
     "metadata": {},
     "output_type": "display_data"
    }
   ],
   "source": [
    "new_cats_dogs.explore()"
   ]
  },
  {
   "cell_type": "markdown",
   "metadata": {},
   "source": [
    "## Using GPUs"
   ]
  },
  {
   "cell_type": "markdown",
   "metadata": {},
   "source": [
    "GPUs can make creating an image classifier model much faster. If you have macOS 10.13 or higher, Turi Create will automatically use the GPU. If your Linux machine has an NVIDIA GPU, you can setup Turi Create to use the GPU, [see instructions](https://github.com/apple/turicreate/blob/master/LinuxGPU.md).\n",
    "\n",
    "The turicreate.config.set_num_gpus function allows you to control if GPUs are used:\n",
    "\n",
    "```\n",
    "# Use all GPUs (default)\n",
    "turicreate.config.set_num_gpus(-1)\n",
    "\n",
    "# Use only 1 GPU\n",
    "turicreate.config.set_num_gpus(1)\n",
    "\n",
    "# Use CPU\n",
    "turicreate.config.set_num_gpus(0)\n",
    "\n",
    "```"
   ]
  }
 ],
 "metadata": {
  "kernelspec": {
   "display_name": "Python 3",
   "language": "python",
   "name": "python3"
  },
  "language_info": {
   "codemirror_mode": {
    "name": "ipython",
    "version": 3
   },
   "file_extension": ".py",
   "mimetype": "text/x-python",
   "name": "python",
   "nbconvert_exporter": "python",
   "pygments_lexer": "ipython3",
   "version": "3.6.3"
  }
 },
 "nbformat": 4,
 "nbformat_minor": 2
}
